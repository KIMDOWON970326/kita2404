{
  "nbformat": 4,
  "nbformat_minor": 0,
  "metadata": {
    "colab": {
      "provenance": []
    },
    "kernelspec": {
      "name": "python3",
      "display_name": "Python 3"
    },
    "language_info": {
      "name": "python"
    }
  },
  "cells": [
    {
      "cell_type": "markdown",
      "source": [
        "Task1_0509. 주어진 텍스트에서 문자 빈도를 아래와 같이 출력하세요.(사용자 함수 사용)\n",
        "\n",
        "가장 많이 나온 문자 5개를 뽑아 봤습니다.\\\n",
        "[e] -> [97]회 나타남\\\n",
        "[t] -> [85]회 나타남\\\n",
        "[a] -> [78]회 나타남\\\n",
        "[o] -> [73]회 나타남\\\n",
        "[s] -> [60]회 나타남"
      ],
      "metadata": {
        "id": "1TrFwD5uajoj"
      }
    },
    {
      "cell_type": "code",
      "execution_count": null,
      "metadata": {
        "id": "lceZppFBaecZ"
      },
      "outputs": [],
      "source": []
    },
    {
      "cell_type": "code",
      "source": [
        "words_list=data #데이터 받음\n",
        "words_list=data.replace('.','').replace('.','').replace('\\n','').replace(\"'\",\"\").replace('!','').lower().split()\n",
        "\n",
        "word_frequency={}\n",
        "for word in words_list:\n",
        "  if word in word_frequency:\n",
        "    word_frequency[word] += 1\n",
        "  else:\n",
        "    word_frequency[word] = 1\n",
        "\n",
        "#단언 빈도수를 빈도수가 높은 순으로 정렬합니다\n",
        "# dic.items:{'the':8, 'a':6,} -> {('the',5),('a',3)} 인덱스 1인 빈도수로 정렬\n",
        "word_frequency=sorted(word_frequency.items(), key=lambda x: x[1], reverse=True)\n",
        "# 최대 단어 길이를 찾습니다\n",
        "# max_word_length = max(len(word) for word._in word_frequency)\n",
        "\n",
        "# 결과를 출력합니다\n",
        "print('='*50)\n",
        "print('가장 많이 나온 단어 5개를 뽑아 봤습니다')\n",
        "for i in range(min(5, len(word_frequency))):\n",
        "  word, count = word_frequency[i]\n",
        "  print(f'[{word:<3}] -> [{count}]회 나타남')"
      ],
      "metadata": {
        "id": "h0EfXd04KvZL"
      },
      "execution_count": null,
      "outputs": []
    },
    {
      "cell_type": "markdown",
      "source": [
        "Task2_0509.  람다함수와 적합한 내장함수를 사용하여 아래와 같이 출력하세요.\n",
        "\n",
        "[1,2,3,4,5] -> [1,4,9,16,25]\\\n",
        "[1,2,3,4,5] -> [1,2]"
      ],
      "metadata": {
        "id": "G69s6NetzRzT"
      }
    },
    {
      "cell_type": "code",
      "source": [],
      "metadata": {
        "id": "3NapU0vNzSQk"
      },
      "execution_count": null,
      "outputs": []
    },
    {
      "cell_type": "markdown",
      "source": [
        "Task3_0509. [1,-3,2,0,-5,6] 에서 양수만 필터링해서 출력하세요(내장함수, 사용자함수 각각 이용)"
      ],
      "metadata": {
        "id": "wSWZDgFTzSg3"
      }
    },
    {
      "cell_type": "code",
      "source": [],
      "metadata": {
        "id": "dzfTeUn0zTj2"
      },
      "execution_count": null,
      "outputs": []
    },
    {
      "cell_type": "markdown",
      "source": [
        "Task4_0509. **args를 이용하여 아래와 같이 출력할 수 있는 사용자 함수 func2를 작성하세요.\n",
        "\n",
        "Width: 100\\\n",
        "Height: 200\\\n",
        "Other arguments: {'color': 'red', 'thickness': 5}\n",
        "\n",
        "Width: 100\\\n",
        "Height: 200\\\n",
        "Other arguments: {'color': 'red', 'thickness': 5, 'type': 'large'}"
      ],
      "metadata": {
        "id": "96Z4sXU_8kdU"
      }
    },
    {
      "cell_type": "code",
      "source": [],
      "metadata": {
        "id": "JjfjXvjW8sPb"
      },
      "execution_count": null,
      "outputs": []
    },
    {
      "cell_type": "markdown",
      "source": [
        "Task5_0509. 아래와 같은 결과를 얻을 수 있도록 사용자 함수 func3를 작성하세요.\n",
        "\n",
        "Width: 100, Height: 200, Color: blue, Thickness: 1\\\n",
        "Width: 100, Height: 200, Color: red, Thickness: 15"
      ],
      "metadata": {
        "id": "soavyLHO8kv2"
      }
    },
    {
      "cell_type": "code",
      "source": [],
      "metadata": {
        "id": "jS571yzP8soZ"
      },
      "execution_count": null,
      "outputs": []
    },
    {
      "cell_type": "markdown",
      "source": [
        "Task6_0509. 입력으로 들어오는 모든 수의 평균 값을 계산해 주는 함수를 작성한 후 1,2,3을 입력한 결과를 출력하세요."
      ],
      "metadata": {
        "id": "ZHIyGW0k8k_i"
      }
    },
    {
      "cell_type": "code",
      "source": [],
      "metadata": {
        "id": "FSHC4prG8tHq"
      },
      "execution_count": null,
      "outputs": []
    },
    {
      "cell_type": "markdown",
      "source": [
        "Task7_0509. 원의 면적과 둘레의 길이를 구하는 사용자 함수를 작성하여 반지름이 5와 10일때 면적과 둘레를 구하세요(반올림:round())"
      ],
      "metadata": {
        "id": "yBp0O6nx8lQ0"
      }
    },
    {
      "cell_type": "code",
      "source": [],
      "metadata": {
        "id": "Qo8LHee38tgO"
      },
      "execution_count": null,
      "outputs": []
    },
    {
      "cell_type": "markdown",
      "source": [
        "Task8_0509. 게시물의 총 건수와 한 페이지에 보여 줄 게시물 수를 입력시 총 페이지 수를 출력하는 프로그램을 작성하세요."
      ],
      "metadata": {
        "id": "58nmDnfq_a2T"
      }
    },
    {
      "cell_type": "code",
      "source": [],
      "metadata": {
        "id": "n5Su4QgD_eGS"
      },
      "execution_count": null,
      "outputs": []
    },
    {
      "cell_type": "markdown",
      "source": [
        "Task9_0509. 위의 문제를 *args를 사용한 사용자 함수 bignum을 작성하여 bignum(20,1,30)과 bignum(20,10,50,70, 100)의 결과를 출력하세요."
      ],
      "metadata": {
        "id": "nDTIDLPU_eUv"
      }
    },
    {
      "cell_type": "code",
      "source": [],
      "metadata": {
        "id": "EaWfNsRl_fJY"
      },
      "execution_count": null,
      "outputs": []
    },
    {
      "cell_type": "markdown",
      "source": [
        "Task10_0509. 위의 계산을 연산자를 choice로 가변적인 숫자들을 *args로 사용한 사용자 함수 cal을 이용하여 다음을 수행하세요.\n",
        "\n",
        "cal('*',1,2,3,4,5)\n",
        "cal('+',1,2,3,4,5,6,7)\n",
        "cal('-',1,2,3,4,5,6,7)\n",
        "cal('/',10,3)"
      ],
      "metadata": {
        "id": "ERf9Ed8rBo2h"
      }
    },
    {
      "cell_type": "code",
      "source": [],
      "metadata": {
        "id": "8p6lixLsBpR-"
      },
      "execution_count": null,
      "outputs": []
    }
  ]
}