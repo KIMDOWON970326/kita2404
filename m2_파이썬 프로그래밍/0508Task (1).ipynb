{
  "nbformat": 4,
  "nbformat_minor": 0,
  "metadata": {
    "colab": {
      "provenance": []
    },
    "kernelspec": {
      "name": "python3",
      "display_name": "Python 3"
    },
    "language_info": {
      "name": "python"
    }
  },
  "cells": [
    {
      "cell_type": "markdown",
      "source": [
        "Task1_0508. title() 함수를 사용하지 않고 동일한 결과를 출력하세요."
      ],
      "metadata": {
        "id": "FhgN0v0WPhe7"
      }
    },
    {
      "cell_type": "code",
      "execution_count": 1,
      "metadata": {
        "id": "46imbIqGO4JE",
        "colab": {
          "base_uri": "https://localhost:8080/"
        },
        "outputId": "565781fc-252c-4770-8fbf-f4813cc27f84"
      },
      "outputs": [
        {
          "output_type": "stream",
          "name": "stdout",
          "text": [
            "이름을 영문으로 입력해주세요: kim kim kim\n",
            "Kim Kim Kim "
          ]
        }
      ],
      "source": [
        "in_name=input(\"이름을 영문으로 입력해주세요: \").lower()\n",
        "inname_split=[]; inname_split=in_name.strip().split(\" \")\n",
        "for i in inname_split:\n",
        "  k=0\n",
        "  for j in i:\n",
        "    if k == 0:\n",
        "      print(j.upper(),end=\"\")\n",
        "    else: print(j,end=\"\")\n",
        "    k += 1\n",
        "  print(\" \",end=\"\")"
      ]
    },
    {
      "cell_type": "code",
      "source": [
        "#교수님 풀이\n",
        "a = input(\"이름을 영어로 입력하세요.\")\n",
        "\n",
        "b=a.strip().split(\" \")\n",
        "e =\"\"\n",
        "\n",
        "for i in range(len(b)):\n",
        "    c = list(b[i])\n",
        "\n",
        "    c[0] = c[0].upper()\n",
        "    d = \"\".join(c)\n",
        "    c = []\n",
        "    e = e + d + \" \"\n",
        "print(f\"당신의 이름을 바꾸면 {e}입니다.\")"
      ],
      "metadata": {
        "id": "9jDWEesD34gO"
      },
      "execution_count": null,
      "outputs": []
    },
    {
      "cell_type": "markdown",
      "source": [
        "Task2_0507. join 함수를 이용해서 ['a','b','c']을 아래와 같이 출력하세요.\n",
        "\n",
        "a::b::c"
      ],
      "metadata": {
        "id": "T6ZnHJBgPjJu"
      }
    },
    {
      "cell_type": "code",
      "source": [
        "list1=['a','b','c']\n",
        "a='::'\n",
        "list2=a.join(list1)\n",
        "print(list2)"
      ],
      "metadata": {
        "colab": {
          "base_uri": "https://localhost:8080/"
        },
        "id": "jYw1QIpfPlg1",
        "outputId": "ace62e23-ca2c-4cdd-bf8a-6e9c74fe9673"
      },
      "execution_count": null,
      "outputs": [
        {
          "output_type": "stream",
          "name": "stdout",
          "text": [
            "a::b::c\n"
          ]
        }
      ]
    },
    {
      "cell_type": "code",
      "source": [
        "#교수님 풀이\n",
        "li = ['a','b','c']\n",
        "'::'.join(li)"
      ],
      "metadata": {
        "id": "g1bl2ezu38fr"
      },
      "execution_count": null,
      "outputs": []
    },
    {
      "cell_type": "markdown",
      "source": [
        "Task3_0508. 다음을 수행하세요.\n",
        "- 사용자로부터 문자열을 입력받습니다.\n",
        "- 입력받은 문자열이 숫자로만 이루어져 있는지 확인합니다.\n",
        "- 만약 숫자로만 이루어져 있다면, 그 숫자를 정수로 변환하여 100을 더한 결과를 출력합니다.\n",
        "- 숫자가 아닌 문자가 포함되어 있다면, 사용자에게 숫자만 입력하라는 메시지를 출력합니다.\n",
        "- 연산이 수행이 완료될 때까지 반복하고 수행이 완료되면 break 합니다."
      ],
      "metadata": {
        "id": "Aja-7p70PkC2"
      }
    },
    {
      "cell_type": "code",
      "source": [
        "while True:\n",
        "  user=input(\"숫자를 입력하세요\")\n",
        "  if user.isdigit():\n",
        "    result=int(user)+100\n",
        "    print(result)\n",
        "    break\n",
        "  else:\n",
        "    print(\"숫자를 입력하세요\")"
      ],
      "metadata": {
        "colab": {
          "base_uri": "https://localhost:8080/"
        },
        "id": "mJX7h1tCPlzF",
        "outputId": "15d237a2-8cde-41db-f872-0dace58651a0"
      },
      "execution_count": null,
      "outputs": [
        {
          "output_type": "stream",
          "name": "stdout",
          "text": [
            "숫자를 입력하세요klk\n",
            "숫자를 입력하세요\n",
            "숫자를 입력하세요20\n",
            "120\n"
          ]
        }
      ]
    },
    {
      "cell_type": "code",
      "source": [
        "#교수님 풀이\n",
        "while 1:\n",
        "  num = input('숫자를 입력하세요.')\n",
        "  if num.isdigit():\n",
        "      print(int(num)+100)\n",
        "      break\n",
        "  else:\n",
        "      print('숫자만 입력하세요.')"
      ],
      "metadata": {
        "id": "7Fh_ycke3-8P"
      },
      "execution_count": null,
      "outputs": []
    },
    {
      "cell_type": "markdown",
      "source": [
        "Task4_0508. 문자와 숫자로만 구성된 아이디만 유효한 규칙을 만들려고 한다. 아래 사항을 참조하여 프로그램을 작성하세요.\n",
        "- 사용자로부터 문자열을 입력받습니다.\n",
        "- 입력받은 문자열이 알파벳과 숫자로만 이루어져 있는지 확인합니다.\n",
        "- 만약 조건을 만족한다면 \"유효한 아이디입니다\"라고 출력합니다.\n",
        "- 그렇지 않다면, \"아이디는 알파벳과 숫자만 포함할 수 있습니다\"라고 메시지를 출력합니다."
      ],
      "metadata": {
        "id": "VZncFVOGQN0K"
      }
    },
    {
      "cell_type": "code",
      "source": [
        "user=input(\"문자 입력\")\n",
        "if user.isalnum():\n",
        "  print(\"유효한 아이디입니다\")\n",
        "else:\n",
        "  print(\"아이디는 알파벳과 숫자만 포함할 수 있습니다\")"
      ],
      "metadata": {
        "colab": {
          "base_uri": "https://localhost:8080/"
        },
        "id": "8AfCf8hoQOZh",
        "outputId": "8afa3443-ce05-42c8-b3da-32bf0fbd8eb7"
      },
      "execution_count": null,
      "outputs": [
        {
          "output_type": "stream",
          "name": "stdout",
          "text": [
            "문자 입력#####\n",
            "아이디는 알파벳과 숫자만 포함할 수 있습니다\n"
          ]
        }
      ]
    },
    {
      "cell_type": "markdown",
      "source": [
        "Task5_0508. 코딩을 한줄로 작성해서 동일한 결과를 출력하세요.\n",
        "list = []\n",
        "for i in range(0,20,2):\n",
        "    list.append(i*i)\n",
        "print(list)"
      ],
      "metadata": {
        "id": "KZNKoSfwSxR8"
      }
    },
    {
      "cell_type": "code",
      "source": [
        "list=[]\n",
        "for i in range(0,20,2):\n",
        "  list.append(i*i)\n",
        "print(list)"
      ],
      "metadata": {
        "colab": {
          "base_uri": "https://localhost:8080/"
        },
        "id": "F70V7YhbSxxK",
        "outputId": "ca6a89c7-56ea-438b-e735-b95f638c04df"
      },
      "execution_count": null,
      "outputs": [
        {
          "output_type": "stream",
          "name": "stdout",
          "text": [
            "[0, 4, 16, 36, 64, 100, 144, 196, 256, 324]\n"
          ]
        }
      ]
    },
    {
      "cell_type": "code",
      "source": [
        "print([i*i for i in range(0, 20, 2)])"
      ],
      "metadata": {
        "colab": {
          "base_uri": "https://localhost:8080/"
        },
        "id": "PeRytZS2FbrJ",
        "outputId": "4da25390-59f4-42bd-f533-da549de73143"
      },
      "execution_count": 5,
      "outputs": [
        {
          "output_type": "stream",
          "name": "stdout",
          "text": [
            "[0, 4, 16, 36, 64, 100, 144, 196, 256, 324]\n"
          ]
        }
      ]
    },
    {
      "cell_type": "code",
      "source": [
        "# 교수님 풀이\n",
        "print(list(map(lambda x: x*x, range(0,20,2))))"
      ],
      "metadata": {
        "id": "rbrBPvk75GB7"
      },
      "execution_count": null,
      "outputs": []
    },
    {
      "cell_type": "markdown",
      "source": [
        "Task6_0508. 유닉스 타임스탬프를 받아서 해당 시간을 datetime.datetime 객체로 변환하고, 그 결과를 출력하는 사용자 함수를 작성하여 임의의 타임스탬프를 입력하여 결과를 출력하세요."
      ],
      "metadata": {
        "id": "836lPhV75NR2"
      }
    },
    {
      "cell_type": "code",
      "source": [
        "import time\n",
        "time.time()"
      ],
      "metadata": {
        "colab": {
          "base_uri": "https://localhost:8080/"
        },
        "id": "gsX1DTgj5N5c",
        "outputId": "e9202950-e119-4962-e261-b461434f6744"
      },
      "execution_count": null,
      "outputs": [
        {
          "output_type": "execute_result",
          "data": {
            "text/plain": [
              "1715155269.178593"
            ]
          },
          "metadata": {},
          "execution_count": 38
        }
      ]
    },
    {
      "cell_type": "code",
      "source": [
        "import datetime\n",
        "timestamp=1715155269\n",
        "\n",
        "def timestamp_to_datetime(timestamp):\n",
        "  return datetime.datetime.fromtimestamp(timestamp)\n",
        "\n",
        "dt=timestamp_to_datetime(timestamp)\n",
        "print(timestamp)\n",
        "print(dt)"
      ],
      "metadata": {
        "colab": {
          "base_uri": "https://localhost:8080/"
        },
        "id": "br_KQcXrNLAM",
        "outputId": "d061bea5-b66d-4667-bc04-b7efbef51182"
      },
      "execution_count": null,
      "outputs": [
        {
          "output_type": "stream",
          "name": "stdout",
          "text": [
            "1715155269\n",
            "2024-05-08 08:01:09\n"
          ]
        }
      ]
    },
    {
      "cell_type": "code",
      "source": [
        "# 교수님 풀이\n",
        "def timestamp_to_datetime(timestamp):\n",
        "  return datetime.fromtimestamp(timestamp)\n",
        "ts=float(input('timestamp을 입력하세요>'))\n",
        "dt=timestamp_to_datetime(ts)\n",
        "print(dt)"
      ],
      "metadata": {
        "colab": {
          "base_uri": "https://localhost:8080/"
        },
        "id": "1s3SGiJL6dAq",
        "outputId": "3610fe71-b9fb-4ae6-dd54-8f9908de22b2"
      },
      "execution_count": 8,
      "outputs": [
        {
          "output_type": "stream",
          "name": "stdout",
          "text": [
            "timestamp을 입력하세요>1715155269\n",
            "2024-05-08 08:01:09\n"
          ]
        }
      ]
    },
    {
      "cell_type": "markdown",
      "source": [
        "Task7_0508. datetime 객체를 문자열로 변환하는 사용자 함수를 작성하여 datetime 객체를 \"YYYY-MM-DD HH:MM:SS\" 형식의 문자열로 변환하고 출력하세요"
      ],
      "metadata": {
        "id": "lPeypiyV6RxK"
      }
    },
    {
      "cell_type": "code",
      "source": [
        "! pip install pytz"
      ],
      "metadata": {
        "colab": {
          "base_uri": "https://localhost:8080/"
        },
        "id": "nfRUENKsF4eS",
        "outputId": "abdc7b1b-3fec-4aaf-bff7-6a0460ca871c"
      },
      "execution_count": 18,
      "outputs": [
        {
          "output_type": "stream",
          "name": "stdout",
          "text": [
            "Requirement already satisfied: pytz in /usr/local/lib/python3.10/dist-packages (2023.4)\n"
          ]
        }
      ]
    },
    {
      "cell_type": "code",
      "source": [
        "import datetime\n",
        "import pytz\n",
        "\n",
        "def datetime_to_string(dt):\n",
        "  soeul_timezone=pytz.timezone('Asia/Seoul')\n",
        "  dt_korea=dt.astimezone(soeul_timezone)\n",
        "  return dt_korea.strftime(\"%Y-%m-%d %H:%M:%S\")\n",
        "\n",
        "date_string=input(\"datetime을 입력하세요>\")\n",
        "dt=datetime.datetime.strptime(date_string, \"%Y-%m-%d %H:%M:%S\")\n",
        "dt=dt.replace(tzinfo=pytz.ufc)\n",
        "s=datetime_to_string(dt)\n",
        "print(s)"
      ],
      "metadata": {
        "colab": {
          "base_uri": "https://localhost:8080/",
          "height": 238
        },
        "id": "yB8quEcMGART",
        "outputId": "2576812d-b4f9-4fe0-fd41-3fa68ce39703"
      },
      "execution_count": 20,
      "outputs": [
        {
          "name": "stdout",
          "output_type": "stream",
          "text": [
            "datetime을 입력하세요>2024-05-10 15:30:00\n"
          ]
        },
        {
          "output_type": "error",
          "ename": "AttributeError",
          "evalue": "module 'pytz' has no attribute 'ufc'",
          "traceback": [
            "\u001b[0;31m---------------------------------------------------------------------------\u001b[0m",
            "\u001b[0;31mAttributeError\u001b[0m                            Traceback (most recent call last)",
            "\u001b[0;32m<ipython-input-20-bcf6dff95bab>\u001b[0m in \u001b[0;36m<cell line: 11>\u001b[0;34m()\u001b[0m\n\u001b[1;32m      9\u001b[0m \u001b[0mdate_string\u001b[0m\u001b[0;34m=\u001b[0m\u001b[0minput\u001b[0m\u001b[0;34m(\u001b[0m\u001b[0;34m\"datetime을 입력하세요>\"\u001b[0m\u001b[0;34m)\u001b[0m\u001b[0;34m\u001b[0m\u001b[0;34m\u001b[0m\u001b[0m\n\u001b[1;32m     10\u001b[0m \u001b[0mdt\u001b[0m\u001b[0;34m=\u001b[0m\u001b[0mdatetime\u001b[0m\u001b[0;34m.\u001b[0m\u001b[0mdatetime\u001b[0m\u001b[0;34m.\u001b[0m\u001b[0mstrptime\u001b[0m\u001b[0;34m(\u001b[0m\u001b[0mdate_string\u001b[0m\u001b[0;34m,\u001b[0m \u001b[0;34m\"%Y-%m-%d %H:%M:%S\"\u001b[0m\u001b[0;34m)\u001b[0m\u001b[0;34m\u001b[0m\u001b[0;34m\u001b[0m\u001b[0m\n\u001b[0;32m---> 11\u001b[0;31m \u001b[0mdt\u001b[0m\u001b[0;34m=\u001b[0m\u001b[0mdt\u001b[0m\u001b[0;34m.\u001b[0m\u001b[0mreplace\u001b[0m\u001b[0;34m(\u001b[0m\u001b[0mtzinfo\u001b[0m\u001b[0;34m=\u001b[0m\u001b[0mpytz\u001b[0m\u001b[0;34m.\u001b[0m\u001b[0mufc\u001b[0m\u001b[0;34m)\u001b[0m\u001b[0;34m\u001b[0m\u001b[0;34m\u001b[0m\u001b[0m\n\u001b[0m\u001b[1;32m     12\u001b[0m \u001b[0ms\u001b[0m\u001b[0;34m=\u001b[0m\u001b[0mdatetime_to_string\u001b[0m\u001b[0;34m(\u001b[0m\u001b[0mdt\u001b[0m\u001b[0;34m)\u001b[0m\u001b[0;34m\u001b[0m\u001b[0;34m\u001b[0m\u001b[0m\n\u001b[1;32m     13\u001b[0m \u001b[0mprint\u001b[0m\u001b[0;34m(\u001b[0m\u001b[0ms\u001b[0m\u001b[0;34m)\u001b[0m\u001b[0;34m\u001b[0m\u001b[0;34m\u001b[0m\u001b[0m\n",
            "\u001b[0;31mAttributeError\u001b[0m: module 'pytz' has no attribute 'ufc'"
          ]
        }
      ]
    },
    {
      "cell_type": "code",
      "source": [
        "import datetime\n",
        "import pytz\n",
        "\n",
        "def datetime_to_string(dt):\n",
        "    seoul_timezone = pytz.timezone('Asia/Seoul')\n",
        "    dt_korea = dt.astimezone(seoul_timezone)\n",
        "    return dt_korea.strftime(\"%Y-%m-%d %H:%M:%S\")\n",
        "\n",
        "date_string = input(\"날짜와 시간을 입력하세요 (YYYY-MM-DD HH:MM:SS 형식)> \")\n",
        "dt = datetime.datetime.strptime(date_string, \"%Y-%m-%d %H:%M:%S\")\n",
        "dt = dt.replace(tzinfo=pytz.utc)\n",
        "s = datetime_to_string(dt)\n",
        "print(s)"
      ],
      "metadata": {
        "id": "AGg0FL2-Hk0i"
      },
      "execution_count": null,
      "outputs": []
    },
    {
      "cell_type": "code",
      "source": [
        "import datetime\n",
        "def datetime_to_str(dt):\n",
        "  s_dt=dt.strftime(\"%Y-%m-%d %H:%M:%S\")\n",
        "  print(s_dt)\n",
        "\n",
        "s=datetime.datetime.now()\n",
        "datetime_to_str(s)"
      ],
      "metadata": {
        "colab": {
          "base_uri": "https://localhost:8080/"
        },
        "id": "-njmr1EiOnWV",
        "outputId": "01821593-1f9c-4543-f608-19a684f9902f"
      },
      "execution_count": null,
      "outputs": [
        {
          "output_type": "stream",
          "name": "stdout",
          "text": [
            "2024-05-08 08:46:21\n"
          ]
        }
      ]
    },
    {
      "cell_type": "code",
      "source": [
        "# 교수님풀이\n",
        "import datetime\n",
        "def datetime_to_string(dt):\n",
        "    return dt.strftime('%Y-%m-%d %H:%M:%S')\n",
        "\n",
        "dt = input('datetime을 입력하세요> ')\n",
        "dt = datetime.datetime.strptime(dt, '%Y-%m-%d %H:%M:%S')\n",
        "s = datetime_to_string(dt)\n",
        "print(s)"
      ],
      "metadata": {
        "colab": {
          "base_uri": "https://localhost:8080/"
        },
        "id": "xA6FSLS-7iPT",
        "outputId": "fb51417e-1594-4da2-972f-4a631b083730"
      },
      "execution_count": 17,
      "outputs": [
        {
          "output_type": "stream",
          "name": "stdout",
          "text": [
            "datetime을 입력하세요> 2024-05-08 08:46:21\n",
            "2024-05-08 08:46:21\n"
          ]
        }
      ]
    },
    {
      "cell_type": "code",
      "source": [
        "# Task7번 타임존을 한국 기준으로 바꾸어 출력되게 하는 코드 아래와 같습니다.\n",
        "from datetime import datetime\n",
        "\n",
        "# def str_date (date) :\n",
        "#   return date.strftime('%Y-%m-%d %H:%M:%S')\n",
        "\n",
        "def datetime_to_string(dt):\n",
        "    soeul_timezone = pytz.timezone('Asia/Seoul')\n",
        "    dt_korea = dt.astimezone(soeul_timezone)\n",
        "    return dt_korea.strftime('%Y-%m-%d %H:%M:%S')\n",
        "\n",
        "# result = str_date(datetime.now())\n",
        "result = datetime_to_string(datetime.now())\n",
        "print(result , type(result))"
      ],
      "metadata": {
        "colab": {
          "base_uri": "https://localhost:8080/"
        },
        "id": "P-HoEEP1vozh",
        "outputId": "298d1854-efb6-4c6a-e028-9ed857139712"
      },
      "execution_count": 23,
      "outputs": [
        {
          "output_type": "stream",
          "name": "stdout",
          "text": [
            "2024-05-09 14:05:22 <class 'str'>\n"
          ]
        }
      ]
    },
    {
      "cell_type": "markdown",
      "source": [
        "Task8_0508. 올해 경과된 날짜수 계산하세요."
      ],
      "metadata": {
        "id": "isIUpma694UT"
      }
    },
    {
      "cell_type": "code",
      "source": [
        "import datetime\n",
        "\n",
        "current_date=datetime.date.today()\n",
        "\n",
        "start_of_year=datetime.date(current_date.year,1,1)\n",
        "\n",
        "days_passed=(current_date-start_of_year).days\n",
        "\n",
        "print(f'올해 경과된 날짜 수: {days_passed}일')"
      ],
      "metadata": {
        "id": "pvebwCtv94sr",
        "colab": {
          "base_uri": "https://localhost:8080/"
        },
        "outputId": "8723c0ba-1f4e-44f4-837d-17ffaebea11e"
      },
      "execution_count": 10,
      "outputs": [
        {
          "output_type": "stream",
          "name": "stdout",
          "text": [
            "올해 경과된 날짜 수: 129일\n"
          ]
        }
      ]
    },
    {
      "cell_type": "code",
      "source": [
        "# 오늘은 올해 몇일째 되는 날인가?\n",
        "import time\n",
        "numday=time.localtime(time.time())\n",
        "print(numday)\n",
        "numday.tm_yday"
      ],
      "metadata": {
        "id": "gi-U1eUr_Efi"
      },
      "execution_count": null,
      "outputs": []
    },
    {
      "cell_type": "markdown",
      "source": [
        "Task9_0508. 현재 요일을 \"2021-6-26 오늘은 토요일입니다.\"와 같은 형식으로 출력하세요."
      ],
      "metadata": {
        "id": "mtrR3lvh95eV"
      }
    },
    {
      "cell_type": "code",
      "source": [
        "import datetime\n",
        "\n",
        "today = datetime.date.today()\n",
        "print(today)\n",
        "\n",
        "result = today.strftime(\"%Y-%m-%d 오늘은 %A 입니다\")\n",
        "print(result)"
      ],
      "metadata": {
        "id": "A4yIGHGk9570",
        "colab": {
          "base_uri": "https://localhost:8080/"
        },
        "outputId": "5944ee2d-4c68-4e9d-b0f5-9db41a4eb4cc"
      },
      "execution_count": 12,
      "outputs": [
        {
          "output_type": "stream",
          "name": "stdout",
          "text": [
            "2024-05-09\n",
            "2024-05-09 오늘은 Thursday 입니다\n"
          ]
        }
      ]
    },
    {
      "cell_type": "code",
      "source": [
        "# 교수님 풀이\n",
        "import time\n",
        "\n",
        "weekdays = ['월요일','화요일','수요일','목요일','금요일','토요일','일요일']\n",
        "t = time.localtime()\n",
        "today = f'{t.tm_year}-{t.tm_mon}-{t.tm_mday}'\n",
        "week = weekdays[t.tm_wday]\n",
        "# print('%s 오늘은 %s입니다' %(today, week))\n",
        "print(f'{today} 오늘은 {week}입니다.')"
      ],
      "metadata": {
        "colab": {
          "base_uri": "https://localhost:8080/"
        },
        "id": "2bBcEPNgAI_4",
        "outputId": "49cef220-a6dd-4ca1-abf8-b93fb4a93215"
      },
      "execution_count": 13,
      "outputs": [
        {
          "output_type": "stream",
          "name": "stdout",
          "text": [
            "2024-5-9 오늘은 목요일입니다.\n"
          ]
        }
      ]
    },
    {
      "cell_type": "markdown",
      "source": [
        "Task10_0508. 1에서 백만까지 더하는데 걸리는 프로그램 실행 시간을 밀리초(ms) 단위로 구하세요.(1ms=0.001초)"
      ],
      "metadata": {
        "id": "Z9gyD9QJ96O3"
      }
    },
    {
      "cell_type": "code",
      "source": [
        "import time\n",
        "\n",
        "start = time.time()\n",
        "sn = sum(range(1, 1000001))\n",
        "end = time.time()\n",
        "print(f\"1에서 백만까지 더하는데 걸린 시간 : {(end - start):.3f}초\")\n",
        "\n",
        "minute, second = divmod((end-start), 60)\n",
        "h, m = divmod(minute, 60)\n",
        "print(f'{int(h)}시간 {int(minute)}분 {second:.3f}초')"
      ],
      "metadata": {
        "id": "ti53rA4l97eG",
        "colab": {
          "base_uri": "https://localhost:8080/"
        },
        "outputId": "98a41f5e-650a-4b5e-e462-163a8a3c6201"
      },
      "execution_count": 14,
      "outputs": [
        {
          "output_type": "stream",
          "name": "stdout",
          "text": [
            "1에서 백만까지 더하는데 걸린 시간 : 0.021초\n",
            "0시간 0분 0.021초\n"
          ]
        }
      ]
    },
    {
      "cell_type": "code",
      "source": [
        "# 교수님풀이\n",
        "import time\n",
        "\n",
        "t1 = time.time()\n",
        "t2 = 0\n",
        "result = 0\n",
        "\n",
        "for i in range(1000000):\n",
        "    result += i+1\n",
        "else:\n",
        "    t2 = time.time()\n",
        "\n",
        "print(f'백만까지 더한 값: {result}\\n걸린 시간: {round((t2-t1)*1000)} (ms)')"
      ],
      "metadata": {
        "colab": {
          "base_uri": "https://localhost:8080/"
        },
        "id": "sJPesbpXA7x7",
        "outputId": "f55fd498-47fc-4b0e-935b-78e3d2e0db0a"
      },
      "execution_count": 15,
      "outputs": [
        {
          "output_type": "stream",
          "name": "stdout",
          "text": [
            "백만까지 더한 값: 500000500000\n",
            "걸린 시간: 158 (ms)\n"
          ]
        }
      ]
    },
    {
      "cell_type": "code",
      "source": [],
      "metadata": {
        "id": "ZVp9L8OHBv7a"
      },
      "execution_count": null,
      "outputs": []
    }
  ]
}