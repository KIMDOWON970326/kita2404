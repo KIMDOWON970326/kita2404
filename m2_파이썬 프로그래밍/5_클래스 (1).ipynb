{
  "nbformat": 4,
  "nbformat_minor": 0,
  "metadata": {
    "colab": {
      "provenance": []
    },
    "kernelspec": {
      "name": "python3",
      "display_name": "Python 3"
    },
    "language_info": {
      "name": "python"
    }
  },
  "cells": [
    {
      "cell_type": "markdown",
      "source": [
        "#### 객체(object) 개념 정리 ( 신원/타입/속성/메소드/클래스/OOP)\n",
        "- 파이썬 프로그램에서 모든 데이터는 객체(object)라는 개념을 사용하여 저장됩니다.\n",
        "- 가장 기본이 되는 데이터 타입인 숫자, 문자열, 리스트, 사전은 다 객체입니다.\n",
        "- 클래스를 사용해서 사용자 정의 객체를 생성할 수도 있습니다.\n",
        "- 또한 프로그램의 구조와 인터프리터의 내부 동작과 관련된 객체들도 있습니다\n",
        "- 객체(object) : 프로그램에서 저장되는 모든 데이터는 객체입니다. 각 객체는 신원(identity), 타입(클래스라고도 함)과 값을 가집니다.\n",
        "  - 객체의 신원(identity) : 객체가 메모리에 저장된 위치를 가리키는 포인터\n",
        "  - 객체의 타입(클래스) : 객체의 내부적인 표현 형태와 객체가 지원하는 메서드 및 연산들을 설명, 특정 타입의 객체가 생성되면 그 객체를 그 타입의 인스턴스(instance)라고 부른다.\n",
        "  - 객체의 속성(attribute)와 메서드(method) : 속성(attribute)은 객체에 연결된 값이고 메서드(method)는 호출될 때 객체에 대해 특정 연산을 수행하는 함수\n",
        "  \n",
        "https://happy-obok.tistory.com/22"
      ],
      "metadata": {
        "id": "sy66fh3vWbnG"
      }
    },
    {
      "cell_type": "markdown",
      "source": [
        "## 클래스\n",
        "\n",
        "클래스(class)란 똑같은 무엇인가를 계속해서 만들어 낼 수 있는 설계 도면이고(과자 틀),\n",
        "객체(object)란 클래스로 만든 피조물(과자 틀을 사용해 만든 과자)을 뜻한다.  \n",
        "과자 틀 → 클래스 (class)  \n",
        "과자 틀에 의해서 만들어진 과자 → 객체 (object)\n",
        "\n",
        "- class : 함수 + 변수 모아놓은 것\n",
        "- 오브젝트(object) : 클래스를 써서 만든 것\n",
        "- 오브젝트(object) == 인스턴스(instance)\n",
        "- 클래스를 정의한 후, 그 클래스를 사용해서 데이터 객체(인스턴스)를 만들 수 있다.\n",
        "- 동일한 클래스에 의해 만들어진 각 객체들은 유사한 특징을 공유한다.\n",
        "- 모든 인스턴스에서 메소드(=코드)는 동일하지만, 속성(데이터)는 다르다.\n",
        "  * 메소드 : 코드\n",
        "  * 속성 : 데이터\n",
        "  * 인스턴스 : 클래스에 의해 만들어진 데이터 객체\n",
        "  * a = 클래스() 이렇게 만든 a는 객체이다. 그리고 a 객체는 클래스의 인스턴스이다. 즉 인스턴스라는 말은 특정 객체(a)가 어떤 클래스의 객체인지를 관계 위주로 설명할 때 사용"
      ],
      "metadata": {
        "id": "Z4XUTUPWWfKn"
      }
    },
    {
      "cell_type": "code",
      "execution_count": null,
      "metadata": {
        "colab": {
          "base_uri": "https://localhost:8080/"
        },
        "id": "rxQLN4PdWPhk",
        "outputId": "031dbdc1-a478-4f2b-f3de-21427aef3916"
      },
      "outputs": [
        {
          "output_type": "stream",
          "name": "stdout",
          "text": [
            "kita과정입니다\n",
            "kita\n"
          ]
        }
      ],
      "source": [
        "# 생성자(Constructor)란 객체가 생성될 때 자동으로 호출되는 메서드를 의미\n",
        "# 파이썬 메서드 이름으로 __init__를 사용하면 이 메서드는 생성자가 된다\n",
        "class Kita:\n",
        "  def __init__(self):\n",
        "    self.var = \"kita\"  # 인스턴스 멤버\n",
        "    print(\"kita과정입니다\")\n",
        "obj=Kita()\n",
        "print(obj.var)"
      ]
    },
    {
      "cell_type": "markdown",
      "source": [
        "#### self\n",
        "- Python에서 클래스 정의 시 self 키워드는 인스턴스 메서드의 첫 번째 매개변수로 사용\n",
        "- self의 사용법\n",
        "    - 클래스의 인스턴스 메서드를 정의할 때, 첫 번째 매개변수로 self를 사용\n",
        "    - self를 사용하여 인스턴스 속성에 접근하거나 설정\n",
        "    - self를 통해 같은 객체의 다른 메서드를 호출\n",
        "    - 클래스로부터 객체를 생성할 때, Python은 자동으로 self를 첫 번째 매개변수로 전달\n",
        "    - self는 객체의 속성과 메서드를 해당 객체에 속한 네임스페이스에 바인딩\n",
        "    - self는 해당 서브클래스의 인스턴스를 가리키며, 이를 통해 부모 클래스의 메서드와 속성에 접근"
      ],
      "metadata": {
        "id": "Fy5IMT7vc4uQ"
      }
    },
    {
      "cell_type": "code",
      "source": [
        "# 인스턴스 메서드 정의\n",
        "class MyClass:\n",
        "  def method(self,arg1,arg2):\n",
        "    #여기에서 self는 인스턴스 객체를 가리킵니다\n",
        "    #arg1과 arg2는 전달된 인자입니다"
      ],
      "metadata": {
        "id": "_MJujyH5Z9hq"
      },
      "execution_count": null,
      "outputs": []
    },
    {
      "cell_type": "code",
      "source": [
        "class MyClass:\n",
        "  def __init__(self,value):\n",
        "    self.instence_variable=value  #인스턴스 변수 설정\n",
        "\n",
        "  def mathod(self):\n",
        "    return self.instence_variable  #인스턴스 변수 접근"
      ],
      "metadata": {
        "id": "m1QzFhs3dx0v"
      },
      "execution_count": 38,
      "outputs": []
    },
    {
      "cell_type": "code",
      "source": [
        "# 객체 생성시 자동 사용\n",
        "obj=MyClass(10)  #MyClass의 인스턴스 생성\n",
        "#__init__메서드가 호출되며 self는 여기서 obj입니다\n",
        "obj.mathod()"
      ],
      "metadata": {
        "colab": {
          "base_uri": "https://localhost:8080/"
        },
        "id": "LL9aAo2EeSpH",
        "outputId": "5b2fb1a0-3d18-49b6-d4b8-72b9a302e335"
      },
      "execution_count": null,
      "outputs": [
        {
          "output_type": "execute_result",
          "data": {
            "text/plain": [
              "10"
            ]
          },
          "metadata": {},
          "execution_count": 11
        }
      ]
    },
    {
      "cell_type": "code",
      "source": [
        "class Kita:\n",
        "  def __init__(self, name, age, major):\n",
        "    self.name = name\n",
        "    self.age = age\n",
        "    self.major = major\n",
        "    self.major=major\n",
        "    print(f\"{self.name}은 {self.age}세이며 {self.major}을 전공했습니다\")\n",
        "\n",
        "# a=Kita()\n",
        "a=Kita('홍길동',25,'computer')\n",
        "b=Kita('홍길순',27,'business')\n",
        "print(a.name)\n",
        "print(b.major)"
      ],
      "metadata": {
        "colab": {
          "base_uri": "https://localhost:8080/"
        },
        "id": "WiwDW1q7fu5w",
        "outputId": "a185af33-dc8a-4e4a-eb8e-35b31d13fe1c"
      },
      "execution_count": null,
      "outputs": [
        {
          "output_type": "stream",
          "name": "stdout",
          "text": [
            "홍길동은 25세이며 computer을 전공했습니다\n",
            "홍길순은 27세이며 business을 전공했습니다\n",
            "홍길동\n",
            "business\n"
          ]
        }
      ]
    },
    {
      "cell_type": "markdown",
      "source": [
        "Task4_0510. 생성자만으로 구성된 클래스를 작성하고 객체 3개를 만들어서 결과를 출력하세요."
      ],
      "metadata": {
        "id": "Zg78jimlh9OG"
      }
    },
    {
      "cell_type": "code",
      "source": [
        "class Test:\n",
        "  def __init__(self,a,b):\n",
        "    self.a=a\n",
        "    self.b=b\n",
        "    print(a+b)\n",
        "obj1=Test(1,2)\n",
        "obj2=Test(3,8)\n",
        "obj3=Test(10,21)"
      ],
      "metadata": {
        "id": "K5tQ5_A_idFP",
        "colab": {
          "base_uri": "https://localhost:8080/"
        },
        "outputId": "5eb4e170-85f6-4d26-cd96-1f76a0666790"
      },
      "execution_count": 39,
      "outputs": [
        {
          "output_type": "stream",
          "name": "stdout",
          "text": [
            "3\n",
            "11\n",
            "31\n"
          ]
        }
      ]
    },
    {
      "cell_type": "markdown",
      "source": [
        "Task5_0510. 생성자, 메소드를 모두 포함하는 클래스를 작성하고 객체 3개를 만들어서 결과를 출력하세요"
      ],
      "metadata": {
        "id": "T-6u3oDEh_I1"
      }
    },
    {
      "cell_type": "code",
      "source": [
        "class MyCar:\n",
        "  def __init__(self,name,color='white',price=2000):\n",
        "    self.name=name\n",
        "    self.color=color\n",
        "    self.price=price\n",
        "\n",
        "  def car_sound(self):\n",
        "    if self.price>15000:\n",
        "      print('부와아아아')\n",
        "    elif self.price>10000:\n",
        "      print('부릉부릉')\n",
        "    else:\n",
        "      print('털털털털')\n",
        "\n",
        "a=MyCar('아반테')\n",
        "b=MyCar('페라리','red',17000)\n",
        "c=MyCar('벤츠','black',11000)\n",
        "\n",
        "print(a.name)\n",
        "print(b.price)\n",
        "print(c.color)\n",
        "\n",
        "print()\n",
        "\n",
        "a.car_sound()\n",
        "b.car_sound()\n",
        "c.car_sound()"
      ],
      "metadata": {
        "id": "KafTKBF8hWvH",
        "colab": {
          "base_uri": "https://localhost:8080/"
        },
        "outputId": "19041167-1b10-4399-f615-a91cc9aa2bee"
      },
      "execution_count": 40,
      "outputs": [
        {
          "output_type": "stream",
          "name": "stdout",
          "text": [
            "아반테\n",
            "17000\n",
            "black\n",
            "\n",
            "털털털털\n",
            "부와아아아\n",
            "부릉부릉\n"
          ]
        }
      ]
    },
    {
      "cell_type": "markdown",
      "source": [
        "## 클래스를 구성하는 요소\n",
        "- 클래스 선언: class 키워드와 대문자로 시작하는 이름 사용.\n",
        "- 생성자: \\__init__ 메서드로 인스턴스 초기화, self를 첫 인자로 사용.\n",
        "- 속성(Attributes): self.변수명 형태의 인스턴스 변수로 각 객체의 상태 정의.\n",
        "- 메서드(Methods): 객체의 동작을 정의하는 함수, 첫 인자로 self를 사용.\n",
        "- 상속(Inheritance): 다른 클래스의 기능을 확장 또는 수정.\n",
        "- 인스턴스화: 클래스 이름에 괄호를 추가하여 객체 인스턴스 생성.\n",
        "- self: 메서드와 속성에서 객체 자신을 참조.\n",
        "- 클래스 변수: 클래스 내 정의되고 모든 인스턴스에 공유.\n",
        "- 인스턴스 변수: self로 접근, 각 인스턴스에 고유한 데이터 저장.\n",
        "- 매직 메서드(특수 메서드): __로 둘러싸인 메서드로 내장 연산/함수 커스터마이즈."
      ],
      "metadata": {
        "id": "hu3Fq8QricY4"
      }
    },
    {
      "cell_type": "code",
      "source": [
        "# 상속:기본클래스 또는 부모클래스\n",
        "class Animal:\n",
        "  def __init__(self,name):\n",
        "    self.name = name\n",
        "  def speak(self):\n",
        "    raise NotImplementedError(\"Subclas must implement abstract method\")\n",
        "\n",
        "# 자식 클래스에서 Animal클래스 상속\n",
        "class Dog(Animal):\n",
        "  def speak(self):\n",
        "    return f\"{self.name} says Woof!\"\n",
        "\n",
        "class Cat(Animal):\n",
        "  def speak(self):\n",
        "    return f\"{self.name} says Meow\""
      ],
      "metadata": {
        "id": "u_GZghfuidgg"
      },
      "execution_count": 41,
      "outputs": []
    },
    {
      "cell_type": "code",
      "source": [
        "dog=Dog('Puppy')\n",
        "dog.speak()"
      ],
      "metadata": {
        "colab": {
          "base_uri": "https://localhost:8080/",
          "height": 35
        },
        "id": "mQY3rXtDlKhL",
        "outputId": "5f74eeb8-9d31-459a-899a-7ca1770cd4ad"
      },
      "execution_count": null,
      "outputs": [
        {
          "output_type": "execute_result",
          "data": {
            "text/plain": [
              "'Puppy says Woof!'"
            ],
            "application/vnd.google.colaboratory.intrinsic+json": {
              "type": "string"
            }
          },
          "metadata": {},
          "execution_count": 22
        }
      ]
    },
    {
      "cell_type": "code",
      "source": [
        "cat=Cat('kitty')\n",
        "cat.speak()"
      ],
      "metadata": {
        "colab": {
          "base_uri": "https://localhost:8080/",
          "height": 35
        },
        "id": "g38XZKt1l9zu",
        "outputId": "ec78b70e-8288-4ca7-9144-4c05dbf5bde1"
      },
      "execution_count": null,
      "outputs": [
        {
          "output_type": "execute_result",
          "data": {
            "text/plain": [
              "'kitty says Meow'"
            ],
            "application/vnd.google.colaboratory.intrinsic+json": {
              "type": "string"
            }
          },
          "metadata": {},
          "execution_count": 23
        }
      ]
    },
    {
      "cell_type": "code",
      "source": [
        "# 클래스 변수 vs 인스턴스 변수\n",
        "# 클래스 변수 : 클래스의 모든 인스턴스에 공유되는 변수,클래스 정의 내부에서 선언되고, 클래스 이름을 사용하여 접근\n",
        "class Car:\n",
        "  wheels=4   #클래스 변수\n",
        "\n",
        "  def __init__(self,brand,model):\n",
        "    self.brand=brand\n",
        "    self.model=model"
      ],
      "metadata": {
        "id": "D7LzOahImIBm"
      },
      "execution_count": 42,
      "outputs": []
    },
    {
      "cell_type": "markdown",
      "source": [
        "매직 메서드(Magic Methods)\n",
        "- 파이썬에서 특별한 의미를 가지는 내장 메서드로, 더블 언더스코어(__)로 시작하고 끝나는 메서드 이름을 갖는다.\n",
        "- 파이썬의 데이터 모델을 구성하는 핵심적인 부분으로, 파이썬의 객체가 다양한 연산에서 어떻게 동작할지를 정의.\n",
        "- 사용자가 이러한 메서드를 직접 호출하기보다는, 파이썬의 내부적인 구조나 연산을 통해 자동으로 호출.\n",
        "\n",
        "[ 매직 메서드의 예 ]\n",
        "\n",
        "`__init__(self, [...])`: 객체가 생성될 때 초기화를 위해 호출. 생성자라고도 한다.\\\n",
        "`__str__(self)`: 객체를 인간이 읽을 수 있는 문자열 형태로 변환할 때 사용. print() 함수나 str() 내장 함수를 사용할 때 자동으로 호출.\\\n",
        "`__repr__(self)`: 객체의 공식적인 문자열 표현을 생성할 때 사용. 개발자가 이 객체를 어떻게 볼지를 정의. 보통 객체를 다시 해당 객체를 생성할 수 있는 코드 형태로 표현.\\\n",
        "`__eq__(self, other)`: 두 객체의 동등성을 비교할 때 사용 (== 연산자).\\\n",
        "`__add__(self, other)`: 두 객체를 더할 때 사용 (+ 연산자).\\\n",
        "`__len__(self)`: 객체의 길이를 반환할 때 사용, 예를 들어 len() 함수가 호출될 때 자동으로 이 메서드를 사용."
      ],
      "metadata": {
        "id": "tCQHP6PYnran"
      }
    },
    {
      "cell_type": "code",
      "source": [
        "# 매직메서드\n",
        "# __str__ 메서드는 객체의 \"공식적인\" 문자열 표현을 제공하는 표준 방법\n",
        "# 이를 통해 print() 함수나 str() 함수와 같은 내장 함수에서 객체를 자동으로\n",
        "class Book:\n",
        "  def __init__(self,title,author):\n",
        "    self.title=title\n",
        "    self.author=author\n",
        "\n",
        "  def __str__(self): #객체를 문자열로 표현할 때 사용\n",
        "    return f\"{self.title} by {self.author}\"\n",
        "obj=Book('삼국지','나관종')\n",
        "obj.__str__()"
      ],
      "metadata": {
        "id": "6PtbinbSneMb",
        "colab": {
          "base_uri": "https://localhost:8080/",
          "height": 35
        },
        "outputId": "22cac02f-9ef4-43dc-8551-751837c0a1b6"
      },
      "execution_count": 1,
      "outputs": [
        {
          "output_type": "execute_result",
          "data": {
            "text/plain": [
              "'삼국지 by 나관종'"
            ],
            "application/vnd.google.colaboratory.intrinsic+json": {
              "type": "string"
            }
          },
          "metadata": {},
          "execution_count": 1
        }
      ]
    },
    {
      "cell_type": "markdown",
      "source": [
        "Task6_0510. 여러개의 음식을 주문할 수 있는 주문 시스템을 작성하세요.(클래스 활용 - 객체 지향)"
      ],
      "metadata": {
        "id": "ynP3kys24uFL"
      }
    },
    {
      "cell_type": "code",
      "source": [
        "class OrderSystem:\n",
        "    def __init__(self):\n",
        "        self.menu_items = {\n",
        "            '1': (\"불고기 비빔밥\", 12000),\n",
        "            '2': (\"야채 비빔밥\", 8000),\n",
        "            '3': (\"전주 비빔밥\", 10000)\n",
        "        }\n",
        "        self.set_price = 3000\n",
        "        self.orders = {}\n",
        "        self.price_total = 0\n",
        "\n",
        "    def display_menu(self):\n",
        "        print(\"\\n♣♣♣ KITA 식당에 오신 것을 환영합니다 ♣♣♣\")\n",
        "        print(\"========================================\")\n",
        "        print(\"           - 메뉴 -\")\n",
        "        for key, (name, price) in self.menu_items.items():\n",
        "            print(f\"  {key}. {name} : {price}원\")\n",
        "        print(\"\\n  세트 주문시 : 3000원 추가 (세트는 밥과 반찬이 추가됩니다.)\")\n",
        "        print(\"========================================\")\n",
        "\n",
        "    def display_order_summary(self):\n",
        "        print(\"\\n■장바구니\")\n",
        "        self.price_total = 0\n",
        "        for key, (name, price) in self.menu_items.items():\n",
        "            count = self.orders.get((key, False), 0)\n",
        "            count_set = self.orders.get((key, True), 0)\n",
        "            print(f\" {name} {count}개: {count * price}원\")\n",
        "            print(f\" {name} 세트 {count_set}개: {count_set * (price + self.set_price)}원\")\n",
        "            self.price_total += (count * price) + (count_set * (price + self.set_price))\n",
        "        print(f\" 총 금액 {self.price_total}원\\n\")\n",
        "\n",
        "    def add_order(self, menu_id, is_set):\n",
        "        item_name, item_price = self.menu_items[menu_id]\n",
        "        if is_set:\n",
        "            item_price += self.set_price\n",
        "        num = input(f\"\\n● {item_name}{' 세트' if is_set else ''} 몇 개 주문 하시겠습니까?\\n\")\n",
        "        if num.isdigit() and int(num) > 0:\n",
        "            self.orders[(menu_id, is_set)] = self.orders.get((menu_id, is_set), 0) + int(num)\n",
        "            print(f\"\\n{item_name}{' 세트' if is_set else ''} {num}개가 장바구니에 담겼습니다.\\n\")\n",
        "        else:\n",
        "            print('★양수만 입력하세요.★')\n",
        "\n",
        "    def process_order(self):\n",
        "        while True:\n",
        "            print('★비빔밥 주문 KIOSK★','\\n')\n",
        "            msg = input(\"● 주문을 하시겠습니까? (y 또는 n) >> \").strip().lower()\n",
        "            if msg == 'y':\n",
        "                while True:\n",
        "                    self.display_menu()\n",
        "                    self.display_order_summary()\n",
        "                    choice = input(\"● 주문할 메뉴를 골라주세요. (불고기 비빔밥:1, 야채 비빔밥:2, 전주 비빔밥:3, 전체 취소:0, 결제:5) >> \").strip().lower()\n",
        "                    if choice in self.menu_items:\n",
        "                        set_choice = input(\"\\n●3000원을 추가해 세트로 주문하시겠습니까? (일반주문시:n, 세트주문시:y)\\n\").strip().lower()\n",
        "                        if set_choice in ['y', 'n']:\n",
        "                            self.add_order(choice, set_choice == 'y')\n",
        "                        else:\n",
        "                            print('★올바른 선택을 입력하세요 (y 또는 n).★')\n",
        "\n",
        "                    elif choice == '0':\n",
        "                        self.orders.clear()\n",
        "                        print('\\n모든 주문이 취소되었습니다.')\n",
        "\n",
        "                    elif choice == '5':\n",
        "                        if self.price_total > 0:\n",
        "                            print(f'\\n●주문하려면 결제해주세요. 결제금액은 {self.price_total}원 입니다.\\n')\n",
        "                            input(\"결제를 완료하려면 아무 키나 누르세요...\")  # 사용자가 결제를 확인할 수 있도록 입력 대기\n",
        "                            print(f\"\\n총 금액은 {self.price_total}원이 결제 되었습니다. 감사합니다.\",'\\n')\n",
        "                            self.orders.clear()\n",
        "                            break\n",
        "                        else:\n",
        "                            print('★메뉴를 고르고 주문해주세요!★')\n",
        "\n",
        "                    else:\n",
        "                        print('★메뉴의 지정된 숫자로 입력하세요★')\n",
        "\n",
        "            else:\n",
        "                print('감사합니다.')\n",
        "                break\n",
        "\n",
        "if __name__ == \"__main__\":\n",
        "    order_system = OrderSystem()\n",
        "    order_system.process_order()"
      ],
      "metadata": {
        "id": "2y2dkvRWduS1"
      },
      "execution_count": null,
      "outputs": []
    },
    {
      "cell_type": "code",
      "source": [
        "from cryptography.fernet import Fernet\n",
        "import difflib\n",
        "class File:\n",
        "  def __init__(self, filename):\n",
        "    self.filename = filename\n",
        "class Encrypt(File):\n",
        "  def __init__(self,filename):\n",
        "    pass\n",
        "class Key(File):\n",
        "  def __init__(self,filename):\n",
        "    super().__init__(filename)\n",
        "    print(self.filename)\n",
        "class Decrypt(File):\n",
        "  def __init__(self,filename):\n",
        "    pass\n",
        "filename='text.txt'\n",
        "dataKey=Key(filename)\n",
        "print(dataKey)\n",
        "encryptedFile=Encrypt(filename)\n",
        "print(encryptedFile)\n",
        "decryptedFile=Decrypt(filename)\n",
        "print(decryptedFile)"
      ],
      "metadata": {
        "colab": {
          "base_uri": "https://localhost:8080/"
        },
        "id": "oRB5T8C6fdAN",
        "outputId": "ec22201c-c84d-44d5-8582-9e2370c15469"
      },
      "execution_count": 37,
      "outputs": [
        {
          "output_type": "stream",
          "name": "stdout",
          "text": [
            "text.txt\n",
            "<__main__.Key object at 0x7c80a8f0a8f0>\n",
            "<__main__.Encrypt object at 0x7c80a8f08af0>\n",
            "<__main__.Decrypt object at 0x7c80a8f09c90>\n"
          ]
        }
      ]
    },
    {
      "cell_type": "markdown",
      "source": [
        "Task1_0513 클래스 구성 요소와 관련 아래 사항에 대한 사례를 작성하세요.\n",
        "- 클래스 선언\n",
        "- 생성자\n",
        "- 속성(attributes)\n",
        "- 메서드\n",
        "- 상속\n",
        "- 인스턴스화(객체 만들기)\n",
        "- 클래스 변수\n",
        "- 매직 메서드(특수 메서드)"
      ],
      "metadata": {
        "id": "6ftZnTnzfiD4"
      }
    },
    {
      "cell_type": "code",
      "source": [],
      "metadata": {
        "id": "gQDpyySd7lvU"
      },
      "execution_count": null,
      "outputs": []
    },
    {
      "cell_type": "code",
      "source": [
        "class MyClass:\n",
        "  var='안녕하세요'\n",
        "  def __init__(self):\n",
        "    self.name='kita'\n",
        "    print(f'{self.name}과정입니다')\n",
        "  def sayHello(self):\n",
        "    return self.var\n",
        "\n",
        "obj=MyClass()\n",
        "\n",
        "print(obj.var)\n",
        "\n",
        "print(obj.sayHello())"
      ],
      "metadata": {
        "colab": {
          "base_uri": "https://localhost:8080/"
        },
        "id": "PB425Czlg5Uc",
        "outputId": "b5485d86-ea46-49de-eaf5-6859a009763d"
      },
      "execution_count": 10,
      "outputs": [
        {
          "output_type": "stream",
          "name": "stdout",
          "text": [
            "kita과정입니다\n",
            "안녕하세요\n",
            "안녕하세요\n"
          ]
        }
      ]
    },
    {
      "cell_type": "code",
      "source": [
        "class AutoEmail:\n",
        "  def __init__(self,name,time):\n",
        "    self.name=name\n",
        "    self.time=time\n",
        "  def send(self):\n",
        "    return f\"안녕하세요 {self.name}님 업무미팅은 {self.time}시 입니다\"\n",
        "\n",
        "run1=AutoEmail('Kevin',2)\n",
        "run2=AutoEmail('james',5)\n",
        "print(run1.send())\n",
        "print(run2.send())"
      ],
      "metadata": {
        "colab": {
          "base_uri": "https://localhost:8080/"
        },
        "id": "XpyV8czZiPMw",
        "outputId": "cdc0563c-a8ce-44a1-ead0-811054e78d37"
      },
      "execution_count": 11,
      "outputs": [
        {
          "output_type": "stream",
          "name": "stdout",
          "text": [
            "안녕하세요 Kevin님 업무미팅은 2시 입니다\n",
            "안녕하세요 james님 업무미팅은 5시 입니다\n"
          ]
        }
      ]
    },
    {
      "cell_type": "markdown",
      "source": [
        "Q. 기본가격 1000원인 2개의 상품에 대하여 임의의 추가 가격을 입력시 아래 두개의 방식으로 산출하세요.(class 이용)\n",
        "- price1 : 기본가격 + 추가가격\n",
        "- price2 : (기본가격 + 추가가격) * 90%"
      ],
      "metadata": {
        "id": "Crz-1aMukRQa"
      }
    },
    {
      "cell_type": "code",
      "source": [
        "class PlusPrice2:\n",
        "  def __init__(self, plus):\n",
        "    self.plus = plus\n",
        "    self.price1=1000+plus\n",
        "    self.price2=(1000+plus)*0.9\n",
        "a=int(input(\"추가 가격을 입력>\"))\n",
        "\n",
        "result=PlusPrice2(a)\n",
        "print(f\"-price1:{result.price1}\\n-price2:{result.price2}\")"
      ],
      "metadata": {
        "colab": {
          "base_uri": "https://localhost:8080/"
        },
        "id": "Jle_Rgi0j0FQ",
        "outputId": "dc479428-aa64-4c7b-d480-2559311a2da4"
      },
      "execution_count": 13,
      "outputs": [
        {
          "output_type": "stream",
          "name": "stdout",
          "text": [
            "추가 가격을 입력>500\n",
            "-price1:1500\n",
            "-price2:1350.0\n"
          ]
        }
      ]
    },
    {
      "cell_type": "code",
      "source": [
        "class Price:\n",
        "  p=int(input('추가가격>'))\n",
        "  # def setprice(self,p):\n",
        "  #   self.p=p\n",
        "  def sum(self):\n",
        "    b=1000\n",
        "    b += self.p\n",
        "    b *= 0.9\n",
        "    return b\n",
        "  def discount(self):\n",
        "    b=1000\n",
        "    b += self.p\n",
        "    b *= 0.9\n",
        "    return b\n",
        "\n",
        "price1=Price()\n",
        "print(f'price1:{price1.sum()}')\n",
        "price2=Price()\n",
        "print(f'price2: {price2.discount():.0f}')"
      ],
      "metadata": {
        "colab": {
          "base_uri": "https://localhost:8080/"
        },
        "id": "ORolxmPPl_nb",
        "outputId": "932a6830-9aa0-4842-c7b8-55bd43597e4d"
      },
      "execution_count": 30,
      "outputs": [
        {
          "output_type": "stream",
          "name": "stdout",
          "text": [
            "추가가격>500\n",
            "price1:1350.0\n",
            "price2: 1350\n"
          ]
        }
      ]
    },
    {
      "cell_type": "markdown",
      "source": [
        "Task2_0513. 두개의 수를 입력한 후 두개의 수에 대한 사칙연산을 수행하세요.(0을 입력한 경우 다시 입력하도록 조치)"
      ],
      "metadata": {
        "id": "TqxN3Q78oQs6"
      }
    },
    {
      "cell_type": "code",
      "source": [],
      "metadata": {
        "id": "SF6xF7_endAD"
      },
      "execution_count": null,
      "outputs": []
    },
    {
      "cell_type": "markdown",
      "source": [
        "오버라이딩(Overriding)\n",
        "- 부모 클래스에 정의된 메서드를 자식 클래스에서 재정의\n",
        "\n",
        "오버로딩(Overloading)\n",
        "- 오버로딩(Overloading)은 하나의 클래스 내에서 메서드 이름은 같지만 매개변수의 타입이나 개수가 다른 여러 메서드를 정의하는 것을 의미. 이를 통해 동일한 메서드 호출에 다양한 매개변수를 사용할 수 있다.\n",
        "- 파이썬은 기본적으로 오버로딩을 직접 지원하지 않지만,  기본값 인자(default arguments), 가변 인자(variable arguments), 키워드 인자(keyword arguments) 등을 사용하여 유사한 기능을 구현\n",
        "\n",
        "다형성(Polymorphism)\n",
        "- 서로 다른 클래스의 객체가 동일한 인터페이스를 공유할 수 있게 하는 개념\n",
        "-  다형성은 하나의 인터페이스가 다양한 형태의 객체에 적용될 수 있음을 의미\n",
        "- 예를 들어, 여러 동물 클래스가 모두 speak 메서드를 갖고 있을 때, 이 메서드는 각 동물에 맞게 다르게 구현"
      ],
      "metadata": {
        "id": "fTrdKlEooa8b"
      }
    },
    {
      "cell_type": "code",
      "source": [
        "from pickle import DICT\n",
        "class Animal:\n",
        "  def speak(self):\n",
        "    return \"i'm an animal!\"\n",
        "\n",
        "class Dof(Animal):\n",
        "  def speak(self):\n",
        "    return \"Woof!\"\n",
        "\n",
        "class Cat(Animal):\n",
        "  def speak(self):\n",
        "    return \"Meow!\"\n",
        "dog=Dog()\n",
        "cat=Cat()\n",
        "\n",
        "print(dog.speak())\n",
        "print(cat.speak())"
      ],
      "metadata": {
        "colab": {
          "base_uri": "https://localhost:8080/"
        },
        "id": "fe83DW9Qob_Z",
        "outputId": "d3c48b44-8936-4105-91e8-66aad5c984e1"
      },
      "execution_count": 23,
      "outputs": [
        {
          "output_type": "stream",
          "name": "stdout",
          "text": [
            "Woof!\n",
            "Meow!\n"
          ]
        }
      ]
    },
    {
      "cell_type": "code",
      "source": [
        "# 오버로딩:하나의 클래스 내에서 메서드 이름은 같지만 매개변수의 타입이나 개수가 다른여러 메서드를 정의\n",
        "# 오버로딩 유사구현 : Bird클래스는 기본값 인자를 사용하여 오버로딩과 유사한 기능을 구현\n",
        "class Bird(Animal):\n",
        "  def speak(self,mood='happy'):\n",
        "    if mood == \"happy\":\n",
        "      return \"Tweet!\"\n",
        "    else:\n",
        "      return \"Squawk!\"\n",
        "bird=Bird()\n",
        "# 오버로딩 유사 구현 사용\n",
        "print(bird.speak(\"angry\"))"
      ],
      "metadata": {
        "colab": {
          "base_uri": "https://localhost:8080/"
        },
        "id": "pfHCk8G-sx2F",
        "outputId": "a837e04a-82f2-4b48-a4df-4b77f0bc3d6d"
      },
      "execution_count": 26,
      "outputs": [
        {
          "output_type": "stream",
          "name": "stdout",
          "text": [
            "Squawk!\n"
          ]
        }
      ]
    },
    {
      "cell_type": "code",
      "source": [
        "# 다형성 : 하나의 인터페이스 가 다양한 형태의 객체에 적용\n",
        "def animal_sound(animal):\n",
        "  print(animal.speak())\n",
        "\n",
        "# 다형성을 통한 메서드 호출\n",
        "animal_sound(dog)\n",
        "animal_sound(cat)\n",
        "animal_sound(bird)"
      ],
      "metadata": {
        "colab": {
          "base_uri": "https://localhost:8080/"
        },
        "id": "jiKXOJhMt9YW",
        "outputId": "71803f16-b4a3-43dc-c6df-0923a875a123"
      },
      "execution_count": 27,
      "outputs": [
        {
          "output_type": "stream",
          "name": "stdout",
          "text": [
            "Woof!\n",
            "Meow!\n",
            "Tweet!\n"
          ]
        }
      ]
    },
    {
      "cell_type": "markdown",
      "source": [
        "Task3_0513. 파이썬 오버라이딩, 오버로딩, 다형성의 사례를 만들어 보세요."
      ],
      "metadata": {
        "id": "POli26dBvB29"
      }
    },
    {
      "cell_type": "code",
      "source": [],
      "metadata": {
        "id": "j7av8LmHu-x_"
      },
      "execution_count": null,
      "outputs": []
    }
  ]
}