{
  "nbformat": 4,
  "nbformat_minor": 0,
  "metadata": {
    "colab": {
      "provenance": []
    },
    "kernelspec": {
      "name": "python3",
      "display_name": "Python 3"
    },
    "language_info": {
      "name": "python"
    }
  },
  "cells": [
    {
      "cell_type": "markdown",
      "source": [
        "Task1_0502. 짝수와 짝수를 입력하면 곱한 값을 출력하고 홀수와 홀수를 입력하면 덧셈 값을 출력하고 그외는 다시 입력하라는 메시지를 출력하세요."
      ],
      "metadata": {
        "id": "LNc2N1Th7JsF"
      }
    },
    {
      "cell_type": "code",
      "execution_count": 3,
      "metadata": {
        "colab": {
          "base_uri": "https://localhost:8080/"
        },
        "id": "lL3HyBcX7CJn",
        "outputId": "e9011cd4-c871-44b6-d1cd-b0596f4c2029"
      },
      "outputs": [
        {
          "output_type": "stream",
          "name": "stdout",
          "text": [
            "첫 번째 숫자를 입력하세요: 5\n",
            "두 번째 숫자를 입력하세요: 4\n",
            "입력 값이 올바르지 않습니다\n"
          ]
        }
      ],
      "source": [
        "x = int(input(\"첫 번째 숫자를 입력하세요: \"))\n",
        "y = int(input(\"두 번째 숫자를 입력하세요: \"))\n",
        "\n",
        "if x % 2==0 and y %2==0:\n",
        "  result=x*y\n",
        "  print(f\"{x}와 {y}의 곱은 {result}입니다\")\n",
        "elif x % 2==1 and y % 2 ==1:\n",
        "  result=x+y\n",
        "  print(f\"{x}와 {y}의 합은 {result}입니다\")\n",
        "else:\n",
        "  print(\"입력 값이 올바르지 않습니다\")"
      ]
    },
    {
      "cell_type": "markdown",
      "source": [
        "Task2_0502. 현재 계절 구분 프로그램\n",
        "- 시나리오 : 3 ~ 5월은 봄, 6 ~ 8월은 여름, 9 ~ 11월은 가을, 12 ~ 2월은 겨울로 구분. 지금 계절을 알려주는 프로그램\n",
        "- 각 계절별 출력 멘트는 계절에 맞게 창작\n",
        "- if 조건문으로 datetime 모듈을 import해서 datetime.now 함수를 사용해서 작성"
      ],
      "metadata": {
        "id": "NyjgRJQe7LjX"
      }
    },
    {
      "cell_type": "code",
      "source": [
        "import datetime"
      ],
      "metadata": {
        "id": "F_7WL-vH7Nc0"
      },
      "execution_count": 8,
      "outputs": []
    },
    {
      "cell_type": "code",
      "source": [
        "month = int(input(\"현재 월을 입력하세요:\"))\n",
        "\n",
        "if 3 <= month <= 5:\n",
        "    print('봄')\n",
        "elif 6 <= month <= 8:\n",
        "    print('여름')\n",
        "elif 9 <= month <= 11:\n",
        "    print('가을')\n",
        "else:\n",
        "    print('겨울')"
      ],
      "metadata": {
        "colab": {
          "base_uri": "https://localhost:8080/"
        },
        "id": "g3PfMAvSMhZo",
        "outputId": "6ec30f47-d3cd-4f8d-997e-49ab7f12206b"
      },
      "execution_count": 14,
      "outputs": [
        {
          "output_type": "stream",
          "name": "stdout",
          "text": [
            "현재 월을 입력하세요:5\n",
            "봄\n"
          ]
        }
      ]
    },
    {
      "cell_type": "markdown",
      "source": [
        "Task3_0502. 1부터 99까지 아래와 같이 2개의 수를 곱해서 가장 큰 수를 구하세요.\n",
        "\n",
        "1*99, 2*98 ...99*1"
      ],
      "metadata": {
        "id": "7zpxm-bn7Nsc"
      }
    },
    {
      "cell_type": "code",
      "source": [],
      "metadata": {
        "id": "7SY8D-sy7PM7"
      },
      "execution_count": null,
      "outputs": []
    },
    {
      "cell_type": "markdown",
      "source": [
        "Task4_0502. [    ]을 채워서 아래의 출력과 같이 출력하세요.\\\n",
        "numbers = [1,2,3,4,5,6,7,8,9]\n",
        "output = [[], [], []]\n",
        "\n",
        "\n",
        "###[[1,4,7],[2,5,8],[3,6,9]]"
      ],
      "metadata": {
        "id": "NqWHZJdu7Pb9"
      }
    },
    {
      "cell_type": "code",
      "source": [],
      "metadata": {
        "id": "b8ki1qaS7TR_"
      },
      "execution_count": null,
      "outputs": []
    },
    {
      "cell_type": "markdown",
      "source": [
        "Task5_0502. 주어진 리스트에서 중복된 요소를 제거하고, 남은 요소만을 포함하는 새 리스트를 반환합니다. 순서는 유지해야 합니다.\\\n",
        "input_list = [1, 2, 2, 3, 4, 4, 4, 5, 6, 7, 7]"
      ],
      "metadata": {
        "id": "lqPqWAkw7TlR"
      }
    },
    {
      "cell_type": "code",
      "source": [
        "input_list = [1, 2, 2, 3, 4, 4, 4, 5, 6, 7, 7]\n",
        "# input_list = set([1, 2, 2, 3, 4, 4, 4, 5, 6, 7, 7])\n",
        "# a=list(input_list)\n",
        "# print(a)\n",
        "new_list=[input_list[0]]\n",
        "for i in input_list[1:]:\n",
        "  if i != new_list[-1]:\n",
        "    new_list.append(i)\n",
        "print(new_list)"
      ],
      "metadata": {
        "colab": {
          "base_uri": "https://localhost:8080/"
        },
        "id": "yrdeyolE7YRL",
        "outputId": "19b50e50-86d8-46c5-f901-d06fd4dbfee7"
      },
      "execution_count": 22,
      "outputs": [
        {
          "output_type": "stream",
          "name": "stdout",
          "text": [
            "[1, 2, 3, 4, 5, 6, 7]\n"
          ]
        }
      ]
    },
    {
      "cell_type": "markdown",
      "source": [
        "Task6_0502. 주어진 문자열을 모스 코드로 변환하는 함수를 작성하세요 공백은 무시하고 알파벳만 변환하세요.\\\n",
        "input_text=\"Hello World\""
      ],
      "metadata": {
        "id": "ryTolItH7lnp"
      }
    },
    {
      "cell_type": "code",
      "source": [
        "morse_code = {\n",
        "        'A': '.-', 'B': '-...', 'C': '-.-.', 'D': '-..', 'E': '.', 'F': '..-.',\n",
        "        'G': '--.', 'H': '....', 'I': '..', 'J': '.---', 'K': '-.-', 'L': '.-..',\n",
        "        'M': '--', 'N': '-.', 'O': '---', 'P': '.--.', 'Q': '--.-', 'R': '.-.',\n",
        "        'S': '...', 'T': '-', 'U': '..-', 'V': '...-', 'W': '.--', 'X': '-..-',\n",
        "        'Y': '-.--', 'Z': '--..'\n",
        "    }"
      ],
      "metadata": {
        "id": "V1U6PLE17kyV"
      },
      "execution_count": null,
      "outputs": []
    },
    {
      "cell_type": "code",
      "source": [],
      "metadata": {
        "id": "zLi0aV60780y"
      },
      "execution_count": null,
      "outputs": []
    },
    {
      "cell_type": "markdown",
      "source": [
        "Task7_0502. 주어진 비대칭 m×n 매트릭스(2차원 리스트)에서, 모든 대각선 상의 합을 계산하는 함수를 작성하세요. 결과는 각 대각선의 합을 리스트로 반환해야 합니다."
      ],
      "metadata": {
        "id": "oR0mskcr72Re"
      }
    },
    {
      "cell_type": "code",
      "source": [
        "input_matrix = [\n",
        "    [1, 2, 3],\n",
        "    [4, 5, 6],\n",
        "    [7, 8, 9],\n",
        "    [10, 11, 12]\n",
        "]"
      ],
      "metadata": {
        "id": "S7PQE9E476wv"
      },
      "execution_count": null,
      "outputs": []
    },
    {
      "cell_type": "code",
      "source": [
        "[1,6,15,24,20,12]"
      ],
      "metadata": {
        "id": "8G_DkutK79dk"
      },
      "execution_count": null,
      "outputs": []
    }
  ]
}