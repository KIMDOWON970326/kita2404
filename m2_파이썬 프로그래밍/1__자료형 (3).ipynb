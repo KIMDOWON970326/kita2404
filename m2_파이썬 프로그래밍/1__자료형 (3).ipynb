{
  "nbformat": 4,
  "nbformat_minor": 0,
  "metadata": {
    "colab": {
      "provenance": []
    },
    "kernelspec": {
      "name": "python3",
      "display_name": "Python 3"
    },
    "language_info": {
      "name": "python"
    }
  },
  "cells": [
    {
      "cell_type": "markdown",
      "source": [
        "## 프로그래밍 언어\n",
        "[ 주요 기능 ]\n",
        "- 명령 실행: 프로그래밍 언어를 통해 개발자는 컴퓨터에 명령을 내려 특정 작업을 수행. 이는 데이터 처리, 계산, 정보 저장 및 검색 등을 포함.\n",
        "- 알고리즘 구현: 문제 해결을 위한 절차나 방법을 명확한 단계로 나누어 구현. 프로그래밍 언어는 이러한 절차를 정의하고 실행할 수 있는 도구를 제공.\n",
        "- 자동화: 반복적인 작업이나 복잡한 시스템 관리 작업을 자동화하여 효율성을 높이고 오류를 줄일 수 있다.\n",
        "- 인터페이스 및 상호작용: 사용자 인터페이스(UI)를 생성하고, 사용자 입력을 처리하며, 외부 시스템 또는 다른 프로그램과 상호작용하는 메커니즘을 제공.\n",
        "- 데이터 조작 및 관리: 데이터베이스와의 통신, 데이터 검색, 수정 및 관리 등을 할 수 있다.\n",
        "\n",
        "[ 구성 요소 ]\n",
        "- 문법(Syntax): 프로그래밍 언어의 문법은 언어가 어떻게 구성되어야 하는지를 정의. 변수 선언, 연산자 사용, 제어 구조 등의 규칙을 포함.\n",
        "- 데이터 타입(Data Types): 다양한 종류의 데이터(예: 정수, 실수, 문자열)를 다루기 위한 분류. 각 데이터 타입은 메모리 사용과 연산 방법에 영향을 미친다.\n",
        "- 변수(Variables): 데이터를 저장할 수 있는 메모리 공간의 이름. 변수를 통해 프로그램 내에서 데이터를 저장하고 참조할 수 있다.\n",
        "- 연산자(Operators): 산술, 비교, 논리 등의 연산을 수행하는 기호. 이를 통해 데이터를 조작하고 조건을 설정할 수 있다.\n",
        "- 제어 구조(Control Structures): 프로그램의 흐름을 제어하는 구조로, 조건문(if, switch), 반복문(for, while), 키워드(break, continue) 등이 있다.\n",
        "- 함수 및 절차(Functions and Procedures): 특정 작업을 수행하는 코드 블록. 함수는 반복적인 코드를 효율적으로 관리할 수 있게 해준다.\n",
        "- 라이브러리(Libraries): 특정 기능을 수행하는 함수나 데이터를 모아놓은 집합. 라이브러리를 사용하면 복잡한 기능을 쉽게 구현할 수 있다."
      ],
      "metadata": {
        "id": "o1D-jVWigF9Q"
      }
    },
    {
      "cell_type": "markdown",
      "source": [
        "- 파이썬 소개\n",
        "- 용어 : 식별자(기본 규칙), 주석, 연산자, 자료, 키워드\n",
        "- 자료형 : 수치형, 시퀀스(문자열, 리스트, 튜플), 매핑(사전), 집합(set), 블린(bool)\n",
        "- 자료형 활용 사례 : 사용자 함수, 클래스\n",
        "- 들여쓰기, 이스케이프 문자, 문자열 포멧, 2/8/16진수\n",
        "- 객체지향언어 : 파이썬에서 \"모든 것이 객체\"\n",
        "  - 기본 데이터 타입, 함수, 모듈, 클래스 등"
      ],
      "metadata": {
        "id": "2rnyPj4xgY6w"
      }
    },
    {
      "cell_type": "markdown",
      "source": [
        "\n",
        "#### 파이썬 이란\n",
        "- 1990년 암스테르담의 귀도 반 로섬(Guido Van Rossum)이 개발한 인터프리터 언어\n",
        "- 컴퓨터 프로그래밍 교육을 위해 많이 사용하지만, 기업의 실무를 위해서도 많이 사용하는 언어. 구글에서 만든 소프트웨어의 50%이상이 파이썬으로 작성\n",
        "\n",
        "#### 파이썬의 특징\n",
        "- 파이썬은 인간다운 언어이다\n",
        "- 파이썬은 문법이 쉬워 빠르게 배울 수 있다\n",
        "- 파이썬은 무료이지만 강력하다\n",
        "- 파이썬은 간결하다\n",
        "- 파이썬은 프로그래밍을 즐기게 해준다\n",
        "- 파이썬은 개발 속도가 빠르다\n",
        "\n",
        "#### 파이썬으로 할 수 있는 일\n",
        "- 웹 개발: Django, Flask 등의 프레임워크를 사용하여 웹 애플리케이션을 개발할 수 있습니다.\n",
        "- 데이터 분석: Pandas, NumPy, SciPy와 같은 라이브러리를 사용하여 데이터를 분석하고 처리할 수 있습니다.\n",
        "- 머신 러닝과 인공지능: TensorFlow, PyTorch, Scikit-learn 등의 라이브러리를 활용하여 머신 러닝 모델을 구축하고 훈련시킬 수 있습니다.\n",
        "- 자동화: 파이썬 스크립트를 작성하여 일상적인 작업을 자동화하고, 시스템 관리 작업을 수행할 수 있습니다.\n",
        "- 게임 개발: Pygame과 같은 라이브러리를 사용하여 간단한 게임을 개발할 수 있습니다.\n",
        "- 모바일 애플리케이션 개발: Kivy 또는 BeeWare와 같은 라이브러리를 사용하여 모바일 애플리케이션을 개발할 수 있습니다.\n",
        "- 데스크탑 애플리케이션 개발: PyQt, Tkinter 등의 라이브러리를 활용하여 데스크탑 애플리케이션을 개발할 수 있습니다.\n",
        "- 시스템 스크립팅과 네트워킹: 시스템 유틸리티를 개발하거나 네트워크 프로토콜을 구현할 수 있습니다.\n",
        "- 임베디드 시스템과 하드웨어 제어: 라즈베리 파이와 같은 임베디드 시스템을 제어하고 하드웨어를 프로그래밍할 수 있습니다.\n",
        "- 사이언티픽 컴퓨팅: 과학적 연산과 시뮬레이션을 위해 파이썬을 활용할 수 있습니다.\n",
        "- 교육: 파이썬은 초보자에게 프로그래밍을 가르치는 데 이상적인 언어로 평가받고 있습니다.\n",
        "- 파이썬의 다양한 라이브러리와 프레임워크 덕분에, 이러한 분야에서의 작업이 더욱 쉽고 효율적으로 수행될 수 있습니다."
      ],
      "metadata": {
        "id": "tLKgLD_k7eZo"
      }
    },
    {
      "cell_type": "code",
      "source": [
        "# ! 기호는 Colab 셀에서 Unix/Linux 셸 명령어를 실행\n",
        "!python --version"
      ],
      "metadata": {
        "colab": {
          "base_uri": "https://localhost:8080/"
        },
        "id": "m89zVm9Q8IKv",
        "outputId": "a04a44e7-4821-4552-e77a-556c5d16df3f"
      },
      "execution_count": null,
      "outputs": [
        {
          "output_type": "stream",
          "name": "stdout",
          "text": [
            "Python 3.10.12\n"
          ]
        }
      ]
    },
    {
      "cell_type": "code",
      "source": [
        "#  %기호는 IPython  환경(즉, Colab이 포함된 Jupyter 환경)에서 제공하는 매직 명령어를 사용\n",
        "# 라인 매직은 단일 라인에 대해 실행되며 % 하나를 사용하고 셀 매직은 셀 전체에 적용되며 %%를 사용\n",
        "# 현재 작업폴더 확인\n",
        "%pwd"
      ],
      "metadata": {
        "colab": {
          "base_uri": "https://localhost:8080/",
          "height": 35
        },
        "id": "lPTo-9rDBcG_",
        "outputId": "def5a9c6-ebb5-439c-81e8-71285485d6a5"
      },
      "execution_count": null,
      "outputs": [
        {
          "output_type": "execute_result",
          "data": {
            "text/plain": [
              "'/content'"
            ],
            "application/vnd.google.colaboratory.intrinsic+json": {
              "type": "string"
            }
          },
          "metadata": {},
          "execution_count": 2
        }
      ]
    },
    {
      "cell_type": "code",
      "source": [
        "%%time\n",
        "#  간단한 for 루프를 사용한 계산\n",
        "sum=0\n",
        "for i in range(10000000):\n",
        "  sum+=i\n",
        "print(sum)"
      ],
      "metadata": {
        "colab": {
          "base_uri": "https://localhost:8080/"
        },
        "id": "UA9bH-V5Bg2n",
        "outputId": "b46bfd71-50d4-4256-90ae-4f43c68992b5"
      },
      "execution_count": null,
      "outputs": [
        {
          "output_type": "stream",
          "name": "stdout",
          "text": [
            "49999995000000\n",
            "CPU times: user 1.27 s, sys: 0 ns, total: 1.27 s\n",
            "Wall time: 1.28 s\n"
          ]
        }
      ]
    },
    {
      "cell_type": "markdown",
      "source": [
        "#### 용어\n",
        "- 식별자 : 프로그램밍 언어에서 이름을 붙일 때 사용하는 단어. 주로 변수 또는 함수 이름 등으로 사용\n",
        "- 주석 : 프로그램을 설명하기 위해 사용. # 기호로 주석 처리\n",
        "- 연산자 : 스스로 값이 되는 것이 아니고 값과 값 사이에 무언가 기능을 적용할 때 사용\n",
        "- 자료 : 리터럴이라고 하는데 숫자이든 문자이든 어떠한 값 자체를 의미. 1, 10, \"Hello\"\n",
        "- 키워드 : 파이썬이 만들어질 때 이미 사용하겠다고 예약해 놓는 것. False, None, True, ...\n",
        "- 프로그램밍 언어에서 사용자가 이름을 정할 때 키워드는 사용할 수 없음\n",
        "\n",
        "\n",
        "#### 식별자\n",
        "count, user_name, _is_valid, calculate_area, Car, model, year, math 및 m 모두 유효한 식별자. 각각의 식별자는 특정한 데이터 또는 기능에 이름을 부여하여 코드 내에서 해당 데이터나 기능을 참조할 수 있게하며 코드의 가독성과 유지 보수성을 높이는 데 중요한 역할"
      ],
      "metadata": {
        "id": "DuIAiTLUDTxi"
      }
    },
    {
      "cell_type": "code",
      "source": [
        "#  변수 식별자\n",
        "count = 10\n",
        "user_name = 'Alice'\n",
        "_is_valid = True\n",
        "\n",
        "# 함수 식별자\n",
        "def calculate_area(radius):\n",
        "  return 3.14159 * radius * radius\n",
        "\n",
        "# 클래스 식별자\n",
        "class Car:\n",
        "  def __init__(self,model,year):\n",
        "    self.model = model\n",
        "    self.year = year\n",
        "\n",
        "# 모듈 식별자\n",
        "import math as m\n"
      ],
      "metadata": {
        "id": "eZsT5gh3Cy09"
      },
      "execution_count": null,
      "outputs": []
    },
    {
      "cell_type": "markdown",
      "source": [
        "###식별자 기본규칙\n",
        "\n",
        "\n",
        "\n",
        "- 키워드를 사용하면 안된다\n",
        "- 특수문자는 언더바(_)만 사용\n",
        "- 숫자로 시작하면 안된다\n",
        "- 공백을 포함할 수 없다\n",
        "\n",
        "\n",
        "\n",
        "\n",
        "\n"
      ],
      "metadata": {
        "id": "AM4hhFsvILb8"
      }
    },
    {
      "cell_type": "code",
      "source": [
        "import keyword\n",
        "print(keyword.kwlist,'\\n')\n",
        "print(len(keyword.kwlist))"
      ],
      "metadata": {
        "colab": {
          "base_uri": "https://localhost:8080/"
        },
        "id": "eEXevE-sJL9Q",
        "outputId": "eba1fee2-8f3c-404c-cadd-099c5c71111d"
      },
      "execution_count": null,
      "outputs": [
        {
          "output_type": "stream",
          "name": "stdout",
          "text": [
            "['False', 'None', 'True', 'and', 'as', 'assert', 'async', 'await', 'break', 'class', 'continue', 'def', 'del', 'elif', 'else', 'except', 'finally', 'for', 'from', 'global', 'if', 'import', 'in', 'is', 'lambda', 'nonlocal', 'not', 'or', 'pass', 'raise', 'return', 'try', 'while', 'with', 'yield'] \n",
            "\n",
            "35\n"
          ]
        }
      ]
    },
    {
      "cell_type": "code",
      "source": [
        "alpha\n",
        "break  #키워드\n",
        "alpha10\n",
        "_alpha\n",
        "273alpha #숫자\n",
        "AlpHa\n",
        "ALPHA\n",
        "has space #공백"
      ],
      "metadata": {
        "id": "CNjnJCgTJTzQ"
      },
      "execution_count": null,
      "outputs": []
    },
    {
      "cell_type": "markdown",
      "source": [
        "###Q.주어진 문자열 리스트에서 유효한 Python 변수 이름만을 추출하여 반환하는 함수를 작성하세요."
      ],
      "metadata": {
        "id": "QnWjnIcmKTQB"
      }
    },
    {
      "cell_type": "code",
      "source": [
        "identifiers = [\"var1\",\"2things\",\"variable_name\",\"time!\"]\n",
        "import re\n",
        "\n",
        "def extract_valid_variable_names(identifiers):\n",
        "\n",
        "  #   주어진 문자열 리스트에서 유효한 Python 변수 이름만을 추출하여 반환합니다.\n",
        "\n",
        "  #   Parameters:\n",
        "  #   identifiers (list of str): 변수 이름으로 이루어진 문자열 리스트\n",
        "\n",
        "  #   Returns:\n",
        "  #   list of str: 유효한 Python 변수 이름으로 이루어진 리스트\n",
        "\n",
        "    valid_names = []   # 빈 리스트를 생성하여 유효한 변수 이름을 저장할 준비를 합니다.\n",
        "    for identifier in identifiers:\n",
        "        # 변수 이름이 올바른지 정규 표현식을 이용하여 검사합니다.\n",
        "        if re.match(r'^[a-zA-Z_]\\w*$', identifier) and not keyword.iskeyword(identifier):\n",
        "            valid_names.append(identifier)\n",
        "    return valid_names\n",
        "\n",
        "    # '^': 문자열의 시작을 나타냅니다.\n",
        "    # '[a-zA-Z_]': 영문 대소문자와 언더스코어(_) 중 하나와 일치합니다. 이는 변수 이름이 영문자나 언더스코어로 시작해야 함을 의미합니다.\n",
        "    # '\\w*': 영문자, 숫자, 언더스코어로 이루어진 문자열과 일치합니다. 이는 변수 이름이 영문자, 숫자, 언더스코어로 이어질 수 있음을 의미합니다.\n",
        "    # '$': 문자열의 끝을 나타냅니다.\n",
        "\n",
        "# 주어진 문자열 리스트\n",
        "identifiers = [\"var1\",\"2things\",\"variable_name\",\"time!\"]\n",
        "\n",
        "# 유효한 Python 변수 이름 추출\n",
        "valid_variable_names = extract_valid_variable_names(identifiers)\n",
        "print(valid_variable_names)"
      ],
      "metadata": {
        "colab": {
          "base_uri": "https://localhost:8080/"
        },
        "id": "iqlYd3Z-KeE7",
        "outputId": "b6b12214-37a1-4501-c619-69711de58b04"
      },
      "execution_count": null,
      "outputs": [
        {
          "output_type": "stream",
          "name": "stdout",
          "text": [
            "['var1', 'variable_name']\n"
          ]
        }
      ]
    },
    {
      "cell_type": "code",
      "source": [
        "# isidentifier()은 파이썬의 문자열 메서드로, 주어진 문자열이 유효한 식별자인지를 확인\n",
        "# isidentifier()는 예약어인지는 따로 체크하지 않음\n",
        "identifiers = [\"var1\",\"2things\",\"variable_name\",\"time!\"]\n",
        "import keyword\n",
        "def valid_identifiers(identifiers):\n",
        "  valid=[]\n",
        "  for identifier in identifiers:\n",
        "    if identifier.isidentifier() and not keyword.iskeyword(identifier):\n",
        "      valid.append(identifier)\n",
        "  return valid\n",
        "\n",
        "# 예제 실행\n",
        "identifiers = [\"var1\",\"2things\",\"variable_name\",\"time!\",\"True\"]\n",
        "print(valid_identifiers(identifiers))"
      ],
      "metadata": {
        "id": "TKjkir4CSAtH",
        "colab": {
          "base_uri": "https://localhost:8080/"
        },
        "outputId": "8411b5de-7c2d-4b1a-8be6-48d8f42b7311"
      },
      "execution_count": null,
      "outputs": [
        {
          "output_type": "stream",
          "name": "stdout",
          "text": [
            "['var1', 'variable_name']\n"
          ]
        }
      ]
    },
    {
      "cell_type": "code",
      "source": [
        "# 제거되는 시점에서 인덱스가 변경\n",
        "identifiers = [\"var1\",\"2things\",\"variable_name\",\"time!\"]\n",
        "\n",
        "for i in identifiers:\n",
        "  if i[0].isdigit() or not i.isalnum():\n",
        "    identifiers.remove(i)\n",
        "print(identifiers)"
      ],
      "metadata": {
        "colab": {
          "base_uri": "https://localhost:8080/"
        },
        "id": "QC3JUeb33Wak",
        "outputId": "8494275d-8df1-43b6-a1cf-902d084757e6"
      },
      "execution_count": null,
      "outputs": [
        {
          "output_type": "stream",
          "name": "stdout",
          "text": [
            "['var1', 'variable_name']\n"
          ]
        }
      ]
    },
    {
      "cell_type": "markdown",
      "source": [
        "파이썬은 snake_case와 CamelCase를 모두 사용\n",
        "\n",
        "- itemlist : item_list itemList\n",
        "- loginstatus : login_status loginStatus\n",
        "- 캐멀 케이스(대문자로 시작) 클래스\n",
        "- 스네이크 케이스(소문자로 시작) 뒤에 ()가 있다 - 함수\n",
        "- 스네이크 케이스(소문자로 시작) 뒤에 ()가 없다 - 변수"
      ],
      "metadata": {
        "id": "hOTzac0p8EQE"
      }
    },
    {
      "cell_type": "code",
      "source": [
        "# 연산자\n",
        "a = 5\n",
        "b = 3\n",
        "c = b % a\n",
        "d = b // a\n",
        "e = b / a\n",
        "print(c)\n",
        "print(d)\n",
        "print(e)"
      ],
      "metadata": {
        "colab": {
          "base_uri": "https://localhost:8080/"
        },
        "id": "rfgpgnlX789X",
        "outputId": "ba5d0b6c-a31b-4945-957f-ccb8662c9d1e"
      },
      "execution_count": null,
      "outputs": [
        {
          "output_type": "stream",
          "name": "stdout",
          "text": [
            "3\n",
            "0\n",
            "0.6\n"
          ]
        }
      ]
    },
    {
      "cell_type": "code",
      "source": [
        "a = 3\n",
        "b = 5\n",
        "\n",
        "if a > b:\n",
        "  print(a)"
      ],
      "metadata": {
        "id": "xbLUsqApADoz"
      },
      "execution_count": null,
      "outputs": []
    },
    {
      "cell_type": "markdown",
      "source": [
        "#### 자료형\n",
        "- 자료형 또는 데이터 타입이란 숫자, 문자 등과 같이 여러 종류의 데이터를 구분하기 위한 분류\n",
        "- 파이썬의 자료형은 크게 숫자(numbers), 시퀀스(sequence), 매핑(mapping) 등으로 나눌 수 있다.\n",
        "- 파이썬의 기본 자료형\n",
        "  - 수치형\n",
        "    - 정수형 : int는 정수(integer)를 나타낸다. 양의 정수와 음의 정수, 숫자 0\n",
        "    - 실수형 : float는 원래 부동소수점수(floating-point number)를 가리키는데, 지금은 단순히 소수점 이하를 표현할 수 있는 수이다.\n",
        "    - 복소수형 : 복소수를 complex로 나타내고 제곱하면 -1이 되는 수 i를 ‘허수(imaginary number)’라고 하는데 허수 i를 j로 표현\n",
        "  - 시퀀스 : 문자열(str), 리스트(list), 튜플(tuple), 사용자 정의 클래스가 시퀀스에 속한다. for 문에서 사용할 수 있는 것들이 바로 시퀀스\n",
        "    - 문자열 : 문자를 한 줄로 표현하며 문자열 인덱스를 이용해 문자열의 일부를 복사\n",
        "    - 리스트 : 대괄호([ ])로 감싸 주고 각 요솟값은 쉼표(,)로 구분\n",
        "    - 튜플 : 튜플은 ( )으로 둘러싸고 각 요솟값은 쉼표(,)로 구분\n",
        "  - 매핑\n",
        "    - 사전 : 딕셔너리(dict)는 키(key)와 값(value)의 짝으로 이뤄지는데 이런 것을 매핑\n",
        "  - 집합 : 집합을 표현하는 세트(set)\n",
        "  - 블린 : 참, 거짓을 표현"
      ],
      "metadata": {
        "id": "FyZ8iiYkBkfH"
      }
    },
    {
      "cell_type": "code",
      "source": [
        "# 정수형, 실수형\n",
        "i1 = 3\n",
        "f1 = 3.5\n",
        "print(i1)\n",
        "print(f1)"
      ],
      "metadata": {
        "colab": {
          "base_uri": "https://localhost:8080/"
        },
        "id": "qn7w5UspA96k",
        "outputId": "a32cd0eb-29dd-4d4b-ad00-8154cb5b7fef"
      },
      "execution_count": null,
      "outputs": [
        {
          "output_type": "stream",
          "name": "stdout",
          "text": [
            "3\n",
            "3.5\n"
          ]
        }
      ]
    },
    {
      "cell_type": "code",
      "source": [
        "# 정수(int)\n",
        "print(int(True))\n",
        "print(int(False))\n",
        "print(int('100'))\n",
        "print(int(3.14))"
      ],
      "metadata": {
        "colab": {
          "base_uri": "https://localhost:8080/"
        },
        "id": "oWAqZImqDYgu",
        "outputId": "a03766b2-8227-4043-ce18-5d0f1c700563"
      },
      "execution_count": null,
      "outputs": [
        {
          "output_type": "stream",
          "name": "stdout",
          "text": [
            "1\n",
            "0\n",
            "100\n",
            "3\n"
          ]
        }
      ]
    },
    {
      "cell_type": "code",
      "source": [
        "# 실수(float)\n",
        "print(float(True))\n",
        "print(float(False))\n",
        "print(float('100'))\n",
        "print(float(3.14))"
      ],
      "metadata": {
        "colab": {
          "base_uri": "https://localhost:8080/"
        },
        "id": "UlH4OFaMD-jz",
        "outputId": "75f28df8-a954-490d-d801-0eddcde47740"
      },
      "execution_count": null,
      "outputs": [
        {
          "output_type": "stream",
          "name": "stdout",
          "text": [
            "1.0\n",
            "0.0\n",
            "100.0\n",
            "3.14\n"
          ]
        }
      ]
    },
    {
      "cell_type": "code",
      "source": [
        "# 사칙연산 : +,*,/,//,%,**\n",
        "a = 10\n",
        "b = 2.3\n",
        "print(a+b)\n",
        "print(a*b)\n",
        "print(a/b)\n",
        "print(a//b)\n",
        "print(a%b)\n",
        "print(a**b)"
      ],
      "metadata": {
        "colab": {
          "base_uri": "https://localhost:8080/"
        },
        "id": "aEk4u7RGEtZB",
        "outputId": "71a40e22-7f14-43c2-f718-2e99ed5bc628"
      },
      "execution_count": null,
      "outputs": [
        {
          "output_type": "stream",
          "name": "stdout",
          "text": [
            "12.3\n",
            "23.0\n",
            "4.347826086956522\n",
            "4.0\n",
            "0.8000000000000007\n",
            "199.52623149688787\n"
          ]
        }
      ]
    },
    {
      "cell_type": "code",
      "source": [
        "# 문자열\n",
        "string = '문자열'\n",
        "a = '100'"
      ],
      "metadata": {
        "id": "_y4Ub5FFF2_s"
      },
      "execution_count": null,
      "outputs": []
    },
    {
      "cell_type": "code",
      "source": [
        "a = 100\n",
        "b = 50\n",
        "print(a+b)\n",
        "a = '100'\n",
        "b = '50'\n",
        "print(a+b)"
      ],
      "metadata": {
        "colab": {
          "base_uri": "https://localhost:8080/"
        },
        "id": "n76qMPhoGmJl",
        "outputId": "513ec590-0689-4a3b-80eb-83d5433509b3"
      },
      "execution_count": null,
      "outputs": [
        {
          "output_type": "stream",
          "name": "stdout",
          "text": [
            "150\n",
            "10050\n"
          ]
        }
      ]
    },
    {
      "cell_type": "code",
      "source": [
        "a = int('100')\n",
        "b = int('50')\n",
        "print(a+b)"
      ],
      "metadata": {
        "colab": {
          "base_uri": "https://localhost:8080/"
        },
        "id": "MqcuWOFwHENd",
        "outputId": "34f70e8e-3ee1-4179-c5c0-a5f7a1f9111e"
      },
      "execution_count": null,
      "outputs": [
        {
          "output_type": "stream",
          "name": "stdout",
          "text": [
            "150\n"
          ]
        }
      ]
    },
    {
      "cell_type": "code",
      "source": [
        "# 사용자 입력\n",
        "input('인사말을 입력하세요.')"
      ],
      "metadata": {
        "colab": {
          "base_uri": "https://localhost:8080/",
          "height": 54
        },
        "id": "Dutx1aIUHqms",
        "outputId": "dec0ac1c-bd25-4e7c-e603-341f8519d654"
      },
      "execution_count": null,
      "outputs": [
        {
          "name": "stdout",
          "output_type": "stream",
          "text": [
            "인사말을 입력하세요.안녕하세요\n"
          ]
        },
        {
          "output_type": "execute_result",
          "data": {
            "text/plain": [
              "'안녕하세요'"
            ],
            "application/vnd.google.colaboratory.intrinsic+json": {
              "type": "string"
            }
          },
          "metadata": {},
          "execution_count": 31
        }
      ]
    },
    {
      "cell_type": "code",
      "source": [
        "# input() 함수는 입력받은 데이터를 string으로 처리한다\n",
        "a = input()\n",
        "b = input()\n",
        "print(a+b)"
      ],
      "metadata": {
        "colab": {
          "base_uri": "https://localhost:8080/"
        },
        "id": "Hn8BWviJIJxZ",
        "outputId": "6402d910-377e-4768-8156-13f548e77cc0"
      },
      "execution_count": null,
      "outputs": [
        {
          "output_type": "stream",
          "name": "stdout",
          "text": [
            "5\n",
            "5\n",
            "55\n"
          ]
        }
      ]
    },
    {
      "cell_type": "code",
      "source": [
        "# 두개의 정수를 입력해서 더한 결과를 출력하세요.\n",
        "num1 = int(input('첫번쨰 숫자'))\n",
        "num2 = int(input('두번째 숫자'))\n",
        "print(num1+num2)"
      ],
      "metadata": {
        "colab": {
          "base_uri": "https://localhost:8080/"
        },
        "id": "rl2eXgrUIo56",
        "outputId": "1e014de1-fcdb-48b7-bf93-774fb9961121"
      },
      "execution_count": null,
      "outputs": [
        {
          "output_type": "stream",
          "name": "stdout",
          "text": [
            "첫번쨰 숫자3\n",
            "두번째 숫자3\n",
            "6\n"
          ]
        }
      ]
    },
    {
      "cell_type": "code",
      "source": [
        "# 실수+실수 -> 실수\n",
        "# Q. 3과 3.3을 입력하고 숫자 연산을 수행하여 6.3을 출력하세요\n",
        "num1 = float(input('첫번쨰 숫자'))\n",
        "num2 = float(input('두번째 숫자'))\n",
        "print(num1+num2)"
      ],
      "metadata": {
        "colab": {
          "base_uri": "https://localhost:8080/"
        },
        "id": "Zfpl58f6I-V4",
        "outputId": "452f6728-aaf6-4bf6-9613-63edd9c50c7f"
      },
      "execution_count": null,
      "outputs": [
        {
          "output_type": "stream",
          "name": "stdout",
          "text": [
            "첫번쨰 숫자3\n",
            "두번째 숫자3.3\n",
            "6.3\n"
          ]
        }
      ]
    },
    {
      "cell_type": "code",
      "source": [
        "# 정수 + 실수 -> 실수\n",
        "# Q. 3과 3.3을 입력하고 숫자 연산을 수행하여 6.3을 출력하세요\n",
        "num1 = int(input('첫번쨰 숫자'))\n",
        "num2 = float(input('두번째 숫자'))\n",
        "print(num1+num2)"
      ],
      "metadata": {
        "colab": {
          "base_uri": "https://localhost:8080/"
        },
        "id": "dSbLoM9OJ8xi",
        "outputId": "ef49827a-4bea-48bd-bd75-f28d104e9b5f"
      },
      "execution_count": null,
      "outputs": [
        {
          "output_type": "stream",
          "name": "stdout",
          "text": [
            "첫번쨰 숫자3\n",
            "두번째 숫자3.3\n",
            "6.3\n"
          ]
        }
      ]
    },
    {
      "cell_type": "code",
      "source": [
        "# Q. a=52와 b=52.273일때 a+b는 5252.273으로 출력되도록 a와 b를 문자열 자료형으로 변환하세요.\n",
        "a = 52\n",
        "b = 52.273\n",
        "a = str(a)\n",
        "b = str(b)\n",
        "print(a+b)"
      ],
      "metadata": {
        "colab": {
          "base_uri": "https://localhost:8080/"
        },
        "id": "WDSK9UTJK3rC",
        "outputId": "68b70ae5-2bf6-4e90-d73d-b3cbe0476ecd"
      },
      "execution_count": null,
      "outputs": [
        {
          "output_type": "stream",
          "name": "stdout",
          "text": [
            "5252.273\n"
          ]
        }
      ]
    },
    {
      "cell_type": "code",
      "source": [
        "# 문자열 : \"\",'',\"\"\" \"\"\"\",''' '''\n",
        "# p1 = 'python's value is great'\n",
        "p1 = \"python's value is great\"\n",
        "print(p1)"
      ],
      "metadata": {
        "colab": {
          "base_uri": "https://localhost:8080/"
        },
        "id": "sDvnOc_FOf5q",
        "outputId": "3f8a8814-2b8b-4d3e-8243-c977ddb187fc"
      },
      "execution_count": null,
      "outputs": [
        {
          "output_type": "stream",
          "name": "stdout",
          "text": [
            "python's value is great\n"
          ]
        }
      ]
    },
    {
      "cell_type": "code",
      "source": [
        "# 백슬래시 (\\)는 문자열 안에서 작은따음 표 (')를 문자열의 끝을 의미하지 않는 일반 문자로 포함 시키기 위해 사용\n",
        "# 이 기술을 이스케이프라고 함.\n",
        "p1 = 'python\\'s value is great'\n",
        "print(p1)"
      ],
      "metadata": {
        "colab": {
          "base_uri": "https://localhost:8080/"
        },
        "id": "0_lGGIcLQhOJ",
        "outputId": "7d9224ed-280f-462b-d3af-800336f59402"
      },
      "execution_count": null,
      "outputs": [
        {
          "output_type": "stream",
          "name": "stdout",
          "text": [
            "python's value is great\n"
          ]
        }
      ]
    },
    {
      "cell_type": "code",
      "source": [
        "# \\n 행 바꿈\n",
        "# y1 = \"Once you study data analysis You need Python\"\n",
        "# y1 = \"Once you study data analysis\\n You need Python\"\n",
        "y1 = \"Once you study data analysis\\t You need Python\"\n",
        "print(y1)"
      ],
      "metadata": {
        "colab": {
          "base_uri": "https://localhost:8080/"
        },
        "id": "pOqPZF0nQ_V-",
        "outputId": "db73e38a-349d-4a9a-da20-1cfa07e29d52"
      },
      "execution_count": null,
      "outputs": [
        {
          "output_type": "stream",
          "name": "stdout",
          "text": [
            "Once you study data analysis\t You need Python\n"
          ]
        }
      ]
    },
    {
      "cell_type": "code",
      "source": [
        "y2 = '''\n",
        "Once you study data analysis\n",
        "You need Python\n",
        "'''\n",
        "y3 = \"\"\"\n",
        "Once you study data analysis\n",
        "You need Python\n",
        "\"\"\"\n",
        "\n",
        "print(y2)\n",
        "print(y3)"
      ],
      "metadata": {
        "colab": {
          "base_uri": "https://localhost:8080/"
        },
        "id": "to_vMCCuSaEg",
        "outputId": "35ea6fc3-2941-4011-b8c4-c472aebac65b"
      },
      "execution_count": null,
      "outputs": [
        {
          "output_type": "stream",
          "name": "stdout",
          "text": [
            "\n",
            "Once you study data analysis\n",
            "You need Python\n",
            "\n",
            "\n",
            "Once you study data analysis\n",
            "You need Python\n",
            "\n"
          ]
        }
      ]
    },
    {
      "cell_type": "code",
      "source": [
        "a1 = 'Python'\n",
        "a2 = ' is easy to learn'\n",
        "print(a1+a2)\n",
        "print('='*25)"
      ],
      "metadata": {
        "colab": {
          "base_uri": "https://localhost:8080/"
        },
        "id": "bHFjINq0S9qu",
        "outputId": "8cf37ec0-aaa9-466b-be7e-f613a94a7deb"
      },
      "execution_count": null,
      "outputs": [
        {
          "output_type": "stream",
          "name": "stdout",
          "text": [
            "Python is easy to learn\n",
            "=========================\n"
          ]
        }
      ]
    },
    {
      "cell_type": "code",
      "source": [
        "# Q. 아래와 같이 출력할 수 있는 string을 만드세요.\n",
        "string=\"\"\"\n",
        "\"What a wonderful world\"\n",
        "he said loudly\n",
        "\"\"\"\n",
        "print(string)"
      ],
      "metadata": {
        "colab": {
          "base_uri": "https://localhost:8080/"
        },
        "id": "zZQSGSZuUmVu",
        "outputId": "aedfa059-5e80-4f89-f386-00f88b2fc175"
      },
      "execution_count": null,
      "outputs": [
        {
          "output_type": "stream",
          "name": "stdout",
          "text": [
            "\n",
            "\"What a wonderful world\"\n",
            "he said loudly\n",
            "\n"
          ]
        }
      ]
    },
    {
      "cell_type": "code",
      "source": [
        "# Q. 다른 타입의 숫자 2개를 입력받아 큰 수를 출력하세요.\n",
        "num1 = int(input('첫번쨰 숫자'))\n",
        "num2 = int(input('두번째 숫자'))\n",
        "if num1 > num2:\n",
        "    print(num1)\n",
        "elif num1 < num2:\n",
        "    print(num2)\n",
        "else:\n",
        "    print('큰수가 없습니다')"
      ],
      "metadata": {
        "colab": {
          "base_uri": "https://localhost:8080/"
        },
        "id": "4sifAtR7VWDn",
        "outputId": "6ed90553-176b-4bdd-996f-3ff6d787b672"
      },
      "execution_count": null,
      "outputs": [
        {
          "output_type": "stream",
          "name": "stdout",
          "text": [
            "첫번쨰 숫자3\n",
            "두번째 숫자3\n",
            "큰수가 없습니다\n"
          ]
        }
      ]
    },
    {
      "cell_type": "code",
      "source": [
        "# 자료형 - List\n",
        "# 리스트는 []로 표시하며 []안의 요소를 콤마로 구분하여 순서있게 나열\n",
        "list1=[1,2,3,4,5]\n",
        "list2=['a','b','c']\n",
        "list3=[1,'a','abc',[1,2,3,4,5],['a','b','c']]\n",
        "print(list1)\n",
        "print(list2)\n",
        "print(list3)"
      ],
      "metadata": {
        "colab": {
          "base_uri": "https://localhost:8080/"
        },
        "id": "b5rIDlWSWXuN",
        "outputId": "db5a4271-eddc-46de-b503-310880529104"
      },
      "execution_count": null,
      "outputs": [
        {
          "output_type": "stream",
          "name": "stdout",
          "text": [
            "[1, 2, 3, 4, 5]\n",
            "['a', 'b', 'c']\n",
            "[1, 'a', 'abc', [1, 2, 3, 4, 5], ['a', 'b', 'c']]\n"
          ]
        }
      ]
    },
    {
      "cell_type": "code",
      "source": [
        "# 인덱싱\n",
        "list1 = [1,2,3,4,5]\n",
        "print(list1[2])\n",
        "print(list1[0:2])\n",
        "print(list1[:4])"
      ],
      "metadata": {
        "colab": {
          "base_uri": "https://localhost:8080/"
        },
        "id": "CCf2G83KYj-Y",
        "outputId": "721392cb-4410-47d9-b774-4ca0f39b2240"
      },
      "execution_count": null,
      "outputs": [
        {
          "output_type": "stream",
          "name": "stdout",
          "text": [
            "3\n",
            "[1, 2]\n",
            "[1, 2, 3, 4]\n"
          ]
        }
      ]
    },
    {
      "cell_type": "code",
      "source": [
        "list3=[1,'a','abc',[1,2,3,4,5],['a','b','c']]\n",
        "print(list3[3][2])\n",
        "print(list3[4][0])"
      ],
      "metadata": {
        "colab": {
          "base_uri": "https://localhost:8080/"
        },
        "id": "gDQ89qZ1qiSK",
        "outputId": "10da5b37-1a6b-4f35-e2e6-0e4f6deae769"
      },
      "execution_count": null,
      "outputs": [
        {
          "output_type": "stream",
          "name": "stdout",
          "text": [
            "3\n",
            "a\n"
          ]
        }
      ]
    },
    {
      "cell_type": "code",
      "source": [
        "# 리스트 수정, 삭제\n",
        "a = [0,1,2,3,4,5,6,7,8,9]\n",
        "b = ['a','b','c']\n",
        "a[0] = 1\n",
        "print(a)\n",
        "b[1] = 'a'\n",
        "print(b)\n",
        "del a[0]\n",
        "print(a)\n",
        "del b[1]\n",
        "print(b)"
      ],
      "metadata": {
        "colab": {
          "base_uri": "https://localhost:8080/"
        },
        "id": "6hi2XMswriGq",
        "outputId": "73c50d50-dfcf-4107-da84-db0dca3d1085"
      },
      "execution_count": null,
      "outputs": [
        {
          "output_type": "stream",
          "name": "stdout",
          "text": [
            "[1, 1, 2, 3, 4, 5, 6, 7, 8, 9]\n",
            "['a', 'a', 'c']\n",
            "[1, 2, 3, 4, 5, 6, 7, 8, 9]\n",
            "['a', 'c']\n"
          ]
        }
      ]
    },
    {
      "cell_type": "code",
      "source": [
        "# 끝에서 부터 인덱싱 : -1\n",
        "a = [0,1,2,3,4,5,6,7,8,9]\n",
        "b = ['a','b','c']\n",
        "print(a[-2])\n",
        "print(a[-4:-1])\n",
        "print(a[-4:])"
      ],
      "metadata": {
        "colab": {
          "base_uri": "https://localhost:8080/"
        },
        "id": "ljcZTtuItgCW",
        "outputId": "20e3e8a0-59f0-40e5-c409-43383ff70f6a"
      },
      "execution_count": null,
      "outputs": [
        {
          "output_type": "stream",
          "name": "stdout",
          "text": [
            "8\n",
            "[6, 7, 8]\n",
            "[6, 7, 8, 9]\n"
          ]
        }
      ]
    },
    {
      "cell_type": "code",
      "source": [
        "# 리스트 확장\n",
        "h=[1,2,3]\n",
        "h.extend([4,5])\n",
        "print(h)\n",
        "h.append(6)\n",
        "print(h)\n",
        "h.insert(0,5)\n",
        "print(h)"
      ],
      "metadata": {
        "colab": {
          "base_uri": "https://localhost:8080/"
        },
        "id": "iyaFZvWVt7OY",
        "outputId": "b7d03c49-8d4d-4859-a12c-f198b99fdbd1"
      },
      "execution_count": null,
      "outputs": [
        {
          "output_type": "stream",
          "name": "stdout",
          "text": [
            "[1, 2, 3, 4, 5]\n",
            "[1, 2, 3, 4, 5, 6]\n",
            "[5, 1, 2, 3, 4, 5, 6]\n"
          ]
        }
      ]
    },
    {
      "cell_type": "markdown",
      "source": [
        "Q. list1에서 다음을 수행하세요\n",
        "- 33을 출력\n",
        "- 82를 리스트에 추가\n",
        "- 87의 인덱스 구하기 - 도전\n",
        "- 인덱스 3에서 10까지의 값을 출력하고 list2에 저장한 후 내림차순 정렬하기 - 도전\n",
        "- 39를 11로 변경\n",
        "- [69,45,58] 출력\n",
        "- 짝수 인덱스의 값으로 구성된 리스트 출력하기\n",
        "- 인덱스가 가장 큰수를 삭제하기\n",
        "- 인덱스 3, 5인 값으로 4칙 연산하기\n",
        "\n",
        "list1 = [58, 45, 69, 19,  4, 87, 29, 13, 39, 15, 54, [8, 33, 11], 27, 49, 63, 98, 22, 82]"
      ],
      "metadata": {
        "id": "ip97At4hwPuD"
      }
    },
    {
      "cell_type": "code",
      "source": [
        "list1 = [58, 45, 69, 19, 4, 87, 29, 13, 39, 15, 54, [8, 33, 11], 27, 49, 63, 98, 22, 82]\n",
        "\n",
        "print(list1[11][1])   #33을 출력\n",
        "list1.append(82)\n",
        "print(list1)          #82를 리스트에 추가\n",
        "print(list1.index(87))      #87의 인덱스 구하기 - 도전\n",
        "\n",
        "list2 = (list1[3:11])\n",
        "list2.sort(reverse=True)\n",
        "print(list2)               #인덱스 3에서 10까지의 값을 출력하고 list2에 저장한 후 내림차순 정렬하기 - 도전\n",
        "\n",
        "list1[8]=11\n",
        "print(list1)      #39를 11로 변경\n",
        "print(list1[2::-1])   #[69,45,58] 출력\n",
        "print(list1[0::2])    #짝수 인덱스의 값으로 구성된 리스트 출력하기\n",
        "del list1[-1]         #인덱스가 가장 큰수를 삭제하기\n",
        "print(list1)          #인덱스가 가장 큰수를 삭제하기\n",
        "a=(list1[3])          #인덱스 3, 5인 값으로 4칙 연산하기\n",
        "b=(list1[5])\n",
        "print(a+b)\n",
        "print(a*b)\n",
        "print(a/b)\n",
        "print(a-b)"
      ],
      "metadata": {
        "colab": {
          "base_uri": "https://localhost:8080/"
        },
        "id": "M16dHH5KvAyX",
        "outputId": "8a9109a7-b50d-4132-db7f-fe64fcdc544e"
      },
      "execution_count": null,
      "outputs": [
        {
          "output_type": "stream",
          "name": "stdout",
          "text": [
            "33\n",
            "[58, 45, 69, 19, 4, 87, 29, 13, 39, 15, 54, [8, 33, 11], 27, 49, 63, 98, 22, 82, 82]\n",
            "5\n",
            "[87, 54, 39, 29, 19, 15, 13, 4]\n",
            "[58, 45, 69, 19, 4, 87, 29, 13, 11, 15, 54, [8, 33, 11], 27, 49, 63, 98, 22, 82, 82]\n",
            "[69, 45, 58]\n",
            "[58, 69, 4, 29, 11, 54, 27, 63, 22, 82]\n",
            "[58, 45, 69, 19, 4, 87, 29, 13, 11, 15, 54, [8, 33, 11], 27, 49, 63, 98, 22, 82]\n",
            "106\n",
            "1653\n",
            "0.21839080459770116\n",
            "-68\n"
          ]
        }
      ]
    },
    {
      "cell_type": "code",
      "source": [
        "print(list1)\n",
        "print(list1[7::-1])\n",
        "print(list1[7::2])\n",
        "print(list1[7::-2])"
      ],
      "metadata": {
        "colab": {
          "base_uri": "https://localhost:8080/"
        },
        "id": "LoM9Pc757IP4",
        "outputId": "cebe5850-f992-47ff-e3fd-068230a396a5"
      },
      "execution_count": null,
      "outputs": [
        {
          "output_type": "stream",
          "name": "stdout",
          "text": [
            "[58, 45, 69, 19, 4, 87, 29, 13, 11, 15, 54, [8, 33, 11], 27, 49, 63, 98, 22, 82]\n",
            "[13, 29, 87, 4, 19, 69, 45, 58]\n",
            "[13, 15, [8, 33, 11], 49, 98, 82]\n",
            "[13, 87, 19, 45]\n"
          ]
        }
      ]
    },
    {
      "cell_type": "markdown",
      "source": [
        "#### sort 와 sorted 차이점\n",
        "\n",
        "1. 메서드 vs 함수:\n",
        "- sort(): 리스트 객체의 내장 메서드입니다. 즉, 리스트에서만 사용할 수 있습니다.\n",
        "- sorted(): 내장 함수로, 어떤 반복 가능한(iterable) 객체에도 사용될 수 있습니다. 예를 들면 리스트, 튜플, 딕셔너리, 문자열 등에 사용할 수 있습니다.\n",
        "\n",
        "2. 반환 값:\n",
        "- sort(): 리스트를 원 위치에서(in-place) 정렬하고 None을 반환합니다. 따라서 원래의 리스트 자체가 변경됩니다.\n",
        "- sorted(): 정렬된 새로운 리스트를 반환합니다. 원래의 객체는 변경되지 않습니다.\n",
        "\n",
        "3. 유용성:\n",
        "- sort(): 리스트에서만 작동하기 때문에 리스트만 정렬할 수 있습니다.\n",
        "- sorted(): 다양한 객체를 정렬할 수 있으며 결과는 항상 리스트로 반환됩니다."
      ],
      "metadata": {
        "id": "nTVGtnPC-aED"
      }
    },
    {
      "cell_type": "code",
      "source": [
        "# sort()\n",
        "my_list=[3,1,2]\n",
        "my_list.sort()\n",
        "print(my_list)\n",
        "\n",
        "# sorted()\n",
        "my_tuple=(3,1,2)\n",
        "new_list=sorted(my_tuple)\n",
        "print(my_tuple)\n",
        "print(new_list)"
      ],
      "metadata": {
        "colab": {
          "base_uri": "https://localhost:8080/"
        },
        "id": "cvwoUw_C9LA1",
        "outputId": "da05af24-e654-48a9-e85a-97161f663376"
      },
      "execution_count": null,
      "outputs": [
        {
          "output_type": "stream",
          "name": "stdout",
          "text": [
            "[1, 2, 3]\n",
            "(3, 1, 2)\n",
            "[1, 2, 3]\n"
          ]
        }
      ]
    },
    {
      "cell_type": "code",
      "source": [
        "list=[5,6,9,7,8]\n",
        "new_list=list.sort()\n",
        "print(list)\n",
        "print(new_list)"
      ],
      "metadata": {
        "colab": {
          "base_uri": "https://localhost:8080/"
        },
        "id": "Fu9y3x77Bsoh",
        "outputId": "c9a5ff90-7614-49bf-f58d-793bf6652475"
      },
      "execution_count": null,
      "outputs": [
        {
          "output_type": "stream",
          "name": "stdout",
          "text": [
            "[5, 6, 7, 8, 9]\n",
            "None\n"
          ]
        }
      ]
    },
    {
      "cell_type": "code",
      "source": [
        "list=[5,6,9,7,8]\n",
        "new_list=sorted(list)\n",
        "print(list)\n",
        "print(new_list)"
      ],
      "metadata": {
        "colab": {
          "base_uri": "https://localhost:8080/"
        },
        "id": "pZI7Y3BiFInv",
        "outputId": "f5ee7420-a675-4057-c7e1-65fd601eed4c"
      },
      "execution_count": null,
      "outputs": [
        {
          "output_type": "stream",
          "name": "stdout",
          "text": [
            "[5, 6, 9, 7, 8]\n",
            "[5, 6, 7, 8, 9]\n"
          ]
        }
      ]
    },
    {
      "cell_type": "code",
      "source": [
        "list1 = [58, 45, 69, 19, 4, 87, 29, 13, 39, 15, 54, [8, 33, 11], 27, 49, 63, 98, 22, 82]\n",
        "list2 = list1[3:11]\n",
        "l_sort=sorted(list2,reverse=True)\n",
        "l_sort\n",
        "\n",
        "list1 = [58, 45, 69, 19,  4, 87, 29, 13, 39, 15, 54, [8, 33, 11], 27, 49, 63, 98, 22, 82]\n",
        "list2 = list1[3:11]\n",
        "l_sort=sorted(list2,reverse=True)\n",
        "l_sort"
      ],
      "metadata": {
        "colab": {
          "base_uri": "https://localhost:8080/"
        },
        "id": "z7yyVUziFnXl",
        "outputId": "dc898171-3f02-42ad-e152-225a4cfdaede"
      },
      "execution_count": null,
      "outputs": [
        {
          "output_type": "execute_result",
          "data": {
            "text/plain": [
              "[87, 54, 39, 29, 19, 15, 13, 4]"
            ]
          },
          "metadata": {},
          "execution_count": 178
        }
      ]
    },
    {
      "cell_type": "code",
      "source": [
        "list3=list1[3:11]\n",
        "list3.sort(reverse=True)\n",
        "print(list3)"
      ],
      "metadata": {
        "colab": {
          "base_uri": "https://localhost:8080/"
        },
        "id": "PCMxvpDkG0-2",
        "outputId": "d6b77cc5-8dd1-4d63-f45c-294cfab91b26"
      },
      "execution_count": null,
      "outputs": [
        {
          "output_type": "stream",
          "name": "stdout",
          "text": [
            "[87, 54, 29, 19, 15, 13, 11, 4]\n"
          ]
        }
      ]
    },
    {
      "cell_type": "markdown",
      "source": [
        "Task1_0425. 주어진 숫자 리스트에서 최소값과 최대값을 찾아 출력하세요.\n",
        "\n",
        "numbers = [58, 45, 69, 19, 4, 87, 29, 13, 39, 15]"
      ],
      "metadata": {
        "id": "G1wQ9I4VJArj"
      }
    },
    {
      "cell_type": "code",
      "source": [
        "numbers = [58, 45, 69, 19, 4, 87, 29, 13, 39, 15]\n",
        "print(max(numbers))\n",
        "print(min(numbers))\n"
      ],
      "metadata": {
        "colab": {
          "base_uri": "https://localhost:8080/"
        },
        "id": "_KyfQ8VCJMqV",
        "outputId": "f7a2b869-68ab-45d4-ce7c-7af70b1561a2"
      },
      "execution_count": null,
      "outputs": [
        {
          "output_type": "stream",
          "name": "stdout",
          "text": [
            "87\n",
            "4\n"
          ]
        }
      ]
    },
    {
      "cell_type": "markdown",
      "source": [
        "Task2_0425. 주어진 숫자 리스트의 모든 요소의 합계와 평균을 계산하고 출력하세요\n",
        "\n",
        "numbers = [58, 45, 69, 19, 4, 87, 29, 13, 39, 15]"
      ],
      "metadata": {
        "id": "_3rjLPP7JDNL"
      }
    },
    {
      "cell_type": "code",
      "source": [
        "numbers = [58, 45, 69, 19, 4, 87, 29, 13, 39, 15]\n",
        "a=(sum(numbers))\n",
        "print(a)\n",
        "print(a/10)\n",
        "\n",
        "\n",
        "\n"
      ],
      "metadata": {
        "colab": {
          "base_uri": "https://localhost:8080/"
        },
        "id": "x3jUZwonKcKu",
        "outputId": "ab5905ac-e63d-4da6-e82a-8f23f8076c39"
      },
      "execution_count": null,
      "outputs": [
        {
          "output_type": "stream",
          "name": "stdout",
          "text": [
            "378\n",
            "37.8\n"
          ]
        }
      ]
    },
    {
      "cell_type": "markdown",
      "source": [
        "Task3_0425. 주어진 리스트에서 특정 요소가 등장하는 모든 인덱스를 리스트로 만들어 출력하세요.\n",
        "\n",
        "items = ['apple', 'banana', 'cherry', 'apple', 'cherry', 'apple']"
      ],
      "metadata": {
        "id": "sBFmnIJUJEpV"
      }
    },
    {
      "cell_type": "code",
      "source": [
        "items = ['apple', 'banana', 'cherry', 'apple', 'cherry', 'apple']\n",
        "a=[]\n",
        "for i in range(len(items)):\n",
        "  if items[i]=='apple':\n",
        "    a.append(i)\n",
        "print(a)\n",
        "# print(items.index('apple'))\n",
        "# print(items.find_indexes('apple'))\n"
      ],
      "metadata": {
        "colab": {
          "base_uri": "https://localhost:8080/"
        },
        "id": "HuslhWCuMnQt",
        "outputId": "620a3f2e-2b4b-42f5-fa96-00a25ea3ee8e"
      },
      "execution_count": null,
      "outputs": [
        {
          "output_type": "stream",
          "name": "stdout",
          "text": [
            "[0, 3, 5]\n"
          ]
        }
      ]
    },
    {
      "cell_type": "markdown",
      "source": [
        "Task4_0425. 주어진 리스트에서 연속해서 반복되는 요소만 제거하고, 결과 리스트를 반환하세요. 단, 처음 등장하는 요소는 유지해야 합니다.\n",
        "\n",
        "예를 들어, ['a', 'a', 'b', 'c', 'c', 'c', 'd', 'e', 'e']가 입력되면, ['a', 'b', 'c', 'd', 'e']를 출력해야 합니다."
      ],
      "metadata": {
        "id": "Y-dX6lSYJHtZ"
      }
    },
    {
      "cell_type": "code",
      "source": [
        "list1=['a', 'a', 'b', 'c', 'c', 'c', 'd', 'e', 'e']\n",
        "set(list1)"
      ],
      "metadata": {
        "colab": {
          "base_uri": "https://localhost:8080/"
        },
        "id": "1zc34DV0TrDv",
        "outputId": "b925f60a-7815-4cc3-a9c7-4ee535b0e29e"
      },
      "execution_count": null,
      "outputs": [
        {
          "output_type": "execute_result",
          "data": {
            "text/plain": [
              "{'a', 'b', 'c', 'd', 'e'}"
            ]
          },
          "metadata": {},
          "execution_count": 220
        }
      ]
    },
    {
      "cell_type": "markdown",
      "source": [
        "Task5_0425 주어진 정수 리스트와 회전 횟수 k에 대해 리스트를 오른쪽으로 k만큼 회전시킨 결과를 반환하세요. k가 리스트의 길이보다 클 수 있으며, 이 경우 k를 리스트 길이로 나눈 나머지만큼 실제 회전시키면 됩니다.\n",
        "\n",
        "예를 들어, [1, 2, 3, 4, 5]와 k=2가 주어지면, 결과는 [4, 5, 1, 2, 3]이 되어야 합니다."
      ],
      "metadata": {
        "id": "FCiMfy0AJJV9"
      }
    },
    {
      "cell_type": "code",
      "source": [],
      "metadata": {
        "id": "qLdCf6NPXLAx"
      },
      "execution_count": null,
      "outputs": []
    }
  ]
}