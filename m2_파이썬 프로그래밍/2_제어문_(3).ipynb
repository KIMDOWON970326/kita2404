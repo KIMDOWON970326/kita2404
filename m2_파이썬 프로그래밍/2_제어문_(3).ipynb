{
  "nbformat": 4,
  "nbformat_minor": 0,
  "metadata": {
    "colab": {
      "provenance": []
    },
    "kernelspec": {
      "name": "python3",
      "display_name": "Python 3"
    },
    "language_info": {
      "name": "python"
    }
  },
  "cells": [
    {
      "cell_type": "markdown",
      "source": [
        "제어문(control statement)은 프로그램의 흐름을 제어하는데 사용\n",
        "\n",
        "#### 조건문 (Conditional Statements):\n",
        "- if: 특정 조건이 참(True)일 때 코드 블록을 실행\n",
        "    - 조건은 비교 연산자(==, !=, <, >, <=, >=)와 논리 연산자(and, or, not)를 사용하여 표현할 수 있다\n",
        "- elif: 이전의 if 또는 elif 조건이 거짓(False)일 때 다른 조건을 검사\n",
        "    - elif는 'else if'의 축약형으로, 이전 if 또는 elif 문의 조건이 거짓(False)일 때 다른 조건을 검사\n",
        "    - 여러 elif 문을 사용하여 다양한 조건을 검사할 수 있다\n",
        "- else:\n",
        "    - 이전의 if 또는 elif 문의 조건이 모두 거짓일 때 실행할 코드 블록을 지정"
      ],
      "metadata": {
        "id": "TfmxcqYi9Tn6"
      }
    },
    {
      "cell_type": "code",
      "execution_count": null,
      "metadata": {
        "colab": {
          "base_uri": "https://localhost:8080/"
        },
        "id": "fykPKbpZ8xgt",
        "outputId": "2b20554f-246f-4afe-b44f-55e604c586de"
      },
      "outputs": [
        {
          "output_type": "stream",
          "name": "stdout",
          "text": [
            "x는 5보다  큽니다\n"
          ]
        }
      ],
      "source": [
        "x=10\n",
        "if x > 5:\n",
        "  print(\"x는 5보다  큽니다\")\n",
        "elif x==5:\n",
        "  print(\"x는 5입니다\")\n",
        "else:\n",
        "  print(\"x는 5보다 작습니다.\")"
      ]
    },
    {
      "cell_type": "code",
      "source": [
        "x=10\n",
        "if x >=5:\n",
        "  print('x는 5보다 크거나 같습니다')\n",
        "else:\n",
        "  print('x는 5보다 작습니다')"
      ],
      "metadata": {
        "colab": {
          "base_uri": "https://localhost:8080/"
        },
        "id": "LeCYQK9E_EJu",
        "outputId": "78125323-3f6f-4572-a04f-0f409ce6b2cb"
      },
      "execution_count": null,
      "outputs": [
        {
          "output_type": "stream",
          "name": "stdout",
          "text": [
            "x는 5보다 크거나 같습니다\n"
          ]
        }
      ]
    },
    {
      "cell_type": "code",
      "source": [
        "# 각 조건이 서로 독립적일때 if문을 연속해서 사용\n",
        "x=10\n",
        "y=5\n",
        "\n",
        "if x>5:\n",
        "  print('x는 5보다 큽니다')\n",
        "if y<10:\n",
        "  print('y는 10보다 작습니다')\n",
        "if x>y:\n",
        "  print('x는 y보다 큽니다')"
      ],
      "metadata": {
        "colab": {
          "base_uri": "https://localhost:8080/"
        },
        "id": "QVnzVUu6SfIs",
        "outputId": "098f19cb-5b14-4fff-bfa0-d11e457788c3"
      },
      "execution_count": null,
      "outputs": [
        {
          "output_type": "stream",
          "name": "stdout",
          "text": [
            "x는 5보다 큽니다\n",
            "y는 10보다 작습니다\n",
            "x는 y보다 큽니다\n"
          ]
        }
      ]
    },
    {
      "cell_type": "code",
      "source": [
        "x=10\n",
        "y=5\n",
        "\n",
        "if x>5:\n",
        "  if y>=3:\n",
        "    print('x는 5보다 크고 y는 3보다 크거나 같습니다')\n",
        "  else:\n",
        "    print('x는 5보다 크고 y는 3보다 작습니다')\n",
        "else:\n",
        "  print('x는 5보다 작거나 같습니다')"
      ],
      "metadata": {
        "colab": {
          "base_uri": "https://localhost:8080/"
        },
        "id": "natKC_8XTT4z",
        "outputId": "c288052b-0d21-43f0-ead3-ba87681d5b95"
      },
      "execution_count": null,
      "outputs": [
        {
          "output_type": "stream",
          "name": "stdout",
          "text": [
            "x는 5보다 크고 y는 3보다 크거나 같습니다\n"
          ]
        }
      ]
    },
    {
      "cell_type": "code",
      "source": [
        "# Q. 이중 조건문을 사용하여 코드를 작성하세요(조건내용은 자유, 단, if문 if~elif~else 중첩하여 사용)\n",
        "# a=int(input('숫자'))\n",
        "# if a>80:\n",
        "#   print('비만')\n",
        "# elif a>60:\n",
        "#   print('정상')\n",
        "# elif a>40:\n",
        "#   print('저체')\n",
        "# else:\n",
        "#   print('소멸')\n",
        "\n",
        "# score=int(input('점수'))\n",
        "# if score<70:\n",
        "#   print('점수가 70점 미만입니다. 채점을 진행하지 않습니다.')\n",
        "# if score>=90:\n",
        "#   if score >=85:\n",
        "#     print('A+')\n",
        "#   else:\n",
        "#     print('A')\n",
        "# elif score >=80:\n",
        "#   if score >=85:\n",
        "#     print('B+')\n",
        "#   else:\n",
        "#     print('B')\n",
        "# elif score>=70:\n",
        "#   if score>=75:\n",
        "#     print('C+')\n",
        "#   else:\n",
        "#     print('C')\n",
        "\n",
        "score=int(input('점수'))\n",
        "if score<70:\n",
        "  print('점수가 70점 미만입니다. 채점을 진행하지 않습니다.')\n",
        "else:\n",
        "  if score>=90:\n",
        "    print('A')\n",
        "  elif score >=80:\n",
        "    print('B')\n",
        "  else:\n",
        "    print('C')"
      ],
      "metadata": {
        "colab": {
          "base_uri": "https://localhost:8080/"
        },
        "id": "L6D85QFRUgGS",
        "outputId": "272b204f-7d77-4a37-aae6-2322ff1b40ae"
      },
      "execution_count": null,
      "outputs": [
        {
          "output_type": "stream",
          "name": "stdout",
          "text": [
            "점수60\n",
            "점수10\n",
            "점수가 70점 미만입니다. 채점을 진행하지 않습니다.\n"
          ]
        }
      ]
    },
    {
      "cell_type": "code",
      "source": [
        "# Q.listdata=['a','b','c']에서 조건문을 이용해서 아래와 같이 출력하세요\n",
        "a가 listdata에 있습니다\n",
        "b가 listdata에 있습니다\n",
        "c가 listdata에 있습니다"
      ],
      "metadata": {
        "id": "0aQLMx4VWaOa"
      },
      "execution_count": null,
      "outputs": []
    },
    {
      "cell_type": "code",
      "source": [
        "listdata=['a','b','c']\n",
        "# if 'a'in listdata:\n",
        "#   print('a가 listdata에 있습니다')\n",
        "# if 'b'in listdata:\n",
        "#   print('b가 listdata에 있습니다')\n",
        "# if 'c'in listdata:\n",
        "#   print('c가 listdata에 있습니다')\n",
        "for i in listdata:\n",
        "  if i in listdata:\n",
        "    print(f'{i}가 listdata에 있습니다')"
      ],
      "metadata": {
        "colab": {
          "base_uri": "https://localhost:8080/"
        },
        "id": "OpT0zFshZPhC",
        "outputId": "9790b9c3-2cb2-44e0-9e80-cd1ff429355e"
      },
      "execution_count": null,
      "outputs": [
        {
          "output_type": "stream",
          "name": "stdout",
          "text": [
            "a가 listdata에 있습니다\n",
            "b가 listdata에 있습니다\n",
            "c가 listdata에 있습니다\n"
          ]
        }
      ]
    },
    {
      "cell_type": "code",
      "source": [
        "# Q. 돈이 10000원 이상 있으면 있으면 택시를 타고 돈이 없으면 걸어간다 를 만족하는 조건문을 작성하세요"
      ],
      "metadata": {
        "id": "L3OiNXjjZfBO"
      },
      "execution_count": null,
      "outputs": []
    },
    {
      "cell_type": "code",
      "source": [
        "a=int(input('돈'))\n",
        "if a>=10000:    #만원 이상이 있으면 택시탑승\n",
        "  print('택시탑승')\n",
        "else:    #만원 미민이면 걸어가기\n",
        "  print('걷자')"
      ],
      "metadata": {
        "colab": {
          "base_uri": "https://localhost:8080/"
        },
        "id": "3JIRfpbsaxzj",
        "outputId": "2b9fd385-4b18-42f4-ba38-106112d52de6"
      },
      "execution_count": null,
      "outputs": [
        {
          "output_type": "stream",
          "name": "stdout",
          "text": [
            "돈9999\n",
            "걷자\n"
          ]
        }
      ]
    },
    {
      "cell_type": "code",
      "source": [
        "# Q. 조건부 표현식을 한줄의 조건문으로 작성하세요.\n",
        "score=70\n",
        "if score>=60:\n",
        "  message='success'\n",
        "else:\n",
        "  message='failure'\n",
        "print(message)"
      ],
      "metadata": {
        "colab": {
          "base_uri": "https://localhost:8080/"
        },
        "id": "2Kq7s5GQbN55",
        "outputId": "d48b4b3c-564c-48e7-cee4-105c359e607b"
      },
      "execution_count": null,
      "outputs": [
        {
          "output_type": "stream",
          "name": "stdout",
          "text": [
            "success\n"
          ]
        }
      ]
    },
    {
      "cell_type": "code",
      "source": [
        "score=70\n",
        "['success' if score >= 60 else 'failure']"
      ],
      "metadata": {
        "colab": {
          "base_uri": "https://localhost:8080/"
        },
        "id": "hncbCSf6f8Gd",
        "outputId": "33cd03e9-1064-40f5-9ca7-3340fb285095"
      },
      "execution_count": null,
      "outputs": [
        {
          "output_type": "execute_result",
          "data": {
            "text/plain": [
              "['success']"
            ]
          },
          "metadata": {},
          "execution_count": 24
        }
      ]
    },
    {
      "cell_type": "code",
      "source": [
        "# Q.수입(income)과 지출금액(spend)을 비교해서 수입이 많으면 저축 증가, 반대이면 빚이 증가 프로그램 작성\n",
        "\n",
        "income=int(input('수입'))\n",
        "spend=int(input('지출'))\n",
        "if income > spend:\n",
        "  print('저축증가')\n",
        "elif income < spend:\n",
        "  print('채무증가')\n",
        "else:\n",
        "  print('현상유지')"
      ],
      "metadata": {
        "colab": {
          "base_uri": "https://localhost:8080/"
        },
        "id": "K3M2tysbgoKc",
        "outputId": "b84a63c6-b635-4892-9e88-ac8c909218cc"
      },
      "execution_count": null,
      "outputs": [
        {
          "output_type": "stream",
          "name": "stdout",
          "text": [
            "수입1\n",
            "지출1\n",
            "현상유지\n"
          ]
        }
      ]
    },
    {
      "cell_type": "markdown",
      "source": [
        "#### 반복문 (Loop Statements):\n",
        "- for: 시퀀스(리스트, 튜플, 문자열 등)의 아이템을 순회하면서 코드 블록을 실행\n",
        "- while: 특정 조건이 참인 동안 코드 블록을 반복하여 실행"
      ],
      "metadata": {
        "id": "1E9ta6eih9lu"
      }
    },
    {
      "cell_type": "code",
      "source": [
        "for i in range(10):\n",
        "  print(i,end=' ')"
      ],
      "metadata": {
        "colab": {
          "base_uri": "https://localhost:8080/"
        },
        "id": "7ojmSwUpg25d",
        "outputId": "a5589f0f-52d0-4be1-8663-c2cd397151da"
      },
      "execution_count": null,
      "outputs": [
        {
          "output_type": "stream",
          "name": "stdout",
          "text": [
            "0 1 2 3 4 5 6 7 8 9 "
          ]
        }
      ]
    },
    {
      "cell_type": "code",
      "source": [
        "# for 루프는 시퀀스(리스트,튜플,문자열 등)나 반복 가능한 객체(iterable)의 요소를 순회\n",
        "for i in range(5):\n",
        "  # print(i)\n",
        "  print(i,end=' ')\n",
        "print('\\n')\n",
        "count=0\n",
        "while count < 5:\n",
        "  print(count,end=' ')\n",
        "  count += 1"
      ],
      "metadata": {
        "colab": {
          "base_uri": "https://localhost:8080/"
        },
        "id": "eJTb9NJuikpQ",
        "outputId": "b80af466-64b0-4052-f4eb-36897a830e19"
      },
      "execution_count": null,
      "outputs": [
        {
          "output_type": "stream",
          "name": "stdout",
          "text": [
            "0 1 2 3 4 \n",
            "\n",
            "0 1 2 3 4 "
          ]
        }
      ]
    },
    {
      "cell_type": "code",
      "source": [
        "# 리스트를 순회하는 예\n",
        "for i in [1,2,3,4,5]:\n",
        "  print(i,end=' ')\n",
        "print('\\n')\n",
        "# 문자열을 순회하는 예\n",
        "for char in \"hello\":\n",
        "  print(char,end=' ')"
      ],
      "metadata": {
        "colab": {
          "base_uri": "https://localhost:8080/"
        },
        "id": "gIgC9H3rjIVM",
        "outputId": "f2c4fe2d-da17-4f78-8881-0e89fa22d100"
      },
      "execution_count": null,
      "outputs": [
        {
          "output_type": "stream",
          "name": "stdout",
          "text": [
            "1 2 3 4 5 \n",
            "\n",
            "h e l l o "
          ]
        }
      ]
    },
    {
      "cell_type": "code",
      "source": [
        "# while 루프는 주어진 조건이 참(True)인 동안 코드 블록을 반복\n",
        "# 조건이 거짓(False)이 되면 루프가 종료\n",
        "count=0\n",
        "sum=0\n",
        "while count <5:\n",
        "  sum += count\n",
        "  print(sum,end=' ')\n",
        "  count += 1"
      ],
      "metadata": {
        "colab": {
          "base_uri": "https://localhost:8080/"
        },
        "id": "QnYFK2tUlw12",
        "outputId": "1332ef5d-1c5b-4555-9c43-60f6bc937da5"
      },
      "execution_count": null,
      "outputs": [
        {
          "output_type": "stream",
          "name": "stdout",
          "text": [
            "0 1 3 6 10 "
          ]
        }
      ]
    },
    {
      "cell_type": "code",
      "source": [
        "# Q. d에서 반복문을 사용하여 97 98 99을 출력하세요\n",
        "d={'a':97,'b':98,'c':99}\n",
        "for key in d:\n",
        "  print(d[key],end=' ')"
      ],
      "metadata": {
        "colab": {
          "base_uri": "https://localhost:8080/"
        },
        "id": "amMJ8WsVmgkQ",
        "outputId": "7f51840a-87f3-4583-f9b7-eba59187c0fe"
      },
      "execution_count": null,
      "outputs": [
        {
          "output_type": "stream",
          "name": "stdout",
          "text": [
            "97 98 99 "
          ]
        }
      ]
    },
    {
      "cell_type": "code",
      "source": [
        "print(d.keys())\n",
        "print(type(d.keys()))"
      ],
      "metadata": {
        "colab": {
          "base_uri": "https://localhost:8080/"
        },
        "id": "vaOEmnn9nrKr",
        "outputId": "82f1e996-f57d-4c87-9027-605827425072"
      },
      "execution_count": null,
      "outputs": [
        {
          "output_type": "stream",
          "name": "stdout",
          "text": [
            "dict_keys(['a', 'b', 'c'])\n",
            "<class 'dict_keys'>\n"
          ]
        }
      ]
    },
    {
      "cell_type": "code",
      "source": [
        "print(d.values())\n",
        "print(type(d.values()))"
      ],
      "metadata": {
        "colab": {
          "base_uri": "https://localhost:8080/"
        },
        "id": "b9YoO9QpsKWH",
        "outputId": "ea0f6db9-caf5-4bf7-f81c-1a8a67b898e2"
      },
      "execution_count": null,
      "outputs": [
        {
          "output_type": "stream",
          "name": "stdout",
          "text": [
            "dict_values([97, 98, 99])\n",
            "<class 'dict_values'>\n"
          ]
        }
      ]
    },
    {
      "cell_type": "markdown",
      "source": [
        "Task1_0429. input_str을 아래와 같이 단어로 분리하여 출력하세요.\n",
        "\n",
        "input_str = \"Hello, world! How are you today? I am fine. Thank you!\"\n",
        "\n",
        "['Hello', 'world', 'How', 'are', 'you', 'today', 'I', 'am', 'fine', 'Thank', 'you', '']"
      ],
      "metadata": {
        "id": "Bay_mrkn6-ux"
      }
    },
    {
      "cell_type": "code",
      "source": [
        "input_str = \"Hello, world! How are you today? I am fine. Thank you!\"\n",
        "print(input_str.split(), end=' ')"
      ],
      "metadata": {
        "colab": {
          "base_uri": "https://localhost:8080/"
        },
        "id": "OXcODAxPsbjs",
        "outputId": "1bf4e90c-c5fc-49b9-ddbd-8133f6c790c2"
      },
      "execution_count": null,
      "outputs": [
        {
          "output_type": "stream",
          "name": "stdout",
          "text": [
            "['Hello,', 'world!', 'How', 'are', 'you', 'today?', 'I', 'am', 'fine.', 'Thank', 'you!'] "
          ]
        }
      ]
    },
    {
      "cell_type": "markdown",
      "source": [
        "Task2_0429. 십진수 122를 2진수, 8진수, 16진수로 변경하여 출력하세요."
      ],
      "metadata": {
        "id": "Dv_LMT7c7IhA"
      }
    },
    {
      "cell_type": "code",
      "source": [
        "# f1=0b1111010 #2진수\n",
        "# f2=0o172 #8진수\n",
        "# f3=0x7a #16진수\n",
        "# print(f1)\n",
        "# print(f2)\n",
        "# print(f3)\n",
        "a=122\n",
        "b=bin(a)\n",
        "print(b)\n",
        "o=oct(a)\n",
        "print(o)\n",
        "h=hex(a)\n",
        "print(h)"
      ],
      "metadata": {
        "colab": {
          "base_uri": "https://localhost:8080/"
        },
        "id": "XcSsGGG-7nM0",
        "outputId": "935458e6-f7d0-47fa-b316-63178e561121"
      },
      "execution_count": null,
      "outputs": [
        {
          "output_type": "stream",
          "name": "stdout",
          "text": [
            "0b1111010\n",
            "0o172\n",
            "0x7a\n"
          ]
        }
      ]
    },
    {
      "cell_type": "markdown",
      "source": [
        "Task3_0429. 두 수의 곱셈 결과를 계산하고, 그 결과에 10을 더하세요."
      ],
      "metadata": {
        "id": "9N0OKBxT7T4m"
      }
    },
    {
      "cell_type": "code",
      "source": [
        "num1=int(input('첫번째 숫자'))\n",
        "num2=int(input('두번째 숫자'))\n",
        "f1 = num1 * num2\n",
        "f2 = f1 + 10\n",
        "print(f'곱하고 더하기10한 수는 {f2}')"
      ],
      "metadata": {
        "colab": {
          "base_uri": "https://localhost:8080/"
        },
        "id": "WTi8mbfF7pA2",
        "outputId": "4a0ad80f-69c2-485a-9637-02091021dac1"
      },
      "execution_count": null,
      "outputs": [
        {
          "output_type": "stream",
          "name": "stdout",
          "text": [
            "첫번째 숫자1\n",
            "두번째 숫자2\n",
            "곱하고 더하기10한 수는 12\n"
          ]
        }
      ]
    },
    {
      "cell_type": "markdown",
      "source": [
        "Task4_0429. 주어진 리스트에서 두 번째 요소를 삭제하고, 마지막에 새로운 요소 'Python'을 추가하세요.\n",
        "\n",
        "리스트: ['Java', 'C', 'JavaScript']"
      ],
      "metadata": {
        "id": "B5JFBuEQ7ViG"
      }
    },
    {
      "cell_type": "code",
      "source": [
        "list1=['Java', 'C', 'JavaScript']\n",
        "del list1[1]\n",
        "list1.append('Python')\n",
        "print(list1)"
      ],
      "metadata": {
        "colab": {
          "base_uri": "https://localhost:8080/"
        },
        "id": "HoLf5fa_7s10",
        "outputId": "946f6874-1bcd-4a83-c02c-e653464a409d"
      },
      "execution_count": null,
      "outputs": [
        {
          "output_type": "stream",
          "name": "stdout",
          "text": [
            "['Java', 'JavaScript', 'Python']\n"
          ]
        }
      ]
    },
    {
      "cell_type": "markdown",
      "source": [
        "Task5_0429. 주어진 문자열에서 처음 세 글자와 마지막 세 글자를 연결하여 새로운 문자열을 만드세요.\n",
        "\n",
        "문자열: 'Incredible'"
      ],
      "metadata": {
        "id": "HDvsM8bu7Wt4"
      }
    },
    {
      "cell_type": "code",
      "source": [
        "a='Incredible'\n",
        "b=a[:3]\n",
        "# print(b)\n",
        "c=a[-3:]\n",
        "# print(c)\n",
        "d=b+c\n",
        "print(d)"
      ],
      "metadata": {
        "colab": {
          "base_uri": "https://localhost:8080/"
        },
        "id": "np_wQeSs7vPT",
        "outputId": "8e98eec9-8ad5-479b-dff4-072f3bd39253"
      },
      "execution_count": null,
      "outputs": [
        {
          "output_type": "stream",
          "name": "stdout",
          "text": [
            "Incble\n"
          ]
        }
      ]
    },
    {
      "cell_type": "markdown",
      "source": [
        "Task6_0429. 사용자의 이름과 이메일을 딕셔너리로 저장하고, 이름을 입력받아 해당하는 이메일을 출력하세요.\n",
        "\n",
        "사용자 정보: 이름 - 'Alice', 이메일 - 'alice@example.com'"
      ],
      "metadata": {
        "id": "FYmOE-fP7Y7X"
      }
    },
    {
      "cell_type": "code",
      "source": [
        "name=input('이름입력')\n",
        "user1={'Alice':'alice@example.com'}\n",
        "if name in user1:\n",
        "  print(user1[name])\n",
        "else:\n",
        "  print('사용자 없음')"
      ],
      "metadata": {
        "colab": {
          "base_uri": "https://localhost:8080/"
        },
        "id": "MNrBR8hK7xMr",
        "outputId": "52f0d326-29dd-45b4-d4bb-51c0aa2257cf"
      },
      "execution_count": null,
      "outputs": [
        {
          "output_type": "stream",
          "name": "stdout",
          "text": [
            "이름입력Alice\n",
            "alice@example.com\n"
          ]
        }
      ]
    },
    {
      "cell_type": "markdown",
      "source": [
        "Task7_0429. 주어진 두 튜플에서 공통 요소만을 찾아 집합으로 만드세요.\n",
        "\n",
        "튜플: (1, 2, 3, 4, 5)와 (4, 5, 6, 7, 8)"
      ],
      "metadata": {
        "id": "svaNWBEa7Zm-"
      }
    },
    {
      "cell_type": "code",
      "source": [
        "a=(1, 2, 3, 4, 5)\n",
        "b=(4, 5, 6, 7, 8)\n",
        "c=set(a)\n",
        "d=set(b)\n",
        "print(c&d)"
      ],
      "metadata": {
        "colab": {
          "base_uri": "https://localhost:8080/"
        },
        "id": "n6ch8LQE70T9",
        "outputId": "55eb14a8-056e-4860-c5ba-f8797c94e9b1"
      },
      "execution_count": null,
      "outputs": [
        {
          "output_type": "stream",
          "name": "stdout",
          "text": [
            "{4, 5}\n"
          ]
        }
      ]
    },
    {
      "cell_type": "markdown",
      "source": [
        "Task8_Challenge_0429. 다음 요구 사항을 충족하는 프로그램을 작성하세요:\n",
        "\n",
        "- 사용자로부터 이름, 나이, 좋아하는 색상을 입력받습니다.\n",
        "- 입력받은 정보를 딕셔너리로 저장하고, 모든 사용자 정보를 리스트에 저장합니다.\n",
        "- 이름이 'John'인 사용자의 정보만 출력하세요.\n",
        "- 전체 사용자의 평균 나이를 계산하고 출력하세요.\n",
        "1. 사용자 데이터:\n",
        "- 이름: John\n",
        "- 나이: 28\n",
        "- 좋아하는 색상: Blue\n",
        "2. 사용자 데이터:\n",
        "- 이름: Alice\n",
        "- 나이: 24\n",
        "- 좋아하는 색상: Red\n",
        "3. 사용자 데이터:\n",
        "- 이름: Maria\n",
        "- 나이: 32\n",
        "- 좋아하는 색상: Green"
      ],
      "metadata": {
        "id": "4jqrkIkC7bW3"
      }
    },
    {
      "cell_type": "code",
      "source": [
        "# users=[]\n",
        "# name=input('이름')\n",
        "# age=int(input('나이'))\n",
        "# col=input('색상')\n",
        "# user={'이름':name, '나이':age, '색상':col}\n",
        "# print(user)\n",
        "# for user in users:\n",
        "#   if user['이름']=='John':\n",
        "#     print(user)\n"
      ],
      "metadata": {
        "colab": {
          "base_uri": "https://localhost:8080/"
        },
        "id": "TNvHJpuD7GPw",
        "outputId": "9dd17e43-a9a8-4931-c406-7ee6b575d2b8"
      },
      "execution_count": null,
      "outputs": [
        {
          "output_type": "stream",
          "name": "stdout",
          "text": [
            "이름John\n",
            "나이28\n",
            "색상Blue\n",
            "{'이름': 'John', '나이': 28, '색상': 'Blue'}\n"
          ]
        }
      ]
    },
    {
      "cell_type": "markdown",
      "source": [
        "re.split() 함수의 동작:\n",
        "- 주어진 문자열에서 공백, 쉼표, 마침표, 물음표, 느낌표를 포함하여 연속된 어떤 조합이라도 하나의 구분자로 취급하고, 이에 따라 문자열을 분리\n",
        "\n",
        "정규 표현식 구성 요소:\n",
        "- 대괄호([ ]): 대괄호는 문자 클래스를 만들며 대괄호 안에 포함된 어떤 문자와도 일치할 수 있다. 여기서는 공백( ), 쉼표(,), 마침표(.), 물음표(?), 느낌표(!)가 포함되어 있어 이 중 어떤 한 문자와도 일치할 수 있다.\n",
        "- 플러스 기호(+): 이 기호는 직전의 요소가 하나 이상 반복될 때 사용. 즉, `[ ,.?!]+`는 공백, 쉼표, 마침표, 물음표, 느낌표 중 하나 이상 연속된 시퀀스와 일치. 이를 통해 문자열을 분리할 때 하나의 구분자만이 아닌, 여러 구분자가 연속적으로 위치해 있는 경우에도 단일 구분점으로 취급할 수 있다."
      ],
      "metadata": {
        "id": "eAtWMvX8nvEY"
      }
    },
    {
      "cell_type": "markdown",
      "source": [
        "#### 파이썬에서 \"모든 것이 객체\"\n",
        "파이썬 내에서 데이터와 함수, 모듈, 클래스 등 모든 것이 객체로 취급된다는 것을 의미\n",
        "- 기본 데이터 타입(예: 정수, 실수, 문자열 등)을 포함하여 모든 데이터가 객체. 각 데이터 타입은 특정 클래스의 인스턴스로, 해당 데이터 타입의 메소드와 속성을 가진다. 예를 들어, 정수는 int 클래스의 인스턴스로, 여러 가지 메소드(예: bit_length(), __add__() 등)를 사용할 수 있습니다."
      ],
      "metadata": {
        "id": "lA94ayrTnyEY"
      }
    },
    {
      "cell_type": "markdown",
      "source": [
        "- 파이썬에서 함수도 객체로 취급. 이는 함수를 변수에 할당하거나, 다른 함수의 인자로 전달하거나, 리스트나 딕셔너리 같은 데이터 구조에 저장할 수 있음을 의미"
      ],
      "metadata": {
        "id": "2iY_6dvMnz4Y"
      }
    },
    {
      "cell_type": "markdown",
      "source": [
        "- 파이썬에서 클래스와 모듈 또한 객체. 클래스는 type의 인스턴스로, 메소드와 속성을 포함할 수 있다. 모듈도 객체로 취급되어, 모듈 내의 함수나 변수 등을 속성으로 가질 수 있다."
      ],
      "metadata": {
        "id": "q8nDTlhkn1b1"
      }
    },
    {
      "cell_type": "markdown",
      "source": [
        "type 함수가 반환하는 결과가 클래스 이름(예: <class 'list'>)으로 나오는 것은, 해당 객체가 해당 클래스의 인스턴스라는 것을 의미"
      ],
      "metadata": {
        "id": "OanZeR86n3oT"
      }
    },
    {
      "cell_type": "markdown",
      "source": [
        "dict_values 클래스의 이해:\n",
        "- 클래스 정의: 파이썬에서 클래스는 객체를 생성하는 데 사용되는 템플릿. dict_values는 딕셔너리의 값을 보여주는 뷰 객체를 생성하는 특별한 내장 클래스.\n",
        "- 뷰 객체: dict_values 객체는 딕셔너리의 값에 대한 동적인 뷰를 제공. \"뷰(view)\"란 원본 딕셔너리 객체의 값이 변하면 그 변화가 dict_values 객체에도 반영되는, 원본 데이터의 실시간 반영본을 의미. 이는 딕셔너리의 값들이 수정, 추가, 삭제될 때 dict_values 객체가 자동으로 업데이트된다는 의미.\n",
        "- 객체 인스턴스: dict_values 객체는 dict_values 클래스의 인스턴스. 이 클래스는 파이썬의 다른 모든 클래스처럼 특정 데이터 구조와 메서드를 가진다. 예를 들어, dict_values 객체는 순회 가능하며 (iterable), 딕셔너리의 모든 값을 순차적으로 접근할 수 있는 메서드를 제공."
      ],
      "metadata": {
        "id": "NDqeuXIVoOW0"
      }
    },
    {
      "cell_type": "code",
      "source": [
        "d['b'] = 100\n",
        "print(d)\n",
        "print(d.values())"
      ],
      "metadata": {
        "colab": {
          "base_uri": "https://localhost:8080/"
        },
        "id": "MkRSDiIFrDMk",
        "outputId": "86c4551a-5f81-4ac9-d6a5-6a6d0a445626"
      },
      "execution_count": 18,
      "outputs": [
        {
          "output_type": "stream",
          "name": "stdout",
          "text": [
            "{'b': 100}\n",
            "dict_values([100])\n"
          ]
        }
      ]
    },
    {
      "cell_type": "markdown",
      "source": [
        "#### 제어문 관련 키워드:\n",
        "- break: 현재의 반복문을 중단하고, 반복문 바깥의 코드를 실행\n",
        "- continue: 반복문의 나머지 부분을 건너뛰고, 다음 반복을 시작"
      ],
      "metadata": {
        "id": "mTCAAVWvoPVs"
      }
    },
    {
      "cell_type": "code",
      "source": [
        "\n",
        "for i in range(5):\n",
        "    if i == 3:\n",
        "        break\n",
        "    print(i,end='')\n",
        "print('\\n\\n')\n",
        "\n",
        "for i in range(5):\n",
        "    if i ==3:\n",
        "        continue\n",
        "    print(i,end='')"
      ],
      "metadata": {
        "colab": {
          "base_uri": "https://localhost:8080/"
        },
        "id": "NcEFFoynqV_j",
        "outputId": "2926e8d5-18c2-4054-a839-6a73c7a4a1a2"
      },
      "execution_count": 3,
      "outputs": [
        {
          "output_type": "stream",
          "name": "stdout",
          "text": [
            "012\n",
            "\n",
            "\n",
            "0124"
          ]
        }
      ]
    },
    {
      "cell_type": "code",
      "source": [
        "\n",
        "for i in range(10):\n",
        "    if i == 5:\n",
        "        break\n",
        "    print(i, end = ' ')\n",
        "print('\\n\\n\\n')\n",
        "for i in range(10):\n",
        "    if i % 2 ==0:\n",
        "        continue\n",
        "    print(i, end = ' ')"
      ],
      "metadata": {
        "colab": {
          "base_uri": "https://localhost:8080/"
        },
        "id": "UbuJlpTmqYiJ",
        "outputId": "4ac2b87f-9ab9-4583-e87a-093d8f70db67"
      },
      "execution_count": 4,
      "outputs": [
        {
          "output_type": "stream",
          "name": "stdout",
          "text": [
            "0 1 2 3 4 \n",
            "\n",
            "\n",
            "\n",
            "1 3 5 7 9 "
          ]
        }
      ]
    },
    {
      "cell_type": "code",
      "source": [
        "\n",
        "# for 또는 while 루프에 else 절을 사용하면, 루프가 정상적으로 완료된 후에 실행할 코드를 지정\n",
        "for i in range(5):\n",
        "    print(i, end=' ')\n",
        "else:\n",
        "    print('\\n루프 완\\n\\n\\n')\n",
        "\n",
        "count = 0\n",
        "while count < 5:\n",
        "    print(count, end = ' ')\n",
        "    count += 1\n",
        "else:\n",
        "    print('\\n루프 완')"
      ],
      "metadata": {
        "colab": {
          "base_uri": "https://localhost:8080/"
        },
        "id": "wWEUcpEYqa7F",
        "outputId": "ffce6086-ea1f-4180-ad94-53195bc5f65a"
      },
      "execution_count": 5,
      "outputs": [
        {
          "output_type": "stream",
          "name": "stdout",
          "text": [
            "0 1 2 3 4 \n",
            "루프 완\n",
            "\n",
            "\n",
            "\n",
            "0 1 2 3 4 \n",
            "루프 완\n"
          ]
        }
      ]
    },
    {
      "cell_type": "code",
      "source": [
        "\n",
        "#break 문을 사용하여 루프를 중단하면 else 절은 실행되지 않음\n",
        "for i in range(5):\n",
        "    if i == 3:\n",
        "        print(f'{i}에서 루프를 중단합니다.')\n",
        "        break\n",
        "else:\n",
        "    print('루프가 정상적으로 완료되었습니다')"
      ],
      "metadata": {
        "colab": {
          "base_uri": "https://localhost:8080/"
        },
        "id": "sOPsCfF8qcyR",
        "outputId": "d7f9b437-aa21-495e-cc89-82f92d5e69f9"
      },
      "execution_count": 6,
      "outputs": [
        {
          "output_type": "stream",
          "name": "stdout",
          "text": [
            "3에서 루프를 중단합니다.\n"
          ]
        }
      ]
    },
    {
      "cell_type": "markdown",
      "source": [
        "zip() 함수\n",
        "- 여러 개의 이터러블(리스트, 튜플 등)을 인자로 받아, 동일한 인덱스에 있는 요소들을 하나의 튜플로 묶어서 이터레이터를 반환\n",
        "- 데이터를 병렬로 처리할 때 유용"
      ],
      "metadata": {
        "id": "tNY_vmSfoSBB"
      }
    },
    {
      "cell_type": "code",
      "source": [
        "list1 = [1,2,3,4]\n",
        "list2 = ['a','b','c','d']\n",
        "\n",
        "zipped = zip(list1, list2)\n",
        "print(list(zipped))\n",
        ""
      ],
      "metadata": {
        "colab": {
          "base_uri": "https://localhost:8080/"
        },
        "id": "emL-miBIqlB4",
        "outputId": "1c07e90d-78f2-4fab-fe81-daa69b9ae2ba"
      },
      "execution_count": 7,
      "outputs": [
        {
          "output_type": "stream",
          "name": "stdout",
          "text": [
            "[(1, 'a'), (2, 'b'), (3, 'c'), (4, 'd')]\n"
          ]
        }
      ]
    },
    {
      "cell_type": "code",
      "source": [
        "\n",
        "# Q. 두 개의 리스트(이름과 성)를 사용하여 각 사람의 전체 이름을 생성하세요.\n",
        "first_names =[\"John\", \"Jane\",\"Corey\",\"Travis\"]\n",
        "last_names = [\"Doe\", \"Smith\", \"Turner\", \"Williams\"]\n",
        "\n",
        "comb = zip(first_names, last_names)\n",
        "comb_list = list(comb)\n",
        "\n",
        "for i in comb_list:\n",
        "    print(i[0],i[1])\n",
        ""
      ],
      "metadata": {
        "colab": {
          "base_uri": "https://localhost:8080/"
        },
        "id": "XB-WgIefqmLp",
        "outputId": "d71eaf72-a457-4a4b-c11c-0b47d0f6e487"
      },
      "execution_count": 8,
      "outputs": [
        {
          "output_type": "stream",
          "name": "stdout",
          "text": [
            "John Doe\n",
            "Jane Smith\n",
            "Corey Turner\n",
            "Travis Williams\n"
          ]
        }
      ]
    },
    {
      "cell_type": "code",
      "source": [
        "\n",
        "# 예시\n",
        "first_names =[\"John\", \"Jane\",\"Corey\",\"Travis\"]\n",
        "last_names = [\"Doe\", \"Smith\", \"Turner\", \"Williams\"]\n",
        "\n",
        "full_name = [first + \" \" + last for first, last in zip(first_names, last_names)]\n",
        "print(full_name)"
      ],
      "metadata": {
        "colab": {
          "base_uri": "https://localhost:8080/"
        },
        "id": "WZ74pAklqn-e",
        "outputId": "3fb7c169-0c5e-4a0d-a9f8-7b8542f33bc4"
      },
      "execution_count": 9,
      "outputs": [
        {
          "output_type": "stream",
          "name": "stdout",
          "text": [
            "['John Doe', 'Jane Smith', 'Corey Turner', 'Travis Williams']\n"
          ]
        }
      ]
    },
    {
      "cell_type": "code",
      "source": [
        "\n",
        "# Q. 학생들의 수학과 영어 점수를 각각의 리스트로 받아 평균 점수를 계산하세요.\n",
        "math_scores = [88,92,79,93,85]\n",
        "english_scores = [90,91,85,88,86]\n",
        "\n",
        "average_score = [(math + englisg) / 2 for math, englisg in zip(math_scores, english_scores)]\n",
        "print(average_score)"
      ],
      "metadata": {
        "colab": {
          "base_uri": "https://localhost:8080/"
        },
        "id": "hKseFNvMqpue",
        "outputId": "2fdeeed4-f29d-4c80-99cd-24ad9d6f2eee"
      },
      "execution_count": 10,
      "outputs": [
        {
          "output_type": "stream",
          "name": "stdout",
          "text": [
            "[89.0, 91.5, 82.0, 90.5, 85.5]\n"
          ]
        }
      ]
    },
    {
      "cell_type": "code",
      "source": [
        "\n",
        "# Q. 상품 이름과 가격이 각각 다른 리스트에 저장되어 있을 때, 상품명과 가격을 튜플로 묶어 출력하세요\n",
        "products = [\"apple\", \"banana\", \"cherry\"]\n",
        "prices = [1.2 , 0.5, 2.5]\n",
        "\n",
        "for product, price in zip(products, prices):\n",
        "    print(f'상품명: {product} \\n가격: {price}$')"
      ],
      "metadata": {
        "colab": {
          "base_uri": "https://localhost:8080/"
        },
        "id": "WbTUwqGpqrkh",
        "outputId": "f5a12fd9-099d-45f4-8d43-5d4d65ff4e06"
      },
      "execution_count": 11,
      "outputs": [
        {
          "output_type": "stream",
          "name": "stdout",
          "text": [
            "상품명: apple \n",
            "가격: 1.2$\n",
            "상품명: banana \n",
            "가격: 0.5$\n",
            "상품명: cherry \n",
            "가격: 2.5$\n"
          ]
        }
      ]
    },
    {
      "cell_type": "markdown",
      "source": [
        "#### 파이썬의 random 모듈\n",
        "난수를 생성하기 위한 다양한 함수를 제공\n",
        "- 기본 난수 생성:\n",
        "  - random.random(): 0과 1 사이의 무작위 부동소수점 숫자를 반환.\n",
        "- 범위 지정 난수 생성:\n",
        "  - random.randint(a, b): a와 b 사이의 무작위 정수를 반환(b 포함).\n",
        "  - random.randrange(start, stop[, step]): 지정된 범위에서 무작위 정수를 반환. step을 설정하여 수의 간격을 조정할 수 있다.\n",
        "- 시퀀스용 함수:\n",
        "  - random.choice(sequence): 주어진 시퀀스(리스트, 튜플 등)에서 무작위로 아이템을 선택하여 반환.\n",
        "  - random.shuffle(x[, random]): 리스트의 항목들을 무작위로 섞는다. random은 섞기를 위한 함수를 커스텀할 때 사용.\n",
        "  - random.sample(population, k): 주어진 시퀀스에서 무작위로 k개의 항목을 뽑아 새 리스트로 반환.\n",
        "- 분포 기반 난수 생성:\n",
        "  - random.uniform(a, b): a와 b 사이의 무작위 부동소수점 숫자를 균등 분포로 반환.\n",
        "  - random.gauss(mu, sigma): 평균 mu와 표준편차 sigma를 가지는 정규 분포에서 난수를 반환."
      ],
      "metadata": {
        "id": "eAsUii3uoSyi"
      }
    },
    {
      "cell_type": "code",
      "source": [
        "import random as rd\n",
        "\n",
        "print(rd.random())\n",
        "\n",
        "print(rd.randint(1,10))\n",
        "\n",
        "items = [1,2,3,4,5]\n",
        "print(rd.choice(items))\n",
        "\n",
        "rd.shuffle(items)\n",
        "print(items)\n",
        "\n",
        "mean = 0\n",
        "std_dev = 1\n",
        "\n",
        "print(rd.gauss(mean, std_dev))"
      ],
      "metadata": {
        "colab": {
          "base_uri": "https://localhost:8080/"
        },
        "id": "KJkNyOUhqxXL",
        "outputId": "6a0637e2-b91e-49ea-b24c-7e5ad4a0a086"
      },
      "execution_count": 12,
      "outputs": [
        {
          "output_type": "stream",
          "name": "stdout",
          "text": [
            "0.6074669945373308\n",
            "6\n",
            "3\n",
            "[4, 5, 1, 2, 3]\n",
            "0.8931337071493781\n"
          ]
        }
      ]
    },
    {
      "cell_type": "code",
      "source": [
        "\n",
        "from random import shuffle as sh\n",
        "# from ~~~ import ~~로 random.shuffle()같은걸 그냥 shuffle()로 줄여쓰기 가능\n",
        "male = ['철수','갑돌','로미오','이몽룡','온돌']\n",
        "sh(male)\n",
        "print(male)"
      ],
      "metadata": {
        "colab": {
          "base_uri": "https://localhost:8080/"
        },
        "id": "QXszKyoEqysp",
        "outputId": "a72fae56-b5c9-4c2b-e1cb-1f69859f3bfd"
      },
      "execution_count": 13,
      "outputs": [
        {
          "output_type": "stream",
          "name": "stdout",
          "text": [
            "['철수', '온돌', '갑돌', '로미오', '이몽룡']\n"
          ]
        }
      ]
    },
    {
      "cell_type": "markdown",
      "source": [
        "Task1_0430. 남녀 파트너 정해주기 프로그램(zip)\n",
        "\n",
        "같은 수의 남녀 모임에서 파트너를 랜덤하게 정해주는 프로그램을 만들어 보세요\n",
        "\n",
        "male = ['철수','갑돌','로미오','이몽룡','온돌']\n",
        "\n",
        "female = ['미미','갑순','줄리엣','성춘향','평강']"
      ],
      "metadata": {
        "id": "1Z9xFUp3ogym"
      }
    },
    {
      "cell_type": "code",
      "source": [
        "from random import shuffle"
      ],
      "metadata": {
        "id": "9agRVmqwvMlM"
      },
      "execution_count": 28,
      "outputs": []
    },
    {
      "cell_type": "code",
      "source": [
        "male = ['철수','갑돌','로미오','이몽룡','온돌']\n",
        "female = ['미미','갑순','줄리엣','성춘향','평강']\n",
        "\n",
        "shuffle(male)\n",
        "print(male)\n",
        "shuffle(female)\n",
        "print(female)\n",
        "couples=list(zip(male,female))\n",
        "print(couples)\n",
        "\n",
        "for i,couple in enumerate(couples):\n",
        "  print(f'커플{[i+1]}:{couple[0]},{couple[1]}')"
      ],
      "metadata": {
        "colab": {
          "base_uri": "https://localhost:8080/"
        },
        "id": "rCELGdV5oyYo",
        "outputId": "b7bba0b8-23c9-411d-f626-4d7f96de5545"
      },
      "execution_count": 31,
      "outputs": [
        {
          "output_type": "stream",
          "name": "stdout",
          "text": [
            "['갑돌', '온돌', '로미오', '철수', '이몽룡']\n",
            "['줄리엣', '평강', '성춘향', '미미', '갑순']\n",
            "[('갑돌', '줄리엣'), ('온돌', '평강'), ('로미오', '성춘향'), ('철수', '미미'), ('이몽룡', '갑순')]\n",
            "커플[1]:갑돌,줄리엣\n",
            "커플[2]:온돌,평강\n",
            "커플[3]:로미오,성춘향\n",
            "커플[4]:철수,미미\n",
            "커플[5]:이몽룡,갑순\n"
          ]
        }
      ]
    },
    {
      "cell_type": "markdown",
      "source": [
        "zip 함수는 이터레이터를 반환하고 이 이터레이터를 단 한번만 소비할 수 있음. list()함수를 사용하여 이터레이터의 모든 원소를 한번에 소비해 버리면, 그 결과는 빈 이터레이터가 되기 때문에 리스트로 다시 저장한 후 사용해야 됨."
      ],
      "metadata": {
        "id": "6uetJlHF487e"
      }
    },
    {
      "cell_type": "code",
      "source": [
        "shuffle(male)\n",
        "print(male)\n",
        "shuffle(female)\n",
        "print(female)\n",
        "couples=zip(male,female)\n",
        "print(list(couples))\n",
        "couples=zip(male,female)\n",
        "for i,couple in enumerate(couples):\n",
        "  print(f'커플{[i+1]}:{couple[0]},{couple[1]}')"
      ],
      "metadata": {
        "colab": {
          "base_uri": "https://localhost:8080/"
        },
        "id": "ggBb8u5A49pl",
        "outputId": "a00d01fe-82e9-483d-e379-7dff66e233a3"
      },
      "execution_count": 54,
      "outputs": [
        {
          "output_type": "stream",
          "name": "stdout",
          "text": [
            "['철수', '온돌', '갑돌', '이몽룡', '로미오']\n",
            "['갑순', '성춘향', '줄리엣', '평강', '미미']\n",
            "[('철수', '갑순'), ('온돌', '성춘향'), ('갑돌', '줄리엣'), ('이몽룡', '평강'), ('로미오', '미미')]\n",
            "커플[1]:철수,갑순\n",
            "커플[2]:온돌,성춘향\n",
            "커플[3]:갑돌,줄리엣\n",
            "커플[4]:이몽룡,평강\n",
            "커플[5]:로미오,미미\n"
          ]
        }
      ]
    },
    {
      "cell_type": "markdown",
      "source": [
        "Task2_0430. 대문자, 소문자, 숫자를 포함하는 8자리 랜덤 비밀번호를 생성하는 프로그램을 작성하세요."
      ],
      "metadata": {
        "id": "Rj2NdfwzojVw"
      }
    },
    {
      "cell_type": "code",
      "source": [
        "import random\n",
        "import string #문자열 상수를 제공하는 모듈로, 여기서는 알파벳 문자와 숫자를 포함\n",
        "\n",
        "characters=string.ascii_letters+string.digits #모든 소문자와 대문자 알파벳을 포함(a-z,A-Z).\n",
        "password=''.join(random.choice(characters)for i in range(8))\n",
        "print(\"랜덤 비밀번호:\",password)"
      ],
      "metadata": {
        "colab": {
          "base_uri": "https://localhost:8080/"
        },
        "id": "wYFWm6Btox_7",
        "outputId": "aadb5ae8-dc4d-4d34-99b3-b12c8afcf464"
      },
      "execution_count": 34,
      "outputs": [
        {
          "output_type": "stream",
          "name": "stdout",
          "text": [
            "랜덤 비밀번호: AhjX5RQb\n"
          ]
        }
      ]
    },
    {
      "cell_type": "code",
      "source": [
        "# 대문자,소문자,숫자가 한번씩은 반드시 포함되어야 하는 경우\n",
        "import random\n",
        "import string\n",
        "\n",
        "upper=random.choice(string.ascii_uppercase)\n",
        "lower=random.choice(string.ascii_uppercase)\n",
        "digit=random.choice(string.digits)\n",
        "\n",
        "characters=string.ascii_letters+string.digits  #모든 소문자와 대문자 알파벳을 포함(a-z, A-Z)\n",
        "rest=''.join(random.choice(characters)for i in range(5))\n",
        "# 모든 요소를 하나의 문자열로 합치기\n",
        "password=upper + lower + digit + rest\n",
        "# 비밀번호 임의로 섞기\n",
        "print(password)\n",
        "password=''.join(random.sample(password, len(password)))#선택할 시퀀스,선택할 요소\n",
        "print(\"랜덤 비밀번호:\",password)"
      ],
      "metadata": {
        "colab": {
          "base_uri": "https://localhost:8080/"
        },
        "id": "CHSqpJNE1JGC",
        "outputId": "4fc9005b-fb9d-4936-bf0a-ceac8800e292"
      },
      "execution_count": 41,
      "outputs": [
        {
          "output_type": "stream",
          "name": "stdout",
          "text": [
            "CI1UnMQx\n",
            "랜덤 비밀번호: 1MInCQxU\n"
          ]
        }
      ]
    },
    {
      "cell_type": "markdown",
      "source": [
        "Task3_0430. 발표자 수를 랜덤하게 출력하는 프로그램을 작성하세요.(발표자 수 입력)\n",
        "\n",
        "kita = ['김성현','황강민','윤호준','류윤선','이상협','박지환','최환욱','서보선','김한결','김도현','김하준',\n",
        "        '김도원','신현진','소지승','이범석','이현석','이명신','박윤경','이도헌','김홍준']"
      ],
      "metadata": {
        "id": "NZ8kWfknoj6K"
      }
    },
    {
      "cell_type": "code",
      "source": [
        "kita = ['김성현','황강민','윤호준','류윤선','이상협','박지환','최환욱','서보선','김한결','김도현','김하준', '김도원','신현진','소지승','이범석','이현석','이명신','박윤경','이도헌','김홍준']\n",
        "num=int(input('발표자 수 입력>'))\n",
        "ans=random.sample(kita,num) #중복 없이 요소를 선택\n",
        "print(ans)"
      ],
      "metadata": {
        "colab": {
          "base_uri": "https://localhost:8080/"
        },
        "id": "sF_PdvDsoxWO",
        "outputId": "56afed8b-59ec-4bbd-e722-1738ef2d89a4"
      },
      "execution_count": 45,
      "outputs": [
        {
          "output_type": "stream",
          "name": "stdout",
          "text": [
            "발표자 수 입력>5\n",
            "['신현진', '이명신', '이현석', '소지승', '김도원']\n"
          ]
        }
      ]
    },
    {
      "cell_type": "markdown",
      "source": [
        "Task4_0430. 사용자로부터 숫자를 입력받아 해당 숫자의 구구단을 출력하는 프로그램을 작성하세요."
      ],
      "metadata": {
        "id": "t2-_Eo_golZ9"
      }
    },
    {
      "cell_type": "code",
      "source": [
        "num=int(input('구구단을 출력할 숫자를 입력하세요:'))\n",
        "for i in range(1,10):\n",
        "  print(f'{num}x{i}={num*i}')"
      ],
      "metadata": {
        "colab": {
          "base_uri": "https://localhost:8080/"
        },
        "id": "Ra3t-OUfoxIs",
        "outputId": "0677382e-cf91-4f81-b16a-5b36c3f35d61"
      },
      "execution_count": 46,
      "outputs": [
        {
          "output_type": "stream",
          "name": "stdout",
          "text": [
            "구구단을 출력할 숫자를 입력하세요:8\n",
            "8x1=8\n",
            "8x2=16\n",
            "8x3=24\n",
            "8x4=32\n",
            "8x5=40\n",
            "8x6=48\n",
            "8x7=56\n",
            "8x8=64\n",
            "8x9=72\n"
          ]
        }
      ]
    },
    {
      "cell_type": "code",
      "source": [
        "#구구단을 전부 출력하세요\n",
        "for i in range(2, 10):\n",
        "    for j in range(1, 10):\n",
        "        print(f\"{i} * {j} = {i * j}\")\n",
        "    print('\\n')"
      ],
      "metadata": {
        "colab": {
          "base_uri": "https://localhost:8080/"
        },
        "id": "nfb7AohU7oEI",
        "outputId": "6b743f58-a23d-4696-f223-8e898e297447"
      },
      "execution_count": 59,
      "outputs": [
        {
          "output_type": "stream",
          "name": "stdout",
          "text": [
            "2 * 1 = 2\n",
            "2 * 2 = 4\n",
            "2 * 3 = 6\n",
            "2 * 4 = 8\n",
            "2 * 5 = 10\n",
            "2 * 6 = 12\n",
            "2 * 7 = 14\n",
            "2 * 8 = 16\n",
            "2 * 9 = 18\n",
            "\n",
            "\n",
            "3 * 1 = 3\n",
            "3 * 2 = 6\n",
            "3 * 3 = 9\n",
            "3 * 4 = 12\n",
            "3 * 5 = 15\n",
            "3 * 6 = 18\n",
            "3 * 7 = 21\n",
            "3 * 8 = 24\n",
            "3 * 9 = 27\n",
            "\n",
            "\n",
            "4 * 1 = 4\n",
            "4 * 2 = 8\n",
            "4 * 3 = 12\n",
            "4 * 4 = 16\n",
            "4 * 5 = 20\n",
            "4 * 6 = 24\n",
            "4 * 7 = 28\n",
            "4 * 8 = 32\n",
            "4 * 9 = 36\n",
            "\n",
            "\n",
            "5 * 1 = 5\n",
            "5 * 2 = 10\n",
            "5 * 3 = 15\n",
            "5 * 4 = 20\n",
            "5 * 5 = 25\n",
            "5 * 6 = 30\n",
            "5 * 7 = 35\n",
            "5 * 8 = 40\n",
            "5 * 9 = 45\n",
            "\n",
            "\n",
            "6 * 1 = 6\n",
            "6 * 2 = 12\n",
            "6 * 3 = 18\n",
            "6 * 4 = 24\n",
            "6 * 5 = 30\n",
            "6 * 6 = 36\n",
            "6 * 7 = 42\n",
            "6 * 8 = 48\n",
            "6 * 9 = 54\n",
            "\n",
            "\n",
            "7 * 1 = 7\n",
            "7 * 2 = 14\n",
            "7 * 3 = 21\n",
            "7 * 4 = 28\n",
            "7 * 5 = 35\n",
            "7 * 6 = 42\n",
            "7 * 7 = 49\n",
            "7 * 8 = 56\n",
            "7 * 9 = 63\n",
            "\n",
            "\n",
            "8 * 1 = 8\n",
            "8 * 2 = 16\n",
            "8 * 3 = 24\n",
            "8 * 4 = 32\n",
            "8 * 5 = 40\n",
            "8 * 6 = 48\n",
            "8 * 7 = 56\n",
            "8 * 8 = 64\n",
            "8 * 9 = 72\n",
            "\n",
            "\n",
            "9 * 1 = 9\n",
            "9 * 2 = 18\n",
            "9 * 3 = 27\n",
            "9 * 4 = 36\n",
            "9 * 5 = 45\n",
            "9 * 6 = 54\n",
            "9 * 7 = 63\n",
            "9 * 8 = 72\n",
            "9 * 9 = 81\n",
            "\n",
            "\n"
          ]
        }
      ]
    },
    {
      "cell_type": "code",
      "source": [
        "#구구단을 횡방향으로 출력하세요\n",
        "for i in range(1, 10):\n",
        "    for j in range(2, 10):\n",
        "        print(f\"{j} * {i} = {j * i}\", end=\"\\t\")\n",
        "    print()"
      ],
      "metadata": {
        "colab": {
          "base_uri": "https://localhost:8080/"
        },
        "id": "cGNkjDpW-hDh",
        "outputId": "07cef0c6-ba61-4db1-b801-2dde2f6a9b94"
      },
      "execution_count": 61,
      "outputs": [
        {
          "output_type": "stream",
          "name": "stdout",
          "text": [
            "2 * 1 = 2\t3 * 1 = 3\t4 * 1 = 4\t5 * 1 = 5\t6 * 1 = 6\t7 * 1 = 7\t8 * 1 = 8\t9 * 1 = 9\t\n",
            "2 * 2 = 4\t3 * 2 = 6\t4 * 2 = 8\t5 * 2 = 10\t6 * 2 = 12\t7 * 2 = 14\t8 * 2 = 16\t9 * 2 = 18\t\n",
            "2 * 3 = 6\t3 * 3 = 9\t4 * 3 = 12\t5 * 3 = 15\t6 * 3 = 18\t7 * 3 = 21\t8 * 3 = 24\t9 * 3 = 27\t\n",
            "2 * 4 = 8\t3 * 4 = 12\t4 * 4 = 16\t5 * 4 = 20\t6 * 4 = 24\t7 * 4 = 28\t8 * 4 = 32\t9 * 4 = 36\t\n",
            "2 * 5 = 10\t3 * 5 = 15\t4 * 5 = 20\t5 * 5 = 25\t6 * 5 = 30\t7 * 5 = 35\t8 * 5 = 40\t9 * 5 = 45\t\n",
            "2 * 6 = 12\t3 * 6 = 18\t4 * 6 = 24\t5 * 6 = 30\t6 * 6 = 36\t7 * 6 = 42\t8 * 6 = 48\t9 * 6 = 54\t\n",
            "2 * 7 = 14\t3 * 7 = 21\t4 * 7 = 28\t5 * 7 = 35\t6 * 7 = 42\t7 * 7 = 49\t8 * 7 = 56\t9 * 7 = 63\t\n",
            "2 * 8 = 16\t3 * 8 = 24\t4 * 8 = 32\t5 * 8 = 40\t6 * 8 = 48\t7 * 8 = 56\t8 * 8 = 64\t9 * 8 = 72\t\n",
            "2 * 9 = 18\t3 * 9 = 27\t4 * 9 = 36\t5 * 9 = 45\t6 * 9 = 54\t7 * 9 = 63\t8 * 9 = 72\t9 * 9 = 81\t\n"
          ]
        }
      ]
    },
    {
      "cell_type": "markdown",
      "source": [
        "f-string에서{}안에는 변수 분만 아니라 Python 표현식도 올 수 있음."
      ],
      "metadata": {
        "id": "TBdoq2VbGQAA"
      }
    },
    {
      "cell_type": "markdown",
      "source": [
        "표현식(Expression)\n",
        "- 하나 이상의 값, 변수, 연산자, 함수 호출 등을 조합하여 평가(evaluate)될 때 값을 생성하거나 반환하는 코드\n",
        "- 표현식은 계산되어 값이 되는 모든 것을 의미\n",
        "\n",
        "표현식의 예시:\n",
        "- 수치 계산: 2 + 3는 5라는 값을 반환\n",
        "- 문자열 조합: \"Hello \" + \"World\"는 \"Hello World\"라는 문자열을 생성\n",
        "- 논리 연산: x > 5는 x의 값에 따라 True 또는 False를 반환\n",
        "- 함수 호출: sum([1, 2, 3])은 리스트의 합인 6을 반환\n",
        "- 조건식: x if x > 0 else -x는 x가 양수면 x를, 음수면 -x를 반환"
      ],
      "metadata": {
        "id": "SbjNzpWkGZKR"
      }
    },
    {
      "cell_type": "code",
      "source": [
        "for i in range(2, 10):\n",
        "  print(f\"{' '*5}{i}단{' '*5}\", end='\\t')\n",
        "print()\n",
        "\n",
        "for i in range(2, 10):\n",
        "  print(\"=\"*12,end='\\t')\n",
        "print()\n",
        "\n",
        "for i in range(1, 10):\n",
        "    for j in range(2, 10):\n",
        "        print(f\"{j} * {i} = {j * i}\", end=\"\\t\")\n",
        "    print()\n"
      ],
      "metadata": {
        "colab": {
          "base_uri": "https://localhost:8080/"
        },
        "id": "QjWxLrapCvjJ",
        "outputId": "9fa8f5cc-d70f-4b54-96fc-31e15359660b"
      },
      "execution_count": 78,
      "outputs": [
        {
          "output_type": "stream",
          "name": "stdout",
          "text": [
            "     2단     \t     3단     \t     4단     \t     5단     \t     6단     \t     7단     \t     8단     \t     9단     \t\n",
            "============\t============\t============\t============\t============\t============\t============\t============\t\n",
            "2 * 1 = 2\t3 * 1 = 3\t4 * 1 = 4\t5 * 1 = 5\t6 * 1 = 6\t7 * 1 = 7\t8 * 1 = 8\t9 * 1 = 9\t\n",
            "2 * 2 = 4\t3 * 2 = 6\t4 * 2 = 8\t5 * 2 = 10\t6 * 2 = 12\t7 * 2 = 14\t8 * 2 = 16\t9 * 2 = 18\t\n",
            "2 * 3 = 6\t3 * 3 = 9\t4 * 3 = 12\t5 * 3 = 15\t6 * 3 = 18\t7 * 3 = 21\t8 * 3 = 24\t9 * 3 = 27\t\n",
            "2 * 4 = 8\t3 * 4 = 12\t4 * 4 = 16\t5 * 4 = 20\t6 * 4 = 24\t7 * 4 = 28\t8 * 4 = 32\t9 * 4 = 36\t\n",
            "2 * 5 = 10\t3 * 5 = 15\t4 * 5 = 20\t5 * 5 = 25\t6 * 5 = 30\t7 * 5 = 35\t8 * 5 = 40\t9 * 5 = 45\t\n",
            "2 * 6 = 12\t3 * 6 = 18\t4 * 6 = 24\t5 * 6 = 30\t6 * 6 = 36\t7 * 6 = 42\t8 * 6 = 48\t9 * 6 = 54\t\n",
            "2 * 7 = 14\t3 * 7 = 21\t4 * 7 = 28\t5 * 7 = 35\t6 * 7 = 42\t7 * 7 = 49\t8 * 7 = 56\t9 * 7 = 63\t\n",
            "2 * 8 = 16\t3 * 8 = 24\t4 * 8 = 32\t5 * 8 = 40\t6 * 8 = 48\t7 * 8 = 56\t8 * 8 = 64\t9 * 8 = 72\t\n",
            "2 * 9 = 18\t3 * 9 = 27\t4 * 9 = 36\t5 * 9 = 45\t6 * 9 = 54\t7 * 9 = 63\t8 * 9 = 72\t9 * 9 = 81\t\n"
          ]
        }
      ]
    },
    {
      "cell_type": "markdown",
      "source": [
        "Task5_0430. 사용자로부터 숫자를 입력받아 해당 숫자의 팩토리얼을 계산하세요."
      ],
      "metadata": {
        "id": "xE4VnLnKonXU"
      }
    },
    {
      "cell_type": "code",
      "source": [
        "num=int(input('팩토리얼을 계산할 숫자를 입력하세요'))\n",
        "factorial=1\n",
        "for i in range(1,num+1):\n",
        "  factorial *= i\n",
        "print(f\"{num}으 ㅣ팩토리얼은 {factorial}입니다.\")"
      ],
      "metadata": {
        "colab": {
          "base_uri": "https://localhost:8080/"
        },
        "id": "iPRQegzY_NXl",
        "outputId": "d6b28c7a-4058-43ac-bdc3-04055ee22245"
      },
      "execution_count": 79,
      "outputs": [
        {
          "output_type": "stream",
          "name": "stdout",
          "text": [
            "팩토리얼을 계산할 숫자를 입력하세요10\n",
            "10으 ㅣ팩토리얼은 3628800입니다.\n"
          ]
        }
      ]
    },
    {
      "cell_type": "markdown",
      "source": [
        "Task6_0430. 0부터 20까지의 숫자 중에서 짝수와 홀수를 분리하여 두 개의 리스트에 저장하세요."
      ],
      "metadata": {
        "id": "d2Rovg6kooj3"
      }
    },
    {
      "cell_type": "code",
      "source": [
        "num1=[]\n",
        "num2=[]\n",
        "for i in range(21):\n",
        "  if i % 2==0:\n",
        "    num1.append(i)\n",
        "  else:\n",
        "    num2.append(i)\n",
        "print(num1)\n",
        "print(num2)"
      ],
      "metadata": {
        "colab": {
          "base_uri": "https://localhost:8080/"
        },
        "id": "PcxpHYeYows_",
        "outputId": "ec2ac85a-99ea-4f34-d37d-0dc1484f054c"
      },
      "execution_count": 80,
      "outputs": [
        {
          "output_type": "stream",
          "name": "stdout",
          "text": [
            "[0, 2, 4, 6, 8, 10, 12, 14, 16, 18, 20]\n",
            "[1, 3, 5, 7, 9, 11, 13, 15, 17, 19]\n"
          ]
        }
      ]
    },
    {
      "cell_type": "markdown",
      "source": [
        "Task7_0430. 주어진 리스트에서 최대값을 찾아 출력하세요. \\\n",
        "number=[34,78,2,45,99,23]"
      ],
      "metadata": {
        "id": "rAqExmXjoqjn"
      }
    },
    {
      "cell_type": "code",
      "source": [
        "numbers=[34,78,2,45,99,23]\n",
        "max=0\n",
        "for i in numbers:\n",
        "  if i > max:\n",
        "    max=i\n",
        "\n",
        "print(max)"
      ],
      "metadata": {
        "colab": {
          "base_uri": "https://localhost:8080/"
        },
        "id": "d-37hw2fowaI",
        "outputId": "adc8dfa6-620c-46cb-8ca3-1ef9ba5404d2"
      },
      "execution_count": 82,
      "outputs": [
        {
          "output_type": "stream",
          "name": "stdout",
          "text": [
            "99\n"
          ]
        }
      ]
    },
    {
      "cell_type": "markdown",
      "source": [
        "Task8_0430.  1부터 10 사이의 임의의 숫자를 맞추는 게임을 만드세요. 사용자가 숫자를 맞출 때까지 입력을 계속 받으며, 정답을 맞추면 게임을 종료하세요."
      ],
      "metadata": {
        "id": "DlcmwcZUorFN"
      }
    },
    {
      "cell_type": "code",
      "source": [
        "#숫자 맞추기 게임\n",
        "import random\n",
        "target_number = random.randint(1,10)\n",
        "while True:\n",
        "  guess = int(input(\"1부터 10 사이의 숫자를 맞춰보세요:\"))\n",
        "  if guess > target_number:\n",
        "    print(\"더 작은 숫자입니다!\")\n",
        "  elif guess < target_number:\n",
        "    print(\"더 큰 숫자입니다!\")\n",
        "  else:\n",
        "    print(\"정답입니다!\")\n",
        "    break"
      ],
      "metadata": {
        "colab": {
          "base_uri": "https://localhost:8080/"
        },
        "id": "wVL6mk6WowCc",
        "outputId": "dab14b32-d0e0-4c5c-fd0e-31d0f8f357f0"
      },
      "execution_count": 85,
      "outputs": [
        {
          "output_type": "stream",
          "name": "stdout",
          "text": [
            "1부터 10 사이의 숫자를 맞춰보세요:7\n",
            "더 작은 숫자입니다!\n",
            "1부터 10 사이의 숫자를 맞춰보세요:5\n",
            "더 작은 숫자입니다!\n",
            "1부터 10 사이의 숫자를 맞춰보세요:3\n",
            "더 작은 숫자입니다!\n",
            "1부터 10 사이의 숫자를 맞춰보세요:1\n",
            "정답입니다!\n"
          ]
        }
      ]
    },
    {
      "cell_type": "markdown",
      "source": [
        "Task9_0430. 태어난 연도를 입력받아 띠를 출력하는 프로그램을 작성하세요."
      ],
      "metadata": {
        "id": "dpCNFwQtotGK"
      }
    },
    {
      "cell_type": "code",
      "source": [
        "birth_year=int(input('태어난 연도를 입력하세요:'))\n",
        "zodiacs=['쥐','소','호랑이','토끼','용','뱀','말','양','원숭이','닭','개','돼지']\n",
        "zodiac_index=(birth_year-1924)%12\n",
        "zodiac=zodiacs[zodiac_index]\n",
        "print(f\"{birth_year}년은 {zodiac}띠입니다\")"
      ],
      "metadata": {
        "colab": {
          "base_uri": "https://localhost:8080/"
        },
        "id": "FKcv9bQVovwA",
        "outputId": "641d2693-7695-4214-f115-fd8dbdd0c58b"
      },
      "execution_count": 89,
      "outputs": [
        {
          "output_type": "stream",
          "name": "stdout",
          "text": [
            "태어난 연도를 입력하세요:1968\n",
            "1968년은 원숭이띠입니다\n"
          ]
        }
      ]
    },
    {
      "cell_type": "code",
      "source": [
        "y=['원숭이','닭','개','돼지','쥐','소','호랑이','토끼','용','뱀','말','양']\n",
        "x=int(input('태어난 연도를 입력하세요:'))\n",
        "print(f'{y[x%12]}띠입니다.')"
      ],
      "metadata": {
        "colab": {
          "base_uri": "https://localhost:8080/"
        },
        "id": "iW2Jv1ewQr0q",
        "outputId": "658e3938-ce57-4b81-c582-0013e8e2b62b"
      },
      "execution_count": 93,
      "outputs": [
        {
          "output_type": "stream",
          "name": "stdout",
          "text": [
            "태어난 연도를 입력하세요:1968\n",
            "원숭이띠입니다.\n"
          ]
        }
      ]
    },
    {
      "cell_type": "markdown",
      "source": [
        "Task10_0430. 아래 사항을 반영하여 커피 자판기 프로그램을 작성하세요.\n",
        "- 시나리오 : 자판기 커피 재고 5잔, 커피 1잔 가격 300원, 재고 범위내에서 300원 이상 돈을 넣으면 거스름돈과 커피를 주고 그렇지 않으면 반환하며 재고가 소진되면 안내멘트 출력\n",
        "- 각 Case별 멘트 출력은 상황에 맞게 창작\n",
        "- while, if ~ elif ~ else 제어문을 사용하여 작성"
      ],
      "metadata": {
        "id": "OJGToNqXotkC"
      }
    },
    {
      "cell_type": "code",
      "source": [
        "coffee=5\n",
        "while True:\n",
        "  money=int(input('돈을 주시면 커피를 드립니다'))\n",
        "  if money==300:\n",
        "    print('커피를 맛있게 드세요')\n",
        "    coffee -=1\n",
        "  elif money >300:\n",
        "    print('거스름돈 %d원을 받으시고 커피를 맛있게 드세요'%(money-300))\n",
        "    coffee -=1\n",
        "  else:\n",
        "    print('금액이 부족하여 %d원을 반환합니다'%(money))\n",
        "  if coffee==0:\n",
        "    print('죄송합니다 커피가 다 소진되었습니다. 다음에 또 찾아주시길 바랍니다')\n",
        "    break\n"
      ],
      "metadata": {
        "colab": {
          "base_uri": "https://localhost:8080/",
          "height": 499
        },
        "id": "8JvhhPtcOaaM",
        "outputId": "aa0049fa-31f0-4392-c761-bf14f74ddef0"
      },
      "execution_count": 95,
      "outputs": [
        {
          "output_type": "stream",
          "name": "stdout",
          "text": [
            "돈을 주시면 커피를 드립니다300\n",
            "커피를 맛있게 드세요\n",
            "돈을 주시면 커피를 드립니다200\n",
            "금액이 부족하여 200원을 반환합니다\n",
            "돈을 주시면 커피를 드립니다5000\n",
            "거스름돈 4700원을 받으시고 커피를 맛있게 드세요\n"
          ]
        },
        {
          "output_type": "error",
          "ename": "KeyboardInterrupt",
          "evalue": "Interrupted by user",
          "traceback": [
            "\u001b[0;31m---------------------------------------------------------------------------\u001b[0m",
            "\u001b[0;31mKeyboardInterrupt\u001b[0m                         Traceback (most recent call last)",
            "\u001b[0;32m<ipython-input-95-13978efe8384>\u001b[0m in \u001b[0;36m<cell line: 2>\u001b[0;34m()\u001b[0m\n\u001b[1;32m      1\u001b[0m \u001b[0mcoffee\u001b[0m\u001b[0;34m=\u001b[0m\u001b[0;36m5\u001b[0m\u001b[0;34m\u001b[0m\u001b[0;34m\u001b[0m\u001b[0m\n\u001b[1;32m      2\u001b[0m \u001b[0;32mwhile\u001b[0m \u001b[0;32mTrue\u001b[0m\u001b[0;34m:\u001b[0m\u001b[0;34m\u001b[0m\u001b[0;34m\u001b[0m\u001b[0m\n\u001b[0;32m----> 3\u001b[0;31m   \u001b[0mmoney\u001b[0m\u001b[0;34m=\u001b[0m\u001b[0mint\u001b[0m\u001b[0;34m(\u001b[0m\u001b[0minput\u001b[0m\u001b[0;34m(\u001b[0m\u001b[0;34m'돈을 주시면 커피를 드립니다'\u001b[0m\u001b[0;34m)\u001b[0m\u001b[0;34m)\u001b[0m\u001b[0;34m\u001b[0m\u001b[0;34m\u001b[0m\u001b[0m\n\u001b[0m\u001b[1;32m      4\u001b[0m   \u001b[0;32mif\u001b[0m \u001b[0mmoney\u001b[0m\u001b[0;34m==\u001b[0m\u001b[0;36m300\u001b[0m\u001b[0;34m:\u001b[0m\u001b[0;34m\u001b[0m\u001b[0;34m\u001b[0m\u001b[0m\n\u001b[1;32m      5\u001b[0m     \u001b[0mprint\u001b[0m\u001b[0;34m(\u001b[0m\u001b[0;34m'커피를 맛있게 드세요'\u001b[0m\u001b[0;34m)\u001b[0m\u001b[0;34m\u001b[0m\u001b[0;34m\u001b[0m\u001b[0m\n",
            "\u001b[0;32m/usr/local/lib/python3.10/dist-packages/ipykernel/kernelbase.py\u001b[0m in \u001b[0;36mraw_input\u001b[0;34m(self, prompt)\u001b[0m\n\u001b[1;32m    849\u001b[0m                 \u001b[0;34m\"raw_input was called, but this frontend does not support input requests.\"\u001b[0m\u001b[0;34m\u001b[0m\u001b[0;34m\u001b[0m\u001b[0m\n\u001b[1;32m    850\u001b[0m             )\n\u001b[0;32m--> 851\u001b[0;31m         return self._input_request(str(prompt),\n\u001b[0m\u001b[1;32m    852\u001b[0m             \u001b[0mself\u001b[0m\u001b[0;34m.\u001b[0m\u001b[0m_parent_ident\u001b[0m\u001b[0;34m,\u001b[0m\u001b[0;34m\u001b[0m\u001b[0;34m\u001b[0m\u001b[0m\n\u001b[1;32m    853\u001b[0m             \u001b[0mself\u001b[0m\u001b[0;34m.\u001b[0m\u001b[0m_parent_header\u001b[0m\u001b[0;34m,\u001b[0m\u001b[0;34m\u001b[0m\u001b[0;34m\u001b[0m\u001b[0m\n",
            "\u001b[0;32m/usr/local/lib/python3.10/dist-packages/ipykernel/kernelbase.py\u001b[0m in \u001b[0;36m_input_request\u001b[0;34m(self, prompt, ident, parent, password)\u001b[0m\n\u001b[1;32m    893\u001b[0m             \u001b[0;32mexcept\u001b[0m \u001b[0mKeyboardInterrupt\u001b[0m\u001b[0;34m:\u001b[0m\u001b[0;34m\u001b[0m\u001b[0;34m\u001b[0m\u001b[0m\n\u001b[1;32m    894\u001b[0m                 \u001b[0;31m# re-raise KeyboardInterrupt, to truncate traceback\u001b[0m\u001b[0;34m\u001b[0m\u001b[0;34m\u001b[0m\u001b[0m\n\u001b[0;32m--> 895\u001b[0;31m                 \u001b[0;32mraise\u001b[0m \u001b[0mKeyboardInterrupt\u001b[0m\u001b[0;34m(\u001b[0m\u001b[0;34m\"Interrupted by user\"\u001b[0m\u001b[0;34m)\u001b[0m \u001b[0;32mfrom\u001b[0m \u001b[0;32mNone\u001b[0m\u001b[0;34m\u001b[0m\u001b[0;34m\u001b[0m\u001b[0m\n\u001b[0m\u001b[1;32m    896\u001b[0m             \u001b[0;32mexcept\u001b[0m \u001b[0mException\u001b[0m \u001b[0;32mas\u001b[0m \u001b[0me\u001b[0m\u001b[0;34m:\u001b[0m\u001b[0;34m\u001b[0m\u001b[0;34m\u001b[0m\u001b[0m\n\u001b[1;32m    897\u001b[0m                 \u001b[0mself\u001b[0m\u001b[0;34m.\u001b[0m\u001b[0mlog\u001b[0m\u001b[0;34m.\u001b[0m\u001b[0mwarning\u001b[0m\u001b[0;34m(\u001b[0m\u001b[0;34m\"Invalid Message:\"\u001b[0m\u001b[0;34m,\u001b[0m \u001b[0mexc_info\u001b[0m\u001b[0;34m=\u001b[0m\u001b[0;32mTrue\u001b[0m\u001b[0;34m)\u001b[0m\u001b[0;34m\u001b[0m\u001b[0;34m\u001b[0m\u001b[0m\n",
            "\u001b[0;31mKeyboardInterrupt\u001b[0m: Interrupted by user"
          ]
        }
      ]
    },
    {
      "cell_type": "code",
      "source": [
        "# Q 로또 번호 6개를 6세트 출력하는 코드를 작성하세요(중복안됨)\n",
        "import random\n",
        "for i in range(6):\n",
        "  lotto1=random.sample(range(1,46),6)\n",
        "  print(lotto1)"
      ],
      "metadata": {
        "colab": {
          "base_uri": "https://localhost:8080/"
        },
        "id": "CwIhs305Ro4q",
        "outputId": "c6ed786f-f26f-4051-9b46-2bee28905c27"
      },
      "execution_count": 105,
      "outputs": [
        {
          "output_type": "stream",
          "name": "stdout",
          "text": [
            "[13, 32, 41, 17, 45, 22]\n",
            "[37, 10, 27, 26, 39, 17]\n",
            "[37, 14, 31, 21, 19, 20]\n",
            "[18, 40, 43, 29, 26, 25]\n",
            "[13, 16, 12, 35, 33, 1]\n",
            "[40, 21, 39, 9, 4, 36]\n"
          ]
        }
      ]
    },
    {
      "cell_type": "code",
      "source": [
        "# Q n개 그룹으로 분류하는 코드를 작성하세요\n",
        "kita=['김성현','황강민','윤호준','류윤선','이상협','박지환','최환욱','서보선','김한결',\n",
        "        '김도현','김하준', '김도원','신현진','소지승','이범석','이현석','이명신','박윤경','이도헌','김홍준']\n",
        "\n",
        "n=int(input('그룹수를 입력하세요'))\n",
        "random.shuffle(kita)\n",
        "print(kita)\n",
        "groups=[kita[i::n]for i in range(n)]\n",
        "print(groups)\n",
        "for idx,group in enumerate(groups):\n",
        "  print(f'그룹{idx+1}:{group}')"
      ],
      "metadata": {
        "colab": {
          "base_uri": "https://localhost:8080/"
        },
        "id": "gP64bnSOTvsn",
        "outputId": "54fc64bd-7115-4de6-b779-11a2c1fa13eb"
      },
      "execution_count": 112,
      "outputs": [
        {
          "output_type": "stream",
          "name": "stdout",
          "text": [
            "그룹수를 입력하세요5\n",
            "['소지승', '이상협', '김성현', '최환욱', '이범석', '김하준', '이도헌', '김홍준', '김도원', '김도현', '류윤선', '신현진', '이명신', '서보선', '황강민', '이현석', '윤호준', '박지환', '박윤경', '김한결']\n",
            "[['소지승', '김하준', '류윤선', '이현석'], ['이상협', '이도헌', '신현진', '윤호준'], ['김성현', '김홍준', '이명신', '박지환'], ['최환욱', '김도원', '서보선', '박윤경'], ['이범석', '김도현', '황강민', '김한결']]\n",
            "그룹1:['소지승', '김하준', '류윤선', '이현석']\n",
            "그룹2:['이상협', '이도헌', '신현진', '윤호준']\n",
            "그룹3:['김성현', '김홍준', '이명신', '박지환']\n",
            "그룹4:['최환욱', '김도원', '서보선', '박윤경']\n",
            "그룹5:['이범석', '김도현', '황강민', '김한결']\n"
          ]
        }
      ]
    },
    {
      "cell_type": "code",
      "source": [
        "# Q 1부터 100까지의 정수중 5에서 95까지의 합을 구하세요\n",
        "# total = sum(range(5, 96))\n",
        "# print(\"5에서 95까지의 합:\", total)\n",
        "sum=0\n",
        "i=1\n",
        "while i <= 100:\n",
        "  if i >=5 and i <=95:\n",
        "    sum += i\n",
        "  i+=1\n",
        "print(sum)"
      ],
      "metadata": {
        "colab": {
          "base_uri": "https://localhost:8080/"
        },
        "id": "Qk0LIxBZT8oN",
        "outputId": "bcaebf2e-f404-4400-dd10-3508d7dc5a74"
      },
      "execution_count": 122,
      "outputs": [
        {
          "output_type": "stream",
          "name": "stdout",
          "text": [
            "4550\n"
          ]
        }
      ]
    },
    {
      "cell_type": "code",
      "source": [
        "# Q while문을 사용해서 1부터 1000까지의 정수 중 3과 5의 공배수의 합을 구해 보세요\n",
        "i=1\n",
        "sum=0\n",
        "while i <= 1000:\n",
        "  if i % 3==0 and i % 5==0:\n",
        "    sum += i\n",
        "  i += 1\n",
        "print(sum)"
      ],
      "metadata": {
        "colab": {
          "base_uri": "https://localhost:8080/"
        },
        "id": "9COFfzohUEUV",
        "outputId": "5e4385b4-2fc8-487c-bab2-14d2635154a8"
      },
      "execution_count": 125,
      "outputs": [
        {
          "output_type": "stream",
          "name": "stdout",
          "text": [
            "33165\n"
          ]
        }
      ]
    },
    {
      "cell_type": "code",
      "source": [
        "# Q 현재 시각을 오전과 오후로 구분하는 프로그램을 작성하세요\n",
        "import datetime\n",
        "import pytz\n",
        "tz=pytz.timezone('Asia/Seoul')\n",
        "now=datetime.datetime.now(tz)\n",
        "now_time=now.hour\n",
        "now_time #현재 시각\n",
        "if now_time >= 12:\n",
        "  print('오후입니다')\n",
        "else:\n",
        "  print('오전입니다')"
      ],
      "metadata": {
        "colab": {
          "base_uri": "https://localhost:8080/"
        },
        "id": "HDJHmlnNUMVY",
        "outputId": "72063007-7d9d-41db-954f-77d5bc4bb2c3"
      },
      "execution_count": 126,
      "outputs": [
        {
          "output_type": "stream",
          "name": "stdout",
          "text": [
            "오후입니다\n"
          ]
        }
      ]
    },
    {
      "cell_type": "code",
      "source": [
        "# 다양한 오류 입력에 대한 혀결 방안 추가 필요\n",
        "time=input(\"현재 시간을 입력하세요(ex. 15시 30분, 15시):\")\n",
        "\n",
        "if '시' not in  time:\n",
        "  print('형식에 맞춰 작성해 주세요')\n",
        "elif int(time.split('시')[0])>=0 and int(time.split('시')[0])<12:\n",
        "  print('오전입니다')\n",
        "elif int(time.split('시')[0])>=12 and int(time.split('시')[0])<24:\n",
        "  print('오후입니다')\n",
        "else:\n",
        "  print('시간을 다시 입력해 주세요')"
      ],
      "metadata": {
        "colab": {
          "base_uri": "https://localhost:8080/"
        },
        "id": "dvuqce-Cy65S",
        "outputId": "706fb4ac-fe52-4f63-da7f-b86e664a2fd6"
      },
      "execution_count": 131,
      "outputs": [
        {
          "output_type": "stream",
          "name": "stdout",
          "text": [
            "현재 시간을 입력하세요(ex. 15시 30분, 15시):15\n",
            "형식에 맞춰 작성해 주세요\n"
          ]
        }
      ]
    },
    {
      "cell_type": "markdown",
      "source": [
        "####POP 함수\n",
        "- 리스트와 같은 자료 구조에서 주로 사용되는 함수\n",
        "- 이 함수는 특정 인덱스에 위치한 요소를 리스트에서 제거하고 해당 요소를 반환"
      ],
      "metadata": {
        "id": "AhwFomCI3T9a"
      }
    },
    {
      "cell_type": "code",
      "source": [
        "fruits=['apple','banana','cherry','date']\n",
        "\n",
        "#인덱스 2의 요소 (cherry)를 제거하고 반환\n",
        "removed_fruit = fruits.pop(2)\n",
        "print(removed_fruit)\n",
        "print(fruits)\n",
        "\n",
        "#리스트의 마지막 요소 (date)를 제거하고 반환\n",
        "last_fruit=fruits.pop()\n",
        "print(last_fruit)\n",
        "print(fruits)"
      ],
      "metadata": {
        "colab": {
          "base_uri": "https://localhost:8080/"
        },
        "id": "m2Hh72aA1hzS",
        "outputId": "ac1be063-77f8-443e-af97-597e9f38892b"
      },
      "execution_count": 133,
      "outputs": [
        {
          "output_type": "stream",
          "name": "stdout",
          "text": [
            "cherry\n",
            "['apple', 'banana', 'date']\n",
            "date\n",
            "['apple', 'banana']\n"
          ]
        }
      ]
    },
    {
      "cell_type": "code",
      "source": [
        "# Q. 가위 바위 보 게임을 코딩을 프로그래밍 하세요."
      ],
      "metadata": {
        "id": "KvOB4tBU4Lkk"
      },
      "execution_count": null,
      "outputs": []
    },
    {
      "cell_type": "code",
      "source": [
        "import random\n",
        "\n",
        "def determine_winner(user_choice, computer_choice):\n",
        "    if user_choice == computer_choice:\n",
        "\n",
        "        return \"무승부\"\n",
        "    elif (user_choice == \"가위\" and computer_choice == \"보\") or \\\n",
        "         (user_choice == \"바위\" and computer_choice == \"가위\") or \\\n",
        "         (user_choice == \"보\" and computer_choice == \"바위\"):\n",
        "        return \"사용자 승리\"\n",
        "    else:\n",
        "        return \"컴퓨터 승리\"\n",
        "\n",
        "choices = [\"가위\", \"바위\", \"보\"]\n",
        "\n",
        "user_choice = input(\"가위, 바위, 보 중 하나를 선택하세요: \")\n",
        "while user_choice not in choices:\n",
        "    print(\"잘못된 입력입니다. 다시 입력하세요.\")\n",
        "    user_choice = input(\"가위, 바위, 보 중 하나를 선택하세요: \")\n",
        "\n",
        "computer_choice = random.choice(choices)\n",
        "\n",
        "print(f\"사용자: {user_choice}\")\n",
        "print(f\"컴퓨터: {computer_choice}\")\n",
        "\n",
        "winner = determine_winner(user_choice, computer_choice)\n",
        "print(winner)"
      ],
      "metadata": {
        "colab": {
          "base_uri": "https://localhost:8080/"
        },
        "id": "Mudhyep_82fN",
        "outputId": "f52d5146-1b8e-417b-8f58-c89f420b43fb"
      },
      "execution_count": 143,
      "outputs": [
        {
          "output_type": "stream",
          "name": "stdout",
          "text": [
            "가위, 바위, 보 중 하나를 선택하세요: 비\n",
            "잘못된 입력입니다. 다시 입력하세요.\n",
            "가위, 바위, 보 중 하나를 선택하세요: 보\n",
            "사용자: 보\n",
            "컴퓨터: 바위\n",
            "사용자 승리\n"
          ]
        }
      ]
    },
    {
      "cell_type": "code",
      "source": [],
      "metadata": {
        "id": "E1SMU_87CaHe"
      },
      "execution_count": null,
      "outputs": []
    }
  ]
}