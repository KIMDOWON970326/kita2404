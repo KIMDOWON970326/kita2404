{
  "nbformat": 4,
  "nbformat_minor": 0,
  "metadata": {
    "colab": {
      "provenance": []
    },
    "kernelspec": {
      "name": "python3",
      "display_name": "Python 3"
    },
    "language_info": {
      "name": "python"
    }
  },
  "cells": [
    {
      "cell_type": "markdown",
      "source": [
        "제어문(control statement)은 프로그램의 흐름을 제어하는데 사용\n",
        "\n",
        "#### 조건문 (Conditional Statements):\n",
        "- if: 특정 조건이 참(True)일 때 코드 블록을 실행\n",
        "    - 조건은 비교 연산자(==, !=, <, >, <=, >=)와 논리 연산자(and, or, not)를 사용하여 표현할 수 있다\n",
        "- elif: 이전의 if 또는 elif 조건이 거짓(False)일 때 다른 조건을 검사\n",
        "    - elif는 'else if'의 축약형으로, 이전 if 또는 elif 문의 조건이 거짓(False)일 때 다른 조건을 검사\n",
        "    - 여러 elif 문을 사용하여 다양한 조건을 검사할 수 있다\n",
        "- else:\n",
        "    - 이전의 if 또는 elif 문의 조건이 모두 거짓일 때 실행할 코드 블록을 지정"
      ],
      "metadata": {
        "id": "TfmxcqYi9Tn6"
      }
    },
    {
      "cell_type": "code",
      "execution_count": 2,
      "metadata": {
        "colab": {
          "base_uri": "https://localhost:8080/"
        },
        "id": "fykPKbpZ8xgt",
        "outputId": "2b20554f-246f-4afe-b44f-55e604c586de"
      },
      "outputs": [
        {
          "output_type": "stream",
          "name": "stdout",
          "text": [
            "x는 5보다  큽니다\n"
          ]
        }
      ],
      "source": [
        "x=10\n",
        "if x > 5:\n",
        "  print(\"x는 5보다  큽니다\")\n",
        "elif x==5:\n",
        "  print(\"x는 5입니다\")\n",
        "else:\n",
        "  print(\"x는 5보다 작습니다.\")"
      ]
    },
    {
      "cell_type": "code",
      "source": [
        "x=10\n",
        "if x >=5:\n",
        "  print('x는 5보다 크거나 같습니다')\n",
        "else:\n",
        "  print('x는 5보다 작습니다')"
      ],
      "metadata": {
        "colab": {
          "base_uri": "https://localhost:8080/"
        },
        "id": "LeCYQK9E_EJu",
        "outputId": "78125323-3f6f-4572-a04f-0f409ce6b2cb"
      },
      "execution_count": 3,
      "outputs": [
        {
          "output_type": "stream",
          "name": "stdout",
          "text": [
            "x는 5보다 크거나 같습니다\n"
          ]
        }
      ]
    },
    {
      "cell_type": "code",
      "source": [
        "# 각 조건이 서로 독립적일때 if문을 연속해서 사용\n",
        "x=10\n",
        "y=5\n",
        "\n",
        "if x>5:\n",
        "  print('x는 5보다 큽니다')\n",
        "if y<10:\n",
        "  print('y는 10보다 작습니다')\n",
        "if x>y:\n",
        "  print('x는 y보다 큽니다')"
      ],
      "metadata": {
        "colab": {
          "base_uri": "https://localhost:8080/"
        },
        "id": "QVnzVUu6SfIs",
        "outputId": "098f19cb-5b14-4fff-bfa0-d11e457788c3"
      },
      "execution_count": 4,
      "outputs": [
        {
          "output_type": "stream",
          "name": "stdout",
          "text": [
            "x는 5보다 큽니다\n",
            "y는 10보다 작습니다\n",
            "x는 y보다 큽니다\n"
          ]
        }
      ]
    },
    {
      "cell_type": "code",
      "source": [
        "x=10\n",
        "y=5\n",
        "\n",
        "if x>5:\n",
        "  if y>=3:\n",
        "    print('x는 5보다 크고 y는 3보다 크거나 같습니다')\n",
        "  else:\n",
        "    print('x는 5보다 크고 y는 3보다 작습니다')\n",
        "else:\n",
        "  print('x는 5보다 작거나 같습니다')"
      ],
      "metadata": {
        "colab": {
          "base_uri": "https://localhost:8080/"
        },
        "id": "natKC_8XTT4z",
        "outputId": "c288052b-0d21-43f0-ead3-ba87681d5b95"
      },
      "execution_count": 5,
      "outputs": [
        {
          "output_type": "stream",
          "name": "stdout",
          "text": [
            "x는 5보다 크고 y는 3보다 크거나 같습니다\n"
          ]
        }
      ]
    },
    {
      "cell_type": "code",
      "source": [
        "# Q. 이중 조건문을 사용하여 코드를 작성하세요(조건내용은 자유, 단, if문 if~elif~else 중첩하여 사용)\n",
        "# a=int(input('숫자'))\n",
        "# if a>80:\n",
        "#   print('비만')\n",
        "# elif a>60:\n",
        "#   print('정상')\n",
        "# elif a>40:\n",
        "#   print('저체')\n",
        "# else:\n",
        "#   print('소멸')\n",
        "\n",
        "# score=int(input('점수'))\n",
        "# if score<70:\n",
        "#   print('점수가 70점 미만입니다. 채점을 진행하지 않습니다.')\n",
        "# if score>=90:\n",
        "#   if score >=85:\n",
        "#     print('A+')\n",
        "#   else:\n",
        "#     print('A')\n",
        "# elif score >=80:\n",
        "#   if score >=85:\n",
        "#     print('B+')\n",
        "#   else:\n",
        "#     print('B')\n",
        "# elif score>=70:\n",
        "#   if score>=75:\n",
        "#     print('C+')\n",
        "#   else:\n",
        "#     print('C')\n",
        "\n",
        "score=int(input('점수'))\n",
        "if score<70:\n",
        "  print('점수가 70점 미만입니다. 채점을 진행하지 않습니다.')\n",
        "else:\n",
        "  if score>=90:\n",
        "    print('A')\n",
        "  elif score >=80:\n",
        "    print('B')\n",
        "  else:\n",
        "    print('C')"
      ],
      "metadata": {
        "colab": {
          "base_uri": "https://localhost:8080/"
        },
        "id": "L6D85QFRUgGS",
        "outputId": "272b204f-7d77-4a37-aae6-2322ff1b40ae"
      },
      "execution_count": 13,
      "outputs": [
        {
          "output_type": "stream",
          "name": "stdout",
          "text": [
            "점수60\n",
            "점수10\n",
            "점수가 70점 미만입니다. 채점을 진행하지 않습니다.\n"
          ]
        }
      ]
    },
    {
      "cell_type": "code",
      "source": [
        "# Q.listdata=['a','b','c']에서 조건문을 이용해서 아래와 같이 출력하세요\n",
        "a가 listdata에 있습니다\n",
        "b가 listdata에 있습니다\n",
        "c가 listdata에 있습니다"
      ],
      "metadata": {
        "id": "0aQLMx4VWaOa"
      },
      "execution_count": 8,
      "outputs": []
    },
    {
      "cell_type": "code",
      "source": [
        "listdata=['a','b','c']\n",
        "# if 'a'in listdata:\n",
        "#   print('a가 listdata에 있습니다')\n",
        "# if 'b'in listdata:\n",
        "#   print('b가 listdata에 있습니다')\n",
        "# if 'c'in listdata:\n",
        "#   print('c가 listdata에 있습니다')\n",
        "for i in listdata:\n",
        "  if i in listdata:\n",
        "    print(f'{i}가 listdata에 있습니다')"
      ],
      "metadata": {
        "colab": {
          "base_uri": "https://localhost:8080/"
        },
        "id": "OpT0zFshZPhC",
        "outputId": "9790b9c3-2cb2-44e0-9e80-cd1ff429355e"
      },
      "execution_count": 16,
      "outputs": [
        {
          "output_type": "stream",
          "name": "stdout",
          "text": [
            "a가 listdata에 있습니다\n",
            "b가 listdata에 있습니다\n",
            "c가 listdata에 있습니다\n"
          ]
        }
      ]
    },
    {
      "cell_type": "code",
      "source": [
        "# Q. 돈이 10000원 이상 있으면 있으면 택시를 타고 돈이 없으면 걸어간다 를 만족하는 조건문을 작성하세요"
      ],
      "metadata": {
        "id": "L3OiNXjjZfBO"
      },
      "execution_count": null,
      "outputs": []
    },
    {
      "cell_type": "code",
      "source": [
        "a=int(input('돈'))\n",
        "if a>=10000:    #만원 이상이 있으면 택시탑승\n",
        "  print('택시탑승')\n",
        "else:    #만원 미민이면 걸어가기\n",
        "  print('걷자')"
      ],
      "metadata": {
        "colab": {
          "base_uri": "https://localhost:8080/"
        },
        "id": "3JIRfpbsaxzj",
        "outputId": "2b9fd385-4b18-42f4-ba38-106112d52de6"
      },
      "execution_count": 18,
      "outputs": [
        {
          "output_type": "stream",
          "name": "stdout",
          "text": [
            "돈9999\n",
            "걷자\n"
          ]
        }
      ]
    },
    {
      "cell_type": "code",
      "source": [
        "# Q. 조건부 표현식을 한줄의 조건문으로 작성하세요.\n",
        "score=70\n",
        "if score>=60:\n",
        "  message='success'\n",
        "else:\n",
        "  message='failure'\n",
        "print(message)"
      ],
      "metadata": {
        "colab": {
          "base_uri": "https://localhost:8080/"
        },
        "id": "2Kq7s5GQbN55",
        "outputId": "d48b4b3c-564c-48e7-cee4-105c359e607b"
      },
      "execution_count": 25,
      "outputs": [
        {
          "output_type": "stream",
          "name": "stdout",
          "text": [
            "success\n"
          ]
        }
      ]
    },
    {
      "cell_type": "code",
      "source": [
        "score=70\n",
        "['success' if score >= 60 else 'failure']"
      ],
      "metadata": {
        "colab": {
          "base_uri": "https://localhost:8080/"
        },
        "id": "hncbCSf6f8Gd",
        "outputId": "33cd03e9-1064-40f5-9ca7-3340fb285095"
      },
      "execution_count": 24,
      "outputs": [
        {
          "output_type": "execute_result",
          "data": {
            "text/plain": [
              "['success']"
            ]
          },
          "metadata": {},
          "execution_count": 24
        }
      ]
    },
    {
      "cell_type": "code",
      "source": [
        "# Q.수입(income)과 지출금액(spend)을 비교해서 수입이 많으면 저축 증가, 반대이면 빚이 증가 프로그램 작성\n",
        "\n",
        "income=int(input('수입'))\n",
        "spend=int(input('지출'))\n",
        "if income > spend:\n",
        "  print('저축증가')\n",
        "elif income < spend:\n",
        "  print('채무증가')\n",
        "else:\n",
        "  print('현상유지')"
      ],
      "metadata": {
        "colab": {
          "base_uri": "https://localhost:8080/"
        },
        "id": "K3M2tysbgoKc",
        "outputId": "b84a63c6-b635-4892-9e88-ac8c909218cc"
      },
      "execution_count": 31,
      "outputs": [
        {
          "output_type": "stream",
          "name": "stdout",
          "text": [
            "수입1\n",
            "지출1\n",
            "현상유지\n"
          ]
        }
      ]
    },
    {
      "cell_type": "markdown",
      "source": [
        "#### 반복문 (Loop Statements):\n",
        "- for: 시퀀스(리스트, 튜플, 문자열 등)의 아이템을 순회하면서 코드 블록을 실행\n",
        "- while: 특정 조건이 참인 동안 코드 블록을 반복하여 실행"
      ],
      "metadata": {
        "id": "1E9ta6eih9lu"
      }
    },
    {
      "cell_type": "code",
      "source": [
        "for i in range(10):\n",
        "  print(i,end=' ')"
      ],
      "metadata": {
        "colab": {
          "base_uri": "https://localhost:8080/"
        },
        "id": "7ojmSwUpg25d",
        "outputId": "a5589f0f-52d0-4be1-8663-c2cd397151da"
      },
      "execution_count": 33,
      "outputs": [
        {
          "output_type": "stream",
          "name": "stdout",
          "text": [
            "0 1 2 3 4 5 6 7 8 9 "
          ]
        }
      ]
    },
    {
      "cell_type": "code",
      "source": [
        "# for 루프는 시퀀스(리스트,튜플,문자열 등)나 반복 가능한 객체(iterable)의 요소를 순회\n",
        "for i in range(5):\n",
        "  # print(i)\n",
        "  print(i,end=' ')\n",
        "print('\\n')\n",
        "count=0\n",
        "while count < 5:\n",
        "  print(count,end=' ')\n",
        "  count += 1"
      ],
      "metadata": {
        "colab": {
          "base_uri": "https://localhost:8080/"
        },
        "id": "eJTb9NJuikpQ",
        "outputId": "b80af466-64b0-4052-f4eb-36897a830e19"
      },
      "execution_count": 39,
      "outputs": [
        {
          "output_type": "stream",
          "name": "stdout",
          "text": [
            "0 1 2 3 4 \n",
            "\n",
            "0 1 2 3 4 "
          ]
        }
      ]
    },
    {
      "cell_type": "code",
      "source": [
        "# 리스트를 순회하는 예\n",
        "for i in [1,2,3,4,5]:\n",
        "  print(i,end=' ')\n",
        "print('\\n')\n",
        "# 문자열을 순회하는 예\n",
        "for char in \"hello\":\n",
        "  print(char,end=' ')"
      ],
      "metadata": {
        "colab": {
          "base_uri": "https://localhost:8080/"
        },
        "id": "gIgC9H3rjIVM",
        "outputId": "f2c4fe2d-da17-4f78-8881-0e89fa22d100"
      },
      "execution_count": 43,
      "outputs": [
        {
          "output_type": "stream",
          "name": "stdout",
          "text": [
            "1 2 3 4 5 \n",
            "\n",
            "h e l l o "
          ]
        }
      ]
    },
    {
      "cell_type": "code",
      "source": [
        "# while 루프는 주어진 조건이 참(True)인 동안 코드 블록을 반복\n",
        "# 조건이 거짓(False)이 되면 루프가 종료\n",
        "count=0\n",
        "sum=0\n",
        "while count <5:\n",
        "  sum += count\n",
        "  print(sum,end=' ')\n",
        "  count += 1"
      ],
      "metadata": {
        "colab": {
          "base_uri": "https://localhost:8080/"
        },
        "id": "QnYFK2tUlw12",
        "outputId": "1332ef5d-1c5b-4555-9c43-60f6bc937da5"
      },
      "execution_count": 47,
      "outputs": [
        {
          "output_type": "stream",
          "name": "stdout",
          "text": [
            "0 1 3 6 10 "
          ]
        }
      ]
    },
    {
      "cell_type": "code",
      "source": [
        "# Q. d에서 반복문을 사용하여 97 98 99을 출력하세요\n",
        "d={'a':97,'b':98,'c':99}\n",
        "for key in d:\n",
        "  print(d[key],end=' ')"
      ],
      "metadata": {
        "colab": {
          "base_uri": "https://localhost:8080/"
        },
        "id": "amMJ8WsVmgkQ",
        "outputId": "7f51840a-87f3-4583-f9b7-eba59187c0fe"
      },
      "execution_count": 49,
      "outputs": [
        {
          "output_type": "stream",
          "name": "stdout",
          "text": [
            "97 98 99 "
          ]
        }
      ]
    },
    {
      "cell_type": "code",
      "source": [
        "print(d.keys())\n",
        "print(type(d.keys()))"
      ],
      "metadata": {
        "colab": {
          "base_uri": "https://localhost:8080/"
        },
        "id": "vaOEmnn9nrKr",
        "outputId": "82f1e996-f57d-4c87-9027-605827425072"
      },
      "execution_count": 51,
      "outputs": [
        {
          "output_type": "stream",
          "name": "stdout",
          "text": [
            "dict_keys(['a', 'b', 'c'])\n",
            "<class 'dict_keys'>\n"
          ]
        }
      ]
    },
    {
      "cell_type": "code",
      "source": [
        "print(d.values())\n",
        "print(type(d.values()))"
      ],
      "metadata": {
        "colab": {
          "base_uri": "https://localhost:8080/"
        },
        "id": "b9YoO9QpsKWH",
        "outputId": "ea0f6db9-caf5-4bf7-f81c-1a8a67b898e2"
      },
      "execution_count": 52,
      "outputs": [
        {
          "output_type": "stream",
          "name": "stdout",
          "text": [
            "dict_values([97, 98, 99])\n",
            "<class 'dict_values'>\n"
          ]
        }
      ]
    },
    {
      "cell_type": "markdown",
      "source": [
        "Task1_0429. input_str을 아래와 같이 단어로 분리하여 출력하세요.\n",
        "\n",
        "input_str = \"Hello, world! How are you today? I am fine. Thank you!\"\n",
        "\n",
        "['Hello', 'world', 'How', 'are', 'you', 'today', 'I', 'am', 'fine', 'Thank', 'you', '']"
      ],
      "metadata": {
        "id": "Bay_mrkn6-ux"
      }
    },
    {
      "cell_type": "code",
      "source": [
        "input_str = \"Hello, world! How are you today? I am fine. Thank you!\"\n",
        "print(input_str.split(), end=' ')"
      ],
      "metadata": {
        "colab": {
          "base_uri": "https://localhost:8080/"
        },
        "id": "OXcODAxPsbjs",
        "outputId": "1bf4e90c-c5fc-49b9-ddbd-8133f6c790c2"
      },
      "execution_count": 53,
      "outputs": [
        {
          "output_type": "stream",
          "name": "stdout",
          "text": [
            "['Hello,', 'world!', 'How', 'are', 'you', 'today?', 'I', 'am', 'fine.', 'Thank', 'you!'] "
          ]
        }
      ]
    },
    {
      "cell_type": "markdown",
      "source": [
        "Task2_0429. 십진수 122를 2진수, 8진수, 16진수로 변경하여 출력하세요."
      ],
      "metadata": {
        "id": "Dv_LMT7c7IhA"
      }
    },
    {
      "cell_type": "code",
      "source": [
        "# f1=0b1111010 #2진수\n",
        "# f2=0o172 #8진수\n",
        "# f3=0x7a #16진수\n",
        "# print(f1)\n",
        "# print(f2)\n",
        "# print(f3)\n",
        "a=122\n",
        "b=bin(a)\n",
        "print(b)\n",
        "o=oct(a)\n",
        "print(o)\n",
        "h=hex(a)\n",
        "print(h)"
      ],
      "metadata": {
        "colab": {
          "base_uri": "https://localhost:8080/"
        },
        "id": "XcSsGGG-7nM0",
        "outputId": "935458e6-f7d0-47fa-b316-63178e561121"
      },
      "execution_count": 63,
      "outputs": [
        {
          "output_type": "stream",
          "name": "stdout",
          "text": [
            "0b1111010\n",
            "0o172\n",
            "0x7a\n"
          ]
        }
      ]
    },
    {
      "cell_type": "markdown",
      "source": [
        "Task3_0429. 두 수의 곱셈 결과를 계산하고, 그 결과에 10을 더하세요."
      ],
      "metadata": {
        "id": "9N0OKBxT7T4m"
      }
    },
    {
      "cell_type": "code",
      "source": [
        "num1=int(input('첫번째 숫자'))\n",
        "num2=int(input('두번째 숫자'))\n",
        "f1 = num1 * num2\n",
        "f2 = f1 + 10\n",
        "print(f'곱하고 더하기10한 수는 {f2}')"
      ],
      "metadata": {
        "colab": {
          "base_uri": "https://localhost:8080/"
        },
        "id": "WTi8mbfF7pA2",
        "outputId": "4a0ad80f-69c2-485a-9637-02091021dac1"
      },
      "execution_count": 55,
      "outputs": [
        {
          "output_type": "stream",
          "name": "stdout",
          "text": [
            "첫번째 숫자1\n",
            "두번째 숫자2\n",
            "곱하고 더하기10한 수는 12\n"
          ]
        }
      ]
    },
    {
      "cell_type": "markdown",
      "source": [
        "Task4_0429. 주어진 리스트에서 두 번째 요소를 삭제하고, 마지막에 새로운 요소 'Python'을 추가하세요.\n",
        "\n",
        "리스트: ['Java', 'C', 'JavaScript']"
      ],
      "metadata": {
        "id": "B5JFBuEQ7ViG"
      }
    },
    {
      "cell_type": "code",
      "source": [
        "list1=['Java', 'C', 'JavaScript']\n",
        "del list1[1]\n",
        "list1.append('Python')\n",
        "print(list1)"
      ],
      "metadata": {
        "colab": {
          "base_uri": "https://localhost:8080/"
        },
        "id": "HoLf5fa_7s10",
        "outputId": "946f6874-1bcd-4a83-c02c-e653464a409d"
      },
      "execution_count": 56,
      "outputs": [
        {
          "output_type": "stream",
          "name": "stdout",
          "text": [
            "['Java', 'JavaScript', 'Python']\n"
          ]
        }
      ]
    },
    {
      "cell_type": "markdown",
      "source": [
        "Task5_0429. 주어진 문자열에서 처음 세 글자와 마지막 세 글자를 연결하여 새로운 문자열을 만드세요.\n",
        "\n",
        "문자열: 'Incredible'"
      ],
      "metadata": {
        "id": "HDvsM8bu7Wt4"
      }
    },
    {
      "cell_type": "code",
      "source": [
        "a='Incredible'\n",
        "b=a[:3]\n",
        "# print(b)\n",
        "c=a[-3:]\n",
        "# print(c)\n",
        "d=b+c\n",
        "print(d)"
      ],
      "metadata": {
        "colab": {
          "base_uri": "https://localhost:8080/"
        },
        "id": "np_wQeSs7vPT",
        "outputId": "8e98eec9-8ad5-479b-dff4-072f3bd39253"
      },
      "execution_count": 57,
      "outputs": [
        {
          "output_type": "stream",
          "name": "stdout",
          "text": [
            "Incble\n"
          ]
        }
      ]
    },
    {
      "cell_type": "markdown",
      "source": [
        "Task6_0429. 사용자의 이름과 이메일을 딕셔너리로 저장하고, 이름을 입력받아 해당하는 이메일을 출력하세요.\n",
        "\n",
        "사용자 정보: 이름 - 'Alice', 이메일 - 'alice@example.com'"
      ],
      "metadata": {
        "id": "FYmOE-fP7Y7X"
      }
    },
    {
      "cell_type": "code",
      "source": [
        "name=input('이름입력')\n",
        "user1={'Alice':'alice@example.com'}\n",
        "if name in user1:\n",
        "  print(user1[name])\n",
        "else:\n",
        "  print('사용자 없음')"
      ],
      "metadata": {
        "colab": {
          "base_uri": "https://localhost:8080/"
        },
        "id": "MNrBR8hK7xMr",
        "outputId": "52f0d326-29dd-45b4-d4bb-51c0aa2257cf"
      },
      "execution_count": 58,
      "outputs": [
        {
          "output_type": "stream",
          "name": "stdout",
          "text": [
            "이름입력Alice\n",
            "alice@example.com\n"
          ]
        }
      ]
    },
    {
      "cell_type": "markdown",
      "source": [
        "Task7_0429. 주어진 두 튜플에서 공통 요소만을 찾아 집합으로 만드세요.\n",
        "\n",
        "튜플: (1, 2, 3, 4, 5)와 (4, 5, 6, 7, 8)"
      ],
      "metadata": {
        "id": "svaNWBEa7Zm-"
      }
    },
    {
      "cell_type": "code",
      "source": [
        "a=(1, 2, 3, 4, 5)\n",
        "b=(4, 5, 6, 7, 8)\n",
        "c=set(a)\n",
        "d=set(b)\n",
        "print(c&d)"
      ],
      "metadata": {
        "colab": {
          "base_uri": "https://localhost:8080/"
        },
        "id": "n6ch8LQE70T9",
        "outputId": "55eb14a8-056e-4860-c5ba-f8797c94e9b1"
      },
      "execution_count": 59,
      "outputs": [
        {
          "output_type": "stream",
          "name": "stdout",
          "text": [
            "{4, 5}\n"
          ]
        }
      ]
    },
    {
      "cell_type": "markdown",
      "source": [
        "Task8_Challenge_0429. 다음 요구 사항을 충족하는 프로그램을 작성하세요:\n",
        "\n",
        "- 사용자로부터 이름, 나이, 좋아하는 색상을 입력받습니다.\n",
        "- 입력받은 정보를 딕셔너리로 저장하고, 모든 사용자 정보를 리스트에 저장합니다.\n",
        "- 이름이 'John'인 사용자의 정보만 출력하세요.\n",
        "- 전체 사용자의 평균 나이를 계산하고 출력하세요.\n",
        "1. 사용자 데이터:\n",
        "- 이름: John\n",
        "- 나이: 28\n",
        "- 좋아하는 색상: Blue\n",
        "2. 사용자 데이터:\n",
        "- 이름: Alice\n",
        "- 나이: 24\n",
        "- 좋아하는 색상: Red\n",
        "3. 사용자 데이터:\n",
        "- 이름: Maria\n",
        "- 나이: 32\n",
        "- 좋아하는 색상: Green"
      ],
      "metadata": {
        "id": "4jqrkIkC7bW3"
      }
    },
    {
      "cell_type": "code",
      "source": [
        "users=[]\n",
        "name=input('이름')\n",
        "age=int(input('나이'))\n",
        "col=input('색상')\n",
        "user={'이름':name, '나이':age, '색상':col}\n",
        "print(user)\n",
        "for user in users:\n",
        "  if user['이름']=='John':\n",
        "    print(user)\n"
      ],
      "metadata": {
        "colab": {
          "base_uri": "https://localhost:8080/"
        },
        "id": "TNvHJpuD7GPw",
        "outputId": "9dd17e43-a9a8-4931-c406-7ee6b575d2b8"
      },
      "execution_count": 60,
      "outputs": [
        {
          "output_type": "stream",
          "name": "stdout",
          "text": [
            "이름John\n",
            "나이28\n",
            "색상Blue\n",
            "{'이름': 'John', '나이': 28, '색상': 'Blue'}\n"
          ]
        }
      ]
    }
  ]
}