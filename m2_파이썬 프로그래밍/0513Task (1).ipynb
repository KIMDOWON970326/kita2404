{
  "nbformat": 4,
  "nbformat_minor": 0,
  "metadata": {
    "colab": {
      "provenance": []
    },
    "kernelspec": {
      "name": "python3",
      "display_name": "Python 3"
    },
    "language_info": {
      "name": "python"
    }
  },
  "cells": [
    {
      "cell_type": "markdown",
      "source": [
        "Task1_0513 클래스 구성 요소와 관련 아래 사항에 대한 사례를 작성하세요.\n",
        "- 클래스 선언\n",
        "- 생성자\n",
        "- 속성(attributes)\n",
        "- 메서드\n",
        "- 상속\n",
        "- 인스턴스화(객체 만들기)\n",
        "- 클래스 변수\n",
        "- 매직 메서드(특수 메서드)"
      ],
      "metadata": {
        "id": "CsPUWKesBMeR"
      }
    },
    {
      "cell_type": "code",
      "execution_count": 12,
      "metadata": {
        "id": "cJbqtGchBE_c",
        "colab": {
          "base_uri": "https://localhost:8080/"
        },
        "outputId": "63dbc6fa-4249-44a5-d3a8-16244ddf7ef9"
      },
      "outputs": [
        {
          "output_type": "stream",
          "name": "stdout",
          "text": [
            "MyHome\n",
            "8500\n",
            "나는오발탄을 8500원 주고 샀다\n",
            "오발탄 by 이범선\n"
          ]
        }
      ],
      "source": [
        "class Book:\n",
        "  def __init__(self,title,author):\n",
        "    self.title=title\n",
        "    self.author=author\n",
        "  def __str__(self):\n",
        "    return f\"{self.title} by {self.author}\"\n",
        "\n",
        "class MyBook(Book):\n",
        "  location = 'MyHome'\n",
        "  def __init__(self,title,author,price):\n",
        "    super().__init__(title,author)\n",
        "    self.price=price\n",
        "  def how_much(self):\n",
        "    return f\"나는{self.title}을 {self.price}원 주고 샀다\"\n",
        "b1=MyBook(\"오발탄\",\"이범선\",\"8500\")\n",
        "\n",
        "print(b1.location)\n",
        "print(b1.price)\n",
        "print(b1.how_much())\n",
        "print(b1)"
      ]
    },
    {
      "cell_type": "markdown",
      "source": [
        "Task2_0513. 두개의 수를 입력한 후 두개의 수에 대한 사칙연산을 수행하세요.(0을 입력한 경우 다시 입력하도록 조치)"
      ],
      "metadata": {
        "id": "pGAtIMEEBNf_"
      }
    },
    {
      "cell_type": "code",
      "source": [
        "class Cal4:\n",
        "  def __init__(self,first,second):\n",
        "    self.first=first\n",
        "    self.second=second\n",
        "  def sum(self):\n",
        "    result = self.first + self.second\n",
        "    return result\n",
        "  def sub(self):\n",
        "    result = self.first - self.second\n",
        "    return result\n",
        "  def mul(self):\n",
        "    result = self.first * self.second\n",
        "    return result\n",
        "  def div(self):\n",
        "    result = self.first / self.second\n",
        "    return result\n",
        "\n",
        "while True:\n",
        "    first = int(input(\"첫 번째 수를 입력하세요: \"))\n",
        "    second = int(input(\"두 번째 수를 입력하세요: \"))\n",
        "    if first == 0 or second == 0:\n",
        "      print('0이 아닌 수를 입력하세요')\n",
        "    else:\n",
        "      cal=Cal4(first,second)\n",
        "      print(f\"덧셈:{cal.sum()},뺄셈:{cal.sub()},곱셈:{cal.mul()},나눗셈:{cal.div()}\")\n",
        "      break"
      ],
      "metadata": {
        "id": "lsvaczmcBQAw",
        "colab": {
          "base_uri": "https://localhost:8080/"
        },
        "outputId": "17d79a27-4325-4add-d5b0-2847f417f345"
      },
      "execution_count": 15,
      "outputs": [
        {
          "output_type": "stream",
          "name": "stdout",
          "text": [
            "첫 번째 수를 입력하세요: 5\n",
            "두 번째 수를 입력하세요: 5\n",
            "덧셈:10,뺄셈:0,곱셈:25,나눗셈:1.0\n"
          ]
        }
      ]
    },
    {
      "cell_type": "markdown",
      "source": [
        "Task3_0513. 파이썬 오버라이딩, 오버로딩, 다형성의 사례를 만들어 보세요."
      ],
      "metadata": {
        "id": "SGPaDWH3BQQY"
      }
    },
    {
      "cell_type": "code",
      "source": [
        "class Robot:\n",
        "  def __init__(self,name):\n",
        "    self.name=name\n",
        "    print(f\"안녕! 나는 {self.name}이야\")\n",
        "  def helping(self):\n",
        "    print(\"도움을 드릴 수 있습니다\")\n",
        "class ServingRobot(Robot):\n",
        "  # 오버라이딩\n",
        "  def helping(self):\n",
        "    print(\"음식을 가져다 드릴 수 있습니다\")\n",
        "  def move(self,table):\n",
        "    print(f\"{table}번 테이블로 음식을 가져다드렸습니다\")\n",
        "class CleaningRobot(Robot):\n",
        "  # 유사 오버로딩\n",
        "  def helping(self,how='청소기'):\n",
        "    print(f\"{how}로 청소를 합니다\")\n",
        "# 다형성\n",
        "def robot_mode(robot):\n",
        "  robot.helping()\n",
        "#  객체 생성\n",
        "robobo=ServingRobot('robobo')\n",
        "roboti=CleaningRobot('roboti')\n",
        "# 오버라이딩 사용\n",
        "robobo.helping()\n",
        "# 오버로딩 사용\n",
        "roboti.helping('물걸레')\n",
        "# 다형성을 통한 메서드 호출\n",
        "robot_mode(robobo)\n",
        "robot_mode(roboti)"
      ],
      "metadata": {
        "id": "k-BGIDhaBSsl",
        "colab": {
          "base_uri": "https://localhost:8080/"
        },
        "outputId": "08ba62b2-7459-4779-ae7a-91f1c745d968"
      },
      "execution_count": 16,
      "outputs": [
        {
          "output_type": "stream",
          "name": "stdout",
          "text": [
            "안녕! 나는 robobo이야\n",
            "안녕! 나는 roboti이야\n",
            "음식을 가져다 드릴 수 있습니다\n",
            "물걸레로 청소를 합니다\n",
            "음식을 가져다 드릴 수 있습니다\n",
            "청소기로 청소를 합니다\n"
          ]
        }
      ]
    },
    {
      "cell_type": "code",
      "source": [],
      "metadata": {
        "id": "Y5vl7VTlkU0G"
      },
      "execution_count": null,
      "outputs": []
    }
  ]
}