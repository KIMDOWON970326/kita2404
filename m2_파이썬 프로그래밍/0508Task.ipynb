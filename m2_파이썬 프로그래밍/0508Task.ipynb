{
  "nbformat": 4,
  "nbformat_minor": 0,
  "metadata": {
    "colab": {
      "provenance": []
    },
    "kernelspec": {
      "name": "python3",
      "display_name": "Python 3"
    },
    "language_info": {
      "name": "python"
    }
  },
  "cells": [
    {
      "cell_type": "markdown",
      "source": [
        "Task1_0508. title() 함수를 사용하지 않고 동일한 결과를 출력하세요."
      ],
      "metadata": {
        "id": "FhgN0v0WPhe7"
      }
    },
    {
      "cell_type": "code",
      "execution_count": null,
      "metadata": {
        "id": "46imbIqGO4JE"
      },
      "outputs": [],
      "source": []
    },
    {
      "cell_type": "code",
      "source": [
        "# Q 영어 이름을 적으면 앞에 글자를 대문자로 바꾸어 주는 프로그램\n",
        "# 단 중간에 한간씩 띄어주어야 함 ex)hong gil dong > Hpng Gil Dong\n",
        "wjname=input(\"이름을 영어로 입력하세요: \")\n",
        "txt=wjname.title()\n",
        "print(f\"당신의 이름을 바꾸면{txt}입니다\")"
      ],
      "metadata": {
        "id": "JNrO7SS9J4q5"
      },
      "execution_count": null,
      "outputs": []
    },
    {
      "cell_type": "markdown",
      "source": [
        "Task2_0507. join 함수를 이용해서 ['a','b','c']을 아래와 같이 출력하세요.\n",
        "\n",
        "a::b::c"
      ],
      "metadata": {
        "id": "T6ZnHJBgPjJu"
      }
    },
    {
      "cell_type": "code",
      "source": [
        "list1=['a','b','c']\n",
        "a='::'\n",
        "list2=a.join(list1)\n",
        "print(list2)"
      ],
      "metadata": {
        "colab": {
          "base_uri": "https://localhost:8080/"
        },
        "id": "jYw1QIpfPlg1",
        "outputId": "ace62e23-ca2c-4cdd-bf8a-6e9c74fe9673"
      },
      "execution_count": 14,
      "outputs": [
        {
          "output_type": "stream",
          "name": "stdout",
          "text": [
            "a::b::c\n"
          ]
        }
      ]
    },
    {
      "cell_type": "markdown",
      "source": [
        "Task3_0508. 다음을 수행하세요.\n",
        "- 사용자로부터 문자열을 입력받습니다.\n",
        "- 입력받은 문자열이 숫자로만 이루어져 있는지 확인합니다.\n",
        "- 만약 숫자로만 이루어져 있다면, 그 숫자를 정수로 변환하여 100을 더한 결과를 출력합니다.\n",
        "- 숫자가 아닌 문자가 포함되어 있다면, 사용자에게 숫자만 입력하라는 메시지를 출력합니다.\n",
        "- 연산이 수행이 완료될 때까지 반복하고 수행이 완료되면 break 합니다."
      ],
      "metadata": {
        "id": "Aja-7p70PkC2"
      }
    },
    {
      "cell_type": "code",
      "source": [
        "while True:\n",
        "  user=input(\"숫자를 입력하세요\")\n",
        "  if user.isdigit():\n",
        "    result=int(user)+100\n",
        "    print(result)\n",
        "    break\n",
        "  else:\n",
        "    print(\"숫자를 입력하세요\")"
      ],
      "metadata": {
        "colab": {
          "base_uri": "https://localhost:8080/"
        },
        "id": "mJX7h1tCPlzF",
        "outputId": "15d237a2-8cde-41db-f872-0dace58651a0"
      },
      "execution_count": 11,
      "outputs": [
        {
          "output_type": "stream",
          "name": "stdout",
          "text": [
            "숫자를 입력하세요klk\n",
            "숫자를 입력하세요\n",
            "숫자를 입력하세요20\n",
            "120\n"
          ]
        }
      ]
    },
    {
      "cell_type": "markdown",
      "source": [
        "Task4_0508. 문자와 숫자로만 구성된 아이디만 유효한 규칙을 만들려고 한다. 아래 사항을 참조하여 프로그램을 작성하세요.\n",
        "- 사용자로부터 문자열을 입력받습니다.\n",
        "- 입력받은 문자열이 알파벳과 숫자로만 이루어져 있는지 확인합니다.\n",
        "- 만약 조건을 만족한다면 \"유효한 아이디입니다\"라고 출력합니다.\n",
        "- 그렇지 않다면, \"아이디는 알파벳과 숫자만 포함할 수 있습니다\"라고 메시지를 출력합니다."
      ],
      "metadata": {
        "id": "VZncFVOGQN0K"
      }
    },
    {
      "cell_type": "code",
      "source": [
        "user=input(\"문자 입력\")\n",
        "if user.isalnum():\n",
        "  print(\"유효한 아이디입니다\")\n",
        "else:\n",
        "  print(\"아이디는 알파벳과 숫자만 포함할 수 있습니다\")"
      ],
      "metadata": {
        "colab": {
          "base_uri": "https://localhost:8080/"
        },
        "id": "8AfCf8hoQOZh",
        "outputId": "8afa3443-ce05-42c8-b3da-32bf0fbd8eb7"
      },
      "execution_count": 19,
      "outputs": [
        {
          "output_type": "stream",
          "name": "stdout",
          "text": [
            "문자 입력#####\n",
            "아이디는 알파벳과 숫자만 포함할 수 있습니다\n"
          ]
        }
      ]
    },
    {
      "cell_type": "markdown",
      "source": [
        "Task5_0508. 코딩을 한줄로 작성해서 동일한 결과를 출력하세요.\n",
        "list = []\n",
        "for i in range(0,20,2):\n",
        "    list.append(i*i)\n",
        "print(list)"
      ],
      "metadata": {
        "id": "KZNKoSfwSxR8"
      }
    },
    {
      "cell_type": "code",
      "source": [
        "list=[]\n",
        "for i in range(0,20,2):\n",
        "  list.append(i*i)\n",
        "print(list)"
      ],
      "metadata": {
        "colab": {
          "base_uri": "https://localhost:8080/"
        },
        "id": "F70V7YhbSxxK",
        "outputId": "ca6a89c7-56ea-438b-e735-b95f638c04df"
      },
      "execution_count": 8,
      "outputs": [
        {
          "output_type": "stream",
          "name": "stdout",
          "text": [
            "[0, 4, 16, 36, 64, 100, 144, 196, 256, 324]\n"
          ]
        }
      ]
    },
    {
      "cell_type": "code",
      "source": [
        "list=[]\n",
        "print([i*i for i in range(0, 20, 2)])"
      ],
      "metadata": {
        "colab": {
          "base_uri": "https://localhost:8080/"
        },
        "id": "PeRytZS2FbrJ",
        "outputId": "bf9eebdf-1a67-4183-cb51-9022df8006d3"
      },
      "execution_count": 7,
      "outputs": [
        {
          "output_type": "stream",
          "name": "stdout",
          "text": [
            "[0, 4, 16, 36, 64, 100, 144, 196, 256, 324]\n"
          ]
        }
      ]
    },
    {
      "cell_type": "markdown",
      "source": [
        "Task6_0508. 유닉스 타임스탬프를 받아서 해당 시간을 datetime.datetime 객체로 변환하고, 그 결과를 출력하는 사용자 함수를 작성하여 임의의 타임스탬프를 입력하여 결과를 출력하세요."
      ],
      "metadata": {
        "id": "836lPhV75NR2"
      }
    },
    {
      "cell_type": "code",
      "source": [
        "import time\n",
        "time.time()"
      ],
      "metadata": {
        "colab": {
          "base_uri": "https://localhost:8080/"
        },
        "id": "gsX1DTgj5N5c",
        "outputId": "e9202950-e119-4962-e261-b461434f6744"
      },
      "execution_count": 38,
      "outputs": [
        {
          "output_type": "execute_result",
          "data": {
            "text/plain": [
              "1715155269.178593"
            ]
          },
          "metadata": {},
          "execution_count": 38
        }
      ]
    },
    {
      "cell_type": "code",
      "source": [
        "import datetime\n",
        "timestamp=1715155269\n",
        "\n",
        "def timestamp_to_datetime(timestamp):\n",
        "  return datetime.datetime.fromtimestamp(timestamp)\n",
        "\n",
        "dt=timestamp_to_datetime(timestamp)\n",
        "print(timestamp)\n",
        "print(dt)"
      ],
      "metadata": {
        "colab": {
          "base_uri": "https://localhost:8080/"
        },
        "id": "br_KQcXrNLAM",
        "outputId": "d061bea5-b66d-4667-bc04-b7efbef51182"
      },
      "execution_count": 39,
      "outputs": [
        {
          "output_type": "stream",
          "name": "stdout",
          "text": [
            "1715155269\n",
            "2024-05-08 08:01:09\n"
          ]
        }
      ]
    },
    {
      "cell_type": "markdown",
      "source": [
        "Task7_0508. datetime 객체를 문자열로 변환하는 사용자 함수를 작성하여 datetime 객체를 \"YYYY-MM-DD HH:MM:SS\" 형식의 문자열로 변환하고 출력하세요"
      ],
      "metadata": {
        "id": "lPeypiyV6RxK"
      }
    },
    {
      "cell_type": "code",
      "source": [
        "import datetime\n",
        "def datetime_to_str(dt):\n",
        "  s_dt=dt.strftime(\"%Y-%m-%d %H:%M:%S\")\n",
        "  print(s_dt)\n",
        "\n",
        "s=datetime.datetime.now()\n",
        "datetime_to_str(s)"
      ],
      "metadata": {
        "colab": {
          "base_uri": "https://localhost:8080/"
        },
        "id": "-njmr1EiOnWV",
        "outputId": "d230d2f7-3333-4f41-fa7d-b6c48ad1819f"
      },
      "execution_count": 46,
      "outputs": [
        {
          "output_type": "stream",
          "name": "stdout",
          "text": [
            "2024-05-08 08:24:40\n"
          ]
        }
      ]
    },
    {
      "cell_type": "markdown",
      "source": [
        "Task8_0508. 올해 경과된 날짜수 계산하세요."
      ],
      "metadata": {
        "id": "isIUpma694UT"
      }
    },
    {
      "cell_type": "code",
      "source": [],
      "metadata": {
        "id": "pvebwCtv94sr"
      },
      "execution_count": null,
      "outputs": []
    },
    {
      "cell_type": "markdown",
      "source": [
        "Task9_0508. 현재 요일을 \"2021-6-26 오늘은 토요일입니다.\"와 같은 형식으로 출력하세요."
      ],
      "metadata": {
        "id": "mtrR3lvh95eV"
      }
    },
    {
      "cell_type": "code",
      "source": [],
      "metadata": {
        "id": "A4yIGHGk9570"
      },
      "execution_count": null,
      "outputs": []
    },
    {
      "cell_type": "markdown",
      "source": [
        "Task10_0508. 1에서 백만까지 더하는데 걸리는 프로그램 실행 시간을 밀리초(ms) 단위로 구하세요.(1ms=0.001초)"
      ],
      "metadata": {
        "id": "Z9gyD9QJ96O3"
      }
    },
    {
      "cell_type": "code",
      "source": [],
      "metadata": {
        "id": "ti53rA4l97eG"
      },
      "execution_count": null,
      "outputs": []
    }
  ]
}