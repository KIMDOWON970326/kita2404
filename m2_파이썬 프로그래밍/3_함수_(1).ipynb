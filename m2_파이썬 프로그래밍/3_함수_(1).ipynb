{
  "nbformat": 4,
  "nbformat_minor": 0,
  "metadata": {
    "colab": {
      "provenance": []
    },
    "kernelspec": {
      "name": "python3",
      "display_name": "Python 3"
    },
    "language_info": {
      "name": "python"
    }
  },
  "cells": [
    {
      "cell_type": "markdown",
      "source": [
        "- 함수의 종류 및 예제\n",
        "- 패키지, 모듈, 함수, 클래스\n",
        "- 함수 vs 메소드\n",
        "- 내장함수 연습\n",
        "- 외장함수 연습 : 날짜 함수, os\n",
        "- 외부 라이브러리 연습\n",
        "- 람다함수 연습\n",
        "- 사용자 함수 연습\n",
        "- 함수 유형 : 입력 인자와 리턴값에 따른 4가지 형태\n",
        "- 지역변수와 전역변수\n",
        "- 프로그램 작성"
      ],
      "metadata": {
        "id": "u4cLcxnBli4I"
      }
    },
    {
      "cell_type": "markdown",
      "source": [
        "파이썬에서 함수는 크게 내장 함수(Built-in Functions)와 외장 함수(External Functions)로 나뉩니다.\\\n",
        "파이썬 표준 라이브러리\n",
        "https://docs.python.org/ko/3.10/library/index.html\n",
        "\n",
        "1. 내장 함수 (Built-in Functions):\n",
        "- 내장 함수는 파이썬 인터프리터에 포함되어 있어, 별도의 모듈을 임포트(import)하지 않고도 사용 예를 들어, print(), len(), type(), range(), zip() 등이 내장 함수입니다.\n",
        "- 이러한 함수들은 기본적인 작업을 수행하며, 파이썬 프로그래밍의 기본적인 빌딩 블록(building blocks)으로 작동\n",
        "\n",
        "2. 외장 함수 (External Functions):\n",
        "- 표준 라이브러리에 포함된 모듈과 함수를 가리키는 것으로 모듈을 임포트하여 사용\n",
        "- 파이썬 표준 라이브러리의 os, sys, math, random, datetime 등의 모듈에는 다양한 외장 함수가 포함\n",
        "\n",
        "3. 외부 라이브러리나 패키지\n",
        "- 표준 라이브러리에 포함되지 않아 기본 설치에는 포함되지 않는다.\n",
        "- 이를 사용하려면 먼저 해당 라이브러리나 패키지를 설치\n",
        "- 외부 라이브러리는 통상적으로 파이썬의 패키지 관리자인 pip를 사용하여 설치\n",
        "- 설치 후에는 외장 함수와 마찬가지로 필요한 모듈을 임포트하여 사용\n",
        "- 예: numpy, pandas, requests 등의 외부 라이브러리에 포함된 함수들.\n",
        "\n",
        "3. 사용자 정의 함수(User-Defined Functions):\n",
        "- 사용자가 직접 정의하여 사용하는 함수\n",
        "- def 키워드를 사용하여 함수를 정의하며, 필요에 따라 매개변수와 반환 값을 지정\n",
        "\n",
        "4. 람다 함수(Lambda Functions):\n",
        "- 이름 없는 간단한 함수를 정의할 때 사용하는 익명 함수\n",
        "- lambda 키워드를 사용하여 한 줄로 함수를 정의하며, 주로 간단한 연산이 필요할 때 사용"
      ],
      "metadata": {
        "id": "Zjh_Y81EEt6X"
      }
    },
    {
      "cell_type": "code",
      "execution_count": null,
      "metadata": {
        "colab": {
          "base_uri": "https://localhost:8080/"
        },
        "id": "lQnAu-duEcPU",
        "outputId": "3e71bb33-9a09-4d05-b4c6-c5544cabbcc7"
      },
      "outputs": [
        {
          "output_type": "stream",
          "name": "stdout",
          "text": [
            "Hello World!\n",
            "4\n",
            "<class 'int'>\n"
          ]
        }
      ],
      "source": [
        "# 내장 함수 예제\n",
        "print(\"Hello World!\")  #출력함수\n",
        "print(len([1,2,3,4]))  #길이 계산 함수\n",
        "print(type(10))       #타입 확인 함수"
      ]
    },
    {
      "cell_type": "code",
      "source": [
        "# Q. 내장함수로 다음을 수행하세요\n",
        "a=[1,2,3,4,5]\n",
        "print(sum(a))\n",
        "print(max(a))\n",
        "print(min(a))\n",
        "print(sorted(a))\n",
        "print(list(reversed(a)))"
      ],
      "metadata": {
        "colab": {
          "base_uri": "https://localhost:8080/"
        },
        "id": "AiljMqQgHh7w",
        "outputId": "d608cbc5-3a01-4549-931e-b7cce4413056"
      },
      "execution_count": null,
      "outputs": [
        {
          "output_type": "stream",
          "name": "stdout",
          "text": [
            "15\n",
            "5\n",
            "1\n",
            "[1, 2, 3, 4, 5]\n",
            "[5, 4, 3, 2, 1]\n"
          ]
        }
      ]
    },
    {
      "cell_type": "code",
      "source": [
        "print(type(42))\n",
        "print(abs(-5))  #절대값\n",
        "print(round(3.14159,2))  #반올림\n",
        "print(pow(2,3))  #2의 3승"
      ],
      "metadata": {
        "colab": {
          "base_uri": "https://localhost:8080/"
        },
        "id": "SCcNIYi-IEEx",
        "outputId": "c0b8bd78-de72-43c4-a810-6a644cd59799"
      },
      "execution_count": null,
      "outputs": [
        {
          "output_type": "stream",
          "name": "stdout",
          "text": [
            "<class 'int'>\n",
            "5\n",
            "3.14\n",
            "8\n"
          ]
        }
      ]
    },
    {
      "cell_type": "code",
      "source": [
        "# 외장 함수 예제\n",
        "import math  #수학 모듈 임포트\n",
        "print(math.sqrt(16))  #제곱근 계산 함수\n",
        "\n",
        "import random  #랜덤 모듈 임포트\n",
        "print(random.randint(1,10))  #랜덤 정수 생성 함수 양끝포함\n",
        "\n",
        "import datetime #날짜와 시간 모듈 임포트\n",
        "print(datetime.datetime.now())"
      ],
      "metadata": {
        "colab": {
          "base_uri": "https://localhost:8080/"
        },
        "id": "8V0aU4P2HGOU",
        "outputId": "35a00c7a-e14b-4468-f153-bfc33c3c3aef"
      },
      "execution_count": null,
      "outputs": [
        {
          "output_type": "stream",
          "name": "stdout",
          "text": [
            "4.0\n",
            "10\n",
            "2024-05-03 06:26:39.848357\n"
          ]
        }
      ]
    },
    {
      "cell_type": "code",
      "source": [
        "# Q. datetime.datetime.now()에서 연도,월,일,시,분,초,마이크로초를 각각 출력하세요\n",
        "from datetime import datetime\n",
        "now=datetime.now()\n",
        "print(now.year)\n",
        "print(now.month)\n",
        "print(now.day)\n",
        "print(now.hour)\n",
        "print(now.minute)\n",
        "print(now.second)\n",
        "print(now.microsecond)"
      ],
      "metadata": {
        "colab": {
          "base_uri": "https://localhost:8080/"
        },
        "id": "imWngrAVJIAX",
        "outputId": "d53150f4-2777-468a-cf81-4d393757660b"
      },
      "execution_count": null,
      "outputs": [
        {
          "output_type": "stream",
          "name": "stdout",
          "text": [
            "2024\n",
            "5\n",
            "3\n",
            "6\n",
            "32\n",
            "5\n",
            "376264\n"
          ]
        }
      ]
    },
    {
      "cell_type": "code",
      "source": [
        "import os\n",
        "print(os.getcwd())\n",
        "print(os.listdir())"
      ],
      "metadata": {
        "colab": {
          "base_uri": "https://localhost:8080/"
        },
        "id": "yAZhUGO0JfAt",
        "outputId": "20f0a171-f833-4d42-fb44-5cc6a01a3813"
      },
      "execution_count": null,
      "outputs": [
        {
          "output_type": "stream",
          "name": "stdout",
          "text": [
            "/content\n",
            "['.config', 'new_folder', 'sample_data']\n"
          ]
        }
      ]
    },
    {
      "cell_type": "code",
      "source": [
        "os.mkdir('new_folder')"
      ],
      "metadata": {
        "id": "DoiytxSALHfc"
      },
      "execution_count": null,
      "outputs": []
    },
    {
      "cell_type": "code",
      "source": [
        "os.removedirs('new_folder')"
      ],
      "metadata": {
        "id": "WBEWYoITLqKj"
      },
      "execution_count": null,
      "outputs": []
    },
    {
      "cell_type": "code",
      "source": [
        "# 외부 라이브러리 예제\n",
        "# 먼저 pip를 사용하여 pandas 라이브러리를 설치합니다\n",
        "# !pip install pandas\n",
        "\n",
        "import pandas as pd\n",
        "\n",
        "# pandas의 DataFrame 객체 생성\n",
        "data={\"Name\":['Alice','Bob','Charlie'],'Age':[25,30,35]}\n",
        "df=pd.DataFrame(data)\n",
        "\n",
        "# pandas의  head()함수 사용하여 DataFrame의 처음 5행 출력(여기서는 3행만 존재)\n",
        "print(df.head())"
      ],
      "metadata": {
        "colab": {
          "base_uri": "https://localhost:8080/"
        },
        "id": "wcmbQpx3Lrw5",
        "outputId": "9294c912-9002-4959-d045-452c4630b91b"
      },
      "execution_count": null,
      "outputs": [
        {
          "output_type": "stream",
          "name": "stdout",
          "text": [
            "      Name  Age\n",
            "0    Alice   25\n",
            "1      Bob   30\n",
            "2  Charlie   35\n"
          ]
        }
      ]
    },
    {
      "cell_type": "code",
      "source": [
        "import numpy as np\n",
        "data=[1,2,3,4]\n",
        "arr=np.array(data)\n",
        "print(arr,type(arr))"
      ],
      "metadata": {
        "colab": {
          "base_uri": "https://localhost:8080/"
        },
        "id": "6kj7ujy7OYE2",
        "outputId": "79991801-1908-49e3-b7ce-5ecb176e23da"
      },
      "execution_count": null,
      "outputs": [
        {
          "output_type": "stream",
          "name": "stdout",
          "text": [
            "[1 2 3 4] <class 'numpy.ndarray'>\n"
          ]
        }
      ]
    },
    {
      "cell_type": "code",
      "source": [
        "# 사용자 함수 예제\n",
        "def great(name):\n",
        "  return f\"Hello, {name}!\"\n",
        "\n",
        "print(great(\"홍길동\"))  #출력 : Hello, 홍길동!"
      ],
      "metadata": {
        "colab": {
          "base_uri": "https://localhost:8080/"
        },
        "id": "YWWwIj79S2zx",
        "outputId": "883e9713-3f30-4232-fdd3-d85bf3e784b1"
      },
      "execution_count": null,
      "outputs": [
        {
          "output_type": "stream",
          "name": "stdout",
          "text": [
            "Hello, 홍길동!\n"
          ]
        }
      ]
    },
    {
      "cell_type": "markdown",
      "source": [
        "##람다함수"
      ],
      "metadata": {
        "id": "3NbujewQTV_E"
      }
    },
    {
      "cell_type": "code",
      "source": [
        "# 람다 함수는 간단한 한 줄의 함수를 작성할 때 유용\n",
        "multiply = lambda x,y: x*y\n",
        "print(multiply(3,4))   #출력 : 12"
      ],
      "metadata": {
        "colab": {
          "base_uri": "https://localhost:8080/"
        },
        "id": "wA9AUBAsTLNJ",
        "outputId": "275b85c0-0d7a-41ca-80d9-99550d9972c2"
      },
      "execution_count": null,
      "outputs": [
        {
          "output_type": "stream",
          "name": "stdout",
          "text": [
            "12\n"
          ]
        }
      ]
    },
    {
      "cell_type": "code",
      "source": [
        "# 조건 사용\n",
        "is_even = lambda x:True if x % 2==0 else False\n",
        "print(is_even(4))    #출력 True\n",
        "print(is_even(5))    #출력 False"
      ],
      "metadata": {
        "colab": {
          "base_uri": "https://localhost:8080/"
        },
        "id": "kv5K3dq_TrYy",
        "outputId": "08bd1a6a-2e6a-4cb3-c482-5d7b9028d247"
      },
      "execution_count": null,
      "outputs": [
        {
          "output_type": "stream",
          "name": "stdout",
          "text": [
            "True\n",
            "False\n"
          ]
        }
      ]
    },
    {
      "cell_type": "markdown",
      "source": [
        "#### 파이썬 패키지,  모듈, 함수, 클래스\n",
        "- 코드 작성 시 이미 만들어져 있는 함수들을 활용하면 보다 효율적이고 빠르게 개발 가능\n",
        "- 이미 만들어져 있고 안정성이 검증된 함수들을 성격에 맞게 하나의 파이썬 파일에 묶어 만들어 놓을 것을 모듈이라 함\n",
        "- 외부 모듈에 있는 함수들을 활용하려면 이 모듈을 먼저 가져와서 사용해야 하는데 이것을 모듈을 임포트한다고 한다.\n",
        "- 파이썬 모듈이 하나의 파이썬 파일이라면 패키지는 디렉토리로 볼 수 있다.\n",
        "\n",
        "패키지\n",
        "1. 라이브러리라고도 부름\n",
        "2. 특정 기능과 관련된 여러 모듈을 한 그룹으로 묶은 것\n",
        "3. 패키지 안에 서브패키지가 있을 수도 있다.\n",
        "4. import 패키지/모듈, from 패키지/모듈 import 서브패키지/모듈\n",
        "  \n",
        "   \n",
        "모듈\n",
        "1. 여러 기능들이 뭉쳐진 하나의. py파일\n",
        "2. 함수, 클래스, 변수 등 포함\n",
        "3. import 모듈\n",
        "\n",
        "함수\n",
        "1. 하나의 기능을 가진 코드의 집합\n",
        "2. 함수를 사용한다 = 함수를 호출한다\n",
        "3. 함수 사용 형태: 함수( )\n",
        "   - 필요한 경우 () 안에 매개변수 또는 옵션\n",
        "4. 종류\n",
        "   - 내장 함수(built in function)\n",
        "   - 외장 함수: import 해주어야 함\n",
        "   \n",
        "클래스   \n",
        "- 파이썬은 객체 지향 언어로클래스를 기반으로 객체를 만들어 사용한다.\n",
        "- 한 파이썬 파일(. py) 내에서 \"class class명():\"을 통해 클래스 선언"
      ],
      "metadata": {
        "id": "YR8W5CGmd8YD"
      }
    },
    {
      "cell_type": "markdown",
      "source": [
        "#### 함수 vs 메소드\n",
        "- 함수 (Function)\n",
        "    - 함수는 특정 작업을 수행하거나 값을 계산하기 위해 정의된 코드의 블록\n",
        "    - 함수는 def 키워드를 사용하여 정의\n",
        "    - 함수는 전역적으로 호출할 수 있거나 다른 함수 내부에서 호출할 수 있다.    \n",
        "- 메소드 (Method)\n",
        "    - 메소드는 객체에 속한 함수, 메소드는 특정 객체의 기능으로 정의\n",
        "    - 메소드는 객체와 연결되어 있으며, . (점) 표기법을 사용하여 해당 객체에 대한 메소드를 호출\n",
        "    - 메소드는 첫 번째 매개변수로 self를 사용하여 객체 자체를 참조 (클래스 내부에서 메소드를 정의할 때)\n",
        "- 주요 차이점\n",
        "    - 정의: 함수는 독립적으로 정의되지만, 메소드는 클래스 내부에서 정의\n",
        "    - 호출: 함수는 이름만으로 호출될 수 있지만, 메소드는 객체를 통해 호출\n",
        "    - 참조: 메소드는 첫 번째 매개변수로 객체 자신을 참조(self), 반면 함수는 이런 자체 참조 매개변수를 갖지 않는다."
      ],
      "metadata": {
        "id": "ghC0u-PKeAj9"
      }
    },
    {
      "cell_type": "code",
      "source": [
        "# 함수 호출\n",
        "def my_function():\n",
        "  print(\"Hello from a function\")\n",
        "my_function()"
      ],
      "metadata": {
        "id": "-aJp0yhZUM7n",
        "colab": {
          "base_uri": "https://localhost:8080/"
        },
        "outputId": "854dbe79-9ec7-4705-eab3-6b6ba40eccce"
      },
      "execution_count": null,
      "outputs": [
        {
          "output_type": "stream",
          "name": "stdout",
          "text": [
            "Hello from a function\n"
          ]
        }
      ]
    },
    {
      "cell_type": "code",
      "source": [
        "#메소드 호출\n",
        "class MyClass:\n",
        "  def my_method(self):\n",
        "    print(\"Hello from a method\")\n",
        "\n",
        "obj=MyClass()\n",
        "obj.my_method()"
      ],
      "metadata": {
        "colab": {
          "base_uri": "https://localhost:8080/"
        },
        "id": "on_ciqmfhIZS",
        "outputId": "84031b29-a6a2-4933-9222-fe1f01f182f2"
      },
      "execution_count": null,
      "outputs": [
        {
          "output_type": "stream",
          "name": "stdout",
          "text": [
            "Hello from a method\n"
          ]
        }
      ]
    },
    {
      "cell_type": "code",
      "source": [
        "print(abs(-3))\n",
        "print(all([1,2,3,0]))#x가 모두 참이면 True 거짓이 하나라도 있으면 False\n",
        "print(any([1,2,3,0]))#x가 하나라도 참이면 True 모두 거짓이면 False\n",
        "print(chr(65))#아스키코드\n",
        "print(float(3))\n",
        "print(int(3.9))\n",
        "print(max(1,10))\n",
        "print(min(1,10))\n",
        "print(pow(10,2))#거듭제곱\n",
        "print(round(2.675,2))"
      ],
      "metadata": {
        "colab": {
          "base_uri": "https://localhost:8080/"
        },
        "id": "vdi-Nqdshi6H",
        "outputId": "bd4f25dd-7813-4f31-9f11-bad174e33887"
      },
      "execution_count": null,
      "outputs": [
        {
          "output_type": "stream",
          "name": "stdout",
          "text": [
            "3\n",
            "False\n",
            "True\n",
            "A\n",
            "3.0\n",
            "3\n",
            "10\n",
            "1\n",
            "100\n",
            "2.67\n"
          ]
        }
      ]
    },
    {
      "cell_type": "code",
      "source": [
        "type(pow)"
      ],
      "metadata": {
        "colab": {
          "base_uri": "https://localhost:8080/"
        },
        "id": "XybhOEGTioT6",
        "outputId": "f37daaed-2f9b-453d-920c-baf93f095637"
      },
      "execution_count": null,
      "outputs": [
        {
          "output_type": "execute_result",
          "data": {
            "text/plain": [
              "builtin_function_or_method"
            ]
          },
          "metadata": {},
          "execution_count": 11
        }
      ]
    },
    {
      "cell_type": "code",
      "source": [
        "#함수가 다른 객체와 마찬가지로 변수에 할당되거나, 다른 함수로 전달되거나, 다른 함수로부터 반환될 수 있음\n",
        "my_pow=pow\n",
        "result=my_pow(2,3)\n",
        "print(result)\n",
        "# 함수를 인자로 전달\n",
        "def apply_func(func, x,y):\n",
        "  return func(x,y)\n",
        "result=apply_func(pow, 3,4)  #pow(3,4)\n",
        "print(result)"
      ],
      "metadata": {
        "colab": {
          "base_uri": "https://localhost:8080/"
        },
        "id": "coe8FXM-j7Cx",
        "outputId": "6e9aa2ed-5b05-444a-ead1-171b94e52411"
      },
      "execution_count": null,
      "outputs": [
        {
          "output_type": "stream",
          "name": "stdout",
          "text": [
            "8\n",
            "81\n"
          ]
        }
      ]
    },
    {
      "cell_type": "code",
      "source": [
        "age=30\n",
        "print(\"i am \" +str(age)+ \" years old\")"
      ],
      "metadata": {
        "colab": {
          "base_uri": "https://localhost:8080/"
        },
        "id": "D88ULnxbkSBX",
        "outputId": "18ea8c98-43af-4fba-9880-5543add18201"
      },
      "execution_count": null,
      "outputs": [
        {
          "output_type": "stream",
          "name": "stdout",
          "text": [
            "i am 30 years old\n"
          ]
        }
      ]
    },
    {
      "cell_type": "markdown",
      "source": [
        "sort,sorted 모두 key,reverse 매개변수를 갖고 있다.\\\n",
        "- reverse:기본값은 reverse=False(오름차순),reverse=True를 매개변수로 입력하면 내림차순으로 정렬\n",
        "- key:정렬을 목적으로 하는 함수를 값으로 넣는다 lambda를 이용할 수 있고 key 값을 기준으로 정렬되고 기본값은 오름차순"
      ],
      "metadata": {
        "id": "am7UA8LKmuUf"
      }
    },
    {
      "cell_type": "code",
      "source": [
        "my_list=[3,1,4,2]\n",
        "print(sorted(my_list))\n",
        "my_list"
      ],
      "metadata": {
        "colab": {
          "base_uri": "https://localhost:8080/"
        },
        "id": "E330wLzoliTQ",
        "outputId": "9d293b7f-b91f-4a0e-f4ec-a8e75ffb5e2b"
      },
      "execution_count": null,
      "outputs": [
        {
          "output_type": "stream",
          "name": "stdout",
          "text": [
            "[1, 2, 3, 4]\n"
          ]
        },
        {
          "output_type": "execute_result",
          "data": {
            "text/plain": [
              "[3, 1, 4, 2]"
            ]
          },
          "metadata": {},
          "execution_count": 23
        }
      ]
    },
    {
      "cell_type": "markdown",
      "source": [
        "Q.students=[(\"Alice\",90),(\"Bob\",85),(\"Charlie\",88)]를 점수를 기준으로 정렬하세요"
      ],
      "metadata": {
        "id": "o_wNMAL6pUQi"
      }
    },
    {
      "cell_type": "code",
      "source": [
        "#sorted() 함수와 함께 사용:\n",
        "students=[(\"Alice\",90),(\"Bob\",85),(\"Charlie\",88)]\n",
        "sorted_students=sorted(students, key=lambda x: x[1],reverse=True)  #내림차순\n",
        "print(sorted_students)"
      ],
      "metadata": {
        "colab": {
          "base_uri": "https://localhost:8080/"
        },
        "id": "Bn6P5v0UmbxS",
        "outputId": "c3da35a1-15e2-4971-e961-4135a7cbfdb9"
      },
      "execution_count": null,
      "outputs": [
        {
          "output_type": "stream",
          "name": "stdout",
          "text": [
            "[('Alice', 90), ('Charlie', 88), ('Bob', 85)]\n"
          ]
        }
      ]
    },
    {
      "cell_type": "code",
      "source": [
        "my_string='Python'\n",
        "print(type(my_string))"
      ],
      "metadata": {
        "colab": {
          "base_uri": "https://localhost:8080/"
        },
        "id": "w2bm_7FmprRU",
        "outputId": "1b2339ff-bd50-4297-b06a-388343359017"
      },
      "execution_count": null,
      "outputs": [
        {
          "output_type": "stream",
          "name": "stdout",
          "text": [
            "<class 'str'>\n"
          ]
        }
      ]
    },
    {
      "cell_type": "code",
      "source": [
        "print(list(range(5)))\n",
        "print(list(range(1,6)))\n",
        "print(list(range(1,10,2)))\n",
        "print(list(range(0,-10,-1)))"
      ],
      "metadata": {
        "colab": {
          "base_uri": "https://localhost:8080/"
        },
        "id": "_s1eLgO5t-lk",
        "outputId": "23c938da-b925-4231-de1e-cde68bf68bb5"
      },
      "execution_count": null,
      "outputs": [
        {
          "output_type": "stream",
          "name": "stdout",
          "text": [
            "[0, 1, 2, 3, 4]\n",
            "[1, 2, 3, 4, 5]\n",
            "[1, 3, 5, 7, 9]\n",
            "[0, -1, -2, -3, -4, -5, -6, -7, -8, -9]\n"
          ]
        }
      ]
    },
    {
      "cell_type": "markdown",
      "source": [
        "Q.실행 가능한 숫자를 문자열('5+5')입력으로 받아 문자열을 숫자연산으로 실행한 결과값을 출력하세요"
      ],
      "metadata": {
        "id": "iTgEaCdjug4K"
      }
    },
    {
      "cell_type": "code",
      "source": [
        "expression = eval(input(\"실행 가능한 숫자를 문자열로 입력하세요: \"))\n",
        "print(expression)"
      ],
      "metadata": {
        "colab": {
          "base_uri": "https://localhost:8080/"
        },
        "id": "jXUSK7BAuJy4",
        "outputId": "0a0d7514-a894-4319-fbeb-86ac993bbc40"
      },
      "execution_count": null,
      "outputs": [
        {
          "output_type": "stream",
          "name": "stdout",
          "text": [
            "실행 가능한 숫자를 문자열로 입력하세요: 5+5\n",
            "10\n"
          ]
        }
      ]
    },
    {
      "cell_type": "code",
      "source": [
        "expression=input(\"계산할 수식을 입력하세요:\")\n",
        "result=eval(expression)\n",
        "print(f\"계산결과: {result}\")"
      ],
      "metadata": {
        "colab": {
          "base_uri": "https://localhost:8080/"
        },
        "id": "JfKauF7guwaC",
        "outputId": "2c3725f9-70df-4918-fca1-0b544caa18fe"
      },
      "execution_count": null,
      "outputs": [
        {
          "output_type": "stream",
          "name": "stdout",
          "text": [
            "계산할 수식을 입력하세요:5+5+5\n",
            "계산결과: 15\n"
          ]
        }
      ]
    },
    {
      "cell_type": "code",
      "source": [
        "from ast import operator\n",
        "data=[1,2,3,4,5]\n",
        "operation=input(\"실행할 리스트 연산을 입력하세요 (예:'data.append(6), 'data.pop()):>\")\n",
        "eval(operation)\n",
        "print(f\"수정된 데이터: {data}\")"
      ],
      "metadata": {
        "colab": {
          "base_uri": "https://localhost:8080/"
        },
        "id": "40pXwjrlvTLc",
        "outputId": "7690cbfa-663a-409a-b0e3-c0b840b42e7a"
      },
      "execution_count": null,
      "outputs": [
        {
          "output_type": "stream",
          "name": "stdout",
          "text": [
            "실행할 리스트 연산을 입력하세요 (예:'data.append(6), 'data.pop()):>data.pop(3)\n",
            "수정된 데이터: [1, 2, 3, 5]\n"
          ]
        }
      ]
    },
    {
      "cell_type": "code",
      "source": [
        "for idx, element in enumerate(['ele1','ele2','ele3']):\n",
        "  print(idx+1,element)"
      ],
      "metadata": {
        "colab": {
          "base_uri": "https://localhost:8080/"
        },
        "id": "IOchV0Olv3lv",
        "outputId": "260e97e2-0a1c-4555-d133-1d305c51db6d"
      },
      "execution_count": null,
      "outputs": [
        {
          "output_type": "stream",
          "name": "stdout",
          "text": [
            "1 ele1\n",
            "2 ele2\n",
            "3 ele3\n"
          ]
        }
      ]
    },
    {
      "cell_type": "code",
      "source": [
        "# Q. enumerate와 f-string을 사용해서 특정 리스트에서 원하는 형태로 출력을 하세요(인덱스와 내용을 믹스하여)"
      ],
      "metadata": {
        "id": "UMbLd5wExa6m"
      },
      "execution_count": null,
      "outputs": []
    },
    {
      "cell_type": "code",
      "source": [
        "list02 = ['사과','키위','딸기','참외','수박']\n",
        "print(\"과일의 종류\")\n",
        "# for idx, element in enumerate(list02):\n",
        "#     print(idx+0, element)\n",
        "for i, a in enumerate(list02):\n",
        "  print(f\"{i}.{a}\")"
      ],
      "metadata": {
        "colab": {
          "base_uri": "https://localhost:8080/"
        },
        "id": "z83yIj3yxo4T",
        "outputId": "082c6fea-a127-449e-9e33-2f6eb354eaf4"
      },
      "execution_count": null,
      "outputs": [
        {
          "output_type": "stream",
          "name": "stdout",
          "text": [
            "과일의 종류\n",
            "0.사과\n",
            "1.키위\n",
            "2.딸기\n",
            "3.참외\n",
            "4.수박\n"
          ]
        }
      ]
    },
    {
      "cell_type": "code",
      "source": [
        "print(range(10),type(range(10)))\n",
        "print([i for i in range(10)])\n",
        "print(type([i for i in range(10)]))"
      ],
      "metadata": {
        "id": "ljMX6mFhxy6U",
        "colab": {
          "base_uri": "https://localhost:8080/"
        },
        "outputId": "3fecd420-d301-4e89-cc46-caf7acb4ae19"
      },
      "execution_count": 6,
      "outputs": [
        {
          "output_type": "stream",
          "name": "stdout",
          "text": [
            "range(0, 10) <class 'range'>\n",
            "[0, 1, 2, 3, 4, 5, 6, 7, 8, 9]\n",
            "<class 'list'>\n"
          ]
        }
      ]
    },
    {
      "cell_type": "code",
      "source": [
        "print(list(range(10)))\n",
        "print(type(list(range(10))))"
      ],
      "metadata": {
        "colab": {
          "base_uri": "https://localhost:8080/"
        },
        "id": "_LvDUaJz16kh",
        "outputId": "57b1f046-7510-4ab3-a067-48ad024e7eb5"
      },
      "execution_count": 8,
      "outputs": [
        {
          "output_type": "stream",
          "name": "stdout",
          "text": [
            "[0, 1, 2, 3, 4, 5, 6, 7, 8, 9]\n",
            "<class 'list'>\n"
          ]
        }
      ]
    },
    {
      "cell_type": "code",
      "source": [
        "# 몫과 나머지\n",
        "print(divmod(7,3))"
      ],
      "metadata": {
        "colab": {
          "base_uri": "https://localhost:8080/"
        },
        "id": "DjDNHrQt2bCM",
        "outputId": "c0d24f87-ed6e-451a-8e15-afd3420ef554"
      },
      "execution_count": 9,
      "outputs": [
        {
          "output_type": "stream",
          "name": "stdout",
          "text": [
            "(2, 1)\n"
          ]
        }
      ]
    },
    {
      "cell_type": "code",
      "source": [
        "# Q 150분을 시간과 분으로 변화해서 출력하세요\n",
        "hours, minutes = divmod(150,60)\n",
        "print(hours,\"시간\",minutes,\"분\")"
      ],
      "metadata": {
        "colab": {
          "base_uri": "https://localhost:8080/"
        },
        "id": "AvA39B_d3Si2",
        "outputId": "8c30a554-0fb7-4c29-9667-98891a3affdf"
      },
      "execution_count": 15,
      "outputs": [
        {
          "output_type": "stream",
          "name": "stdout",
          "text": [
            "2 시간 30 분\n"
          ]
        }
      ]
    },
    {
      "cell_type": "code",
      "source": [
        "# Q url에서 쿼리문을 추출하여 출력하세요\n",
        "# url에서 ? 뒤에 표시되는 문자열을 쿼리 문자열이라고 하며 변수 = 값 사이 &로 구분되어 나열된다\n",
        "url = 'http://news.naver.com/main/read.nhn?mode=LSD&mid=shm&sid1=105&oid=028&aid=0002334601'"
      ],
      "metadata": {
        "id": "wfV6oiZY5gM8"
      },
      "execution_count": null,
      "outputs": []
    },
    {
      "cell_type": "code",
      "source": [
        "url = 'http://news.naver.com/main/read.nhn?mode=LSD&mid=shm&sid1=105&oid=028&aid=0002334601'\n",
        "tmp1=url.split('/')\n",
        "tmp2=tmp1[-1].split('?')\n",
        "result=tmp2[-1].split('&')\n",
        "\n",
        "print(result)\n",
        "print('')\n",
        "\n",
        "for i in result:\n",
        "  print(i)"
      ],
      "metadata": {
        "colab": {
          "base_uri": "https://localhost:8080/"
        },
        "id": "pnGf5-DH5w0g",
        "outputId": "d6646f2d-8508-4240-9bf7-4dc5a1bbec73"
      },
      "execution_count": 4,
      "outputs": [
        {
          "output_type": "stream",
          "name": "stdout",
          "text": [
            "['mode=LSD', 'mid=shm', 'sid1=105', 'oid=028', 'aid=0002334601']\n",
            "\n",
            "mode=LSD\n",
            "mid=shm\n",
            "sid1=105\n",
            "oid=028\n",
            "aid=0002334601\n"
          ]
        }
      ]
    },
    {
      "cell_type": "code",
      "source": [
        "# Q List안에 단어가 있으면 해당 제목을 출력\n",
        "x=input(\"제목을 입력해주세요\")\n",
        "tlist=[\"Hello World\",\"Nice Day\",\"HappyBin\",\"enDing_Story\"]\n",
        "n_tlist=[]\n",
        "\n",
        "x=x.lower()\n",
        "for i in range(len(tlist)):\n",
        "  n_tlist.append(tlist[i].lower())\n",
        "  if x in n_tlist[i]:\n",
        "    print(tlist[i])"
      ],
      "metadata": {
        "colab": {
          "base_uri": "https://localhost:8080/"
        },
        "id": "m72GMoCs6f9L",
        "outputId": "2fa9b7ea-6434-4ad8-e99c-022ad3fc1a6b"
      },
      "execution_count": 9,
      "outputs": [
        {
          "output_type": "stream",
          "name": "stdout",
          "text": [
            "제목을 입력해주세요hello\n",
            "Hello World\n"
          ]
        }
      ]
    },
    {
      "cell_type": "code",
      "source": [
        "# Q 영어 이름을 적으면 앞에 글자를 대문자로 바꾸어 주는 프로그램\n",
        "# 단 중간에 한간씩 띄어주어야 함 ex)hong gil dong > Hpng Gil Dong\n",
        "wjname=input(\"이름을 영어로 입력하세요: \")\n",
        "txt=wjname.title()\n",
        "print(f\"당신의 이름을 바꾸면{txt}입니다\")"
      ],
      "metadata": {
        "colab": {
          "base_uri": "https://localhost:8080/"
        },
        "id": "3Itdr0bw_Y_U",
        "outputId": "696518e3-0dc3-42d8-e4df-72f7b2f23196"
      },
      "execution_count": 10,
      "outputs": [
        {
          "output_type": "stream",
          "name": "stdout",
          "text": [
            "이름을 영어로 입력하세요: hong gil song\n",
            "당신의 이름을 바꾸면Hong Gil Song입니\n"
          ]
        }
      ]
    },
    {
      "cell_type": "code",
      "source": [
        "# 문자열에서 좌우 공백 제거\n",
        "txt='    양쪽에 공백이 있는 문자열 입니다     '\n",
        "ret1=txt.lstrip()\n",
        "ret2=txt.rstrip()\n",
        "ret3=txt.strip()\n",
        "print('<'+ret1+'>')\n",
        "print('<'+ret2+'>')\n",
        "print('<'+ret3+'>')"
      ],
      "metadata": {
        "colab": {
          "base_uri": "https://localhost:8080/"
        },
        "id": "_69gPi1uC3gL",
        "outputId": "de81ef95-bf64-4a43-9da8-205722de1f37"
      },
      "execution_count": 16,
      "outputs": [
        {
          "output_type": "stream",
          "name": "stdout",
          "text": [
            "<양쪽에 공백이 있는 문자열 입니다     >\n",
            "<    양쪽에 공백이 있는 문자열 입니다>\n",
            "<양쪽에 공백이 있는 문자열 입니다>\n"
          ]
        }
      ]
    },
    {
      "cell_type": "code",
      "source": [
        "# join 특정 문자로 결합\n",
        "loglist=['2018/08/26 10:12:12','200','OK','이 또한 지나가리라']\n",
        "bond=';'\n",
        "log=bond.join(loglist)\n",
        "print(log)"
      ],
      "metadata": {
        "colab": {
          "base_uri": "https://localhost:8080/"
        },
        "id": "OHKB3tAwD49c",
        "outputId": "a0ba6c6b-9a24-4c45-ef29-ecd4e1f24fe4"
      },
      "execution_count": 17,
      "outputs": [
        {
          "output_type": "stream",
          "name": "stdout",
          "text": [
            "2018/08/26 10:12:12;200;OK;이 또한 지나가리라\n"
          ]
        }
      ]
    },
    {
      "cell_type": "code",
      "source": [
        "# 특정 문자(열)을 다른 문자(열)로 바꾸기(replace)\n",
        "txt='My password is 1234'\n",
        "ret1=txt.replace('1','0')\n",
        "ret2=txt.replace('1','python')\n",
        "\n",
        "print(ret1)\n",
        "print(ret2)\n",
        "\n",
        "txt='매일 많은 일들이 일어납니다'\n",
        "\n",
        "ret3=txt.replace(\"많은 일들이\",\"아침 일찍\")\n",
        "print(ret3)"
      ],
      "metadata": {
        "colab": {
          "base_uri": "https://localhost:8080/"
        },
        "id": "S3T7LEHME1hD",
        "outputId": "ae5154d9-9cd0-47be-ed44-d1ccc336d37c"
      },
      "execution_count": 18,
      "outputs": [
        {
          "output_type": "stream",
          "name": "stdout",
          "text": [
            "My password is 0234\n",
            "My password is python234\n",
            "매일 아침 일찍 일어납니다\n"
          ]
        }
      ]
    },
    {
      "cell_type": "code",
      "source": [
        "# Q 입력된 문장에서 'bad'를 'good'으로 교체해서 출력하세요(입력 예시:This is a bad example)\n",
        "sentence=input('문장을 입력하세요')\n",
        "print(sentence.replace('bad','good'))"
      ],
      "metadata": {
        "colab": {
          "base_uri": "https://localhost:8080/"
        },
        "id": "FUNsOIXVFd3W",
        "outputId": "6abb4a85-13d1-4638-aa09-1d6e904dd210"
      },
      "execution_count": 19,
      "outputs": [
        {
          "output_type": "stream",
          "name": "stdout",
          "text": [
            "문장을 입력하세요This is a bad example\n",
            "This is a good example\n"
          ]
        }
      ]
    },
    {
      "cell_type": "code",
      "source": [
        "# 코드값에 대응하느 문자 얻기\n",
        "val=int(input('문자 코드값을 입력하세요'))\n",
        "ch=chr(val)\n",
        "print('코드값: %d 문자: %s'%(val,ch))"
      ],
      "metadata": {
        "colab": {
          "base_uri": "https://localhost:8080/"
        },
        "id": "-iWS-xNRG2gS",
        "outputId": "50546e14-cdbc-4e7d-f065-5ad6c2879f7c"
      },
      "execution_count": 20,
      "outputs": [
        {
          "output_type": "stream",
          "name": "stdout",
          "text": [
            "문자 코드값을 입력하세요65\n",
            "코드값: 65 문자: A\n"
          ]
        }
      ]
    },
    {
      "cell_type": "code",
      "source": [
        "while True:\n",
        "  val=int(input('문자 코드값을 입력하세요(0을 입력하면 종료):'))\n",
        "\n",
        "  if val == 0:\n",
        "    print('프로그램을 종료합니다')\n",
        "    break\n",
        "\n",
        "  val2=chr(val)\n",
        "  print(f'코드값: {val} 문자: {val2}')"
      ],
      "metadata": {
        "colab": {
          "base_uri": "https://localhost:8080/"
        },
        "id": "C6oYwlnuKIYM",
        "outputId": "5e98ce2e-a3c2-4674-feae-19af2b624ca7"
      },
      "execution_count": 25,
      "outputs": [
        {
          "output_type": "stream",
          "name": "stdout",
          "text": [
            "문자 코드값을 입력하세요(0을 입력하면 종료):65\n",
            "코드값: 65 문자: A\n",
            "문자 코드값을 입력하세요(0을 입력하면 종료):0\n",
            "프로그램을 종료합니다\n"
          ]
        }
      ]
    },
    {
      "cell_type": "code",
      "source": [
        "# 문자열이 문자인지 검사     isalpha()\n",
        "txt1='A'\n",
        "txt2='안녕'\n",
        "txt3='Warcraft Three'\n",
        "txt4='3PO'\n",
        "ret1=txt1.isalpha()\n",
        "ret2=txt2.isalpha()\n",
        "ret3=txt3.isalpha()\n",
        "ret4=txt4.isalpha()\n",
        "print(ret1)\n",
        "print(ret2)\n",
        "print(ret3)\n",
        "print(ret4)"
      ],
      "metadata": {
        "colab": {
          "base_uri": "https://localhost:8080/"
        },
        "id": "vIretrbKLIyw",
        "outputId": "4d413752-63a0-4dab-8d9b-0d17b1ec646c"
      },
      "execution_count": 26,
      "outputs": [
        {
          "output_type": "stream",
          "name": "stdout",
          "text": [
            "True\n",
            "True\n",
            "False\n",
            "False\n"
          ]
        }
      ]
    },
    {
      "cell_type": "code",
      "source": [
        "# isdigit()  문자열이 숫자인지 검사\n",
        "\n",
        "txt1='010-1234-5678'\n",
        "txt2='R202'\n",
        "txt3='1212'\n",
        "ret1=txt1.isdigit()\n",
        "ret2=txt2.isdigit()\n",
        "ret3=txt3.isdigit()\n",
        "print(ret1)\n",
        "print(ret2)\n",
        "print(ret3)"
      ],
      "metadata": {
        "colab": {
          "base_uri": "https://localhost:8080/"
        },
        "id": "1knKsMUQMR2B",
        "outputId": "cd3db068-6a75-4541-e9ba-cb1be5b65b44"
      },
      "execution_count": 27,
      "outputs": [
        {
          "output_type": "stream",
          "name": "stdout",
          "text": [
            "False\n",
            "False\n",
            "True\n"
          ]
        }
      ]
    },
    {
      "cell_type": "code",
      "source": [
        "# isalnum()   문자열이 문자 또는 숫자인지 검사 문자열이 영어 한글 혹은 숫자로 되어있으면 참 리턴,아니면 거짓 리턴\n",
        "txt1='안녕하세요?'\n",
        "txt2='1.Title-제목을 넣으세요'\n",
        "txt3='3피오R202'\n",
        "\n",
        "ret1=txt1.isalnum()\n",
        "ret2=txt2.isalnum()\n",
        "ret3=txt3.isalnum()\n",
        "\n",
        "print(ret1,ret2,ret3)"
      ],
      "metadata": {
        "colab": {
          "base_uri": "https://localhost:8080/"
        },
        "id": "9wUyr85TNXLP",
        "outputId": "0feb750a-fff4-4d79-e826-43c2d1886ad7"
      },
      "execution_count": 29,
      "outputs": [
        {
          "output_type": "stream",
          "name": "stdout",
          "text": [
            "False False True\n"
          ]
        }
      ]
    },
    {
      "cell_type": "code",
      "source": [
        "txt='A lot of Things ocour each day.'\n",
        "ret1=txt.upper()\n",
        "ret2=txt.lower()\n",
        "ret3=txt.title()\n",
        "ret4=txt.capitalize()   #문자열의 첫번째 문자를 대문자,나머지는 소문자로 변환\n",
        "print(ret1)\n",
        "print(ret2)\n",
        "print(ret3)\n",
        "print(ret4)"
      ],
      "metadata": {
        "colab": {
          "base_uri": "https://localhost:8080/"
        },
        "id": "lHtVg4QiPfpM",
        "outputId": "4fbb1a88-c180-4e54-bce6-39566085b1a3"
      },
      "execution_count": 30,
      "outputs": [
        {
          "output_type": "stream",
          "name": "stdout",
          "text": [
            "A LOT OF THINGS OCOUR EACH DAY.\n",
            "a lot of things ocour each day.\n",
            "A Lot Of Things Ocour Each Day.\n",
            "A lot of things ocour each day.\n"
          ]
        }
      ]
    },
    {
      "cell_type": "code",
      "source": [
        "# numbers 내부에 들어 있는 숫자가 몇번 등장하는지를 출력하는 코드를 작성하세요\n",
        "numbers=[3,6,3,5,8,2,9,7,4,3,6,3,5,8,2,9,7,4]\n",
        "dict1={}\n",
        "for k in numbers:\n",
        "  if k in dict1:\n",
        "    dict1[k] += 1\n",
        "  else:\n",
        "    dict1[k] =1\n",
        "print(dict1)\n",
        "\n",
        "# for num,freq in dict1.items():\n",
        "#   print(f\"{num}가 {freq}번 등장했습니다\")"
      ],
      "metadata": {
        "colab": {
          "base_uri": "https://localhost:8080/"
        },
        "id": "cGLrw-xXRBop",
        "outputId": "fe2c60fa-6b0f-4a84-f9c5-5cdb05f9944f"
      },
      "execution_count": 36,
      "outputs": [
        {
          "output_type": "stream",
          "name": "stdout",
          "text": [
            "{3: 4, 6: 2, 5: 2, 8: 2, 2: 2, 9: 2, 7: 2, 4: 2}\n"
          ]
        }
      ]
    },
    {
      "cell_type": "code",
      "source": [
        "# ljst a의 모든 원소를 실수형으로 바꾸어 출력하세요\n",
        "a=[1,2,3,4,5]\n",
        "a_float=list(map(float,a))\n",
        "\n",
        "print(a_float)"
      ],
      "metadata": {
        "colab": {
          "base_uri": "https://localhost:8080/"
        },
        "id": "CFIGxpH4RoBC",
        "outputId": "a77373b4-3ac3-49ef-c5da-cd3af8e440c7"
      },
      "execution_count": 37,
      "outputs": [
        {
          "output_type": "stream",
          "name": "stdout",
          "text": [
            "[1.0, 2.0, 3.0, 4.0, 5.0]\n"
          ]
        }
      ]
    },
    {
      "cell_type": "code",
      "source": [
        "# Q 데이터를 입력하지 않으면 종료되는 코딩을 수행하세요. 단 반복적으로 작업을 수행할 수 있음\n",
        "while 1:\n",
        "  a=input(\"데이터 입력:\")\n",
        "  if a == '':\n",
        "    break\n",
        "  else:\n",
        "    print(a)"
      ],
      "metadata": {
        "colab": {
          "base_uri": "https://localhost:8080/"
        },
        "id": "pVcxz8EImJtv",
        "outputId": "b5f06ec2-87f8-4672-c78a-235984fbfc8e"
      },
      "execution_count": 40,
      "outputs": [
        {
          "name": "stdout",
          "output_type": "stream",
          "text": [
            "데이터 입력: \n",
            " \n",
            "데이터 입력:\n"
          ]
        }
      ]
    },
    {
      "cell_type": "code",
      "source": [
        "while 1:\n",
        "  data=input()\n",
        "  if not data:break\n",
        "  print(data)"
      ],
      "metadata": {
        "colab": {
          "base_uri": "https://localhost:8080/"
        },
        "id": "E_UyNwtWnBCf",
        "outputId": "b2761ea7-6d9e-4237-8c83-375903742b48"
      },
      "execution_count": 41,
      "outputs": [
        {
          "name": "stdout",
          "output_type": "stream",
          "text": [
            "\n"
          ]
        }
      ]
    },
    {
      "cell_type": "markdown",
      "source": [
        "표준 라이브러리-외장함수"
      ],
      "metadata": {
        "id": "8GOLUMqSn1Ji"
      }
    },
    {
      "cell_type": "markdown",
      "source": [
        "[ 날짜 함수 ]\n",
        "\n",
        "날짜와 시간을 처리하기 위한 주요 라이브러리는 datetime입니다. 이 라이브러리는 날짜, 시간, 시간대와 관련된 다양한 클래스와 함수를 제공하며, 날짜와 시간 연산에 매우 유용\n",
        "- datetime.date: 날짜(연, 월, 일)를 표현하는 클래스\n",
        "    - today(): 오늘의 날짜를 반환\n",
        "- datetime.time: 시간(시, 분, 초, 마이크로초)을 표현하는 클래스\n",
        "- datetime.datetime: 날짜와 시간을 모두 포함하는 클래스\n",
        "    - now(): 현재의 날짜와 시간을 반환\n",
        "- datetime.timedelta: 두 날짜/시간 간의 차이를 표현하는 클래스\n",
        "- datetime.tzinfo: 시간대 정보를 위한 기본 클래스\n",
        "\n",
        "datetime 모듈의 날짜와 시간 객체들을 문자열 형식으로 포맷팅하거나 문자열로부터 날짜와 시간 객체를 생성하기 위해 사용하는 주요 메서드는 strftime()와 strptime()\n",
        "- strftime() (String Format Time)\n",
        "    - 날짜와 시간 객체를 문자열로 변환하는 데 사용\n",
        "    - 사용자가 지정한 형식 문자열을 기반으로 날짜와 시간 정보를 문자열로 표현\n",
        "- strptime() (String Parse Time)\n",
        "    - 문자열을 날짜와 시간 객체로 변환하는 데 사용\n",
        "    - 주어진 형식 문자열을 기반으로 문자열에서 날짜와 시간 정보를 파싱"
      ],
      "metadata": {
        "id": "b_k5W7K0nyuT"
      }
    },
    {
      "cell_type": "code",
      "source": [
        "import datetime\n",
        "\n",
        "# 현재 날짜와 시간 가져오기\n",
        "now=datetime.datetime.now()\n",
        "print(now)         #예)2024-05-08 05:22:13.703529\n",
        "\n",
        "# 오늘의 날짜만 가져오기\n",
        "today=datetime.date.today()\n",
        "print(today)      #예)2024-05-08\n",
        "\n",
        "# 날짜 간의 차이 계산\n",
        "delta=datetime.timedelta(days=7)   #7일의 기간\n",
        "new_date=today+delta\n",
        "print(new_date)        #오늘로부터 7일 후의 날짜\n",
        "# 두 날짜 간의 차이 계산\n",
        "date1=datetime.date(2023,1,1)\n",
        "date2=datetime.date(2023,12,31)\n",
        "diff=date2-date1\n",
        "print(diff.days)"
      ],
      "metadata": {
        "colab": {
          "base_uri": "https://localhost:8080/"
        },
        "id": "hi178cNLnikL",
        "outputId": "cf32aa50-9e3a-4b4c-8781-92da8dd2a23a"
      },
      "execution_count": 46,
      "outputs": [
        {
          "output_type": "stream",
          "name": "stdout",
          "text": [
            "2024-05-08 05:26:22.381458\n",
            "2024-05-08\n",
            "2024-05-15\n",
            "364\n"
          ]
        }
      ]
    },
    {
      "cell_type": "markdown",
      "source": [
        "포맷 코드 표<BR>\n",
        "포맷코드   설명   예<BR>\n",
        "%a   요일 줄임말   Sun, Mon, ... Sat<BR>\n",
        "%A   요일   Sunday, Monday, ..., Saturday<BR>\n",
        "%w   요일을 숫자로 표시, 월요일일요일, 06   0, 1, ..., 6<BR>\n",
        "%d   일   01, 02, ..., 31<BR>\n",
        "%b   월 줄임말   Jan, Feb, ..., Dec<BR>\n",
        "%B   월   January, February, …, December<BR>\n",
        "%m   숫자 월   01, 02, ..., 12<BR>\n",
        "%y   두 자릿수 연도   01, 02, ..., 99<BR>\n",
        "%Y   네 자릿수 연도   0001, 0002, ..., 2017, 2018, 9999<BR>\n",
        "%H   시간(24시간)   00, 01, ..., 23<BR>\n",
        "%I   시간(12시간)   01, 02, ..., 12<BR>\n",
        "%p   AM, PM   AM, PM<BR>\n",
        "%M   분   00, 01, ..., 59<BR>\n",
        "%S   초   00, 01, ..., 59<BR>\n",
        "%Z   시간대   대한민국 표준시<BR>\n",
        "%j   1월 1일부터 경과한 일수   001, 002, ..., 366<BR>\n",
        "%U   1년중 주차, 월요일이 한 주의 시작으로   00, 01, ..., 53<BR>\n",
        "%W   1년중 주차, 월요일이 한 주의 시작으로   00, 01, ..., 53<BR>\n",
        "%c   날짜, 요일, 시간을 출력, 현재 시간대 기준   Sat May 19 11:14:27 2018<BR>\n",
        "%x   날짜를 출력, 현재 시간대 기준   05/19/18<BR>\n",
        "%X   시간을 출력, 현재 시간대 기준   '11:44:22'"
      ],
      "metadata": {
        "id": "BWEiL-qesZZP"
      }
    },
    {
      "cell_type": "code",
      "source": [
        "import datetime\n",
        "\n",
        "now=datetime.datetime.now()\n",
        "print(now,type(now))\n",
        "formatted=now.strftime(\"%y-%m-%d %H:%M:%S\")\n",
        "print(formatted,type(formatted))\n"
      ],
      "metadata": {
        "colab": {
          "base_uri": "https://localhost:8080/"
        },
        "id": "qdkobs03p4Mz",
        "outputId": "8b259e1d-3404-4465-be74-2f41dad164b9"
      },
      "execution_count": 50,
      "outputs": [
        {
          "output_type": "stream",
          "name": "stdout",
          "text": [
            "2024-05-08 05:34:31.694447 <class 'datetime.datetime'>\n",
            "24-05-08 05:34:31 <class 'str'>\n"
          ]
        }
      ]
    },
    {
      "cell_type": "code",
      "source": [
        "import datetime\n",
        "\n",
        "date_string = \"2023-11-02 14:45:30\"\n",
        "print(date_string,type(date_string))\n",
        "\n",
        "dt = datetime.datetime.strptime(date_string, \"%Y-%m-%d %H:%M:%S\")\n",
        "print(dt,type(dt))"
      ],
      "metadata": {
        "colab": {
          "base_uri": "https://localhost:8080/"
        },
        "id": "VcC44puesl2T",
        "outputId": "35ad41dc-aff0-49f4-ae09-6fc4ac6e63ab"
      },
      "execution_count": 6,
      "outputs": [
        {
          "output_type": "stream",
          "name": "stdout",
          "text": [
            "2023-11-02 14:45:30 <class 'str'>\n",
            "2023-11-02 14:45:30 <class 'datetime.datetime'>\n"
          ]
        }
      ]
    },
    {
      "cell_type": "markdown",
      "source": [
        "time 모듈\n",
        "- 시스템 시간에 접근하거나 간단한 타이머 기능을 구현\n",
        "- 함수와 같이 프로그램을 일정 시간 동안 중지시키는 데 사용\n",
        "- 시간을 연도, 월, 일, 시, 분, 초 등의 구성 요소로 변환하고 다룰 수 있는 struct_time 객체를 제공\n",
        "- time 모듈은 날짜와 시간을 처리하는 다양한 프로그래밍 요구에 대응할 수 있는 기본적인 기능을 제공하지만, 더 복잡한 날짜 시간 처리나 시간대 변환 등은 datetime 모듈 또는 외부 라이브러리를 사용"
      ],
      "metadata": {
        "id": "dyvCtuUUu1y6"
      }
    },
    {
      "cell_type": "code",
      "source": [
        "# localtime()함수는 파이썬의 time모듈에 포함되어 있으며 이 함수는 초로 표시되는 시간을 구조화된 시간 튜플 형태\n",
        "import time\n",
        "local_time=time.localtime()\n",
        "print(local_time)"
      ],
      "metadata": {
        "colab": {
          "base_uri": "https://localhost:8080/"
        },
        "id": "PrshhDBDug9Y",
        "outputId": "c683349d-f1ed-4c4f-ccfa-e636015abb0a"
      },
      "execution_count": 8,
      "outputs": [
        {
          "output_type": "stream",
          "name": "stdout",
          "text": [
            "time.struct_time(tm_year=2024, tm_mon=5, tm_mday=8, tm_hour=5, tm_min=46, tm_sec=45, tm_wday=2, tm_yday=129, tm_isdst=0)\n"
          ]
        }
      ]
    },
    {
      "cell_type": "code",
      "source": [
        "# 현재 시간을 1970년 1월 1일 0시 0분 0초(유닉스 시간의 시작)부터 현재까지의 초(second)로 표현한 값을 반환\n",
        "import time\n",
        "time.time()"
      ],
      "metadata": {
        "colab": {
          "base_uri": "https://localhost:8080/"
        },
        "id": "xNkjVNJPvPpW",
        "outputId": "e83497d5-4861-46b9-e6f9-be80d00fa3b7"
      },
      "execution_count": 11,
      "outputs": [
        {
          "output_type": "execute_result",
          "data": {
            "text/plain": [
              "1715147320.2381914"
            ]
          },
          "metadata": {},
          "execution_count": 11
        }
      ]
    },
    {
      "cell_type": "code",
      "source": [
        "# 초로 표현된 시간을 구조화된 시간 튜플 형태로 변환\n",
        "t=time.time()\n",
        "time.localtime(t)"
      ],
      "metadata": {
        "colab": {
          "base_uri": "https://localhost:8080/"
        },
        "id": "MKIv2az-vzG_",
        "outputId": "5b1499b1-450f-46c8-f519-a7f171d88aa2"
      },
      "execution_count": 12,
      "outputs": [
        {
          "output_type": "execute_result",
          "data": {
            "text/plain": [
              "time.struct_time(tm_year=2024, tm_mon=5, tm_mday=8, tm_hour=5, tm_min=49, tm_sec=38, tm_wday=2, tm_yday=129, tm_isdst=0)"
            ]
          },
          "metadata": {},
          "execution_count": 12
        }
      ]
    },
    {
      "cell_type": "code",
      "source": [
        "# strftime 함수는 시간에 관계된 것을 세밀하게 표현할 수 있는 여라 가지 포맷 코드 제공\n",
        "# time.localtime() 함수는 초로 표현된 시간을 구조화된 시간 튜플 형태로 변환\n",
        "import time\n",
        "d=time.strftime('%d',time.localtime(time.time()))\n",
        "m=time.strftime('%m',time.localtime(time.time()))\n",
        "y=time.strftime('%Y',time.localtime(time.time()))\n",
        "a=time.strftime('%A',time.localtime(time.time()))\n",
        "print(d)\n",
        "print(m)\n",
        "print(y)\n",
        "print(a)"
      ],
      "metadata": {
        "colab": {
          "base_uri": "https://localhost:8080/"
        },
        "id": "l_ZZgX2HwNqS",
        "outputId": "eb12e835-2b35-4fd2-eee3-fb820af6faef"
      },
      "execution_count": 13,
      "outputs": [
        {
          "output_type": "stream",
          "name": "stdout",
          "text": [
            "08\n",
            "05\n",
            "2024\n",
            "Wednesday\n"
          ]
        }
      ]
    },
    {
      "cell_type": "code",
      "source": [
        "# Q 1609160537.371015을 \"Sat Jun 26 08:35:03 2021\" 포맷으로 출력하세요\n",
        "import datetime\n",
        "timestamp=1609160537.371015\n",
        "dt=datetime.datetime.fromtimestamp(timestamp)\n",
        "formatted_date=dt.strftime(\"%a %b %d %H:%S:%Y\")\n",
        "print(formatted_date)"
      ],
      "metadata": {
        "colab": {
          "base_uri": "https://localhost:8080/"
        },
        "id": "XL_SXzDVz66_",
        "outputId": "de9d6495-4eb3-494d-c9bf-5aa0ad23a74a"
      },
      "execution_count": 18,
      "outputs": [
        {
          "output_type": "stream",
          "name": "stdout",
          "text": [
            "Mon Dec 28 13:17:2020\n"
          ]
        }
      ]
    },
    {
      "cell_type": "code",
      "source": [
        "import time\n",
        "t=time.localtime(1609160537.371015)\n",
        "print(t)\n",
        "local_time=time.strftime(\"%a %b %d %H:%S:%Y\",t)\n",
        "print(local_time)"
      ],
      "metadata": {
        "colab": {
          "base_uri": "https://localhost:8080/"
        },
        "id": "YIfObjpc0xzM",
        "outputId": "b7c5d58d-226b-40cf-93ec-b74e22291c89"
      },
      "execution_count": 20,
      "outputs": [
        {
          "output_type": "stream",
          "name": "stdout",
          "text": [
            "time.struct_time(tm_year=2020, tm_mon=12, tm_mday=28, tm_hour=13, tm_min=2, tm_sec=17, tm_wday=0, tm_yday=363, tm_isdst=0)\n",
            "Mon Dec 28 13:17:2020\n"
          ]
        }
      ]
    },
    {
      "cell_type": "code",
      "source": [
        "import time\n",
        "current_time=time.localtime(1609160537.371015)\n",
        "print(current_time)\n",
        "# struct_time 객체를 인간이 읽을 수 있는 형태로 변환합니다\n",
        "readable_time=time.asctime(current_time)\n",
        "print(readable_time)"
      ],
      "metadata": {
        "colab": {
          "base_uri": "https://localhost:8080/"
        },
        "id": "A0eN64xd1dc6",
        "outputId": "89efeda4-d2d6-4028-82f9-df5ccf03eb05"
      },
      "execution_count": 21,
      "outputs": [
        {
          "output_type": "stream",
          "name": "stdout",
          "text": [
            "time.struct_time(tm_year=2020, tm_mon=12, tm_mday=28, tm_hour=13, tm_min=2, tm_sec=17, tm_wday=0, tm_yday=363, tm_isdst=0)\n",
            "Mon Dec 28 13:02:17 2020\n"
          ]
        }
      ]
    },
    {
      "cell_type": "code",
      "source": [
        "# timestamp -> str\n",
        "import time\n",
        "t=time.time()\n",
        "print(t,type(t))\n",
        "s=str(t)\n",
        "print(s,type(s))"
      ],
      "metadata": {
        "colab": {
          "base_uri": "https://localhost:8080/"
        },
        "id": "2Ccd9xv82JWH",
        "outputId": "dd9af49b-543d-4b62-f0a6-55d91038624e"
      },
      "execution_count": 22,
      "outputs": [
        {
          "output_type": "stream",
          "name": "stdout",
          "text": [
            "1715149225.731344 <class 'float'>\n",
            "1715149225.731344 <class 'str'>\n"
          ]
        }
      ]
    },
    {
      "cell_type": "code",
      "source": [
        "# timestamp -> datetime\n",
        "from datetime import datetime\n",
        "t=time.time()\n",
        "print(t,type(t))\n",
        "d=datetime.fromtimestamp(t)\n",
        "print(d,type(d))"
      ],
      "metadata": {
        "colab": {
          "base_uri": "https://localhost:8080/"
        },
        "id": "qlllUv_53UX9",
        "outputId": "69592ff6-76e7-48eb-a142-4b7cc39fc37f"
      },
      "execution_count": 25,
      "outputs": [
        {
          "output_type": "stream",
          "name": "stdout",
          "text": [
            "1715149357.1995242 <class 'float'>\n",
            "2024-05-08 06:22:37.199524 <class 'datetime.datetime'>\n"
          ]
        }
      ]
    },
    {
      "cell_type": "code",
      "source": [
        "# datetime -> str\n",
        "from datetime import datetime\n",
        "\n",
        "s=datetime.now()\n",
        "print(s,type(s))\n",
        "\n",
        "s1=s.strftime(\"%Y-%m-%d %H:%M:%S\")\n",
        "print(s1,type(s1))"
      ],
      "metadata": {
        "colab": {
          "base_uri": "https://localhost:8080/"
        },
        "id": "XWxIJvJV4ypM",
        "outputId": "97340827-c0fc-464e-aada-8b597487306e"
      },
      "execution_count": 27,
      "outputs": [
        {
          "output_type": "stream",
          "name": "stdout",
          "text": [
            "2024-05-08 06:31:18.177827 <class 'datetime.datetime'>\n",
            "2024-05-08 06:31:18 <class 'str'>\n"
          ]
        }
      ]
    },
    {
      "cell_type": "code",
      "source": [
        "# timestamp -> datetime -> str\n",
        "import time\n",
        "from datetime import datetime\n",
        "t=time.time()\n",
        "d=datetime.fromtimestamp(t)  #timestamp -> datetime\n",
        "s=d.strftime(\"%Y-%m-%d %X\")  #datetime -> str, %X 시간을 출력 현재 시간대 기준 '11:44:22'\n",
        "s"
      ],
      "metadata": {
        "colab": {
          "base_uri": "https://localhost:8080/",
          "height": 35
        },
        "id": "Sdj7PxKn5ul0",
        "outputId": "ee8014e3-870d-4c4b-9e70-ee6aaa3dc650"
      },
      "execution_count": 28,
      "outputs": [
        {
          "output_type": "execute_result",
          "data": {
            "text/plain": [
              "'2024-05-08 06:36:40'"
            ],
            "application/vnd.google.colaboratory.intrinsic+json": {
              "type": "string"
            }
          },
          "metadata": {},
          "execution_count": 28
        }
      ]
    },
    {
      "cell_type": "code",
      "source": [
        "# str -> datetime\n",
        "from datetime import datetime\n",
        "s='2021-07-20 11:13:58'\n",
        "print(s,type(s))\n",
        "d=datetime.strptime(s,\"%Y-%m-%d %H:%M:%S\")\n",
        "print(d,type(d))"
      ],
      "metadata": {
        "colab": {
          "base_uri": "https://localhost:8080/"
        },
        "id": "GgpCP4mc6-vF",
        "outputId": "88d39e50-40d4-4866-f3be-29ebedfa087f"
      },
      "execution_count": 30,
      "outputs": [
        {
          "output_type": "stream",
          "name": "stdout",
          "text": [
            "2021-07-20 11:13:58 <class 'str'>\n",
            "2021-07-20 11:13:58 <class 'datetime.datetime'>\n"
          ]
        }
      ]
    },
    {
      "cell_type": "code",
      "source": [
        "# datetime -> timestamp\n",
        "d=datetime.today()\n",
        "print(d,type(d))\n",
        "timestamp=time.mktime(d.timetuple())\n",
        "print(timestamp,type(timestamp))"
      ],
      "metadata": {
        "colab": {
          "base_uri": "https://localhost:8080/"
        },
        "id": "uB9gmKO68MI_",
        "outputId": "22bbb67f-8898-4534-d8ae-7b50f3bcae1a"
      },
      "execution_count": 32,
      "outputs": [
        {
          "output_type": "stream",
          "name": "stdout",
          "text": [
            "2024-05-08 06:44:07.695692 <class 'datetime.datetime'>\n",
            "1715150647.0 <class 'float'>\n"
          ]
        }
      ]
    },
    {
      "cell_type": "code",
      "source": [
        "# str -> datetime -> timestamp\n",
        "s='2021-07-20 11:13:58'\n",
        "timestamp=time.mktime(datetime.strptime(s,\"%Y-%m-%d %H:%M:%S\").timetuple())\n",
        "print(timestamp,type(timestamp))"
      ],
      "metadata": {
        "colab": {
          "base_uri": "https://localhost:8080/"
        },
        "id": "ZUasuM3M8ahR",
        "outputId": "2f8cd1f0-3c1d-46c3-829c-ce8410263af6"
      },
      "execution_count": 33,
      "outputs": [
        {
          "output_type": "stream",
          "name": "stdout",
          "text": [
            "1626779638.0 <class 'float'>\n"
          ]
        }
      ]
    },
    {
      "cell_type": "code",
      "source": [],
      "metadata": {
        "id": "2lzNfscX9gkF"
      },
      "execution_count": null,
      "outputs": []
    }
  ]
}