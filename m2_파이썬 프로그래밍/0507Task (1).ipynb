{
  "nbformat": 4,
  "nbformat_minor": 0,
  "metadata": {
    "colab": {
      "provenance": []
    },
    "kernelspec": {
      "name": "python3",
      "display_name": "Python 3"
    },
    "language_info": {
      "name": "python"
    }
  },
  "cells": [
    {
      "cell_type": "markdown",
      "source": [
        "Task1_0507. 튜플 형태인 strings를 다양한 문자가 포함된 순서로 정렬하세요.\n",
        "\n",
        "strings = ('a', 'ca', 'bar', 'aaaa', 'ababa')"
      ],
      "metadata": {
        "id": "nTb0IR4utSXf"
      }
    },
    {
      "cell_type": "code",
      "execution_count": 6,
      "metadata": {
        "colab": {
          "base_uri": "https://localhost:8080/"
        },
        "id": "-XpgyaxVtKTD",
        "outputId": "013c474f-5f5c-449d-9f44-d510773fc03c"
      },
      "outputs": [
        {
          "output_type": "stream",
          "name": "stdout",
          "text": [
            "['bar', 'ca', 'ababa', 'a', 'aaaa']\n"
          ]
        }
      ],
      "source": [
        "strings = ('a', 'ca', 'bar', 'aaaa', 'ababa')\n",
        "# sorted_strings = sorted(strings,reverse=True)\n",
        "# print(sorted_strings)\n",
        "# sorted_strings = sorted(strings)\n",
        "# print(sorted_strings)\n",
        "sorted_strings = sorted(strings, key=lambda x: len(set(x)),reverse=True)\n",
        "print(sorted_strings)"
      ]
    },
    {
      "cell_type": "code",
      "source": [
        "strings = ('a', 'ca', 'bar', 'aaaa', 'ababa')\n",
        "strings=list(strings)\n",
        "strings.sort(key=lambda x: len(set(x)),reverse=True)\n",
        "print(list(strings))"
      ],
      "metadata": {
        "colab": {
          "base_uri": "https://localhost:8080/"
        },
        "id": "VMRU8tDFmiOJ",
        "outputId": "daf5061f-8d3a-40b5-9a9d-5095dc198abc"
      },
      "execution_count": 7,
      "outputs": [
        {
          "output_type": "stream",
          "name": "stdout",
          "text": [
            "['bar', 'ca', 'ababa', 'a', 'aaaa']\n"
          ]
        }
      ]
    },
    {
      "cell_type": "markdown",
      "source": [
        "Task2_0507. a,b 변수와 연산자를 입력하면 사칙연산을 수행하는 코드를 작성하세요.(eval 사용하는 경우와 안하는 경우)"
      ],
      "metadata": {
        "id": "B6FlHmLwwuGa"
      }
    },
    {
      "cell_type": "code",
      "source": [
        "num=input('5+5:')\n",
        "result=eval(num)\n",
        "print(result)"
      ],
      "metadata": {
        "id": "TwPLwmznwuv6",
        "colab": {
          "base_uri": "https://localhost:8080/"
        },
        "outputId": "6302b142-df6b-4556-b82c-78345eda92d5"
      },
      "execution_count": 9,
      "outputs": [
        {
          "output_type": "stream",
          "name": "stdout",
          "text": [
            "5+5:3*3\n",
            "9\n"
          ]
        }
      ]
    },
    {
      "cell_type": "code",
      "source": [
        "num=input('5+5:')\n",
        "maths=['+','-','/','*']\n",
        "math = {'+':lambda a,b:a+b,'-':lambda a,b:a-b,'/':lambda a,b:a/b,'*':lambda a,b:a*b}\n",
        "\n",
        "num_list=list(num)\n",
        "for i in num_list:\n",
        "  if i in maths:\n",
        "    num=num.split(i)\n",
        "    print(math[i](int(num[0]),int(num[1])))  #3*3을 입력시 *:lanbda 3,3:3*3"
      ],
      "metadata": {
        "colab": {
          "base_uri": "https://localhost:8080/"
        },
        "id": "B3sBhiZXnme3",
        "outputId": "48ab7ffe-c15d-49b3-8ce7-0c1846c7df47"
      },
      "execution_count": 16,
      "outputs": [
        {
          "output_type": "stream",
          "name": "stdout",
          "text": [
            "5+5:3*3\n",
            "9\n"
          ]
        }
      ]
    },
    {
      "cell_type": "markdown",
      "source": [
        "Task3_0507. list1에 대해서 아래와 같이 출력하는 코드를 작성하세요.\n",
        "\n",
        "인사평가 1번째 해당자는 김부장입니다. 회의실A로 오시기 바랍니다.\\\n",
        "인사평가 2번째 해당자는 이차장입니다. 회의실A로 오시기 바랍니다.\\\n",
        "인사평가 3번째 해당자는 김과장입니다. 회의실A로 오시기 바랍니다.\\\n",
        "인사평가 4번째 해당자는 이대리입니다. 회의실A로 오시기 바랍니다.\\\n",
        "인사평가 5번째 해당자는 오사원입니다. 회의실A로 오시기 바랍니다.\\\n",
        "인사평가 6번째 해당자는 김인턴입니다. 회의실A로 오시기 바랍니다.\\\n",
        "list1 = ['김부장', '이차장', '김과장', '이대리', '오사원', '김인턴']"
      ],
      "metadata": {
        "id": "gVLuK6S_zxyw"
      }
    },
    {
      "cell_type": "code",
      "source": [
        "list1 = ['김부장', '이차장', '김과장', '이대리', '오사원', '김인턴']\n",
        "for i,j in enumerate(list1):\n",
        "    print(f\"인사평가{i+1}번째 해당자는 {j}입니다 회의실A로 오시기 바랍니다\")"
      ],
      "metadata": {
        "colab": {
          "base_uri": "https://localhost:8080/"
        },
        "id": "5q_Lmj5Mzygy",
        "outputId": "e8b32537-bc30-4d93-9467-f48b0eb8be15"
      },
      "execution_count": null,
      "outputs": [
        {
          "output_type": "stream",
          "name": "stdout",
          "text": [
            "인사평가1번째 해당자는 김부장입니다 회의실A로 오시기 바랍니다\n",
            "인사평가2번째 해당자는 이차장입니다 회의실A로 오시기 바랍니다\n",
            "인사평가3번째 해당자는 김과장입니다 회의실A로 오시기 바랍니다\n",
            "인사평가4번째 해당자는 이대리입니다 회의실A로 오시기 바랍니다\n",
            "인사평가5번째 해당자는 오사원입니다 회의실A로 오시기 바랍니다\n",
            "인사평가6번째 해당자는 김인턴입니다 회의실A로 오시기 바랍니다\n"
          ]
        }
      ]
    },
    {
      "cell_type": "markdown",
      "source": [
        "Task4_0507. 주어진 문자열 리스트의 요소들을 대문자로 변환하세요.\n",
        "words = [\"hello\", \"world\", \"python\", \"map\"]"
      ],
      "metadata": {
        "id": "VdW69CmZ0Skg"
      }
    },
    {
      "cell_type": "code",
      "source": [
        "words = [\"hello\", \"world\", \"python\", \"map\"]\n",
        "result=[word.upper() for word in words]\n",
        "print(result)"
      ],
      "metadata": {
        "colab": {
          "base_uri": "https://localhost:8080/"
        },
        "id": "2ZaXAKrL0TE1",
        "outputId": "762ba576-c1f9-42cc-ab27-d38589c6d213"
      },
      "execution_count": null,
      "outputs": [
        {
          "output_type": "stream",
          "name": "stdout",
          "text": [
            "['HELLO', 'WORLD', 'PYTHON', 'MAP']\n"
          ]
        }
      ]
    },
    {
      "cell_type": "code",
      "source": [
        "words = [\"hello\", \"world\", \"python\", \"map\"]\n",
        "print([i.upper() for i in words])"
      ],
      "metadata": {
        "colab": {
          "base_uri": "https://localhost:8080/"
        },
        "id": "wDqy4EN0q6Ak",
        "outputId": "68922997-df15-4858-b23c-2781d063a7fc"
      },
      "execution_count": 18,
      "outputs": [
        {
          "output_type": "stream",
          "name": "stdout",
          "text": [
            "['HELLO', 'WORLD', 'PYTHON', 'MAP']\n"
          ]
        }
      ]
    },
    {
      "cell_type": "code",
      "source": [
        "# 인덱스를 이용\n",
        "words = [\"hello\", \"world\", \"python\", \"map\"]\n",
        "for i in range(len(words)):\n",
        "  words[i]=words[i].upper()\n",
        "print(words)"
      ],
      "metadata": {
        "colab": {
          "base_uri": "https://localhost:8080/"
        },
        "id": "OcjH5-YpvlYA",
        "outputId": "84385476-3354-4fa6-a87d-366920befcda"
      },
      "execution_count": 22,
      "outputs": [
        {
          "output_type": "stream",
          "name": "stdout",
          "text": [
            "['HELLO', 'WORLD', 'PYTHON', 'MAP']\n"
          ]
        }
      ]
    },
    {
      "cell_type": "code",
      "source": [
        "# 요소를 이용\n",
        "result=[]\n",
        "words = [\"hello\", \"world\", \"python\", \"map\"]\n",
        "for word in words:\n",
        "  result.append(word.upper())\n",
        "print(result)"
      ],
      "metadata": {
        "colab": {
          "base_uri": "https://localhost:8080/"
        },
        "id": "Z1F2Xlw3vEEh",
        "outputId": "b38268ea-8917-4171-b39e-2d782035804d"
      },
      "execution_count": 20,
      "outputs": [
        {
          "output_type": "stream",
          "name": "stdout",
          "text": [
            "['HELLO', 'WORLD', 'PYTHON', 'MAP']\n"
          ]
        }
      ]
    },
    {
      "cell_type": "code",
      "source": [
        "# str.upper는 문자열의 모든 문자를 대문자로 변환하는 메서드\n",
        "words = [\"hello\", \"world\", \"python\", \"map\"]\n",
        "upper_words=list(map(str.upper,words))\n",
        "print(upper_words)"
      ],
      "metadata": {
        "colab": {
          "base_uri": "https://localhost:8080/"
        },
        "id": "Qo4DEHNGvrdG",
        "outputId": "2e56b248-fa5c-474a-c3e6-e2bbe033606f"
      },
      "execution_count": 21,
      "outputs": [
        {
          "output_type": "stream",
          "name": "stdout",
          "text": [
            "['HELLO', 'WORLD', 'PYTHON', 'MAP']\n"
          ]
        }
      ]
    },
    {
      "cell_type": "code",
      "source": [
        "print(type(str.upper))"
      ],
      "metadata": {
        "colab": {
          "base_uri": "https://localhost:8080/"
        },
        "id": "kcmhtHl9wsKb",
        "outputId": "d7e9e099-547a-4640-feaf-3870410b451b"
      },
      "execution_count": 24,
      "outputs": [
        {
          "output_type": "stream",
          "name": "stdout",
          "text": [
            "<class 'method_descriptor'>\n"
          ]
        }
      ]
    },
    {
      "cell_type": "markdown",
      "source": [
        "Task5_0507. 주어진 리스트에서 'p'로 시작하는 단어만 필터링하세요.\n",
        "\n",
        "words = [\"python\", \"is\", \"powerful\", \"programming\", \"language\", \"pandas\"]"
      ],
      "metadata": {
        "id": "mE9HoALS0TVd"
      }
    },
    {
      "cell_type": "code",
      "source": [
        "words = [\"python\", \"is\", \"powerful\", \"programming\", \"language\", \"pandas\"]\n",
        "result=[]\n",
        "for word in words:\n",
        "  if word[0] == 'p':\n",
        "    result.append(word)\n",
        "print(result)"
      ],
      "metadata": {
        "colab": {
          "base_uri": "https://localhost:8080/"
        },
        "id": "Qo-nH9mI0UtN",
        "outputId": "0ec05293-5a54-459a-cfb1-69011fc11998"
      },
      "execution_count": null,
      "outputs": [
        {
          "output_type": "stream",
          "name": "stdout",
          "text": [
            "['python', 'powerful', 'programming', 'pandas']\n"
          ]
        }
      ]
    },
    {
      "cell_type": "code",
      "source": [
        "words = [\"python\", \"is\", \"powerful\", \"programming\", \"language\", \"pandas\"]\n",
        "print([i for i in words if i.startswith('p')])"
      ],
      "metadata": {
        "colab": {
          "base_uri": "https://localhost:8080/"
        },
        "id": "YegMmYBgww5x",
        "outputId": "0a9a55f9-8845-44ea-935e-e2fedabea5c6"
      },
      "execution_count": 25,
      "outputs": [
        {
          "output_type": "stream",
          "name": "stdout",
          "text": [
            "['python', 'powerful', 'programming', 'pandas']\n"
          ]
        }
      ]
    },
    {
      "cell_type": "code",
      "source": [
        "words = [\"python\", \"is\", \"powerful\", \"programming\", \"language\", \"pandas\"]\n",
        "p_words=list(filter(lambda x: x.startswith('p'),words))\n",
        "print(p_words)"
      ],
      "metadata": {
        "colab": {
          "base_uri": "https://localhost:8080/"
        },
        "id": "Qsphc-vkxLXL",
        "outputId": "29772eea-845e-466e-e65d-325d93e5f073"
      },
      "execution_count": 27,
      "outputs": [
        {
          "output_type": "stream",
          "name": "stdout",
          "text": [
            "['python', 'powerful', 'programming', 'pandas']\n"
          ]
        }
      ]
    },
    {
      "cell_type": "markdown",
      "source": [
        "Task6_0507. 내장함수를 이용해서 list = [0,1,2,3,4,5,6]에서 2를 삭제 후 출력하세요.(2가지 방법)"
      ],
      "metadata": {
        "id": "wvF9gTQj0atI"
      }
    },
    {
      "cell_type": "code",
      "source": [
        "# list = [0, 1, 2, 3, 4, 5, 6]\n",
        "# # del list[list.index(2)]\n",
        "# # print(list)\n",
        "# list.remove(2)\n",
        "# print(list)\n",
        "\n",
        "from ast import operator\n",
        "list1=[0,1,2,3,4,5,6]\n",
        "operation=input(\"실행할 리스트 연산을 입력하세요 (예:'list1.pop(2)):>\")\n",
        "eval(operation)\n",
        "print(f\"수정된 데이터: {list1}\")"
      ],
      "metadata": {
        "colab": {
          "base_uri": "https://localhost:8080/"
        },
        "id": "1Aze1Ug70bCO",
        "outputId": "13b29414-d5b3-47d3-b53c-1345b9e3a663"
      },
      "execution_count": null,
      "outputs": [
        {
          "output_type": "stream",
          "name": "stdout",
          "text": [
            "실행할 리스트 연산을 입력하세요 (예:'list1.pop(2)):>list1.pop(2)\n",
            "수정된 데이터: [0, 1, 3, 4, 5, 6]\n"
          ]
        }
      ]
    },
    {
      "cell_type": "code",
      "source": [
        "list = [0, 1, 2, 3, 4, 5, 6]\n",
        "del list[2]\n",
        "print(list)"
      ],
      "metadata": {
        "colab": {
          "base_uri": "https://localhost:8080/"
        },
        "id": "UrHerscKyXwc",
        "outputId": "9888f49a-ecf2-414d-a451-6b8521aa8337"
      },
      "execution_count": 28,
      "outputs": [
        {
          "output_type": "stream",
          "name": "stdout",
          "text": [
            "[0, 1, 3, 4, 5, 6]\n"
          ]
        }
      ]
    },
    {
      "cell_type": "code",
      "source": [
        "list = [0, 1, 7, 2, 3, 4, 5, 6]\n",
        "list.remove(7)    #값\n",
        "print(list)"
      ],
      "metadata": {
        "colab": {
          "base_uri": "https://localhost:8080/"
        },
        "id": "1UNuC1WSyhoL",
        "outputId": "a124b365-8e25-4900-b395-f8cdb677a1d7"
      },
      "execution_count": 38,
      "outputs": [
        {
          "output_type": "stream",
          "name": "stdout",
          "text": [
            "[0, 1, 2, 3, 4, 5, 6]\n"
          ]
        }
      ]
    },
    {
      "cell_type": "code",
      "source": [
        "list = [0, 1, 2, 3, 4, 5, 6]\n",
        "list.pop(2)     #인덱스\n",
        "print(list)"
      ],
      "metadata": {
        "colab": {
          "base_uri": "https://localhost:8080/"
        },
        "id": "WCzod-GHymS1",
        "outputId": "fb672c70-7e22-4049-f83d-3769fa5966ea"
      },
      "execution_count": 30,
      "outputs": [
        {
          "output_type": "stream",
          "name": "stdout",
          "text": [
            "[0, 1, 3, 4, 5, 6]\n"
          ]
        }
      ]
    },
    {
      "cell_type": "markdown",
      "source": [
        "Task7_0507. 내장함수를 이용하여 동일한 개수로 이루어진 자료형을 화살표 좌측에서 우측으로 변환하세요.\n",
        "\n",
        "[1,2,3],[4,5,6] -> [(1,4),(2,5),(3,6)]\\\n",
        "[1,2,3],[4,5,6] [7,8,9] -> [(1,4,7),(2,5,8),(3,6,9)]\\\n",
        "('abc','def') -> [('a','d'),('b','e'),('c','f')]"
      ],
      "metadata": {
        "id": "QORSMfZs0zaC"
      }
    },
    {
      "cell_type": "code",
      "source": [
        "list1 = [1, 2, 3]\n",
        "list2 = [4, 5, 6]\n",
        "a = zip(list1, list2)\n",
        "for i in a:\n",
        "    print(i)\n",
        "\n",
        "list1 = [1, 2, 3]\n",
        "list2 = [4, 5, 6]\n",
        "list3 = [7, 8, 9]\n",
        "a = zip(list1,list2,list3)\n",
        "for i in a:\n",
        "  print(i)\n",
        "\n",
        "tuple1 = ('a', 'b', 'c')\n",
        "tuple2 = ('d', 'e', 'f')\n",
        "a = zip(tuple1, tuple2)\n",
        "for i in a:\n",
        "  print(i)"
      ],
      "metadata": {
        "id": "i-o6ZaTR00JX",
        "colab": {
          "base_uri": "https://localhost:8080/"
        },
        "outputId": "25b4fe09-3c64-47cb-ca80-65de079e5643"
      },
      "execution_count": 32,
      "outputs": [
        {
          "output_type": "stream",
          "name": "stdout",
          "text": [
            "(1, 4)\n",
            "(2, 5)\n",
            "(3, 6)\n",
            "(1, 4, 7)\n",
            "(2, 5, 8)\n",
            "(3, 6, 9)\n",
            "('a', 'd')\n",
            "('b', 'e')\n",
            "('c', 'f')\n"
          ]
        }
      ]
    },
    {
      "cell_type": "code",
      "source": [
        "list1 = [1, 2, 3]\n",
        "list2 = [4, 5, 6]\n",
        "list3 = [7, 8, 9]\n",
        "tuple1 = ('abc','def')\n",
        "print([i for i in zip(list1,list2)])\n",
        "print([i for i in zip(list1,list2,list3)])\n",
        "print([i for i in zip(tuple1[0],tuple1[1])])"
      ],
      "metadata": {
        "colab": {
          "base_uri": "https://localhost:8080/"
        },
        "id": "6gWRk6zPzmLR",
        "outputId": "7045959e-7278-4c76-c863-4ac3b04b424b"
      },
      "execution_count": 41,
      "outputs": [
        {
          "output_type": "stream",
          "name": "stdout",
          "text": [
            "[(1, 4), (2, 5), (3, 6)]\n",
            "[(1, 4, 7), (2, 5, 8), (3, 6, 9)]\n",
            "[('a', 'd'), ('b', 'e'), ('c', 'f')]\n"
          ]
        }
      ]
    },
    {
      "cell_type": "markdown",
      "source": [
        "Task8_0507. url에서 호스트 도메인(news.naver.com)을 추출하여 출력하세요.\n",
        "\n",
        "url = 'http://news.naver.com/main/read.nhn?mode=LSD&mid=shm&sid1=105&oid=028&aid=0002334601'"
      ],
      "metadata": {
        "id": "gtSAN_wg34oW"
      }
    },
    {
      "cell_type": "code",
      "source": [
        "url = 'http://news.naver.com/main/read.nhn?mode=LSD&mid=shm&sid1=105&oid=028&aid=0002334601'\n",
        "print(url.split('/')[2])"
      ],
      "metadata": {
        "id": "RvGUgsVr35cG",
        "colab": {
          "base_uri": "https://localhost:8080/"
        },
        "outputId": "64975c3e-9673-43b8-da85-e4ab604476d4"
      },
      "execution_count": 43,
      "outputs": [
        {
          "output_type": "stream",
          "name": "stdout",
          "text": [
            "news.naver.com\n"
          ]
        }
      ]
    },
    {
      "cell_type": "code",
      "source": [],
      "metadata": {
        "id": "Hge1ocEh0xiW"
      },
      "execution_count": null,
      "outputs": []
    }
  ]
}