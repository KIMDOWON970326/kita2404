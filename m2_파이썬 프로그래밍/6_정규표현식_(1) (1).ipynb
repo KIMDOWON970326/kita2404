{
  "nbformat": 4,
  "nbformat_minor": 0,
  "metadata": {
    "colab": {
      "provenance": []
    },
    "kernelspec": {
      "name": "python3",
      "display_name": "Python 3"
    },
    "language_info": {
      "name": "python"
    }
  },
  "cells": [
    {
      "cell_type": "markdown",
      "source": [
        "파이썬에서 정규 표현식(Regular Expressions)은 문자열을 처리할 때 매우 강력하고 유연한 도구\n",
        "\n",
        "기본 개념:\n",
        "- 패턴 매칭 (Pattern Matching): 특정 패턴이 문자열에 존재하는지 확인. 예를 들어, 이메일 주소나 전화번호와 같은 특정 형식을 갖는 문자열을 찾을 때 사용\n",
        "\n",
        "- 메타 문자 (Meta Characters): 정규 표현식의 핵심 요소로, 특별한 의미를 가진 문자들. 예를 들어, ^, $, *, +, ?, {}, [], \\, |, () 등이 있습니다.\n",
        "\n",
        "- 리터럴 (Literal): 일반 텍스트 문자. 특별한 의미 없이 문자 그대로를 의미\n",
        "\n",
        "re 모듈 : 파이썬은 정규표현식을 지원하기 위해 기본으로 제공\n",
        "- re.compile의 결과로 리턴되는 객체를 이용하여 그 이후 작업 수행\n",
        "\n",
        "주요 기능:\n",
        "- re.match(pattern, string): 문자열 내에서 시작 부분부터 정규표현식과 일치하는지 확인\n",
        "- re.search(pattern, string): 문자열 전체를 검색하여 주어진 정규표현식과 일치하는 첫번째 위치를 확인\n",
        "- re.findall(pattern, string): 문자열 내에서 주어진 패턴과 일치하는 모든 부분을 찾아 리스트로 반환\n",
        "- re.finditer(): 정규식과 매치되는 모든 문자열을 반복 가능한 객체로 리턴\n",
        "- re.sub(pattern, repl, string): 문자열 내에서 주어진 패턴과 일치하는 부분을 다른 문자열로 대체\n",
        "- re.compile(pattern): 주어진 패턴을 컴파일하여 재사용 가능한 정규 표현식 객체를 생성"
      ],
      "metadata": {
        "id": "1rAUIWqwwT92"
      }
    },
    {
      "cell_type": "markdown",
      "source": [
        "re.match에서 반환되는 match 객체는 클래스의 인스턴스\n",
        "- Python의 re 모듈에서 match 객체는 re.Match 클래스의 인스턴스로, 정규 표현식과의 일치에 대한 정보를 담고 있다.\n",
        "\n",
        "- re.Match 클래스의 인스턴스는 다음과 같은 중요한 메소드와 속성을 가지고 있다:\n",
        "  - group(): 일치하는 문자열을 반환. group(0) 또는 group()은 전체 일치를 반환\n",
        "  - start() 및 end(): 일치하는 부분의 시작과 끝 인덱스를 반환.\n",
        "  - span(): 일치하는 부분의 시작과 끝 인덱스를 포함하는 튜플을 반환.\n",
        "  \n",
        "re.match() 함수의 작동원리\n",
        "- 입력: re.match() 함수는 두 가지 주요 인자를 받는다:\n",
        "    - pattern: 검사할 정규 표현식 패턴. 이 패턴은 문자열에서 찾고자 하는 문자의 시퀀스를 정의.\n",
        "    - string: 검사할 전체 문자열입니다.\n",
        "- 패턴 일치 검사: 함수는 주어진 string의 시작 부분부터 pattern에 정의된 정규 표현식과 일치하는지 확인. 여기서 \"시작 부분\"이 중요한데, 이는 함수가 문자열의 처음부터 패턴과 일치하는 부분을 찾는다는 것을 의미.\n",
        "\n",
        "- 결과 반환:\n",
        "    - 일치하는 경우: 패턴이 문자열의 시작 부분과 일치하는 경우, 함수는 re.Match 객체를 반환. 이 객체는 일치에 대한 상세한 정보(예: 일치하는 문자열, 시작 및 끝 인덱스, 캡처된 그룹 등)를 포함.\n",
        "    - 일치하지 않는 경우: 패턴이 문자열의 시작 부분과 일치하지 않으면, 함수는 None을 반환."
      ],
      "metadata": {
        "id": "sCpZTaEpylu_"
      }
    },
    {
      "cell_type": "code",
      "source": [
        "import re\n",
        "\n",
        "pattern = r'\\d+'\n",
        "string = '123 apple'\n",
        "match = re.match(pattern,string)\n",
        "if match:\n",
        "  print(match.group())\n",
        "  print(match.start())\n",
        "  print(match.end())\n",
        "  print(match.span())\n",
        "else:\n",
        "  print()"
      ],
      "metadata": {
        "colab": {
          "base_uri": "https://localhost:8080/"
        },
        "id": "3Pm10S-GtDFB",
        "outputId": "81092b47-5ba1-4c3f-8c8f-2bb48448afc9"
      },
      "execution_count": null,
      "outputs": [
        {
          "output_type": "stream",
          "name": "stdout",
          "text": [
            "123\n",
            "0\n",
            "3\n",
            "(0, 3)\n"
          ]
        }
      ]
    },
    {
      "cell_type": "code",
      "execution_count": null,
      "metadata": {
        "colab": {
          "base_uri": "https://localhost:8080/"
        },
        "id": "MjqB3eR6v825",
        "outputId": "985acc07-4372-4dba-fdaf-da135f29d8cc"
      },
      "outputs": [
        {
          "output_type": "stream",
          "name": "stdout",
          "text": [
            "apple\n",
            "apple\n",
            "0\n",
            "5\n",
            "(0, 5)\n"
          ]
        }
      ],
      "source": [
        "import re\n",
        "\n",
        "match=re.match('apple','apple pie')\n",
        "print(match.group())\n",
        "print(match.group(0))\n",
        "print(match.start())\n",
        "print(match.end())\n",
        "print(match.span())"
      ]
    },
    {
      "cell_type": "code",
      "source": [
        "p='(apple) pie'\n",
        "t='apple pie'\n",
        "\n",
        "match=re.match(p,t)\n",
        "print(match.group())\n",
        "print(match.group(1))"
      ],
      "metadata": {
        "colab": {
          "base_uri": "https://localhost:8080/"
        },
        "id": "_4Di0ru6zIJE",
        "outputId": "9594de23-28e0-4cc2-82d8-8efd843d57de"
      },
      "execution_count": null,
      "outputs": [
        {
          "output_type": "stream",
          "name": "stdout",
          "text": [
            "apple pie\n",
            "apple\n"
          ]
        }
      ]
    },
    {
      "cell_type": "code",
      "source": [
        "#  ()가 단순한 문자열로 매치되길 원할때는 이스케이프 처리\n",
        "p='\\\\(apple\\\\) pie'\n",
        "t='(apple) pie'\n",
        "\n",
        "match=re.match(p,t)\n",
        "print(match.group())"
      ],
      "metadata": {
        "colab": {
          "base_uri": "https://localhost:8080/"
        },
        "id": "-qqsLQu70Qil",
        "outputId": "e5c8b192-f5fe-4c1e-fe17-328305155476"
      },
      "execution_count": null,
      "outputs": [
        {
          "output_type": "stream",
          "name": "stdout",
          "text": [
            "(apple) pie\n"
          ]
        }
      ]
    },
    {
      "cell_type": "code",
      "source": [
        "# 로우스트링 r\"...\"을 사용하면 백슬래시를 두번 연속해서 쓰는 것을 피할 수 있어 코드가 더 깔끔해지고 오류발생 가능성이 줄어든다\n",
        "p=r'\\(apple\\) pie'\n",
        "t='(apple) pie'\n",
        "match=re.match(p,t)\n",
        "print(match.group())"
      ],
      "metadata": {
        "colab": {
          "base_uri": "https://localhost:8080/"
        },
        "id": "jnkNg1sP0p4A",
        "outputId": "b7c21c04-7d62-4067-979f-f9c6571cdfcc"
      },
      "execution_count": null,
      "outputs": [
        {
          "output_type": "stream",
          "name": "stdout",
          "text": [
            "(apple) pie\n"
          ]
        }
      ]
    },
    {
      "cell_type": "code",
      "source": [
        "# 그룹\n",
        "p='(apple)(pie)'\n",
        "t='apple pie'\n",
        "\n",
        "match = re.match(p,t)\n",
        "print(match.group())\n",
        "print(match.group(0))\n",
        "print(match.group(1))\n",
        "print(match.group(2))"
      ],
      "metadata": {
        "colab": {
          "base_uri": "https://localhost:8080/",
          "height": 220
        },
        "id": "pRCElEkL1R3Q",
        "outputId": "6bc1c02f-4541-4407-fb66-2ac5a4a77494"
      },
      "execution_count": null,
      "outputs": [
        {
          "output_type": "error",
          "ename": "AttributeError",
          "evalue": "'NoneType' object has no attribute 'group'",
          "traceback": [
            "\u001b[0;31m---------------------------------------------------------------------------\u001b[0m",
            "\u001b[0;31mAttributeError\u001b[0m                            Traceback (most recent call last)",
            "\u001b[0;32m<ipython-input-28-fa7365c02895>\u001b[0m in \u001b[0;36m<cell line: 6>\u001b[0;34m()\u001b[0m\n\u001b[1;32m      4\u001b[0m \u001b[0;34m\u001b[0m\u001b[0m\n\u001b[1;32m      5\u001b[0m \u001b[0mmatch\u001b[0m \u001b[0;34m=\u001b[0m \u001b[0mre\u001b[0m\u001b[0;34m.\u001b[0m\u001b[0mmatch\u001b[0m\u001b[0;34m(\u001b[0m\u001b[0mp\u001b[0m\u001b[0;34m,\u001b[0m\u001b[0mt\u001b[0m\u001b[0;34m)\u001b[0m\u001b[0;34m\u001b[0m\u001b[0;34m\u001b[0m\u001b[0m\n\u001b[0;32m----> 6\u001b[0;31m \u001b[0mprint\u001b[0m\u001b[0;34m(\u001b[0m\u001b[0mmatch\u001b[0m\u001b[0;34m.\u001b[0m\u001b[0mgroup\u001b[0m\u001b[0;34m(\u001b[0m\u001b[0;34m)\u001b[0m\u001b[0;34m)\u001b[0m\u001b[0;34m\u001b[0m\u001b[0;34m\u001b[0m\u001b[0m\n\u001b[0m\u001b[1;32m      7\u001b[0m \u001b[0mprint\u001b[0m\u001b[0;34m(\u001b[0m\u001b[0mmatch\u001b[0m\u001b[0;34m.\u001b[0m\u001b[0mgroup\u001b[0m\u001b[0;34m(\u001b[0m\u001b[0;36m0\u001b[0m\u001b[0;34m)\u001b[0m\u001b[0;34m)\u001b[0m\u001b[0;34m\u001b[0m\u001b[0;34m\u001b[0m\u001b[0m\n\u001b[1;32m      8\u001b[0m \u001b[0mprint\u001b[0m\u001b[0;34m(\u001b[0m\u001b[0mmatch\u001b[0m\u001b[0;34m.\u001b[0m\u001b[0mgroup\u001b[0m\u001b[0;34m(\u001b[0m\u001b[0;36m1\u001b[0m\u001b[0;34m)\u001b[0m\u001b[0;34m)\u001b[0m\u001b[0;34m\u001b[0m\u001b[0;34m\u001b[0m\u001b[0m\n",
            "\u001b[0;31mAttributeError\u001b[0m: 'NoneType' object has no attribute 'group'"
          ]
        }
      ]
    },
    {
      "cell_type": "code",
      "source": [
        "search=re.search('apple','sweet apple pie')\n",
        "print(search.group())\n",
        "print(search.group(0))\n",
        "print(search.start())\n",
        "print(search.end())\n",
        "print(search.span())"
      ],
      "metadata": {
        "colab": {
          "base_uri": "https://localhost:8080/"
        },
        "id": "Am2kIM4R2FrZ",
        "outputId": "3f8d0a23-fed5-4be5-972b-c29378595540"
      },
      "execution_count": null,
      "outputs": [
        {
          "output_type": "stream",
          "name": "stdout",
          "text": [
            "apple\n",
            "apple\n",
            "6\n",
            "11\n",
            "(6, 11)\n"
          ]
        }
      ]
    },
    {
      "cell_type": "code",
      "source": [
        "import re\n",
        "# 검색하기\n",
        "if re.search('apple','apple pie'):\n",
        "  print(\"Found an apple!\")\n",
        "# 모든 일치 항목 찾기\n",
        "print(re.findall('a','ab ac ad')) #어떤 한 문자오 ㅏ일치\n",
        "# 문자열 대체하기\n",
        "print(re.sub('blue','red','blue sky and blue ocean'))\n",
        "# 패턴 컴파일하기\n",
        "pattern=re.compile('[a-e]')\n",
        "print(pattern.findall('hello world'))"
      ],
      "metadata": {
        "colab": {
          "base_uri": "https://localhost:8080/"
        },
        "id": "QPDGYQGGqVn0",
        "outputId": "f8e0f6c5-4e80-43cc-c800-fb22639b9c5d"
      },
      "execution_count": null,
      "outputs": [
        {
          "output_type": "stream",
          "name": "stdout",
          "text": [
            "Found an apple!\n",
            "['a', 'a', 'a']\n",
            "red sky and red ocean\n",
            "['e', 'd']\n"
          ]
        }
      ]
    },
    {
      "cell_type": "markdown",
      "source": [
        "#### 정규 표현식의 기본 구성 요소\n",
        "1. 리터럴(Literals): 일반 텍스트 문자(예: a, b, 1, 2)\n",
        "\n",
        "2. 메타 문자(Meta Characters): 특별한 의미를 지닌 문자들\n",
        "- `.`: 어떤 한 문자와 일치 (\\n 제외)\n",
        "- ^: 문자열의 시작과 일치\n",
        "- $: 문자열의 끝과 일치\n",
        "- *: 0번 이상 반복되는 경우와 일치\n",
        "- +: 1번 이상 반복되는 경우와 일치\n",
        "- ?: 0번 또는 1번 등장하는 경우와 일치\n",
        "- {m,n}: 최소 m번, 최대 n번 반복\n",
        "- []: 문자 집합 중 하나와 일치 (예: [abc]는 a, b, c 중 하나와 일치)\n",
        "- |: OR 조건 (예: a|b는 a 또는 b)\n",
        "- (...): 그룹화\n",
        "\n",
        "3. 특수 시퀀스(Special Sequences):\n",
        "- \\d: 숫자와 일치\n",
        "- \\D: 숫자가 아닌 공백, 문자, 구두점 등 모든 문자와 일치\n",
        "- \\s: 스페이스(' '), 탭('\\t'), 캐리지 리턴('\\r'), 뉴라인('\\n'), 폼 피드('\\f') 등 공백 문자와 일치\n",
        "- \\S: 공백이 아닌 문자, 숫자, 특수 문자 등 모든 것과 일치\n",
        "- \\w: 단어 문자(문자, 숫자, 밑줄)와 일치\n",
        "- \\W: 단어 문자가 아닌 특수 문자, 공백 문자, 구두점 등과 일치"
      ],
      "metadata": {
        "id": "dQQ5LE6otoGp"
      }
    },
    {
      "cell_type": "markdown",
      "source": [
        "1. `.` (마침표)\n",
        "- 의미: 어떤 한 문자와 일치(줄바꿈 문자 제외)\n",
        "- 예시:\n",
        "  - 패턴: a.b\n",
        "  - 매칭 예시: \"acb\", \"a*b\", \"a3b\"\n",
        "  - 불일치 예시: \"ab\", \"a\\nb\"\n",
        "2. ^ (캐럿)\n",
        "- 의미: 문자열의 시작과 일치\n",
        "- 예시:\n",
        "  - 패턴: ^Hello\n",
        "  - 매칭 예시: \"Hello world\"\n",
        "  - 불일치 예시: \"world, Hello\"\n",
        "3. \\$ (달러 기호)\n",
        "- 의미: 문자열의 끝과 일치\n",
        "- 예시:\n",
        "  - 패턴: end$\n",
        "  - 매칭 예시: \"It's the end\"\n",
        "  - 불일치 예시: \"end of the story\"\n",
        "4. \\* (별표)\n",
        "- 의미: 앞의 문자가 0번 이상 반복\n",
        "- 예시:\n",
        "  - 패턴: a*b\n",
        "  - 매칭 예시: \"b\", \"ab\", \"aaab\"\n",
        "  - 불일치 예시: \"a\"\n",
        "5. \\+ (플러스)\n",
        "- 의미: 앞의 문자가 1번 이상 반복\n",
        "- 예시:\n",
        "  - 패턴: a+b\n",
        "  - 매칭 예시: \"ab\", \"aaab\"\n",
        "  - 불일치 예시: \"b\", \"a\"\n",
        "6. ? (물음표)\n",
        "- 의미: 앞의 문자가 0번 또는 1번 등장\n",
        "- 예시:\n",
        "  - 패턴: a?b\n",
        "  - 매칭 예시: \"ab\", \"b\"\n",
        "  - 불일치 예시: \"aab\"\n",
        "7. {m,n} (중괄호)\n",
        "- 의미: 앞의 문자가 최소 m번, 최대 n번 반복\n",
        "- 예시:\n",
        "  - 패턴: a{2,3}\n",
        "  - 매칭 예시: \"aa\", \"aaa\"\n",
        "  - 불일치 예시: \"a\", \"aaaa\"\n",
        "8. `[]` (대괄호)\n",
        "- 의미: 대괄호 안의 문자 중 하나와 일치\n",
        "- 예시:\n",
        "  - 패턴: [abc]\n",
        "  - 매칭 예시: \"a\", \"b\", \"c\"\n",
        "  - 불일치 예시: \"d\"\n",
        "9. | (파이프)\n",
        "- 의미: OR 조건\n",
        "- 예시:\n",
        "  - 패턴: a|b\n",
        "  - 매칭 예시: \"a\", \"b\"\n",
        "  - 불일치 예시: \"c\"\n",
        "10. (...) (괄호)\n",
        "- 의미: 그룹화, 캡처 그룹\n",
        "- 예시:\n",
        "  - 패턴: (a|b)c\n",
        "  - 매칭 예시: \"ac\", \"bc\""
      ],
      "metadata": {
        "id": "U5lBDNUEtpKs"
      }
    },
    {
      "cell_type": "markdown",
      "source": [
        "이스케이프 문자(escape character) vs 이스케이프 시퀀스(escape sequence)\n",
        "\n",
        "이스케이프 문자\n",
        "- 이스케이프 문자는 문자열 내에서 특수한 목적을 가지고 사용되는 문자. 대표적인 예로는 백슬래시(\\\\)가 있다.\n",
        "- 이 문자는 문자열 내에서 다른 문자와 결합하여 다양한 이스케이프 시퀀스를 형성하거나 특정 문자를 리터럴 값으로 표현하는 데 사용.\n",
        "\n",
        "이스케이프 시퀀스\n",
        "- 이스케이프 시퀀스는 이스케이프 문자에 이어지는 하나 또는 그 이상의 문자로 구성된 문자열.\n",
        "- 이스케이프 시퀀스는 일반적으로 출력할 수 없는 특수한 명령이나 문자를 표현하는 데 사용. 예를 들어, \\n은 새 줄(new line)을, \\t는 탭(tab)을 의미. 이스케이프 시퀀스는 이스케이프 문자를 통해 특별한 처리를 필요로 하는 여러 문자를 문자열 안에 포함시킬 수 있게 한다."
      ],
      "metadata": {
        "id": "eV6Vuwfww2bM"
      }
    },
    {
      "cell_type": "code",
      "source": [
        "# 이스케이프 문자 사용 예\n",
        "text = 'He said, \\\"Hello.\\\"'\n",
        "print(text)\n",
        "# 이스케이프 시퀀스 사용 예\n",
        "text = \"First Line\\nSecind Line\"\n",
        "print(text)"
      ],
      "metadata": {
        "colab": {
          "base_uri": "https://localhost:8080/"
        },
        "id": "uZmWJc_ErJdK",
        "outputId": "5eef9665-c555-49b3-f7e2-ff9f53351b28"
      },
      "execution_count": null,
      "outputs": [
        {
          "output_type": "stream",
          "name": "stdout",
          "text": [
            "He said, \"Hello.\"\n",
            "First Line\n",
            "Secind Line\n"
          ]
        }
      ]
    },
    {
      "cell_type": "markdown",
      "source": [
        "Python에서 로우 스트링\n",
        "- 문자열 앞에 r이나 R을 붙여 정의\n",
        "- 주요 목적은 문자열 내에서 백슬래시(\\\\)와 같은 이스케이프 문자를 문자 그대로 처리하여, 특수 문자열을 이스케이프하는 복잡성을 줄인다.\n",
        "- 로우스트링 사용이 필수적인 경우\n",
        "  - 백슬래시 다음에 특정 문자가 오는 경우: 만약 문자열 내에 백슬래시(\\) 다음에 특별한 의미를 가지는 문자(n, t, b, r, u, x 등)가 오면, 이들은 각각 줄바꿈(\\n), 탭(\\t), 백스페이스(\\b), 캐리지 리턴(\\r), 유니코드 문자(\\uXXXX), 16진수 문자(\\xXX) 등으로 해석. 이런 경우 로우스트링을 사용하지 않으면 문자열이 의도치 않게 변경될 수 있다.\n",
        "\n",
        "  - 정규 표현식의 메타문자를 이스케이프 해야 할 때: 정규 표현식에서 메타문자(예: *, +, [, ], (, ), {, }, ^, $, ., |, ?, \\\\ 등)를 리터럴 문자로 사용하고 싶다면, 이스케이프 처리(\\)를 해야 합니다. 이때 로우스트링을 사용하지 않으면, \\ 자체를 이스케이프해야 하므로 코드가 복잡해질 수 있다."
      ],
      "metadata": {
        "id": "s5cfuCJyyU9w"
      }
    },
    {
      "cell_type": "code",
      "source": [
        "# 일반 문자열에서의 이스케이프 시퀀스 사용\n",
        "path=\"C:\\\\Users\\\\Username\\\\Documents\"\n",
        "print(path)\n",
        "# 로우스트링 사용\n",
        "rew_path=r\"C:\\\\Users\\\\Username\\\\Documents\"\n",
        "print(rew_path)"
      ],
      "metadata": {
        "colab": {
          "base_uri": "https://localhost:8080/"
        },
        "id": "EzAg9YJRx6M2",
        "outputId": "2faff8f3-aa23-4413-b2f0-ac5cae612247"
      },
      "execution_count": null,
      "outputs": [
        {
          "output_type": "stream",
          "name": "stdout",
          "text": [
            "C:\\Users\\Username\\Documents\n",
            "C:\\\\Users\\\\Username\\\\Documents\n"
          ]
        }
      ]
    },
    {
      "cell_type": "code",
      "source": [
        "pattern = r\"(\\d{4})-(\\d{2})-(\\d{2})\"\n",
        "text = \"오늘의 날짜는 2023-04-30입니다\"\n",
        "match = re.search(pattern, text)\n",
        "print(\"전체 날짜:\", match.group())"
      ],
      "metadata": {
        "colab": {
          "base_uri": "https://localhost:8080/"
        },
        "id": "uWZV_I422K_F",
        "outputId": "8c51497e-965b-4ced-ce98-6a665e7f19c2"
      },
      "execution_count": null,
      "outputs": [
        {
          "output_type": "stream",
          "name": "stdout",
          "text": [
            "전체 날짜: 2023-04-30\n"
          ]
        }
      ]
    },
    {
      "cell_type": "code",
      "source": [
        "import re\n",
        "\n",
        "# 정규표현식 패털 : YYYY-MM-DD 형식의 날짜 (예:2023-04-30)\n",
        "pattern = r\"(\\d{4})-(\\d{2})-(\\d{2})\"\n",
        "# 검색형 문자열\n",
        "text = \"오늘의 날짜는 2023-04-30입니다\"\n",
        "# 패턴 검색\n",
        "match = re.search(pattern, text)\n",
        "# 매치결과확인\n",
        "if match:\n",
        "  print(\"전체 날짜:\", match.group())\n",
        "  print(\"연도:\", match.group(1))\n",
        "  print(\"일:\", match.group(2))\n",
        "  print(\"일:\", match.group(3))\n",
        "else:\n",
        "  print(\"매치되는 날짜가 없습니다\")"
      ],
      "metadata": {
        "colab": {
          "base_uri": "https://localhost:8080/"
        },
        "id": "TQP90mAt4USa",
        "outputId": "61657074-ddc5-4513-e8ca-99d51a17799d"
      },
      "execution_count": null,
      "outputs": [
        {
          "output_type": "stream",
          "name": "stdout",
          "text": [
            "전체 날짜: 2023-04-30\n",
            "연도: 2023\n",
            "일: 04\n",
            "일: 30\n"
          ]
        }
      ]
    },
    {
      "cell_type": "markdown",
      "source": [
        "Q.문자열 \"The cat in the hat\"에서 \"cat\"과 \"hat\"을 찾으세요"
      ],
      "metadata": {
        "id": "lahVVsdO5dhv"
      }
    },
    {
      "cell_type": "code",
      "source": [
        "import re\n",
        "\n",
        "print(re.findall(\"[ch]*at\" , \"The cat in the hat\"))"
      ],
      "metadata": {
        "colab": {
          "base_uri": "https://localhost:8080/"
        },
        "id": "mYVq50KX5NaO",
        "outputId": "3cf8047e-0a68-4d11-c469-5ef4b9c41eed"
      },
      "execution_count": null,
      "outputs": [
        {
          "output_type": "stream",
          "name": "stdout",
          "text": [
            "['cat', 'hat']\n"
          ]
        }
      ]
    },
    {
      "cell_type": "code",
      "source": [
        "import re\n",
        "\n",
        "text=\"bat,cat,ret,fat\"\n",
        "pattern=r\"[bor]at\"\n",
        "matches=re.findall(pattern,text)\n",
        "print(matches)"
      ],
      "metadata": {
        "colab": {
          "base_uri": "https://localhost:8080/"
        },
        "id": "SnoZPqIr5uQf",
        "outputId": "6784f29f-111c-433a-c333-6481833c44fc"
      },
      "execution_count": null,
      "outputs": [
        {
          "output_type": "stream",
          "name": "stdout",
          "text": [
            "['bat']\n"
          ]
        }
      ]
    },
    {
      "cell_type": "markdown",
      "source": [
        "Q.문자열 \"123 abc 456\"에서 모든 숫자를 찾으세요"
      ],
      "metadata": {
        "id": "6DSIY-u17zLq"
      }
    },
    {
      "cell_type": "code",
      "source": [
        "import re\n",
        "text=\"123 abc 456\"\n",
        "pattern=r\"\\d+\"\n",
        "matches=re.findall(pattern,text)\n",
        "print(matches)"
      ],
      "metadata": {
        "colab": {
          "base_uri": "https://localhost:8080/"
        },
        "id": "3mVFt5Xm7gj8",
        "outputId": "bc7e28af-d562-44e5-9143-da9d7a227939"
      },
      "execution_count": null,
      "outputs": [
        {
          "output_type": "stream",
          "name": "stdout",
          "text": [
            "['123', '456']\n"
          ]
        }
      ]
    },
    {
      "cell_type": "markdown",
      "source": [
        "Q. 문자열 \"Hello my name is John\"에서 첫단어 \"Hello\"를 찾으세요"
      ],
      "metadata": {
        "id": "_eDfgthE8rbO"
      }
    },
    {
      "cell_type": "code",
      "source": [
        "import re\n",
        "text=\"Hello my name is John\"\n",
        "pattern=r\"\\b\\w+\\b\"\n",
        "matches=re.findall(pattern,text)\n",
        "print(matches[0])"
      ],
      "metadata": {
        "colab": {
          "base_uri": "https://localhost:8080/"
        },
        "id": "794jIrXg8Ea7",
        "outputId": "1dcd7231-e6a3-443a-e195-80f2cc0aee23"
      },
      "execution_count": null,
      "outputs": [
        {
          "output_type": "stream",
          "name": "stdout",
          "text": [
            "Hello\n"
          ]
        }
      ]
    },
    {
      "cell_type": "code",
      "source": [
        "import re\n",
        "text=\"Hello my name is John\"\n",
        "pattern=r\"Helli\"\n",
        "match=re.match(pattern,text)\n",
        "if match:\n",
        "  print(match.group())"
      ],
      "metadata": {
        "id": "iXNLEc5W9EKV"
      },
      "execution_count": null,
      "outputs": []
    },
    {
      "cell_type": "code",
      "source": [
        "print(re.search('garage', 'The car parked in the garage #42').group())"
      ],
      "metadata": {
        "colab": {
          "base_uri": "https://localhost:8080/"
        },
        "id": "4rY30xIZ-2EE",
        "outputId": "ef8d6eb7-6132-43ff-f114-3ceb7e77f546"
      },
      "execution_count": null,
      "outputs": [
        {
          "output_type": "stream",
          "name": "stdout",
          "text": [
            "garage\n"
          ]
        }
      ]
    },
    {
      "cell_type": "code",
      "source": [
        "# 문자 클래스 : []\n",
        "pattern = re.compile('[a-z]+')\n",
        "p1=pattern.search('Banker')\n",
        "p2=pattern.search('banker')\n",
        "print(p1)\n",
        "print(p2)"
      ],
      "metadata": {
        "colab": {
          "base_uri": "https://localhost:8080/"
        },
        "id": "vEP3qxfo-7iu",
        "outputId": "89065e21-b87b-4040-9996-1b0d5b85935a"
      },
      "execution_count": null,
      "outputs": [
        {
          "output_type": "stream",
          "name": "stdout",
          "text": [
            "<re.Match object; span=(1, 6), match='anker'>\n",
            "<re.Match object; span=(0, 6), match='banker'>\n"
          ]
        }
      ]
    },
    {
      "cell_type": "code",
      "source": [
        "# Q 'abc12345Abc'에서 A 만 출력하세요\n",
        "import re\n",
        "regex=re.compile('[A-Z]')\n",
        "text='abc12345Abc'\n",
        "m=regex.search(text)\n",
        "m.group()"
      ],
      "metadata": {
        "colab": {
          "base_uri": "https://localhost:8080/",
          "height": 35
        },
        "id": "7YPWNP4Y_Vr-",
        "outputId": "d2537025-04ca-4a7e-b3ba-ac8822682fa3"
      },
      "execution_count": null,
      "outputs": [
        {
          "output_type": "execute_result",
          "data": {
            "text/plain": [
              "'A'"
            ],
            "application/vnd.google.colaboratory.intrinsic+json": {
              "type": "string"
            }
          },
          "metadata": {},
          "execution_count": 46
        }
      ]
    },
    {
      "cell_type": "code",
      "source": [
        "import re\n",
        "regex=re.compile('[가-힣]')\n",
        "text='KOREA 아대한민국'\n",
        "m=regex.search(text)\n",
        "m.group()"
      ],
      "metadata": {
        "colab": {
          "base_uri": "https://localhost:8080/",
          "height": 35
        },
        "id": "7ormPAB1AUDX",
        "outputId": "759ab2d4-dd9f-46ba-e849-04110514195c"
      },
      "execution_count": null,
      "outputs": [
        {
          "output_type": "execute_result",
          "data": {
            "text/plain": [
              "'아'"
            ],
            "application/vnd.google.colaboratory.intrinsic+json": {
              "type": "string"
            }
          },
          "metadata": {},
          "execution_count": 48
        }
      ]
    },
    {
      "cell_type": "code",
      "source": [
        "# Q '1234a1234'에서 '1','2','3','4'를 모두 출력하세요\n",
        "import re\n",
        "regex=re.compile('[1234]')\n",
        "text='1234a1234'\n",
        "regex.findall(text)"
      ],
      "metadata": {
        "colab": {
          "base_uri": "https://localhost:8080/"
        },
        "id": "hudX263wHrWF",
        "outputId": "c43ce8fa-6f77-4cb0-fce1-7298434ce0c3"
      },
      "execution_count": null,
      "outputs": [
        {
          "output_type": "execute_result",
          "data": {
            "text/plain": [
              "['1', '2', '3', '4', '1', '2', '3', '4']"
            ]
          },
          "metadata": {},
          "execution_count": 50
        }
      ]
    },
    {
      "cell_type": "markdown",
      "source": [
        "Task1_0514. BC, CC, ABC 모두 C가 출력되는 정규 표현식을 ( )에 작성하세요\n",
        "pattern = re.compile( )\n",
        "text1 = 'BC'\n",
        "text2 = 'CC'\n",
        "text3 = 'ABC'\n",
        "p1 = pattern.search(text1)\n",
        "p2 = pattern.search(text2)\n",
        "p3 = pattern.search(text3)\n",
        "print(p1)\n",
        "print(p2)\n",
        "print(p3)"
      ],
      "metadata": {
        "id": "BlftdgTJGTlF"
      }
    },
    {
      "cell_type": "code",
      "source": [
        "import re\n",
        "pattern = re.compile('A?C')  #A가 없거나 한번\n",
        "text1 = 'BC'\n",
        "text2 = 'CC'\n",
        "text3 = 'ABC'\n",
        "text4 = 'AAC'\n",
        "p1 = pattern.search(text1)\n",
        "p2 = pattern.search(text2)\n",
        "p3 = pattern.search(text3)\n",
        "p4 = pattern.search(text4)\n",
        "print(p1)\n",
        "print(p2)\n",
        "print(p3)\n",
        "print(p4)"
      ],
      "metadata": {
        "id": "gyAGEZ76GVt-",
        "colab": {
          "base_uri": "https://localhost:8080/"
        },
        "outputId": "a1f666af-232f-4150-dca1-9a586faf0065"
      },
      "execution_count": null,
      "outputs": [
        {
          "output_type": "stream",
          "name": "stdout",
          "text": [
            "<re.Match object; span=(1, 2), match='C'>\n",
            "<re.Match object; span=(0, 1), match='C'>\n",
            "<re.Match object; span=(2, 3), match='C'>\n",
            "<re.Match object; span=(1, 3), match='AC'>\n"
          ]
        }
      ]
    },
    {
      "cell_type": "code",
      "source": [
        "pattern = re.compile('A?C')\n",
        "test_strings=['AC','C','ABC','AAC','BBC']\n",
        "for s in test_strings:\n",
        "  match=pattern.match(s)\n",
        "  if match:\n",
        "    print(f'\"{s}\"Found a match!')\n",
        "  else:\n",
        "    print(f'\"{s}\" No match!')"
      ],
      "metadata": {
        "colab": {
          "base_uri": "https://localhost:8080/"
        },
        "id": "y8p7Xt5S20cc",
        "outputId": "2183bda2-f073-4286-8a4a-1aa7756d9e0a"
      },
      "execution_count": null,
      "outputs": [
        {
          "output_type": "stream",
          "name": "stdout",
          "text": [
            "\"AC\"Found a match!\n",
            "\"C\"Found a match!\n",
            "\"ABC\" No match!\n",
            "\"AAC\" No match!\n",
            "\"BBC\" No match!\n"
          ]
        }
      ]
    },
    {
      "cell_type": "markdown",
      "source": [
        "Task2_0514. ' Python3 is very good programming language!'에서  ['Python', 'is', 'very', 'good', 'programming', 'language']를 모두 출력하세요."
      ],
      "metadata": {
        "id": "GYC_sum6HOhh"
      }
    },
    {
      "cell_type": "code",
      "source": [
        "pattern = re.compile('[a-zA-Z]+')\n",
        "pattern.findall(' Python3 is very good programming language!')"
      ],
      "metadata": {
        "id": "R4GEdBxqHPS6",
        "colab": {
          "base_uri": "https://localhost:8080/"
        },
        "outputId": "d5873aa2-b970-417b-cbe0-5877dc53c387"
      },
      "execution_count": null,
      "outputs": [
        {
          "output_type": "execute_result",
          "data": {
            "text/plain": [
              "['Python', 'is', 'very', 'good', 'programming', 'language']"
            ]
          },
          "metadata": {},
          "execution_count": 11
        }
      ]
    },
    {
      "cell_type": "code",
      "source": [
        "#Dot(.) 메타 문자는 줄바꿈 문자(\\n)을 제외한 모든 문자와 매치\n",
        "import re\n",
        "p = re.compile('a,+b')\n",
        "m1=p.match('a\\nb')\n",
        "m2=p.match('acb')\n",
        "m3=p.match('a12?Ab')\n",
        "print(m1)\n",
        "print(m2.group())\n",
        "print(m3.group())"
      ],
      "metadata": {
        "colab": {
          "base_uri": "https://localhost:8080/",
          "height": 220
        },
        "id": "0qHfsc5G24e4",
        "outputId": "26b4dbf7-475b-43c5-919f-5fe7ee794b03"
      },
      "execution_count": null,
      "outputs": [
        {
          "output_type": "stream",
          "name": "stdout",
          "text": [
            "None\n"
          ]
        },
        {
          "output_type": "error",
          "ename": "AttributeError",
          "evalue": "'NoneType' object has no attribute 'group'",
          "traceback": [
            "\u001b[0;31m---------------------------------------------------------------------------\u001b[0m",
            "\u001b[0;31mAttributeError\u001b[0m                            Traceback (most recent call last)",
            "\u001b[0;32m<ipython-input-12-5f7c9db6586f>\u001b[0m in \u001b[0;36m<cell line: 8>\u001b[0;34m()\u001b[0m\n\u001b[1;32m      6\u001b[0m \u001b[0mm3\u001b[0m\u001b[0;34m=\u001b[0m\u001b[0mp\u001b[0m\u001b[0;34m.\u001b[0m\u001b[0mmatch\u001b[0m\u001b[0;34m(\u001b[0m\u001b[0;34m'a12?Ab'\u001b[0m\u001b[0;34m)\u001b[0m\u001b[0;34m\u001b[0m\u001b[0;34m\u001b[0m\u001b[0m\n\u001b[1;32m      7\u001b[0m \u001b[0mprint\u001b[0m\u001b[0;34m(\u001b[0m\u001b[0mm1\u001b[0m\u001b[0;34m)\u001b[0m\u001b[0;34m\u001b[0m\u001b[0;34m\u001b[0m\u001b[0m\n\u001b[0;32m----> 8\u001b[0;31m \u001b[0mprint\u001b[0m\u001b[0;34m(\u001b[0m\u001b[0mm2\u001b[0m\u001b[0;34m.\u001b[0m\u001b[0mgroup\u001b[0m\u001b[0;34m(\u001b[0m\u001b[0;34m)\u001b[0m\u001b[0;34m)\u001b[0m\u001b[0;34m\u001b[0m\u001b[0;34m\u001b[0m\u001b[0m\n\u001b[0m\u001b[1;32m      9\u001b[0m \u001b[0mprint\u001b[0m\u001b[0;34m(\u001b[0m\u001b[0mm3\u001b[0m\u001b[0;34m.\u001b[0m\u001b[0mgroup\u001b[0m\u001b[0;34m(\u001b[0m\u001b[0;34m)\u001b[0m\u001b[0;34m)\u001b[0m\u001b[0;34m\u001b[0m\u001b[0;34m\u001b[0m\u001b[0m\n",
            "\u001b[0;31mAttributeError\u001b[0m: 'NoneType' object has no attribute 'group'"
          ]
        }
      ]
    },
    {
      "cell_type": "code",
      "source": [
        "#re.DOTALL 옵션은 여러 줄로 이루어진 문자열에서 \\n에 상관없이 검색시 사용\n",
        "p=re.compile('a,b',re.DOTALL)\n",
        "m=p.match('a\\nb')\n",
        "print(m)\n",
        "print(m.group())"
      ],
      "metadata": {
        "colab": {
          "base_uri": "https://localhost:8080/",
          "height": 201
        },
        "id": "AKTqLYq13aX2",
        "outputId": "993b1dc9-8585-417f-93a4-b931a84d1321"
      },
      "execution_count": null,
      "outputs": [
        {
          "output_type": "stream",
          "name": "stdout",
          "text": [
            "None\n"
          ]
        },
        {
          "output_type": "error",
          "ename": "AttributeError",
          "evalue": "'NoneType' object has no attribute 'group'",
          "traceback": [
            "\u001b[0;31m---------------------------------------------------------------------------\u001b[0m",
            "\u001b[0;31mAttributeError\u001b[0m                            Traceback (most recent call last)",
            "\u001b[0;32m<ipython-input-7-599e63ea0f78>\u001b[0m in \u001b[0;36m<cell line: 5>\u001b[0;34m()\u001b[0m\n\u001b[1;32m      3\u001b[0m \u001b[0mm\u001b[0m\u001b[0;34m=\u001b[0m\u001b[0mp\u001b[0m\u001b[0;34m.\u001b[0m\u001b[0mmatch\u001b[0m\u001b[0;34m(\u001b[0m\u001b[0;34m'a\\nb'\u001b[0m\u001b[0;34m)\u001b[0m\u001b[0;34m\u001b[0m\u001b[0;34m\u001b[0m\u001b[0m\n\u001b[1;32m      4\u001b[0m \u001b[0mprint\u001b[0m\u001b[0;34m(\u001b[0m\u001b[0mm\u001b[0m\u001b[0;34m)\u001b[0m\u001b[0;34m\u001b[0m\u001b[0;34m\u001b[0m\u001b[0m\n\u001b[0;32m----> 5\u001b[0;31m \u001b[0mprint\u001b[0m\u001b[0;34m(\u001b[0m\u001b[0mm\u001b[0m\u001b[0;34m.\u001b[0m\u001b[0mgroup\u001b[0m\u001b[0;34m(\u001b[0m\u001b[0;34m)\u001b[0m\u001b[0;34m)\u001b[0m\u001b[0;34m\u001b[0m\u001b[0;34m\u001b[0m\u001b[0m\n\u001b[0m",
            "\u001b[0;31mAttributeError\u001b[0m: 'NoneType' object has no attribute 'group'"
          ]
        }
      ]
    },
    {
      "cell_type": "code",
      "source": [
        "#text에서 what are you doing? 추출\n",
        "text = 'what are you doing?\\nit is going to be late for school'\n",
        "'\\nwe need to hurry up'\n",
        "\n",
        "p = re.compile('.*')\n",
        "\n",
        "print(p.search(text).group())"
      ],
      "metadata": {
        "colab": {
          "base_uri": "https://localhost:8080/"
        },
        "id": "HtA8vjvX4IP8",
        "outputId": "5a2d6090-de68-45d7-bd33-be1bff1317e6"
      },
      "execution_count": null,
      "outputs": [
        {
          "output_type": "stream",
          "name": "stdout",
          "text": [
            "what are you doing?\n"
          ]
        }
      ]
    },
    {
      "cell_type": "code",
      "source": [
        "import re\n",
        "\n",
        "regex = re.compile('.*', re.DOTALL)\n",
        "mo = regex.search('what are you doing?\\nit is going to be late for school\\nwe need to hurry up')\n",
        "print(mo.group())"
      ],
      "metadata": {
        "colab": {
          "base_uri": "https://localhost:8080/"
        },
        "id": "pkmLo96a4uyj",
        "outputId": "72ce9cf6-6abe-4fb5-e73b-ed6b512bad7d"
      },
      "execution_count": null,
      "outputs": [
        {
          "output_type": "stream",
          "name": "stdout",
          "text": [
            "what are you doing?\n",
            "it is going to be late for school\n",
            "we need to hurry up\n"
          ]
        }
      ]
    },
    {
      "cell_type": "code",
      "source": [
        "import re\n",
        "p=re.compile('[a-z]+',re.I)\n",
        "print(p.match('python'))\n",
        "print(p.match('Python'))\n",
        "print(p.match('PYTHON'))"
      ],
      "metadata": {
        "colab": {
          "base_uri": "https://localhost:8080/"
        },
        "id": "beN5zX0L5iUe",
        "outputId": "7a3440fa-8a2e-4bfa-974b-1725f0ffcb92"
      },
      "execution_count": null,
      "outputs": [
        {
          "output_type": "stream",
          "name": "stdout",
          "text": [
            "<re.Match object; span=(0, 6), match='python'>\n",
            "<re.Match object; span=(0, 6), match='Python'>\n",
            "<re.Match object; span=(0, 6), match='PYTHON'>\n"
          ]
        }
      ]
    },
    {
      "cell_type": "code",
      "source": [
        "text = 'Friend fRiend friEnd FRIEND'\n",
        "p=re.compile(r'friend',re.I)\n",
        "print(p.findall(text))"
      ],
      "metadata": {
        "colab": {
          "base_uri": "https://localhost:8080/"
        },
        "id": "3AbGwO8550_l",
        "outputId": "81ac1eb4-3b1c-4bab-ce03-9507aabd90c6"
      },
      "execution_count": null,
      "outputs": [
        {
          "output_type": "stream",
          "name": "stdout",
          "text": [
            "['Friend', 'fRiend', 'friEnd', 'FRIEND']\n"
          ]
        }
      ]
    },
    {
      "cell_type": "code",
      "source": [
        "import re\n",
        "p=re.compile('^python\\s\\w+')\n",
        "\n",
        "data=\"\"\"python one\n",
        "life is too short\n",
        "python two\n",
        "you need python\n",
        "python three\"\"\"\n",
        "print(p.findall(data))"
      ],
      "metadata": {
        "colab": {
          "base_uri": "https://localhost:8080/"
        },
        "id": "rbwlv_RJ6TIh",
        "outputId": "c43691ae-a404-4aa2-dca7-e2ef6f345274"
      },
      "execution_count": null,
      "outputs": [
        {
          "output_type": "stream",
          "name": "stdout",
          "text": [
            "['python one']\n"
          ]
        }
      ]
    },
    {
      "cell_type": "code",
      "source": [
        "import re\n",
        "p=re.compile('^python\\s\\w+',re.M)\n",
        "\n",
        "data=\"\"\"python one\n",
        "life is too short\n",
        "python two\n",
        "you need python\n",
        "python three\"\"\"\n",
        "print(p.findall(data))"
      ],
      "metadata": {
        "colab": {
          "base_uri": "https://localhost:8080/"
        },
        "id": "3o82VvDO7GB_",
        "outputId": "e0c4b7bb-9aa6-43ee-d8f4-099fccb49ff1"
      },
      "execution_count": null,
      "outputs": [
        {
          "output_type": "stream",
          "name": "stdout",
          "text": [
            "['python one', 'python two', 'python three']\n"
          ]
        }
      ]
    },
    {
      "cell_type": "code",
      "source": [
        "p=re.compile(r'\\\\section')\n",
        "\n",
        "print(p.match(r'\\section'))\n",
        "p.findall(r'\\section\\section')"
      ],
      "metadata": {
        "colab": {
          "base_uri": "https://localhost:8080/"
        },
        "id": "ftLHpFIp7o-Z",
        "outputId": "b78938cf-f527-461b-9f28-1d191fd6b379"
      },
      "execution_count": null,
      "outputs": [
        {
          "output_type": "stream",
          "name": "stdout",
          "text": [
            "<re.Match object; span=(0, 8), match='\\\\section'>\n"
          ]
        },
        {
          "output_type": "execute_result",
          "data": {
            "text/plain": [
              "['\\\\section', '\\\\section']"
            ]
          },
          "metadata": {},
          "execution_count": 27
        }
      ]
    },
    {
      "cell_type": "code",
      "source": [
        "import re\n",
        "p=re.compile('Crow!Serco')\n",
        "m=p.match('CrowHello')\n",
        "print(m)\n",
        "print()\n",
        "print(re.search('^Life','Life is too short'))\n",
        "print(re.search('^Life','My Life1'))\n",
        "print()\n",
        "print(re.search('Life$','Life is too short'))\n",
        "print(re.search('List$','My Life'))"
      ],
      "metadata": {
        "colab": {
          "base_uri": "https://localhost:8080/"
        },
        "id": "ZCLf6HVi8VQ7",
        "outputId": "d16351a5-d69b-4780-f387-c68b8040e8db"
      },
      "execution_count": null,
      "outputs": [
        {
          "output_type": "stream",
          "name": "stdout",
          "text": [
            "None\n",
            "\n",
            "<re.Match object; span=(0, 4), match='Life'>\n",
            "None\n",
            "\n",
            "None\n",
            "None\n"
          ]
        }
      ]
    },
    {
      "cell_type": "markdown",
      "source": [
        "Task1_0516. '199305, 1923A, a93247'에서 '199305'만 출력하세요."
      ],
      "metadata": {
        "id": "72ARcYqiAAkd"
      }
    },
    {
      "cell_type": "code",
      "source": [
        "import re\n",
        "regex=re.compile(r'^\\d+')\n",
        "mo=regex.findall('199305, 1923A, a93247')\n",
        "mo"
      ],
      "metadata": {
        "id": "9jSfTeu89xhl",
        "colab": {
          "base_uri": "https://localhost:8080/"
        },
        "outputId": "6b2ddb72-8565-4e96-ea91-aaea6097a036"
      },
      "execution_count": 1,
      "outputs": [
        {
          "output_type": "execute_result",
          "data": {
            "text/plain": [
              "['199305']"
            ]
          },
          "metadata": {},
          "execution_count": 1
        }
      ]
    },
    {
      "cell_type": "markdown",
      "source": [
        "Task2_0516. '99food234, a93456\\n, a9356ba '에서 '99food234'만 출력하세요."
      ],
      "metadata": {
        "id": "Skd4TSARABJv"
      }
    },
    {
      "cell_type": "code",
      "source": [
        "#\\w+ 하나 이상의 영문자나 숫자(단어문자)\n",
        "# \\d 숫자하나\n",
        "import re\n",
        "regex=re.compile(r'^\\w+\\d')\n",
        "mo=regex.findall('99food234, a93456\\n, a9356ba ')\n",
        "mo"
      ],
      "metadata": {
        "id": "O_RVPZ3rACHt",
        "colab": {
          "base_uri": "https://localhost:8080/"
        },
        "outputId": "c534e397-3add-4438-a9bf-c35e122a176a"
      },
      "execution_count": 4,
      "outputs": [
        {
          "output_type": "execute_result",
          "data": {
            "text/plain": [
              "['99food234']"
            ]
          },
          "metadata": {},
          "execution_count": 4
        }
      ]
    },
    {
      "cell_type": "code",
      "source": [
        "# \\b whiteespace 에 의해 구분\n",
        "# \\B whiteespace로 구분된 단어가 아닌 경우에만 매치\n",
        "p=re.compile(r'\\bclass\\b')\n",
        "print(p.search('no class at all'))\n",
        "print(p.search('the declassified algorithim'))\n",
        "print()\n",
        "q=re.compile(r'\\Bclass\\B')\n",
        "print(q.search('no class at all'))\n",
        "print(q.search('the declassified algorithim'))"
      ],
      "metadata": {
        "colab": {
          "base_uri": "https://localhost:8080/"
        },
        "id": "1Miums4uAC-J",
        "outputId": "3961d8e4-66b2-45d3-e870-9ea38aa48809"
      },
      "execution_count": null,
      "outputs": [
        {
          "output_type": "stream",
          "name": "stdout",
          "text": [
            "<re.Match object; span=(3, 8), match='class'>\n",
            "None\n",
            "\n",
            "None\n",
            "<re.Match object; span=(6, 11), match='class'>\n"
          ]
        }
      ]
    },
    {
      "cell_type": "markdown",
      "source": [
        "#### 그룹화\n",
        "괄호 ()는 '그룹화'를 위해 사용 : 주로 여러 문자열 패턴을 하나의 단위로 묶거나, 특정 부분의 문자열을 추출하는 데 사용\n",
        "\n",
        "그룹화의 주요 용도:\n",
        "- 패턴의 일부를 하나의 단위로 묶기 : 괄호는 여러 문자 또는 문자 집합을 하나의 단위로 묶어서, 그 전체에 대해 수량자 (예: *, +, ?, {m,n} 등)를 적용할 수 있게 한다.\n",
        "\n",
        "- 텍스트 캡처 : 괄호로 묶인 부분은 '캡처 그룹'이 되어, 매칭된 텍스트를 나중에 사용하기 위해 저장. 예를 들어, re.search()나 re.match() 등의 함수로 매치 객체를 얻은 후, group() 메서드를 사용하여 이 텍스트를 추출할 수 있다.\n",
        "\n",
        "- 백레퍼런스(backreferences): 정규 표현식 내에서 앞서 정의된 그룹을 다시 참조할 수 있다. 이는 패턴이 이전에 매치된 동일한 텍스트와 일치해야 할 때 유용.\n",
        "\n",
        "- 비캡처 그룹(non-capturing groups): 때로는 괄호를 사용하여 그룹을 만들지만, 매치된 내용을 나중에 사용하고 싶지 않을 때가 있다. 이 경우 (?:...) 형태를 사용하여 그룹을 만든다. 이 그룹은 매칭에는 영향을 주지만, 결과를 저장하지는 않는다."
      ],
      "metadata": {
        "id": "o_NYrvVOBSAM"
      }
    },
    {
      "cell_type": "code",
      "source": [
        "#'(ha)+' 패턴은 'ha' 문자열이 하나 이상 반복되는 부분을 찾는다\n",
        "import re\n",
        "pattern=r'(ha)+'\n",
        "text=\"hahaha, that's funny!\"\n",
        "match=re.search(pattern, text)\n",
        "\n",
        "if match:\n",
        "  print(match.group())"
      ],
      "metadata": {
        "colab": {
          "base_uri": "https://localhost:8080/"
        },
        "id": "dLrgq6b2BA9A",
        "outputId": "61f229ff-9b3d-4c8e-922b-41ab01351670"
      },
      "execution_count": null,
      "outputs": [
        {
          "output_type": "stream",
          "name": "stdout",
          "text": [
            "hahaha\n"
          ]
        }
      ]
    },
    {
      "cell_type": "markdown",
      "source": [
        "- \\1은 첫 번째 캡처 그룹 ((\\b\\w+))을 다시 참조. 이는 앞서 찾은 단어와 정확히 동일한 단어가 연속해서 나타나야 함을 의미\n",
        "- Capturing Group ((\\b\\w+)): 괄호는 캡처 그룹을 만든다.이 경우 \\b\\w+는 단어 경계로 시작하는 하나 이상의 단어 문자로 이루어진 시퀀스를 캡처"
      ],
      "metadata": {
        "id": "7rJZP0yzCqXZ"
      }
    },
    {
      "cell_type": "code",
      "source": [
        "import re\n",
        "pattern=r\"(\\b\\w+)\\s+\\1\"\n",
        "text='이건은 중복 중복 단어 입니다'\n",
        "match=re.search(pattern, text)\n",
        "\n",
        "if match:\n",
        "  print(match.group())"
      ],
      "metadata": {
        "colab": {
          "base_uri": "https://localhost:8080/"
        },
        "id": "DS_8c38VCeex",
        "outputId": "18d3f45d-0c5d-4ec1-cf54-b181f9135263"
      },
      "execution_count": null,
      "outputs": [
        {
          "output_type": "stream",
          "name": "stdout",
          "text": [
            "중복 중복\n"
          ]
        }
      ]
    },
    {
      "cell_type": "code",
      "source": [
        "import re\n",
        "pattern = r'(?:\\d{4})-(\\d{2})-(\\d{2})'\n",
        "text=\"오늘의 날짜는 2023-04-30입니다\"\n",
        "\n",
        "match=re.search(pattern, text)\n",
        "\n",
        "if match:\n",
        "  print(\"월:\",match.group(1))\n",
        "  print(\"일:\",match.group(2))\n",
        "  print(match.group())"
      ],
      "metadata": {
        "colab": {
          "base_uri": "https://localhost:8080/"
        },
        "id": "-Ll9Yu4wDBSr",
        "outputId": "c72f6dc4-6d65-4b6e-8f07-6c997e3d83f4"
      },
      "execution_count": null,
      "outputs": [
        {
          "output_type": "stream",
          "name": "stdout",
          "text": [
            "월: 04\n",
            "일: 30\n",
            "2023-04-30\n"
          ]
        }
      ]
    },
    {
      "cell_type": "code",
      "source": [
        "# 그럽이 중첩되어 있는 경우는 바깥쪽부터 시작하여 안쪽으로 들어갈수록 인덱스 증가\n",
        "# Q정규표현식을 사용하여 'park 010-1234-1234'에서 지역코드만 출력하세요\n",
        "\n",
        "p = re.compile(r'(\\w+)\\s+((\\d+)[-](\\d+)[-](\\d+))')\n",
        "m=p.search('park 010-1234-1234')\n",
        "print(m.group())\n",
        "print(m.group(1))\n",
        "print(m.group(2))\n",
        "print(m.group(3))\n",
        "print(m.group(4))\n",
        "print(m.group(5))"
      ],
      "metadata": {
        "colab": {
          "base_uri": "https://localhost:8080/"
        },
        "id": "6TROTxesEc7a",
        "outputId": "a9cb07c5-5b43-4990-b84e-57bd2a49bcae"
      },
      "execution_count": null,
      "outputs": [
        {
          "output_type": "stream",
          "name": "stdout",
          "text": [
            "park 010-1234-1234\n",
            "park\n",
            "010-1234-1234\n",
            "010\n",
            "1234\n",
            "1234\n"
          ]
        }
      ]
    },
    {
      "cell_type": "markdown",
      "source": [
        "그룹화 이름\n",
        "- `(?P<name>\\w+)는 하나 이상의 단어 문자(\\w+)에 일치하며, 이 부분을 'name'이라는 이름으로 그룹화`\n",
        "- `\\s+는 하나 이상의 공백 문자에 일치합니다.`\n",
        "- `(?P<phone>(\\d+)[-]\\d+[-]\\d+)는 전화번호 형식에 일치하는 부분을 찾으며, 이 부분을 'phone'이라는 이름으로 그룹화. 여기서 \\d+는 하나 이상의 숫자에 일치하고, [-]는 리터럴 대시 문자에 일치.`"
      ],
      "metadata": {
        "id": "lgapIiioGa35"
      }
    },
    {
      "cell_type": "code",
      "source": [
        "# 그룹핑된 문자열에 이름 붙이기 : 확장구만(?P<name>\\w+)\n",
        "p = re.compile(r'(?P<name>\\w+)\\s+((\\d+)[-]\\d+[-]\\d+)')\n",
        "m=p.search('park 010-1234-1234')\n",
        "print(m.group('name'))\n",
        "print(m.group(1))\n",
        "print(m.group(2))\n",
        "print(m.group(3))"
      ],
      "metadata": {
        "colab": {
          "base_uri": "https://localhost:8080/"
        },
        "id": "AYvMzPpBGJ_f",
        "outputId": "1d2a9029-d574-4ba5-e77d-644b4261d6cc"
      },
      "execution_count": null,
      "outputs": [
        {
          "output_type": "stream",
          "name": "stdout",
          "text": [
            "park\n",
            "park\n",
            "010-1234-1234\n",
            "010\n"
          ]
        }
      ]
    },
    {
      "cell_type": "code",
      "source": [
        "p = re.compile(r'(?P<name>\\w+)\\s+(?P=name)')\n",
        "p.search('Paris in the the spring').group()"
      ],
      "metadata": {
        "colab": {
          "base_uri": "https://localhost:8080/",
          "height": 35
        },
        "id": "af3zrZm_HrJQ",
        "outputId": "92ce1b0f-a70a-44fa-e159-1580a0d14d2c"
      },
      "execution_count": null,
      "outputs": [
        {
          "output_type": "execute_result",
          "data": {
            "text/plain": [
              "'the the'"
            ],
            "application/vnd.google.colaboratory.intrinsic+json": {
              "type": "string"
            }
          },
          "metadata": {},
          "execution_count": 60
        }
      ]
    },
    {
      "cell_type": "markdown",
      "source": [
        "정규 표현식에서 전방탐색(Lookahead)\n",
        "- 특정 패턴 뒤에 오는 문자열을 확인하는 방법으로, 긍정 전방탐색과 부정 전방탐색 두 가지 형태가 있다.\n",
        "- 이들은 매칭을 결정하는 조건을 설정하지만, 실제로 해당 문자열을 결과에 포함시키지는 않는다. 즉, 문자열을 '소모(consume)'하지 않는다..\n",
        "\n",
        "- 긍정 전방탐색 (Positive Lookahead)\n",
        "    - 형식: (?=...)\n",
        "    - 설명: 긍정 전방탐색은 ...에 해당하는 정규식 패턴이 일치해야 하지만, 해당 부분은 결과에 포함되지 않는다.\n",
        "    - 예시: X(?=Y)는 'Y'가 뒤따르는 'X'에 일치합니다. 'X'는 결과에 포함되지만, 'Y'는 포함되지 않는다.\n",
        "- 부정 전방탐색 (Negative Lookahead)\n",
        "    - 형식: (?!...)\n",
        "    - 설명: 부정 전방탐색은 ...에 해당하는 정규식 패턴이 일치하지 않아야 합니다. 여기서도 일치하는 부분은 결과에 포함되지 않는다.\n",
        "    - 예시: X(?!Y)는 'Y'가 뒤따르지 않는 'X'에 일치합니다. 'X'는 결과에 포함되지만, 'Y'는 검사 대상이지 결과에 포함되지 않는다."
      ],
      "metadata": {
        "id": "292HL90jH4eI"
      }
    },
    {
      "cell_type": "code",
      "source": [
        "# 전방탐색\n",
        "# 긍정(?=...)...에 해당되는 정규식과 매치되어야 하며 조건이 통과되어도 문자열이 소모되지 않음\n",
        "# 부정(?!...)...에 해당되는 정규식과 매치되지 않아야 하며 조건이 통과되어도 문자열이 소모되지 않음\n",
        "import re\n",
        "p = re.compile(r'.+:')\n",
        "m = p.search('http//google.com')\n",
        "print(m.group())\n",
        "print()\n",
        "p = re.compile(r'.+(?=:)')\n",
        "m = p.search('http//google.com')\n",
        "print(m.group())\n",
        "print()"
      ],
      "metadata": {
        "colab": {
          "base_uri": "https://localhost:8080/",
          "height": 220
        },
        "id": "cLWsX3wNH2a0",
        "outputId": "b34b9c60-3ec5-414c-8fbb-78886c0cee9d"
      },
      "execution_count": null,
      "outputs": [
        {
          "output_type": "error",
          "ename": "AttributeError",
          "evalue": "'NoneType' object has no attribute 'group'",
          "traceback": [
            "\u001b[0;31m---------------------------------------------------------------------------\u001b[0m",
            "\u001b[0;31mAttributeError\u001b[0m                            Traceback (most recent call last)",
            "\u001b[0;32m<ipython-input-4-a21b1b8189eb>\u001b[0m in \u001b[0;36m<cell line: 7>\u001b[0;34m()\u001b[0m\n\u001b[1;32m      5\u001b[0m \u001b[0mp\u001b[0m \u001b[0;34m=\u001b[0m \u001b[0mre\u001b[0m\u001b[0;34m.\u001b[0m\u001b[0mcompile\u001b[0m\u001b[0;34m(\u001b[0m\u001b[0;34mr'.+:'\u001b[0m\u001b[0;34m)\u001b[0m\u001b[0;34m\u001b[0m\u001b[0;34m\u001b[0m\u001b[0m\n\u001b[1;32m      6\u001b[0m \u001b[0mm\u001b[0m \u001b[0;34m=\u001b[0m \u001b[0mp\u001b[0m\u001b[0;34m.\u001b[0m\u001b[0msearch\u001b[0m\u001b[0;34m(\u001b[0m\u001b[0;34m'http//google.com'\u001b[0m\u001b[0;34m)\u001b[0m\u001b[0;34m\u001b[0m\u001b[0;34m\u001b[0m\u001b[0m\n\u001b[0;32m----> 7\u001b[0;31m \u001b[0mprint\u001b[0m\u001b[0;34m(\u001b[0m\u001b[0mm\u001b[0m\u001b[0;34m.\u001b[0m\u001b[0mgroup\u001b[0m\u001b[0;34m(\u001b[0m\u001b[0;34m)\u001b[0m\u001b[0;34m)\u001b[0m\u001b[0;34m\u001b[0m\u001b[0;34m\u001b[0m\u001b[0m\n\u001b[0m\u001b[1;32m      8\u001b[0m \u001b[0mprint\u001b[0m\u001b[0;34m(\u001b[0m\u001b[0;34m)\u001b[0m\u001b[0;34m\u001b[0m\u001b[0;34m\u001b[0m\u001b[0m\n\u001b[1;32m      9\u001b[0m \u001b[0mp\u001b[0m \u001b[0;34m=\u001b[0m \u001b[0mre\u001b[0m\u001b[0;34m.\u001b[0m\u001b[0mcompile\u001b[0m\u001b[0;34m(\u001b[0m\u001b[0;34mr'.+(?=:)'\u001b[0m\u001b[0;34m)\u001b[0m\u001b[0;34m\u001b[0m\u001b[0;34m\u001b[0m\u001b[0m\n",
            "\u001b[0;31mAttributeError\u001b[0m: 'NoneType' object has no attribute 'group'"
          ]
        }
      ]
    },
    {
      "cell_type": "markdown",
      "source": [
        "긍정적 후방 탐색 (?<=B)A 'A'앞에 'B'가 있는 경우에만 A에 매칭\n",
        "\n",
        "긍정적 후방 탐색은 현재 위치의 앞쪽에 일치하는 패턴이 있을 경우에만 일치를 성공시키는 조건. 이 탐색은 패턴을 찾지만, 결과에는 포함시키지 않는다. 즉, @ 기호는 포함되지 않지만, 이 기호 뒤에 오는 특정 패턴을 검사하는 데 사용.\n",
        "\n",
        "부정적 후방 탐색 (?<!B)A  'A' 앞에 'B'가 없는 경우에만 'A'에 매칭"
      ],
      "metadata": {
        "id": "kwbvZpS5KLQo"
      }
    },
    {
      "cell_type": "code",
      "source": [
        "text2='Contect us at support@company.com, sales@entertprise.com or info@organization.org'\n",
        "pattern2=r'(?<=@)[a-zA-Z0-9,-]+(?=\\.com)'\n",
        "matches2=re.findall(pattern2,text2)\n",
        "print(matches2)"
      ],
      "metadata": {
        "colab": {
          "base_uri": "https://localhost:8080/"
        },
        "id": "vMXvlpkTKNyS",
        "outputId": "ff9478b3-4d39-433c-82ec-7bd8e5e46627"
      },
      "execution_count": null,
      "outputs": [
        {
          "output_type": "stream",
          "name": "stdout",
          "text": [
            "['company', 'entertprise']\n"
          ]
        }
      ]
    },
    {
      "cell_type": "markdown",
      "source": [
        "Greedy (탐욕스러운) 매칭\n",
        "- Greedy 매칭은 가능한 한 많은 문자와 일치하려고 한다. 즉, 주어진 패턴과 일치하는 문자열 중 가장 긴 것을 찾는다.\n",
        "- 예를 들어, 정규 표현식 a.*b는 a로 시작하고 b로 끝나는 가장 긴 문자열 부분과 일치한다.\n",
        "\n",
        "Non-Greedy (비탐욕스러운) 매칭\n",
        "- Non-Greedy 매칭은 가능한 한 적은 문자와 일치하려고 한다. 즉, 주어진 패턴과 일치하는 문자열 중 가장 짧은 것을 찾는다.\n",
        "- 예를 들어, 정규 표현식 a.*?b는 a로 시작하고 b로 끝나는 가장 짧은 문자열 부분과 일치합니다."
      ],
      "metadata": {
        "id": "EaQI1AkEOBaq"
      }
    },
    {
      "cell_type": "code",
      "source": [
        "import re\n",
        "text = '<div>Hello</div><div>World</div>'\n",
        "pattern = r'<div>.*?</div>'\n",
        "matches = re.findall(pattern, text)\n",
        "print(matches)"
      ],
      "metadata": {
        "colab": {
          "base_uri": "https://localhost:8080/"
        },
        "id": "soA0AIdWL4S5",
        "outputId": "f007fc1d-a1d2-4e42-d9be-1a1ad6f2e030"
      },
      "execution_count": null,
      "outputs": [
        {
          "output_type": "stream",
          "name": "stdout",
          "text": [
            "['<div>Hello</div>', '<div>World</div>']\n"
          ]
        }
      ]
    },
    {
      "cell_type": "markdown",
      "source": [
        "Task3_0516. 주어진 문자열이 유효한 이메일 주소인지 확인\n",
        "\"example@example.com\""
      ],
      "metadata": {
        "id": "QMNZGENsPkBP"
      }
    },
    {
      "cell_type": "code",
      "source": [
        "import re\n",
        "def is_valid_email(email):\n",
        "    pattern = r'^[a-zA-Z0-9._%+-]+@[a-zA-Z0-9.-]+\\.[a-zA-Z]{2,}$'\n",
        "    return bool(re.match(pattern, email))\n",
        "\n",
        "is_valid_email(\"example@example.com\")"
      ],
      "metadata": {
        "id": "GzlJzEuxPKqx",
        "colab": {
          "base_uri": "https://localhost:8080/"
        },
        "outputId": "c739a8bd-540b-486c-c76c-597ad027c625"
      },
      "execution_count": 10,
      "outputs": [
        {
          "output_type": "execute_result",
          "data": {
            "text/plain": [
              "True"
            ]
          },
          "metadata": {},
          "execution_count": 10
        }
      ]
    },
    {
      "cell_type": "markdown",
      "source": [
        "Task4_0516. 주어진 문자열이 올바른 전화번호 형식(010-0000-0000)인지 확인하세요.\n",
        "\"010-1234-5678\""
      ],
      "metadata": {
        "id": "ID_S6DptPli1"
      }
    },
    {
      "cell_type": "code",
      "source": [
        "def is_valid_phone(phone):\n",
        "    pattern = r'^010-\\d{4}-\\d{4}$'\n",
        "    return bool(re.match(pattern, phone))\n",
        "\n",
        "is_valid_phone('010-1234-5678')"
      ],
      "metadata": {
        "id": "8qfFdwoRPmOp",
        "colab": {
          "base_uri": "https://localhost:8080/"
        },
        "outputId": "ba8fbe35-7926-4163-b46a-51f8d33d9778"
      },
      "execution_count": 12,
      "outputs": [
        {
          "output_type": "execute_result",
          "data": {
            "text/plain": [
              "True"
            ]
          },
          "metadata": {},
          "execution_count": 12
        }
      ]
    },
    {
      "cell_type": "markdown",
      "source": [
        "Task5_0516. 문자열에서 모든 HTML 태그를 찾아 리스트로 반환하세요.\n",
        "\"<html><head></head><body></body></html>\""
      ],
      "metadata": {
        "id": "9F3i_B2NPrjj"
      }
    },
    {
      "cell_type": "code",
      "source": [
        "def find_html_tags(html):\n",
        "    pattern=r'<[^>]+'\n",
        "    return re.findall(pattern, html)\n",
        "\n",
        "find_html_tags(\"<html><head></head><body></body></html>\")"
      ],
      "metadata": {
        "id": "KltFqbWNP0mp",
        "colab": {
          "base_uri": "https://localhost:8080/"
        },
        "outputId": "81010fa2-af6f-4ee5-d3da-32714b1ce1af"
      },
      "execution_count": 14,
      "outputs": [
        {
          "output_type": "execute_result",
          "data": {
            "text/plain": [
              "['<html', '<head', '</head', '<body', '</body', '</html']"
            ]
          },
          "metadata": {},
          "execution_count": 14
        }
      ]
    },
    {
      "cell_type": "markdown",
      "source": [
        "Task6_0516. 주어진 비밀번호가 최소 8자, 대문자, 소문자, 숫자, 특수문자를 포함하는지 확인하세요.\n",
        "\"Aa1!aaaa\""
      ],
      "metadata": {
        "id": "aKXlKk3PP16j"
      }
    },
    {
      "cell_type": "code",
      "source": [
        "def is_strong_password(password):\n",
        "    pattern = r'^(?=.*[a-z])(?=.*[A-Z])(?=.*[@$!%*?$])[A-Za-z\\d@$!%*?$]{8,}$'\n",
        "    return bool(re.match(pattern, password))\n",
        "\n",
        "is_strong_password(\"Aa1!aaaa\")"
      ],
      "metadata": {
        "id": "gcRDbzkEP5vx",
        "colab": {
          "base_uri": "https://localhost:8080/"
        },
        "outputId": "d4030045-b46d-4d0c-ead2-2cc756008f01"
      },
      "execution_count": 15,
      "outputs": [
        {
          "output_type": "execute_result",
          "data": {
            "text/plain": [
              "True"
            ]
          },
          "metadata": {},
          "execution_count": 15
        }
      ]
    },
    {
      "cell_type": "markdown",
      "source": [
        "Task7_0516. 주어진 문자열이 유효한 URL인지 확인하세요.\n",
        "\"https://www.example.com\""
      ],
      "metadata": {
        "id": "0DEYGeCaP6MI"
      }
    },
    {
      "cell_type": "code",
      "source": [
        "def is_valid_url(url):\n",
        "    pattern = r'^(https?|ftp):\\/\\/[^\\s/$.?#].[^\\s]*$'\n",
        "    return bool(re.match(pattern, url))\n",
        "\n",
        "is_valid_url(\"https://www.example.com\")"
      ],
      "metadata": {
        "id": "AZJSkjpfQAhq",
        "colab": {
          "base_uri": "https://localhost:8080/"
        },
        "outputId": "11c96247-80fb-4bc4-ed4b-8861a8c0d923"
      },
      "execution_count": 17,
      "outputs": [
        {
          "output_type": "execute_result",
          "data": {
            "text/plain": [
              "True"
            ]
          },
          "metadata": {},
          "execution_count": 17
        }
      ]
    },
    {
      "cell_type": "markdown",
      "source": [
        "Task8_0516. 주어진 문자열이 유효한 주민등록번호(######-#######) 형식인지 확인하세요.\n",
        "\"900101-1234567\""
      ],
      "metadata": {
        "id": "hyXyK6ZhQA3Z"
      }
    },
    {
      "cell_type": "code",
      "source": [
        "# 월별 예외적인 일의 경우는 별도 조건문으로 처리\n",
        "def is_valid_ssn(ssn):\n",
        "    pattern = r'\\d{2}((0[13578]|1[02])(0[1-9]|[12]\\d|3[01])|(0[469]|11)(0[1-9]|[12]\\d|30)|02(0[1-9]|1\\d|2[0-8]))-[1234]\\d{6}'\n",
        "    return bool(re.match(pattern, ssn))\n",
        "\n",
        "is_valid_ssn(\"900101-1234567\")"
      ],
      "metadata": {
        "id": "DcAJX-fUQLpT",
        "colab": {
          "base_uri": "https://localhost:8080/"
        },
        "outputId": "0a295322-6942-4f9e-cf47-33dcde3ccfdd"
      },
      "execution_count": 28,
      "outputs": [
        {
          "output_type": "execute_result",
          "data": {
            "text/plain": [
              "True"
            ]
          },
          "metadata": {},
          "execution_count": 28
        }
      ]
    },
    {
      "cell_type": "markdown",
      "source": [
        "Task9_0516. 주어진 문자열이 유효한 IPv4 주소인지 확인하세요.\n",
        "\"192.168.1.1\""
      ],
      "metadata": {
        "id": "NATdXgezQL4I"
      }
    },
    {
      "cell_type": "code",
      "source": [
        "def is_valid_ip(ip):\n",
        "  pattern = re.compile(r'^((25[0-5]|2[0-4][0-9]|[01]?[0-9][0-9]?)\\.){3}(25[0-5]|2[0-4][0-9]|[01]?[0-9][0-9]?)$')\n",
        "  return bool(re.match(pattern, ip))\n",
        "\n",
        "test_ips = [\n",
        "    \"192.168.0.1\",\n",
        "    \"255.255.255.255\",\n",
        "    \"256.256.256.256\",\n",
        "    \"192.168.1\",\n",
        "    \"192.168.1.300\",\n",
        "    \"abc.def.ghi.jkl\"\n",
        "]\n",
        "for ip in test_ips:\n",
        "  if is_valid_ip(ip):\n",
        "    print(f\"{ip} is a valid IP address.\")\n",
        "  else:\n",
        "    print(f\"{ip} is not a valid IP address.\")"
      ],
      "metadata": {
        "id": "tY6DIKZ4QM3x",
        "colab": {
          "base_uri": "https://localhost:8080/"
        },
        "outputId": "b5afd4d0-579d-401b-8235-300951bd2956"
      },
      "execution_count": 19,
      "outputs": [
        {
          "output_type": "stream",
          "name": "stdout",
          "text": [
            "192.168.0.1 is a valid IP address.\n",
            "255.255.255.255 is a valid IP address.\n",
            "256.256.256.256 is not a valid IP address.\n",
            "192.168.1 is not a valid IP address.\n",
            "192.168.1.300 is not a valid IP address.\n",
            "abc.def.ghi.jkl is not a valid IP address.\n"
          ]
        }
      ]
    },
    {
      "cell_type": "markdown",
      "source": [
        "Task10_0516. 주어진 파일 이름에서 확장자가 .jpg, .jpeg, 또는 .png인지 확인하세요.\n",
        "\"image.jpg\""
      ],
      "metadata": {
        "id": "_KPJopXvQNIk"
      }
    },
    {
      "cell_type": "code",
      "source": [
        "def is_image_file(filename):\n",
        "    pattern = r'.*\\.(jpg|jpeg|png)$'\n",
        "    return bool(re.match(pattern, filename))\n",
        "is_image_file(\"image.jpg\")"
      ],
      "metadata": {
        "id": "DXMURHO7QWJy",
        "colab": {
          "base_uri": "https://localhost:8080/"
        },
        "outputId": "1bb78bfe-012f-48d4-a0b1-3c6e1ae86a40"
      },
      "execution_count": 21,
      "outputs": [
        {
          "output_type": "execute_result",
          "data": {
            "text/plain": [
              "True"
            ]
          },
          "metadata": {},
          "execution_count": 21
        }
      ]
    },
    {
      "cell_type": "markdown",
      "source": [
        "Task11_0516. 문자열에서 Python 주석을 제거하세요.\n",
        "code_with_comments = \"\"\"\n",
        "# This is a whole line comment\n",
        "print(\"Hello, world!\")  # This is a side comment\n",
        "# Another comment\n",
        "print(\"Python is fun!\") # Another side comment\n",
        "\"\"\""
      ],
      "metadata": {
        "id": "ZfcuDqeCQenX"
      }
    },
    {
      "cell_type": "code",
      "source": [
        "def remove_coments(code):\n",
        "    pattern = r'#.*'\n",
        "    return re.sub(pattern, '', code, flags=re.MULTILINE)\n",
        "\n",
        "code_with_noments=\"\"\"\n",
        "# This is a whole line coment\n",
        "print(\"Hello World!\") # This is a side coment\n",
        "#Another coment\n",
        "print(\"PYthon is fun!\")# Another side coment\n",
        "\"\"\"\n",
        "\n",
        "clean_code = remove_comments(code_with_comments)\n",
        "print(clean_code)"
      ],
      "metadata": {
        "id": "YRdAHaWmQfVX",
        "colab": {
          "base_uri": "https://localhost:8080/"
        },
        "outputId": "df149de0-3dd7-45e2-b640-bfac1a4101bd"
      },
      "execution_count": 27,
      "outputs": [
        {
          "output_type": "stream",
          "name": "stdout",
          "text": [
            "\n",
            "\n",
            "print(\"Hello World!\") \n",
            "\n",
            "print(\"Python is fun!\")\n",
            "\n"
          ]
        }
      ]
    },
    {
      "cell_type": "markdown",
      "source": [
        "Task12_0516. 지정된 HTML 문자열 내에서 이메일 주소를 찾아서 그 결과를 출력\n",
        "html = \"\"\"\n",
        "<ul>\n",
        "  <li>Email: example@example.com</li>\n",
        "  <li>Contact: contact@sample.org</li>\n",
        "</ul>\n",
        "\"\"\""
      ],
      "metadata": {
        "id": "HtA9EScdQfys"
      }
    },
    {
      "cell_type": "code",
      "source": [
        "import re\n",
        "def find_emails(content):\n",
        "  \"\"\"웹 페이지 내용에서 이메일 주소를 찾습니다. \"\"\"\n",
        "  pattern = r'[a-zA-Z0-9._%+-]+@[a-zA-Z0-9.-]+\\.[a-zA-Z]{2,}'\n",
        "  emails = re.findall(pattern, content)\n",
        "  return emails\n",
        "\n",
        "html = \"\"\"\n",
        "<ul>\n",
        "  <li>Email: example@example.com</li>\n",
        "  <li>Contact: contact@sample.org<li>\n",
        "</ul>\n",
        "\"\"\"\n",
        "emails = find_emails(html)\n",
        "print(\"찾은 이메일 주소:\",emails)\n"
      ],
      "metadata": {
        "id": "QQsq5SiDQhCp",
        "colab": {
          "base_uri": "https://localhost:8080/"
        },
        "outputId": "f4e1efc8-6185-49ba-86e6-15a930bc439d"
      },
      "execution_count": 33,
      "outputs": [
        {
          "output_type": "stream",
          "name": "stdout",
          "text": [
            "찾은 이메일 주소: ['example@example.com', 'contact@sample.org']\n"
          ]
        }
      ]
    }
  ]
}