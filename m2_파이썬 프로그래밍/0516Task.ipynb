{
  "nbformat": 4,
  "nbformat_minor": 0,
  "metadata": {
    "colab": {
      "provenance": []
    },
    "kernelspec": {
      "name": "python3",
      "display_name": "Python 3"
    },
    "language_info": {
      "name": "python"
    }
  },
  "cells": [
    {
      "cell_type": "markdown",
      "source": [
        "Task1_0516. '199305, 1923A, a93247'에서 '199305'만 출력하세요."
      ],
      "metadata": {
        "id": "OASNDUg3fcS6"
      }
    },
    {
      "cell_type": "code",
      "execution_count": null,
      "metadata": {
        "id": "EZ0OTLqBfUH1"
      },
      "outputs": [],
      "source": []
    },
    {
      "cell_type": "markdown",
      "source": [
        "Task2_0516. '99food234, a93456\\n, a9356ba '에서 '99food234'만 출력하세요."
      ],
      "metadata": {
        "id": "qyS2wTYXfc7L"
      }
    },
    {
      "cell_type": "code",
      "source": [],
      "metadata": {
        "id": "UBS_Y1_LfeAb"
      },
      "execution_count": null,
      "outputs": []
    },
    {
      "cell_type": "markdown",
      "source": [
        "Task3_0516. 주어진 문자열이 유효한 이메일 주소인지 확인\n",
        "\"example@example.com\""
      ],
      "metadata": {
        "id": "HqjrZy9DfeTO"
      }
    },
    {
      "cell_type": "code",
      "source": [],
      "metadata": {
        "id": "YqArcFFUfgJ9"
      },
      "execution_count": null,
      "outputs": []
    },
    {
      "cell_type": "markdown",
      "source": [
        "Task4_0516. 주어진 문자열이 올바른 전화번호 형식(010-0000-0000)인지 확인하세요.\n",
        "\"010-1234-5678\""
      ],
      "metadata": {
        "id": "M-TsQyfnfgZi"
      }
    },
    {
      "cell_type": "code",
      "source": [],
      "metadata": {
        "id": "CzVCflMxfhdF"
      },
      "execution_count": null,
      "outputs": []
    },
    {
      "cell_type": "markdown",
      "source": [
        "Task5_0516. 문자열에서 모든 HTML 태그를 찾아 리스트로 반환하세요.\n",
        "\"<html><head></head><body></body></html>\""
      ],
      "metadata": {
        "id": "Rj_fFHY0fhqN"
      }
    },
    {
      "cell_type": "code",
      "source": [],
      "metadata": {
        "id": "jvwZEPBvfiuF"
      },
      "execution_count": null,
      "outputs": []
    },
    {
      "cell_type": "markdown",
      "source": [
        "Task6_0516. 주어진 비밀번호가 최소 8자, 대문자, 소문자, 숫자, 특수문자를 포함하는지 확인하세요.\n",
        "\"Aa1!aaaa\""
      ],
      "metadata": {
        "id": "QXNTQ6F4fjBs"
      }
    },
    {
      "cell_type": "code",
      "source": [],
      "metadata": {
        "id": "Kpw1agcEfjWU"
      },
      "execution_count": null,
      "outputs": []
    },
    {
      "cell_type": "markdown",
      "source": [
        "Task7_0516. 주어진 문자열이 유효한 URL인지 확인하세요.\n",
        "\"https://www.example.com\""
      ],
      "metadata": {
        "id": "sxQGph3efjjy"
      }
    },
    {
      "cell_type": "code",
      "source": [],
      "metadata": {
        "id": "qRC-vhRIfj17"
      },
      "execution_count": null,
      "outputs": []
    },
    {
      "cell_type": "markdown",
      "source": [
        "Task8_0516. 주어진 문자열이 유효한 주민등록번호(######-#######) 형식인지 확인하세요.\n",
        "\"900101-1234567\""
      ],
      "metadata": {
        "id": "zsZZVh47fkCP"
      }
    },
    {
      "cell_type": "code",
      "source": [],
      "metadata": {
        "id": "tL1Jz1H_foJa"
      },
      "execution_count": null,
      "outputs": []
    },
    {
      "cell_type": "markdown",
      "source": [
        "Task9_0516. 주어진 문자열이 유효한 IPv4 주소인지 확인하세요.\n",
        "\"192.168.1.1\""
      ],
      "metadata": {
        "id": "Lq-cwkAsfoWd"
      }
    },
    {
      "cell_type": "code",
      "source": [],
      "metadata": {
        "id": "HXfbt2Q-fomH"
      },
      "execution_count": null,
      "outputs": []
    },
    {
      "cell_type": "markdown",
      "source": [
        "Task10_0516. 주어진 파일 이름에서 확장자가 .jpg, .jpeg, 또는 .png인지 확인하세요.\n",
        "\"image.jpg\""
      ],
      "metadata": {
        "id": "8MJhA_vHfowM"
      }
    },
    {
      "cell_type": "code",
      "source": [],
      "metadata": {
        "id": "kBuz4MG8fo_1"
      },
      "execution_count": null,
      "outputs": []
    },
    {
      "cell_type": "markdown",
      "source": [
        "Task11_0516. 문자열에서 Python 주석을 제거하세요.\n",
        "code_with_comments = \"\"\"\n",
        "# This is a whole line comment\n",
        "print(\"Hello, world!\")  # This is a side comment\n",
        "# Another comment\n",
        "print(\"Python is fun!\") # Another side comment\n",
        "\"\"\""
      ],
      "metadata": {
        "id": "CSA3FXLufpUr"
      }
    },
    {
      "cell_type": "code",
      "source": [],
      "metadata": {
        "id": "eAER241vfub2"
      },
      "execution_count": null,
      "outputs": []
    },
    {
      "cell_type": "markdown",
      "source": [
        "Task12_0516. 지정된 HTML 문자열 내에서 이메일 주소를 찾아서 그 결과를 출력\n",
        "html = \"\"\"\n",
        "<ul>\n",
        "  <li>Email: example@example.com</li>\n",
        "  <li>Contact: contact@sample.org</li>\n",
        "</ul>\n",
        "\"\"\""
      ],
      "metadata": {
        "id": "3UxlIrCnfuwj"
      }
    },
    {
      "cell_type": "code",
      "source": [],
      "metadata": {
        "id": "6oDD4OXwfwHL"
      },
      "execution_count": null,
      "outputs": []
    }
  ]
}