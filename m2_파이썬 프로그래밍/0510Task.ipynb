{
  "nbformat": 4,
  "nbformat_minor": 0,
  "metadata": {
    "colab": {
      "provenance": []
    },
    "kernelspec": {
      "name": "python3",
      "display_name": "Python 3"
    },
    "language_info": {
      "name": "python"
    }
  },
  "cells": [
    {
      "cell_type": "markdown",
      "source": [
        "Task1_0510. try ~ except, try ~ except ~ finally, try ~ except ~else, try ~ except ~else ~finally 4가지 예외 처리가 필요한 경우에 대해서 코딩을 수행하세요."
      ],
      "metadata": {
        "id": "ALlDLiA8edvj"
      }
    },
    {
      "cell_type": "code",
      "execution_count": null,
      "metadata": {
        "id": "ZRG6BL8teW41"
      },
      "outputs": [],
      "source": []
    },
    {
      "cell_type": "markdown",
      "source": [
        "Task2_0510. 리스트 ['52','273','32','문자','103']에서 숫자 부분만 출력하세요(예외 처리 수행)"
      ],
      "metadata": {
        "id": "zHTe8r9fee43"
      }
    },
    {
      "cell_type": "code",
      "source": [],
      "metadata": {
        "id": "1mcYdW0regcD"
      },
      "execution_count": null,
      "outputs": []
    },
    {
      "cell_type": "markdown",
      "source": [
        "Task3_0510. 두가지 시나리오를 예외처리를 하여 코드 작업을 수행하세요\n",
        "- 정수를 입력하면 > '예외 발생하지 않음' > '프로그램 종료'\n",
        "- 정수를 입력하지 않으면 > '정수 아님' > '프로그램 종료'"
      ],
      "metadata": {
        "id": "FgqRLyZ0ef7o"
      }
    },
    {
      "cell_type": "code",
      "source": [],
      "metadata": {
        "id": "coPZoerbeico"
      },
      "execution_count": null,
      "outputs": []
    },
    {
      "cell_type": "markdown",
      "source": [
        "Task4_0510. 생성자만으로 구성된 클래스를 작성하고 객체 3개를 만들어서 결과를 출력하세요."
      ],
      "metadata": {
        "id": "QtQk2lnJeiwv"
      }
    },
    {
      "cell_type": "code",
      "source": [],
      "metadata": {
        "id": "5eGkvO-Iekys"
      },
      "execution_count": null,
      "outputs": []
    },
    {
      "cell_type": "markdown",
      "source": [
        "Task5_0510. 생성자, 메소드를 모두 포함하는 클래스를 작성하고 객체 3개를 만들어서 결과를 출력하세요"
      ],
      "metadata": {
        "id": "Gv_aLK_oelFE"
      }
    },
    {
      "cell_type": "code",
      "source": [],
      "metadata": {
        "id": "zRk5f1e7emyT"
      },
      "execution_count": null,
      "outputs": []
    },
    {
      "cell_type": "markdown",
      "source": [
        "Task6_0510. 여러개의 음식을 주문할 수 있는 주문 시스템을 작성하세요.(클래스 활용 - 객체 지향)"
      ],
      "metadata": {
        "id": "reFnW54_emU5"
      }
    },
    {
      "cell_type": "code",
      "source": [],
      "metadata": {
        "id": "2pqwRfZveo0q"
      },
      "execution_count": null,
      "outputs": []
    }
  ]
}