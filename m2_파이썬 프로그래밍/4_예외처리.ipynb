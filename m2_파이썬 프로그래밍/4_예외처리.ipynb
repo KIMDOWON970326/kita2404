{
  "nbformat": 4,
  "nbformat_minor": 0,
  "metadata": {
    "colab": {
      "provenance": []
    },
    "kernelspec": {
      "name": "python3",
      "display_name": "Python 3"
    },
    "language_info": {
      "name": "python"
    }
  },
  "cells": [
    {
      "cell_type": "markdown",
      "source": [
        "#### 에러(Error) vs. 예외(Exception).\n",
        "\n",
        "에러(Error):\n",
        "- 에러는 주로 프로그램 실행 전에 발생하는, 프로그램의 잘못된 구문이나 절차 등에 의해 발생하는 문제를 말한다.\n",
        "- 대표적인 에러로는 구문 에러(SyntaxError)가 있다. 예를 들어, 올바르지 않은 들여쓰기나 잘못된 코드 구조로 인해 파이썬 인터프리터가 코드를 실행하기 전에 에러를 발생시킨다.\n",
        "- 에러는 대체로 프로그램의 수정 없이는 복구될 수 없는 심각한 문제들이다.\n",
        "\n",
        "예외(Exception):\n",
        "- 예외는 실행 중인 프로그램에 영향을 주는 이벤트로, 일반적인 프로그램 흐름을 방해한다.\n",
        "- 예외는 프로그램의 정상적인 흐름을 방해하지만, 적절한 예외 처리를 통해 프로그램의 중단 없이 예외를 '잡아내고(catch)' 처리할 수 있다. 예를 들어, 파일을 열 때 파일이 존재하지 않는 경우 FileNotFoundError 예외가 발생할 수 있다. 이 경우 적절한 except 블록으로 예외를 처리하여 사용자에게 메시지를 표시하고 대안적인 행동을 취할 수 있다.\n",
        "- 예외는 try-except 블록을 통해 프로그램에서 처리할 수 있으며, 이를 통해 프로그램이 예외 상황에서도 안정적으로 동작하도록 만들 수 있다.\n",
        "\n",
        "요약하자면, 에러는 대개 코드 수정이 필요한 문제들을 가리키며, 예외는 프로그램 실행 중에 발생하지만 적절히 처리할 수 있는 예상 가능한 '예외적' 상황들을 말한다.\n",
        "\n",
        "#### 파이썬에서 발생할 수 있는 에러와 예외의 유형:\n",
        "에러 : 프로그램이 실행되기 전에 발생하는 문제\n",
        "- SyntaxError: 코드의 구문이 잘못되었을 때 생긴다.<br>\n",
        "\n",
        "예외 : 실행 시간(runtime) 중에 발생하고 처리 가능\n",
        "- NameError: 정의되지 않은 변수를 호출할 때 생긴다.\n",
        "- TypeError: 연산이나 함수가 부적절한 유형의 객체에 적용될 때 발생한다.\n",
        "- ValueError: 연산이나 함수가 적절하지 않은 값을 객체에 적용할 때 발생한다.\n",
        "- IndexError: 리스트 등의 시퀀스에서 존재하지 않는 인덱스를 사용할 때 생긴다.\n",
        "- KeyError: 딕셔너리에서 존재하지 않는 키를 사용할 때 발생한다.\n",
        "- AttributeError: 존재하지 않는 속성이나 메서드를 호출할 때 생긴다.\n",
        "- IOError 또는 OSError: 파일 입출력 과정에서 에러가 생길 때 발생한다.\n",
        "- ZeroDivisionError: 0으로 나눌 때 생긴다.\n",
        "- ImportError: 모듈을 임포트할 수 없을 때 발생한다.\n",
        "- StopIteration: 이터레이터에 더 이상의 아이템이 없을 때 next()를 호출하면 발생한다.\n",
        "- MemoryError: 메모리 할당이 실패할 때 생긴다.\n",
        "- RecursionError: 재귀 호출이 너무 깊어질 때 발생한다."
      ],
      "metadata": {
        "id": "EFtWr2TSFDCJ"
      }
    },
    {
      "cell_type": "code",
      "execution_count": null,
      "metadata": {
        "colab": {
          "base_uri": "https://localhost:8080/",
          "height": 110
        },
        "id": "uqvW5ldRE4ML",
        "outputId": "a4a78c22-0cb7-4409-c7da-4562c2c92d90"
      },
      "outputs": [
        {
          "output_type": "error",
          "ename": "SyntaxError",
          "evalue": "unterminated string literal (detected at line 4) (<ipython-input-2-97e69b1f8d4a>, line 4)",
          "traceback": [
            "\u001b[0;36m  File \u001b[0;32m\"<ipython-input-2-97e69b1f8d4a>\"\u001b[0;36m, line \u001b[0;32m4\u001b[0m\n\u001b[0;31m    print('예외를 강제로 발생!)\u001b[0m\n\u001b[0m          ^\u001b[0m\n\u001b[0;31mSyntaxError\u001b[0m\u001b[0;31m:\u001b[0m unterminated string literal (detected at line 4)\n"
          ]
        }
      ],
      "source": [
        "# 구문 오류 : 프로그램 실행전에 발생하는 오류\n",
        "# 예외 또는 런타임 오류 : 프로그램 실행중에 발생하는 오류\n",
        "\n",
        "print('예외를 강제로 발생!)"
      ]
    },
    {
      "cell_type": "code",
      "source": [
        "# SyntaxError : 잘못된 구문\n",
        "for i in range(10)\n",
        "      print(i)"
      ],
      "metadata": {
        "colab": {
          "base_uri": "https://localhost:8080/",
          "height": 110
        },
        "id": "ize9S-9cHIeV",
        "outputId": "9d5ddeb5-3d73-4424-e6e8-793ec4baeb2d"
      },
      "execution_count": null,
      "outputs": [
        {
          "output_type": "error",
          "ename": "SyntaxError",
          "evalue": "expected ':' (<ipython-input-3-501d127aef82>, line 2)",
          "traceback": [
            "\u001b[0;36m  File \u001b[0;32m\"<ipython-input-3-501d127aef82>\"\u001b[0;36m, line \u001b[0;32m2\u001b[0m\n\u001b[0;31m    for i in range(10)\u001b[0m\n\u001b[0m                      ^\u001b[0m\n\u001b[0;31mSyntaxError\u001b[0m\u001b[0;31m:\u001b[0m expected ':'\n"
          ]
        }
      ]
    },
    {
      "cell_type": "code",
      "source": [
        "# NameError:정의되지 않은 변수 사용\n",
        "\n",
        "print(unknown_var)"
      ],
      "metadata": {
        "colab": {
          "base_uri": "https://localhost:8080/",
          "height": 183
        },
        "id": "3Hj5UnANHbG5",
        "outputId": "22c56a50-13ca-4da8-a020-4f6a07335a28"
      },
      "execution_count": null,
      "outputs": [
        {
          "output_type": "error",
          "ename": "NameError",
          "evalue": "name 'unknown_var' is not defined",
          "traceback": [
            "\u001b[0;31m---------------------------------------------------------------------------\u001b[0m",
            "\u001b[0;31mNameError\u001b[0m                                 Traceback (most recent call last)",
            "\u001b[0;32m<ipython-input-4-50682b69ba44>\u001b[0m in \u001b[0;36m<cell line: 3>\u001b[0;34m()\u001b[0m\n\u001b[1;32m      1\u001b[0m \u001b[0;31m# NameError:정의되지 않은 변수 사용\u001b[0m\u001b[0;34m\u001b[0m\u001b[0;34m\u001b[0m\u001b[0m\n\u001b[1;32m      2\u001b[0m \u001b[0;34m\u001b[0m\u001b[0m\n\u001b[0;32m----> 3\u001b[0;31m \u001b[0mprint\u001b[0m\u001b[0;34m(\u001b[0m\u001b[0munknown_var\u001b[0m\u001b[0;34m)\u001b[0m\u001b[0;34m\u001b[0m\u001b[0;34m\u001b[0m\u001b[0m\n\u001b[0m",
            "\u001b[0;31mNameError\u001b[0m: name 'unknown_var' is not defined"
          ]
        }
      ]
    },
    {
      "cell_type": "code",
      "source": [
        "#정수를 입력하지 않은 경우 예외 발생\n",
        "num_input=int(input('정수입력>'))\n",
        "print(\"원의 반지름\",num_input)"
      ],
      "metadata": {
        "id": "dVxreokkHqIH",
        "colab": {
          "base_uri": "https://localhost:8080/",
          "height": 201
        },
        "outputId": "e406877b-da48-4524-c4eb-307159c2ec8d"
      },
      "execution_count": 2,
      "outputs": [
        {
          "name": "stdout",
          "output_type": "stream",
          "text": [
            "정수입력>1.0\n"
          ]
        },
        {
          "output_type": "error",
          "ename": "ValueError",
          "evalue": "invalid literal for int() with base 10: '1.0'",
          "traceback": [
            "\u001b[0;31m---------------------------------------------------------------------------\u001b[0m",
            "\u001b[0;31mValueError\u001b[0m                                Traceback (most recent call last)",
            "\u001b[0;32m<ipython-input-2-a86878cb89b5>\u001b[0m in \u001b[0;36m<cell line: 2>\u001b[0;34m()\u001b[0m\n\u001b[1;32m      1\u001b[0m \u001b[0;31m#정수를 입력하지 않은 경우 예외 발생\u001b[0m\u001b[0;34m\u001b[0m\u001b[0;34m\u001b[0m\u001b[0m\n\u001b[0;32m----> 2\u001b[0;31m \u001b[0mnum_input\u001b[0m\u001b[0;34m=\u001b[0m\u001b[0mint\u001b[0m\u001b[0;34m(\u001b[0m\u001b[0minput\u001b[0m\u001b[0;34m(\u001b[0m\u001b[0;34m'정수입력>'\u001b[0m\u001b[0;34m)\u001b[0m\u001b[0;34m)\u001b[0m\u001b[0;34m\u001b[0m\u001b[0;34m\u001b[0m\u001b[0m\n\u001b[0m\u001b[1;32m      3\u001b[0m \u001b[0mprint\u001b[0m\u001b[0;34m(\u001b[0m\u001b[0;34m\"원의 반지름\"\u001b[0m\u001b[0;34m,\u001b[0m\u001b[0mnum_input\u001b[0m\u001b[0;34m)\u001b[0m\u001b[0;34m\u001b[0m\u001b[0;34m\u001b[0m\u001b[0m\n",
            "\u001b[0;31mValueError\u001b[0m: invalid literal for int() with base 10: '1.0'"
          ]
        }
      ]
    },
    {
      "cell_type": "code",
      "source": [
        "#Tyoeerror:부적절한 유형의 객체 연산\n",
        "'2'+2\n",
        "3"
      ],
      "metadata": {
        "colab": {
          "base_uri": "https://localhost:8080/",
          "height": 183
        },
        "id": "clI_Rl8UF43D",
        "outputId": "edf48003-e0c2-4bd1-ff54-bef65fe73f0e"
      },
      "execution_count": 3,
      "outputs": [
        {
          "output_type": "error",
          "ename": "TypeError",
          "evalue": "can only concatenate str (not \"int\") to str",
          "traceback": [
            "\u001b[0;31m---------------------------------------------------------------------------\u001b[0m",
            "\u001b[0;31mTypeError\u001b[0m                                 Traceback (most recent call last)",
            "\u001b[0;32m<ipython-input-3-207b15a427e0>\u001b[0m in \u001b[0;36m<cell line: 2>\u001b[0;34m()\u001b[0m\n\u001b[1;32m      1\u001b[0m \u001b[0;31m#Tyoeerror:부적절한 유형의 객체 연산\u001b[0m\u001b[0;34m\u001b[0m\u001b[0;34m\u001b[0m\u001b[0m\n\u001b[0;32m----> 2\u001b[0;31m \u001b[0;34m'2'\u001b[0m\u001b[0;34m+\u001b[0m\u001b[0;36m2\u001b[0m\u001b[0;34m\u001b[0m\u001b[0;34m\u001b[0m\u001b[0m\n\u001b[0m\u001b[1;32m      3\u001b[0m \u001b[0;36m3\u001b[0m\u001b[0;34m\u001b[0m\u001b[0;34m\u001b[0m\u001b[0m\n",
            "\u001b[0;31mTypeError\u001b[0m: can only concatenate str (not \"int\") to str"
          ]
        }
      ]
    },
    {
      "cell_type": "code",
      "source": [
        "#ValueError :적절하지 않은 값 사용\n",
        "int('abc')"
      ],
      "metadata": {
        "colab": {
          "base_uri": "https://localhost:8080/",
          "height": 165
        },
        "id": "XgjK7GLvGHOb",
        "outputId": "34f70dde-9e6d-4129-cb9e-8ec4a3ac2b56"
      },
      "execution_count": 4,
      "outputs": [
        {
          "output_type": "error",
          "ename": "ValueError",
          "evalue": "invalid literal for int() with base 10: 'abc'",
          "traceback": [
            "\u001b[0;31m---------------------------------------------------------------------------\u001b[0m",
            "\u001b[0;31mValueError\u001b[0m                                Traceback (most recent call last)",
            "\u001b[0;32m<ipython-input-4-ff21a0a17054>\u001b[0m in \u001b[0;36m<cell line: 2>\u001b[0;34m()\u001b[0m\n\u001b[1;32m      1\u001b[0m \u001b[0;31m#ValueError :적절하지 않은 값 사용\u001b[0m\u001b[0;34m\u001b[0m\u001b[0;34m\u001b[0m\u001b[0m\n\u001b[0;32m----> 2\u001b[0;31m \u001b[0mint\u001b[0m\u001b[0;34m(\u001b[0m\u001b[0;34m'abc'\u001b[0m\u001b[0;34m)\u001b[0m\u001b[0;34m\u001b[0m\u001b[0;34m\u001b[0m\u001b[0m\n\u001b[0m",
            "\u001b[0;31mValueError\u001b[0m: invalid literal for int() with base 10: 'abc'"
          ]
        }
      ]
    },
    {
      "cell_type": "code",
      "source": [
        "#IndexError:존재하지 않는 인덱스 사용\n",
        "my_list=[1,2,3]\n",
        "print(my_list[3])"
      ],
      "metadata": {
        "colab": {
          "base_uri": "https://localhost:8080/",
          "height": 183
        },
        "id": "bnbkC_6TGbPU",
        "outputId": "8f1ec189-d2c7-4f5c-f8e1-2372fcc8a3a8"
      },
      "execution_count": 5,
      "outputs": [
        {
          "output_type": "error",
          "ename": "IndexError",
          "evalue": "list index out of range",
          "traceback": [
            "\u001b[0;31m---------------------------------------------------------------------------\u001b[0m",
            "\u001b[0;31mIndexError\u001b[0m                                Traceback (most recent call last)",
            "\u001b[0;32m<ipython-input-5-25d427face86>\u001b[0m in \u001b[0;36m<cell line: 3>\u001b[0;34m()\u001b[0m\n\u001b[1;32m      1\u001b[0m \u001b[0;31m#IndexError:존재하지 않는 인덱스 사용\u001b[0m\u001b[0;34m\u001b[0m\u001b[0;34m\u001b[0m\u001b[0m\n\u001b[1;32m      2\u001b[0m \u001b[0mmy_list\u001b[0m\u001b[0;34m=\u001b[0m\u001b[0;34m[\u001b[0m\u001b[0;36m1\u001b[0m\u001b[0;34m,\u001b[0m\u001b[0;36m2\u001b[0m\u001b[0;34m,\u001b[0m\u001b[0;36m3\u001b[0m\u001b[0;34m]\u001b[0m\u001b[0;34m\u001b[0m\u001b[0;34m\u001b[0m\u001b[0m\n\u001b[0;32m----> 3\u001b[0;31m \u001b[0mprint\u001b[0m\u001b[0;34m(\u001b[0m\u001b[0mmy_list\u001b[0m\u001b[0;34m[\u001b[0m\u001b[0;36m3\u001b[0m\u001b[0;34m]\u001b[0m\u001b[0;34m)\u001b[0m\u001b[0;34m\u001b[0m\u001b[0;34m\u001b[0m\u001b[0m\n\u001b[0m",
            "\u001b[0;31mIndexError\u001b[0m: list index out of range"
          ]
        }
      ]
    },
    {
      "cell_type": "code",
      "source": [
        "#KeyError:딕셔너리에서 존재하지 않는 키 사용\n",
        "my_civt={'a':1,'b':2}\n",
        "print(my_dict{'c'})"
      ],
      "metadata": {
        "colab": {
          "base_uri": "https://localhost:8080/",
          "height": 110
        },
        "id": "kWlwXGuKGl1v",
        "outputId": "9fb68424-5d7a-4b42-9a25-f1b34c950912"
      },
      "execution_count": 9,
      "outputs": [
        {
          "output_type": "error",
          "ename": "SyntaxError",
          "evalue": "invalid syntax. Perhaps you forgot a comma? (<ipython-input-9-6984c3a199e6>, line 3)",
          "traceback": [
            "\u001b[0;36m  File \u001b[0;32m\"<ipython-input-9-6984c3a199e6>\"\u001b[0;36m, line \u001b[0;32m3\u001b[0m\n\u001b[0;31m    print(my_dict{'c'})\u001b[0m\n\u001b[0m          ^\u001b[0m\n\u001b[0;31mSyntaxError\u001b[0m\u001b[0;31m:\u001b[0m invalid syntax. Perhaps you forgot a comma?\n"
          ]
        }
      ]
    },
    {
      "cell_type": "code",
      "source": [
        "#AttributeError : 존재하지 않는 속성이나 메스드 호출,리스트에는 push라는 메서드가 없어 발생\n",
        "my_list=[1,2,3]\n",
        "my_list.push(4)"
      ],
      "metadata": {
        "colab": {
          "base_uri": "https://localhost:8080/",
          "height": 183
        },
        "id": "_ElThKMMG29C",
        "outputId": "88b9e111-c2e9-4d71-ea95-e6ee06bf17a7"
      },
      "execution_count": 10,
      "outputs": [
        {
          "output_type": "error",
          "ename": "AttributeError",
          "evalue": "'list' object has no attribute 'push'",
          "traceback": [
            "\u001b[0;31m---------------------------------------------------------------------------\u001b[0m",
            "\u001b[0;31mAttributeError\u001b[0m                            Traceback (most recent call last)",
            "\u001b[0;32m<ipython-input-10-9078e014de3e>\u001b[0m in \u001b[0;36m<cell line: 3>\u001b[0;34m()\u001b[0m\n\u001b[1;32m      1\u001b[0m \u001b[0;31m#AttributeError : 존재하지 않는 속성이나 메스드 호출,리스트에는 push라는 메서드가 없어 발생\u001b[0m\u001b[0;34m\u001b[0m\u001b[0;34m\u001b[0m\u001b[0m\n\u001b[1;32m      2\u001b[0m \u001b[0mmy_list\u001b[0m\u001b[0;34m=\u001b[0m\u001b[0;34m[\u001b[0m\u001b[0;36m1\u001b[0m\u001b[0;34m,\u001b[0m\u001b[0;36m2\u001b[0m\u001b[0;34m,\u001b[0m\u001b[0;36m3\u001b[0m\u001b[0;34m]\u001b[0m\u001b[0;34m\u001b[0m\u001b[0;34m\u001b[0m\u001b[0m\n\u001b[0;32m----> 3\u001b[0;31m \u001b[0mmy_list\u001b[0m\u001b[0;34m.\u001b[0m\u001b[0mpush\u001b[0m\u001b[0;34m(\u001b[0m\u001b[0;36m4\u001b[0m\u001b[0;34m)\u001b[0m\u001b[0;34m\u001b[0m\u001b[0;34m\u001b[0m\u001b[0m\n\u001b[0m",
            "\u001b[0;31mAttributeError\u001b[0m: 'list' object has no attribute 'push'"
          ]
        }
      ]
    },
    {
      "cell_type": "code",
      "source": [
        "# IOError 또는 OSError: 파일 입출력 과정에서 에러가 생길 때 발생한다.\n",
        "with open('non_existem')"
      ],
      "metadata": {
        "id": "ZnWkF4lhHTLr"
      },
      "execution_count": null,
      "outputs": []
    },
    {
      "cell_type": "code",
      "source": [
        "# ZeroDivisionError: 0으로 나눌 때 생긴다.\n",
        "from __future__ import division\n",
        "#ZeroDicisionError:0으로 나누기\n",
        "division=10/0"
      ],
      "metadata": {
        "colab": {
          "base_uri": "https://localhost:8080/",
          "height": 183
        },
        "id": "SlRd9eHAHo9C",
        "outputId": "1d9fab7a-cb96-4d60-c175-2dbf4c7cc113"
      },
      "execution_count": 12,
      "outputs": [
        {
          "output_type": "error",
          "ename": "ZeroDivisionError",
          "evalue": "division by zero",
          "traceback": [
            "\u001b[0;31m---------------------------------------------------------------------------\u001b[0m",
            "\u001b[0;31mZeroDivisionError\u001b[0m                         Traceback (most recent call last)",
            "\u001b[0;32m<ipython-input-12-1392405eaa00>\u001b[0m in \u001b[0;36m<cell line: 3>\u001b[0;34m()\u001b[0m\n\u001b[1;32m      1\u001b[0m \u001b[0;32mfrom\u001b[0m \u001b[0m__future__\u001b[0m \u001b[0;32mimport\u001b[0m \u001b[0mdivision\u001b[0m\u001b[0;34m\u001b[0m\u001b[0;34m\u001b[0m\u001b[0m\n\u001b[1;32m      2\u001b[0m \u001b[0;31m#ZeroDicisionError:0으로 나누기\u001b[0m\u001b[0;34m\u001b[0m\u001b[0;34m\u001b[0m\u001b[0m\n\u001b[0;32m----> 3\u001b[0;31m \u001b[0mdivision\u001b[0m\u001b[0;34m=\u001b[0m\u001b[0;36m10\u001b[0m\u001b[0;34m/\u001b[0m\u001b[0;36m0\u001b[0m\u001b[0;34m\u001b[0m\u001b[0;34m\u001b[0m\u001b[0m\n\u001b[0m",
            "\u001b[0;31mZeroDivisionError\u001b[0m: division by zero"
          ]
        }
      ]
    },
    {
      "cell_type": "code",
      "source": [
        "#importError : 존재하지 않는 모듈 임포트 시도\n",
        "import non_existent_module"
      ],
      "metadata": {
        "colab": {
          "base_uri": "https://localhost:8080/",
          "height": 348
        },
        "id": "X_nJ1X_uHyAY",
        "outputId": "c8730f2f-42b9-4056-c238-bd394dda09dd"
      },
      "execution_count": 11,
      "outputs": [
        {
          "output_type": "error",
          "ename": "ModuleNotFoundError",
          "evalue": "No module named 'non_existent_module'",
          "traceback": [
            "\u001b[0;31m---------------------------------------------------------------------------\u001b[0m",
            "\u001b[0;31mModuleNotFoundError\u001b[0m                       Traceback (most recent call last)",
            "\u001b[0;32m<ipython-input-11-437ce566d121>\u001b[0m in \u001b[0;36m<cell line: 2>\u001b[0;34m()\u001b[0m\n\u001b[1;32m      1\u001b[0m \u001b[0;31m#importError : 존재하지 않는 모듈 임포트 시도\u001b[0m\u001b[0;34m\u001b[0m\u001b[0;34m\u001b[0m\u001b[0m\n\u001b[0;32m----> 2\u001b[0;31m \u001b[0;32mimport\u001b[0m \u001b[0mnon_existent_module\u001b[0m\u001b[0;34m\u001b[0m\u001b[0;34m\u001b[0m\u001b[0m\n\u001b[0m",
            "\u001b[0;31mModuleNotFoundError\u001b[0m: No module named 'non_existent_module'",
            "",
            "\u001b[0;31m---------------------------------------------------------------------------\u001b[0;32m\nNOTE: If your import is failing due to a missing package, you can\nmanually install dependencies using either !pip or !apt.\n\nTo view examples of installing some common dependencies, click the\n\"Open Examples\" button below.\n\u001b[0;31m---------------------------------------------------------------------------\u001b[0m\n"
          ],
          "errorDetails": {
            "actions": [
              {
                "action": "open_url",
                "actionText": "Open Examples",
                "url": "/notebooks/snippets/importing_libraries.ipynb"
              }
            ]
          }
        }
      ]
    },
    {
      "cell_type": "code",
      "source": [
        "# StopIteration: 이터레이터에 더 이상의 아이템이 없을 때 next()를 호출하면 발생한다.\n",
        "my_iterator=iter([1,2,3])\n",
        "naxt(my_iterator)\n",
        "naxt(my_iterator)\n",
        "naxt(my_iterator)\n",
        "naxt(my_iterator)\n",
        "naxt(my_iterator)"
      ],
      "metadata": {
        "colab": {
          "base_uri": "https://localhost:8080/",
          "height": 220
        },
        "id": "O464lTUqH9E4",
        "outputId": "2a7c21b2-980d-4711-eba7-971423b06ca2"
      },
      "execution_count": 14,
      "outputs": [
        {
          "output_type": "error",
          "ename": "NameError",
          "evalue": "name 'naxt' is not defined",
          "traceback": [
            "\u001b[0;31m---------------------------------------------------------------------------\u001b[0m",
            "\u001b[0;31mNameError\u001b[0m                                 Traceback (most recent call last)",
            "\u001b[0;32m<ipython-input-14-904184889657>\u001b[0m in \u001b[0;36m<cell line: 3>\u001b[0;34m()\u001b[0m\n\u001b[1;32m      1\u001b[0m \u001b[0;31m# StopIteration: 이터레이터에 더 이상의 아이템이 없을 때 next()를 호출하면 발생한다.\u001b[0m\u001b[0;34m\u001b[0m\u001b[0;34m\u001b[0m\u001b[0m\n\u001b[1;32m      2\u001b[0m \u001b[0mmy_iterator\u001b[0m\u001b[0;34m=\u001b[0m\u001b[0miter\u001b[0m\u001b[0;34m(\u001b[0m\u001b[0;34m[\u001b[0m\u001b[0;36m1\u001b[0m\u001b[0;34m,\u001b[0m\u001b[0;36m2\u001b[0m\u001b[0;34m,\u001b[0m\u001b[0;36m3\u001b[0m\u001b[0;34m]\u001b[0m\u001b[0;34m)\u001b[0m\u001b[0;34m\u001b[0m\u001b[0;34m\u001b[0m\u001b[0m\n\u001b[0;32m----> 3\u001b[0;31m \u001b[0mnaxt\u001b[0m\u001b[0;34m(\u001b[0m\u001b[0mmy_iterator\u001b[0m\u001b[0;34m)\u001b[0m\u001b[0;34m\u001b[0m\u001b[0;34m\u001b[0m\u001b[0m\n\u001b[0m\u001b[1;32m      4\u001b[0m \u001b[0mnaxt\u001b[0m\u001b[0;34m(\u001b[0m\u001b[0mmy_iterator\u001b[0m\u001b[0;34m)\u001b[0m\u001b[0;34m\u001b[0m\u001b[0;34m\u001b[0m\u001b[0m\n\u001b[1;32m      5\u001b[0m \u001b[0mnaxt\u001b[0m\u001b[0;34m(\u001b[0m\u001b[0mmy_iterator\u001b[0m\u001b[0;34m)\u001b[0m\u001b[0;34m\u001b[0m\u001b[0;34m\u001b[0m\u001b[0m\n",
            "\u001b[0;31mNameError\u001b[0m: name 'naxt' is not defined"
          ]
        }
      ]
    },
    {
      "cell_type": "code",
      "source": [
        "# MemoryError: 메모리 할당이 실패할 때 생긴다.\n",
        "very_large_list=[0]*(10**10)"
      ],
      "metadata": {
        "id": "_G5kIpvcIXtG"
      },
      "execution_count": null,
      "outputs": []
    },
    {
      "cell_type": "code",
      "source": [
        "# RecursionError: 재귀 호출이 너무 깊어질 때 발생한다.\n",
        "# 아무런 종료 조건 없이 자기 자신을 계속해서 호출하므로 파이썬의 최대 재귀 깊이에 도달할 때까지 실행\n",
        "# 이 한계에 도달하면 RecursionError 예외가 발생\n",
        "def recursive_function():\n",
        "    recursive_function()\n",
        "recursive_function()"
      ],
      "metadata": {
        "id": "FICjHz_HIkLZ"
      },
      "execution_count": null,
      "outputs": []
    },
    {
      "cell_type": "code",
      "source": [
        "# 조건문으로 예외 처리\n",
        "user_input=input('정수입력>')\n",
        "if user_input.isdigit():\n",
        "  num_input=int(user_input)\n",
        "  print('원으 반지름:',num_input)\n",
        "else:\n",
        "  print('정수를 입력해주세요')"
      ],
      "metadata": {
        "colab": {
          "base_uri": "https://localhost:8080/"
        },
        "id": "Re8BSn5aJNJ7",
        "outputId": "8daeeed4-2617-4fc5-c213-f3c2c30715f6"
      },
      "execution_count": 16,
      "outputs": [
        {
          "output_type": "stream",
          "name": "stdout",
          "text": [
            "정수입력>ㅓ하\n",
            "정수를 입력해주세요\n"
          ]
        }
      ]
    },
    {
      "cell_type": "markdown",
      "source": [
        "- 프로그램이 실행되는 동안 오류가 발생하면 프로그램이 더 이상 진행될 수 없는 상태가 되는데 이를 예외라고 함\n",
        "- 예외가 발생해도 프로그램을 중단하지 않고 예외에 대한 적절한 처리를 하여 프로그램을 계속 진행하도록 하는 구문이 try ~ except"
      ],
      "metadata": {
        "id": "jZz7PISXJu-n"
      }
    },
    {
      "cell_type": "markdown",
      "source": [
        "#### 파이썬에서 예외 처리\n",
        "프로그램 실행 중 발생할 수 있는 오류를 예상하고 관리할 수 있게 하는 강력한 기능이다. 이는 try, except, else, finally 블록을 사용해 수행된다. 각 구성 요소에 대해 간략히 설명하자면:\n",
        "\n",
        "- try: 이 코드 블록은 예외를 발생시킬 수 있는 연산을 포함한다. 코드가 오류를 일으킬 수 있다는 것을 \"시도\"하는 곳이다.\n",
        "\n",
        "- except: try 블록 내에서 오류가 발생하면, 파이썬은 그 블록의 실행을 멈추고 except 블록으로 점프한다. except 블록에서는 예외를 처리한다, 즉 오류에 대응하는 코드가 들어간다. 특정 예외를 이름으로 잡거나 모든 예외를 잡을 수 있다.\n",
        "\n",
        "- else: 이 블록은 선택적이며 try-except 블록 뒤에 올 수 있다. else 블록의 코드는 try 블록에서 예외가 발생하지 않았을 때만 실행된다. try 블록이 성공적으로 실행됐을 때만 실행되어야 하는 코드를 넣기에 적합하다.\n",
        "\n",
        "- finally: 이 블록은 선택적이지만, 존재한다면 예외 발생 여부와 관계없이 실행된다. 파일을 닫거나 리소스를 해제하는 등의 정리 작업을 위해 자주 사용된다. 이 작업들은 오류 발생 여부와 관계없이 수행되어야 한다.\n",
        "#### 예외 처리 방법\n",
        "- try + except<br>\n",
        "  try : 에러가 발생할 것 같은, 예외처리를 하고 싶은 곳을 찾아서 try 구문에 코드를 작성합니다.<br>\n",
        "  except : 에러가 발생했을 때 처리할 코드를 작성합니다.\n",
        "- try + except + else<br>\n",
        "  else 는 에러가 발생하지 않았을때 거치는 구문입니다. else만 단독으로 try + else 는 불가능합니다. except 가 있어야 합니다.\n",
        "- try + finally<br>\n",
        "  finally 는 에러가 발생해도, 발생하지 않아도 무조건 거치는 구문입니다.except. 없이 try + finally 만 사용한다면 에러가 발생한 후에 finally 구문까지만 실행이 되고 프로그램이 중간에 죽게 됩니다.\n",
        "- try + except + finally\n",
        "  <br> except 구문을 추가하고 finally 구문도 있음\n",
        "- try + except + else + finally\n",
        "  <br> try (해당 구문 안에서 에러 발생 시 처리 가능 - 필수)\n",
        "  <br> except (에러 발생시 수행 - 선택이지만 에러를 처리하려면 필수)\n",
        "  <br> else (에러 없을 때 수행 - 선택이지만 except 없이는 올 수 없음)\n",
        "  <br> finally (에러가 있거나 없거나 상관없이 항상 수행 - 선택)"
      ],
      "metadata": {
        "id": "f634oy8TKD0E"
      }
    },
    {
      "cell_type": "code",
      "source": [
        "try:\n",
        "  print(unknown_var)\n",
        "except NameError as e:\n",
        "  print(f'An error ocurred: {e}')"
      ],
      "metadata": {
        "colab": {
          "base_uri": "https://localhost:8080/"
        },
        "id": "uZGDDFuiJm5v",
        "outputId": "96bbecbb-6688-4aff-c967-1cbed66701fc"
      },
      "execution_count": 17,
      "outputs": [
        {
          "output_type": "stream",
          "name": "stdout",
          "text": [
            "An error ocurred: name 'unknown_var' is not defined\n"
          ]
        }
      ]
    },
    {
      "cell_type": "code",
      "source": [
        "try:\n",
        "  '2'+2\n",
        "except TypeError as e:\n",
        "  print(f'An error ocurred: {e}')   #e는 예외 객체를 참조하는 변수"
      ],
      "metadata": {
        "colab": {
          "base_uri": "https://localhost:8080/"
        },
        "id": "IdstmHoyLqNf",
        "outputId": "1cdcab75-3cc2-4782-8bba-7171cc412594"
      },
      "execution_count": 18,
      "outputs": [
        {
          "output_type": "stream",
          "name": "stdout",
          "text": [
            "An error ocurred: can only concatenate str (not \"int\") to str\n"
          ]
        }
      ]
    },
    {
      "cell_type": "code",
      "source": [
        "try:\n",
        "  int('abc')\n",
        "except ValueError as e:\n",
        "  print(f'An error ocurred: {e}')"
      ],
      "metadata": {
        "colab": {
          "base_uri": "https://localhost:8080/"
        },
        "id": "iCFZlikCL_Oe",
        "outputId": "ec90049c-07e8-4944-a39b-787cc5f93823"
      },
      "execution_count": 20,
      "outputs": [
        {
          "output_type": "stream",
          "name": "stdout",
          "text": [
            "An error ocurred: invalid literal for int() with base 10: 'abc'\n"
          ]
        }
      ]
    },
    {
      "cell_type": "code",
      "source": [
        "my_dict = {'a': 1, 'b': 2}\n",
        "try:\n",
        "    print(my_dict['c'])\n",
        "except KeyError as e:\n",
        "    print(f'An error occurred: {e}')"
      ],
      "metadata": {
        "colab": {
          "base_uri": "https://localhost:8080/"
        },
        "id": "SrwBILvwMLeK",
        "outputId": "66185523-827e-4364-d4bb-345fdf6c90f8"
      },
      "execution_count": 23,
      "outputs": [
        {
          "output_type": "stream",
          "name": "stdout",
          "text": [
            "An error occurred: 'c'\n"
          ]
        }
      ]
    },
    {
      "cell_type": "code",
      "source": [
        "# e 는 AttributeError만을 잡아내어 처리하고 e를 통해 오류에 대한 자세한 정보를 얻을 수 있게 한다\n",
        "my_list=[1,2,3]\n",
        "try:\n",
        "  my_list.push(4)\n",
        "except AttributeError as e:\n",
        "    print(f'An error occurred: {e}')"
      ],
      "metadata": {
        "colab": {
          "base_uri": "https://localhost:8080/"
        },
        "id": "7JurIAtqPif8",
        "outputId": "f53c98d0-6c05-459a-bb21-d8a8c6e60fc2"
      },
      "execution_count": 27,
      "outputs": [
        {
          "output_type": "stream",
          "name": "stdout",
          "text": [
            "An error occurred: 'list' object has no attribute 'push'\n"
          ]
        }
      ]
    },
    {
      "cell_type": "code",
      "source": [
        "try:\n",
        "  with open('non_existent_file.txt') as f:\n",
        "    read_data=f.read()\n",
        "except OSError as e:\n",
        "    print(f'An error occurred: {e}')"
      ],
      "metadata": {
        "colab": {
          "base_uri": "https://localhost:8080/"
        },
        "id": "HYfqj__tQa6Y",
        "outputId": "6b782258-da69-4e99-8426-46d312d062f4"
      },
      "execution_count": 29,
      "outputs": [
        {
          "output_type": "stream",
          "name": "stdout",
          "text": [
            "An error occurred: [Errno 2] No such file or directory: 'non_existent_file.txt'\n"
          ]
        }
      ]
    },
    {
      "cell_type": "code",
      "source": [
        "try:\n",
        "  division=10/0\n",
        "except ZeroDivisionError as e:\n",
        "    print(f'An error occurred: {e}')"
      ],
      "metadata": {
        "colab": {
          "base_uri": "https://localhost:8080/"
        },
        "id": "x4862gp-RFM8",
        "outputId": "275872a2-5791-45a2-aff2-ffe1f040fc2a"
      },
      "execution_count": 31,
      "outputs": [
        {
          "output_type": "stream",
          "name": "stdout",
          "text": [
            "An error occurred: division by zero\n"
          ]
        }
      ]
    },
    {
      "cell_type": "code",
      "source": [
        "my_iterator=iter([1,2,3])\n",
        "try:\n",
        "  while True:\n",
        "    item=next(my_iterator)\n",
        "    print(item)\n",
        "except StopIteration:\n",
        "    print('Reached the and of the iterator')"
      ],
      "metadata": {
        "colab": {
          "base_uri": "https://localhost:8080/"
        },
        "id": "mmjxmf-QRQEP",
        "outputId": "16b1672a-622e-41cb-8725-2c5cf1862c42"
      },
      "execution_count": 32,
      "outputs": [
        {
          "output_type": "stream",
          "name": "stdout",
          "text": [
            "1\n",
            "2\n",
            "3\n",
            "Reached the and of the iterator\n"
          ]
        }
      ]
    },
    {
      "cell_type": "code",
      "source": [
        "try:\n",
        "  print('안녕하세요')\n",
        "  print(Param)\n",
        "except NameError as e:\n",
        "    print(f'예외가 발생했습니다: {e}')"
      ],
      "metadata": {
        "colab": {
          "base_uri": "https://localhost:8080/"
        },
        "id": "eWoXNixZR_Jb",
        "outputId": "958bae4d-657f-4619-e386-b9980f080d3e"
      },
      "execution_count": 34,
      "outputs": [
        {
          "output_type": "stream",
          "name": "stdout",
          "text": [
            "안녕하세요\n",
            "예외가 발생했습니다: name 'Param' is not defined\n"
          ]
        }
      ]
    },
    {
      "cell_type": "code",
      "source": [
        "# Q 예외처리를 수행하세요\n",
        "arr=['b','l','o','g']\n",
        "print(arr[8])\n",
        "print('==Wld')"
      ],
      "metadata": {
        "colab": {
          "base_uri": "https://localhost:8080/",
          "height": 201
        },
        "id": "ZZV4ljwqSnmH",
        "outputId": "f7fe0121-ed20-4b4c-ef16-ce70698c9a9c"
      },
      "execution_count": 41,
      "outputs": [
        {
          "output_type": "error",
          "ename": "IndexError",
          "evalue": "list index out of range",
          "traceback": [
            "\u001b[0;31m---------------------------------------------------------------------------\u001b[0m",
            "\u001b[0;31mIndexError\u001b[0m                                Traceback (most recent call last)",
            "\u001b[0;32m<ipython-input-41-4e0e9642e35e>\u001b[0m in \u001b[0;36m<cell line: 3>\u001b[0;34m()\u001b[0m\n\u001b[1;32m      1\u001b[0m \u001b[0;31m# Q 예외처리를 수행하세요\u001b[0m\u001b[0;34m\u001b[0m\u001b[0;34m\u001b[0m\u001b[0m\n\u001b[1;32m      2\u001b[0m \u001b[0marr\u001b[0m\u001b[0;34m=\u001b[0m\u001b[0;34m[\u001b[0m\u001b[0;34m'b'\u001b[0m\u001b[0;34m,\u001b[0m\u001b[0;34m'l'\u001b[0m\u001b[0;34m,\u001b[0m\u001b[0;34m'o'\u001b[0m\u001b[0;34m,\u001b[0m\u001b[0;34m'g'\u001b[0m\u001b[0;34m]\u001b[0m\u001b[0;34m\u001b[0m\u001b[0;34m\u001b[0m\u001b[0m\n\u001b[0;32m----> 3\u001b[0;31m \u001b[0mprint\u001b[0m\u001b[0;34m(\u001b[0m\u001b[0marr\u001b[0m\u001b[0;34m[\u001b[0m\u001b[0;36m8\u001b[0m\u001b[0;34m]\u001b[0m\u001b[0;34m)\u001b[0m\u001b[0;34m\u001b[0m\u001b[0;34m\u001b[0m\u001b[0m\n\u001b[0m\u001b[1;32m      4\u001b[0m \u001b[0mprint\u001b[0m\u001b[0;34m(\u001b[0m\u001b[0;34m'==Wld'\u001b[0m\u001b[0;34m)\u001b[0m\u001b[0;34m\u001b[0m\u001b[0;34m\u001b[0m\u001b[0m\n",
            "\u001b[0;31mIndexError\u001b[0m: list index out of range"
          ]
        }
      ]
    },
    {
      "cell_type": "code",
      "source": [
        "arr=['b','l','o','g']\n",
        "try:\n",
        "  print(arr[8])\n",
        "except IndexError as e:\n",
        "    print(f'{e}')"
      ],
      "metadata": {
        "colab": {
          "base_uri": "https://localhost:8080/"
        },
        "id": "dsXx5bX1TJ36",
        "outputId": "becd7168-7f1d-4344-8e6f-14afa235a218"
      },
      "execution_count": 40,
      "outputs": [
        {
          "output_type": "stream",
          "name": "stdout",
          "text": [
            "list index out of range\n"
          ]
        }
      ]
    },
    {
      "cell_type": "code",
      "source": [
        "try:\n",
        "  arr=['b','l','o','g']\n",
        "  print(arr[3])\n",
        "except:\n",
        "  print('예외가 발생했습니다')\n",
        "else:\n",
        "  print('예외가 발생하지 않았습니다')"
      ],
      "metadata": {
        "colab": {
          "base_uri": "https://localhost:8080/"
        },
        "id": "LkNF0BNtToLe",
        "outputId": "085ce49c-53cd-41a8-88b9-00128e5b0063"
      },
      "execution_count": 42,
      "outputs": [
        {
          "output_type": "stream",
          "name": "stdout",
          "text": [
            "g\n",
            "예외가 발생하지 않았습니다\n"
          ]
        }
      ]
    },
    {
      "cell_type": "code",
      "source": [
        "print(\"==Program Start\")\n",
        "try:\n",
        "  arr=['b','l','o','g']\n",
        "  print(arr[8])\n",
        "  print(\"==Wid\")\n",
        "finally:\n",
        "  print(\"==finally\")\n",
        "print(\"==Program Start\")"
      ],
      "metadata": {
        "colab": {
          "base_uri": "https://localhost:8080/",
          "height": 256
        },
        "id": "czl1HxxzT5ZU",
        "outputId": "b783976c-9411-4b3d-da69-97d21203be8b"
      },
      "execution_count": 43,
      "outputs": [
        {
          "output_type": "stream",
          "name": "stdout",
          "text": [
            "==Program Start\n",
            "==finally\n"
          ]
        },
        {
          "output_type": "error",
          "ename": "IndexError",
          "evalue": "list index out of range",
          "traceback": [
            "\u001b[0;31m---------------------------------------------------------------------------\u001b[0m",
            "\u001b[0;31mIndexError\u001b[0m                                Traceback (most recent call last)",
            "\u001b[0;32m<ipython-input-43-946a13f72ab3>\u001b[0m in \u001b[0;36m<cell line: 2>\u001b[0;34m()\u001b[0m\n\u001b[1;32m      2\u001b[0m \u001b[0;32mtry\u001b[0m\u001b[0;34m:\u001b[0m\u001b[0;34m\u001b[0m\u001b[0;34m\u001b[0m\u001b[0m\n\u001b[1;32m      3\u001b[0m   \u001b[0marr\u001b[0m\u001b[0;34m=\u001b[0m\u001b[0;34m[\u001b[0m\u001b[0;34m'b'\u001b[0m\u001b[0;34m,\u001b[0m\u001b[0;34m'l'\u001b[0m\u001b[0;34m,\u001b[0m\u001b[0;34m'o'\u001b[0m\u001b[0;34m,\u001b[0m\u001b[0;34m'g'\u001b[0m\u001b[0;34m]\u001b[0m\u001b[0;34m\u001b[0m\u001b[0;34m\u001b[0m\u001b[0m\n\u001b[0;32m----> 4\u001b[0;31m   \u001b[0mprint\u001b[0m\u001b[0;34m(\u001b[0m\u001b[0marr\u001b[0m\u001b[0;34m[\u001b[0m\u001b[0;36m8\u001b[0m\u001b[0;34m]\u001b[0m\u001b[0;34m)\u001b[0m\u001b[0;34m\u001b[0m\u001b[0;34m\u001b[0m\u001b[0m\n\u001b[0m\u001b[1;32m      5\u001b[0m   \u001b[0mprint\u001b[0m\u001b[0;34m(\u001b[0m\u001b[0;34m\"==Wid\"\u001b[0m\u001b[0;34m)\u001b[0m\u001b[0;34m\u001b[0m\u001b[0;34m\u001b[0m\u001b[0m\n\u001b[1;32m      6\u001b[0m \u001b[0;32mfinally\u001b[0m\u001b[0;34m:\u001b[0m\u001b[0;34m\u001b[0m\u001b[0;34m\u001b[0m\u001b[0m\n",
            "\u001b[0;31mIndexError\u001b[0m: list index out of range"
          ]
        }
      ]
    },
    {
      "cell_type": "code",
      "source": [
        "try:\n",
        "  arr=['b','l','o','g']\n",
        "  print(arr[8])\n",
        "  print(\"==Wid\")\n",
        "except:\n",
        "  print('예외가 발생했습니다')\n",
        "finally:\n",
        "  print('무조건 실행  코드')"
      ],
      "metadata": {
        "colab": {
          "base_uri": "https://localhost:8080/"
        },
        "id": "jl_dErqUUUcn",
        "outputId": "54ed8829-1ede-4ce7-dbc5-6cd80cd2c8f6"
      },
      "execution_count": 45,
      "outputs": [
        {
          "output_type": "stream",
          "name": "stdout",
          "text": [
            "예외가 발생했습니다\n",
            "무조건 실행  코드\n"
          ]
        }
      ]
    },
    {
      "cell_type": "code",
      "source": [
        "# Q 위 코드에서 else를 추가하고 예외 발생 경우와 안하는 경우를 각각 만들어서 출력해 보세요\n",
        "try:\n",
        "  arr=['b','l','o','g']\n",
        "  print(arr[8])\n",
        "  print(\"==Wid\")\n",
        "except:\n",
        "  print('예외가 발생했습니다')\n",
        "else:\n",
        "  print('예외가 발생하지 않았습니다')\n",
        "finally:\n",
        "  print('무조건 실행  코드')"
      ],
      "metadata": {
        "colab": {
          "base_uri": "https://localhost:8080/"
        },
        "id": "VeijUPqJUkSC",
        "outputId": "70f944f6-480f-4c50-a6a3-dfe256ce7192"
      },
      "execution_count": 46,
      "outputs": [
        {
          "output_type": "stream",
          "name": "stdout",
          "text": [
            "예외가 발생했습니다\n",
            "무조건 실행  코드\n"
          ]
        }
      ]
    },
    {
      "cell_type": "code",
      "source": [
        "try:\n",
        "  arr=['b','l','o','g']\n",
        "  print(arr[3])\n",
        "  print(\"==Wid\")\n",
        "except:\n",
        "  print('예외가 발생했습니다')\n",
        "else:\n",
        "  print('예외가 발생하지 않았습니다')\n",
        "finally:\n",
        "  print('무조건 실행  코드')"
      ],
      "metadata": {
        "colab": {
          "base_uri": "https://localhost:8080/"
        },
        "id": "q-AQBW1oU6nh",
        "outputId": "c57e1607-2d1b-4cdb-97c2-d5ca912619dc"
      },
      "execution_count": 47,
      "outputs": [
        {
          "output_type": "stream",
          "name": "stdout",
          "text": [
            "g\n",
            "==Wid\n",
            "예외가 발생하지 않았습니다\n",
            "무조건 실행  코드\n"
          ]
        }
      ]
    },
    {
      "cell_type": "markdown",
      "source": [
        "Task1_0510. try ~ except, try ~ except ~ finally, try ~ except ~else, try ~ except ~else ~finally 4가지 예외 처리가 필요한 경우에 대해서 코딩을 수행하세요."
      ],
      "metadata": {
        "id": "_71z-jC2WjP8"
      }
    },
    {
      "cell_type": "markdown",
      "source": [
        "Task2_0510. 리스트 ['52','273','32','문자','103']에서 숫자 부분만 출력하세요(예외 처리 수행)"
      ],
      "metadata": {
        "id": "OLUCmHwDWjmG"
      }
    },
    {
      "cell_type": "markdown",
      "source": [
        "Task3_0510. 두가지 시나리오를 예외처리를 하여 코드 작업을 수행하세요\n",
        "- 정수를 입력하면 > '예외 발생하지 않음' > '프로그램 종료'\n",
        "- 정수를 입력하지 않으면 > '정수 아님' > '프로그램 종료'"
      ],
      "metadata": {
        "id": "LefRWq8vWkfP"
      }
    },
    {
      "cell_type": "code",
      "source": [],
      "metadata": {
        "id": "TP1V9H0tU-L8"
      },
      "execution_count": null,
      "outputs": []
    }
  ]
}