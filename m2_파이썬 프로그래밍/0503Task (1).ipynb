{
  "nbformat": 4,
  "nbformat_minor": 0,
  "metadata": {
    "colab": {
      "provenance": []
    },
    "kernelspec": {
      "name": "python3",
      "display_name": "Python 3"
    },
    "language_info": {
      "name": "python"
    }
  },
  "cells": [
    {
      "cell_type": "markdown",
      "source": [
        "Task1_0503. 여러개의 음식을 동시에 주문할 수 있는 주문 시스템을 작성하세요.(구조 지향)"
      ],
      "metadata": {
        "id": "8ekzA3RvD2Kz"
      }
    },
    {
      "cell_type": "markdown",
      "source": [
        "[시나리오]\n",
        "1. 시작 인터페이스:\n",
        "- 시스템 시작 시, 사용자에게 주문 시작 여부를 질문 (y 또는 n으로 응답).\n",
        "- y 선택 시 주문 프로세스 시작.\n",
        "- n 선택 시 시스템 종료 및 \"감사합니다.\" 메시지 표시.\n",
        "2. 메뉴 표시:\n",
        "- 주문 프로세스 시작 시, 현재 메뉴 항목과 가격 표시.\n",
        "- 각 메뉴 옆에는 선택 번호 제공 (예: 1, 2, 3).\n",
        "- 세트 주문 시 추가 비용 안내 (3000원 추가).\n",
        "3. 주문 입력:\n",
        "- 메뉴 선택 입력 요청.\n",
        "- 메뉴 번호 입력 후 세트 주문 여부 질문 (y는 세트, n은 일반).\n",
        "- 주문 수량 질문 후, 주문 장바구니에 추가.\n",
        "- 주문이 추가된 후 해당 내용 표시.\n",
        "4. 주문 취소:\n",
        "- 잘못 주문했거나 주문 취소 시 0 입력.\n",
        "- 주문 취소 시 \"모든 주문이 취소되었습니다.\" 메시지 표시.\n",
        "5. 주문 요약 및 결제:\n",
        "- 주문 완료하려면 5 입력.\n",
        "- 주문 내역 및 총 금액 요약 표시.\n",
        "- 결제 금액 안내 및 결제 진행 요청.\n",
        "- 결제 완료 후 \"총 금액은 XXX원이 결제되었습니다. 감사합니다.\" 메시지 표시 및 주문 초기화.\n",
        "6. 반복 주문 가능:\n",
        "- 결제 후 추가 주문 진행 가능.\n",
        "- 언제든지 n 입력하여 주문 프로세스 종료 및 시스템 빠져나올 수 있음."
      ],
      "metadata": {
        "id": "F7_bwB86nLjO"
      }
    },
    {
      "cell_type": "markdown",
      "source": [
        "[ 함수 구성 및 역할 ]\n",
        "1. display_menu()\n",
        "- 역할: 사용자에게 메뉴 선택지를 표시.\n",
        "- 세부 기능: 메뉴 아이템과 각각의 가격, 세트 주문 시 추가 비용을 표시.\n",
        "- 시나리오 연결: 사용자가 주문 프로세스를 시작할 때, 어떤 메뉴를 선택할 수 있는지 표시.\n",
        "2. display_order_summary()\n",
        "- 역할: 현재 주문 상태를 요약하여 표시.\n",
        "- 세부 기능: 선택된 메뉴 항목, 수량, 세트 여부, 각 항목의 가격과 총 주문 금액을 계산하여 표시.\n",
        "- 시나리오 연결: 주문을 마친 후, 사용자가 자신의 주문 내역을 확인하고 최종 결제하기 전에 전체 주문 내용 검토.\n",
        "3. add_order(menu_id, is_set)\n",
        "- 역할: 사용자의 메뉴 선택을 주문 목록에 추가.\n",
        "- 세부 기능: 메뉴 ID와 세트 여부에 따라 주문을 추가하고, 추가된 주문 정보를 사용자에게 전달.\n",
        "- 시나리오 연결: 사용자가 메뉴를 선택하고 주문 수량을 입력할 때, 해당 주문을 시스템에 추가 및 확인.\n",
        "4. process_order()\n",
        "- 역할: 주문 프로세스의 메인 컨트롤러.\n",
        "- 세부 기능: 사용자의 입력을 받아 메뉴 선택, 주문, 주문 취소, 결제를 처리하고, 프로세스의 시작과 종료를 관리.\n",
        "- 시나리오 연결: 전체 주문 프로세스를 실행하고, 사용자의 각 선택에 따라 적절한 행동을 지시하며, 필요에 따라 다른 함수들을 호출.\n",
        "\n",
        "[ 시나리오의 흐름과 함수 연결 ]\n",
        "1. 시작: 사용자가 주문을 시작하겠다고 응답하면 (y 입력), display_menu() 함수가 호출되어 사용 가능한 메뉴를 표시.\n",
        "2. 메뉴 선택: 사용자가 메뉴 번호를 입력하고, 세트 여부를 선택하면 add_order() 함수가 호출되어 주문을 추가.\n",
        "3. 주문 확인: 주문을 추가할 때마다 display_order_summary() 함수가 호출되어 현재까지의 주문 상태를 확인.\n",
        "4. 주문 수정 또는 결제: 사용자가 주문을 취소하거나 변경할 수 있고, 최종적으로 결제를 원할 때 process_order() 함수 내에서 결제를 진행.\n",
        "4. 종료: 주문 결제가 완료되면, 사용자가 추가 주문을 원하지 않을 경우 (n 입력), 시스템이 종료.\n",
        "\n",
        "이러한 구조화된 접근 방식은 코드의 각 부분이 시나리오의 어떤 단계와 연결되는지 명확하게 정의하며, 시스템의 유지 관리와 확장성을 개선."
      ],
      "metadata": {
        "id": "PHI5WBCiqJN7"
      }
    },
    {
      "cell_type": "code",
      "source": [
        "def display_menu():\n",
        "    print(\"\\nKITA 식당에 오신 것을 환영합니다\")\n",
        "    print(\"\\n\" + \"=\" * 40)\n",
        "    print(\"\\n          - 메  뉴 -\")\n",
        "    print(\"    1. 불고기 비빔밥 : 12,000원\")\n",
        "    print(\"    2. 야채 비빔밥 : 8,000원\")\n",
        "    print(\"    3. 전주 비빔밥 : 10,000원\")\n",
        "    print(\"\\n    세트 주문시 : 3,000원 추가\")\n",
        "    print(\"    (세트는 밥과 반찬이 추가됩니다.)\")\n",
        "    print(\"\\n\" + \"=\" * 40)\n",
        "\n",
        "\n",
        "def order():\n",
        "    # 메뉴별 가격을 설정한다.\n",
        "    prices = {1: 12000, 2: 8000, 3: 10000}\n",
        "\n",
        "    total_price = 0  # 주문 총 금액을 초기화한다.\n",
        "\n",
        "    while True:\n",
        "        # 사용자로부터 메뉴 선택을 받는다.\n",
        "        menu_choice = int(input(\"\\n주문할 음식 번호를 입력하세요 (종료: 0) >>> \"))\n",
        "        if menu_choice == 0:\n",
        "            break  # 사용자가 종료를 선택하면 주문 종료\n",
        "\n",
        "        # # 사용자로부터 수량을 입력받는다.\n",
        "        quantity = int(input(\"주문할 개수를 입력하세요 >>> \"))\n",
        "\n",
        "        # 사용자가 선택한 메뉴의 가격을 가져온다.\n",
        "        menu_price = prices.get(menu_choice, 0)\n",
        "\n",
        "        # 세트 주문 여부를 확인한다.\n",
        "        set_order = input(\"세트 주문을 하시겠습니까? 3,000원 추가. y, n >>> \").lower()\n",
        "        if set_order == 'y':\n",
        "            menu_price += 3000\n",
        "\n",
        "        total_price += menu_price * quantity  # 총 주문 금액에 선택한 메뉴의 가격을 추가한다.\n",
        "\n",
        "    return total_price\n",
        "\n",
        "\n",
        "def main():\n",
        "    while True:\n",
        "        display_menu()\n",
        "        total_order_price = order()\n",
        "\n",
        "        print(f\"총 주문 금액은 {total_order_price}원 입니다.\")\n",
        "\n",
        "        # 계속 주문하거나 종료 여부를 확인한다.\n",
        "        continue_ordering = input(\"\\n다시 주문하시겠습니까? (주문: enter, 종료: '종료' 입력) >>> \")\n",
        "        if continue_ordering == '종료':\n",
        "            break\n",
        "\n",
        "    print(\"\\n감사합니다! 다음에 또 방문해 주세요.\")\n",
        "\n",
        "\n",
        "if __name__ == \"__main__\":\n",
        "    main()"
      ],
      "metadata": {
        "colab": {
          "base_uri": "https://localhost:8080/"
        },
        "id": "YtEGr_09hAqc",
        "outputId": "d26e64d9-dfb3-4195-b67e-dbf34f05f0d2"
      },
      "execution_count": null,
      "outputs": [
        {
          "output_type": "stream",
          "name": "stdout",
          "text": [
            "\n",
            "KITA 식당에 오신 것을 환영합니다\n",
            "\n",
            "========================================\n",
            "\n",
            "          - 메  뉴 -\n",
            "    1. 불고기 비빔밥 : 12,000원\n",
            "    2. 야채 비빔밥 : 8,000원\n",
            "    3. 전주 비빔밥 : 10,000원\n",
            "\n",
            "    세트 주문시 : 3,000원 추가\n",
            "    (세트는 밥과 반찬이 추가됩니다.)\n",
            "\n",
            "========================================\n",
            "\n",
            "주문할 음식 번호를 입력하세요 (종료: 0) >>> 3\n",
            "주문할 개수를 입력하세요 >>> 1\n",
            "세트 주문을 하시겠습니까? 3,000원 추가. y, n >>> y\n",
            "\n",
            "주문할 음식 번호를 입력하세요 (종료: 0) >>> 3\n",
            "주문할 개수를 입력하세요 >>> 2\n",
            "세트 주문을 하시겠습니까? 3,000원 추가. y, n >>> n\n",
            "\n",
            "주문할 음식 번호를 입력하세요 (종료: 0) >>> 0\n",
            "총 주문 금액은 33000원 입니다.\n",
            "\n",
            "다시 주문하시겠습니까? (주문: enter, 종료: '종료' 입력) >>> 종료\n",
            "\n",
            "감사합니다! 다음에 또 방문해 주세요.\n"
          ]
        }
      ]
    },
    {
      "cell_type": "code",
      "source": [
        "menu_items={\n",
        "    '1':('불고기 비빔밥', 12000),\n",
        "    '2':('야채 비빔밥', 8000),\n",
        "    '3':('전주 비빔밥', 10000)\n",
        "}\n",
        "set_price=3000\n",
        "orders={}\n",
        "price_total=0\n",
        "\n",
        "def display_menu():\n",
        "    print(\"\\n♣♣♣ KITA 식당에 오신 것을 환영합니다 ♣♣♣\")\n",
        "    print(\"========================================\")\n",
        "    print(\"           - 메뉴 -\")\n",
        "    for key, (name, price) in menu_items.items():\n",
        "        print(f\"  {key}. {name} : {price}원\")\n",
        "    print(\"\\n  세트 주문시 : 3000원 추가 (세트는 밥과 반찬이 추가됩니다.)\")\n",
        "    print(\"========================================\")\n",
        "\n",
        "def display_order_summary():\n",
        "  global price_total  #전역 변수 price_total 사용선언\n",
        "  print(\"\\n■장바구니\")\n",
        "  price_total=0\n",
        "  for key,(name, price) in menu_items.items():\n",
        "    count=orders.get((key,False),0)\n",
        "    count_set = orders.get((key,True),0)\n",
        "    print(f\"{name} {count}개: {count*price}원\")\n",
        "    print(f\"{name}세트 {count_set}개: {count_set * (price+set_price)}원\")\n",
        "    price_total += (count*price)+(count_set*(price+set_price))\n",
        "  print(f\"총 금액 (price_total)원\\n\")\n",
        "\n",
        "def add_order(menu_id, is_set):\n",
        "  item_name, item_price=menu_items[menu_id]\n",
        "  if is_set:\n",
        "    item_price += set_price\n",
        "  num=input(f\"\\n●{item_name}{'세트' if is_set else''}몇개 주문 하시겠습니까?\\n\")\n",
        "  if num.isdigit()and int(num)>0:\n",
        "    orders[(menu_id, is_set)]=orders.get((menu_id, is_set),0)+int(num)  #order는 {(menu_id, is_set):num}\n",
        "    print(f\"\\n{item_name}{'세트'if is_set else''}{num}개가 장바구니에 담겼습니다\")\n",
        "  else:\n",
        "    print('★양수만 입력하세요★')\n",
        "\n",
        "\n",
        "def process_order():\n",
        "  while True:\n",
        "    msg = input(\"●주문을 하시겠습니까?(y또는n)>>\").strip().lower()\n",
        "    if msg=='y':\n",
        "      while True:\n",
        "        display_menu()\n",
        "        display_order_summary()\n",
        "        choice = input('●주문할 메뉴를 골라주세요(불고기비빔밥:1,야채비빔밥:2,전주비빔밥:3, 전체취소:0,결제:5)>>').strip().lower()\n",
        "        if choice in menu_items:\n",
        "          set_choice = input(\"\\n●3000원을 추가해 세트로 주문하시겠습니까?(일반주문시n,세트주문시y)\\n\").strip().lower()\n",
        "          if set_choice in ['y','n']:\n",
        "            add_order(choice, set_choice == 'y')\n",
        "          else:\n",
        "            print('★올바른 선택을 입력하세요(y또는n),★')\n",
        "        elif choice == '0':\n",
        "          orders.clear()\n",
        "          print('\\n모든 주문이 취소되었습니다.')\n",
        "        elif choice == '5':\n",
        "          if price_total>0:\n",
        "            print(f\"\\n●주문하려면 결제해주세요 결제금액은{price_total}원 입니다\")\n",
        "            input(\"결제를 완료하려면 아무 키나 누리세요...\")#사용자가 결제를 확인할 수 있도록 입력 대기\n",
        "            print(f\"\\n총 금액{price_total}원이 결제 되었습니다. 감사합니다\")\n",
        "            orders.clear()\n",
        "            break\n",
        "          else:\n",
        "            print('★메뉴를 고르고 주문해주세요!★')\n",
        "        else:\n",
        "          print('★메뉴의 지정된 숫자로 입력하세요★')\n",
        "      else:\n",
        "        print('감사합니다')\n",
        "        break\n",
        "if __name__==\"__main__\":\n",
        "  process_order()\n",
        "\n",
        "\n"
      ],
      "metadata": {
        "colab": {
          "base_uri": "https://localhost:8080/",
          "height": 1000
        },
        "id": "2yJAF9ckq1uL",
        "outputId": "2045d6f7-69f0-4303-9bb0-9612071ad37c"
      },
      "execution_count": null,
      "outputs": [
        {
          "name": "stdout",
          "output_type": "stream",
          "text": [
            "●주문을 하시겠습니까?(y또는n)>>y\n",
            "\n",
            "♣♣♣ KITA 식당에 오신 것을 환영합니다 ♣♣♣\n",
            "========================================\n",
            "           - 메뉴 -\n",
            "  1. 불고기 비빔밥 : 12000원\n",
            "  2. 야채 비빔밥 : 8000원\n",
            "  3. 전주 비빔밥 : 10000원\n",
            "\n",
            "  세트 주문시 : 3000원 추가 (세트는 밥과 반찬이 추가됩니다.)\n",
            "========================================\n",
            "\n",
            "■장바구니\n",
            "불고기 비빔밥 0개: 0원\n",
            "불고기 비빔밥세트 0개: 0원\n",
            "야채 비빔밥 0개: 0원\n",
            "야채 비빔밥세트 0개: 0원\n",
            "전주 비빔밥 0개: 0원\n",
            "전주 비빔밥세트 0개: 0원\n",
            "총 금액 (price_total)원\n",
            "\n",
            "●주문할 메뉴를 골라주세요(불고기비빔밥:1,야채비빔밥:2,전주비빔밥:3, 전체취소:0,결제:5)>>2\n",
            "\n",
            "●3000원을 추가해 세트로 주문하시겠습니까?(일반주문시n,세트주문시y)\n",
            "n\n",
            "\n",
            "●야채 비빔밥몇개 주문 하시겠습니까?\n",
            "1\n",
            "\n",
            "야채 비빔밥1개가 장바구니에 담겼습니다\n",
            "\n",
            "♣♣♣ KITA 식당에 오신 것을 환영합니다 ♣♣♣\n",
            "========================================\n",
            "           - 메뉴 -\n",
            "  1. 불고기 비빔밥 : 12000원\n",
            "  2. 야채 비빔밥 : 8000원\n",
            "  3. 전주 비빔밥 : 10000원\n",
            "\n",
            "  세트 주문시 : 3000원 추가 (세트는 밥과 반찬이 추가됩니다.)\n",
            "========================================\n",
            "\n",
            "■장바구니\n",
            "불고기 비빔밥 0개: 0원\n",
            "불고기 비빔밥세트 0개: 0원\n",
            "야채 비빔밥 1개: 8000원\n",
            "야채 비빔밥세트 0개: 0원\n",
            "전주 비빔밥 0개: 0원\n",
            "전주 비빔밥세트 0개: 0원\n",
            "총 금액 (price_total)원\n",
            "\n",
            "●주문할 메뉴를 골라주세요(불고기비빔밥:1,야채비빔밥:2,전주비빔밥:3, 전체취소:0,결제:5)>>5\n",
            "\n",
            "●주문하려면 결제해주세요 결제금액은8000원 입니다\n",
            "결제를 완료하려면 아무 키나 누리세요...0\n",
            "\n",
            "총 금액8000원이 결제 되었습니다. 감사합니다\n",
            "●주문을 하시겠습니까?(y또는n)>>n\n"
          ]
        },
        {
          "output_type": "error",
          "ename": "KeyboardInterrupt",
          "evalue": "Interrupted by user",
          "traceback": [
            "\u001b[0;31m---------------------------------------------------------------------------\u001b[0m",
            "\u001b[0;31mKeyboardInterrupt\u001b[0m                         Traceback (most recent call last)",
            "\u001b[0;32m<ipython-input-7-3887f0b0c0c4>\u001b[0m in \u001b[0;36m<cell line: 74>\u001b[0;34m()\u001b[0m\n\u001b[1;32m     73\u001b[0m         \u001b[0;32mbreak\u001b[0m\u001b[0;34m\u001b[0m\u001b[0;34m\u001b[0m\u001b[0m\n\u001b[1;32m     74\u001b[0m \u001b[0;32mif\u001b[0m \u001b[0m__name__\u001b[0m\u001b[0;34m==\u001b[0m\u001b[0;34m\"__main__\"\u001b[0m\u001b[0;34m:\u001b[0m\u001b[0;34m\u001b[0m\u001b[0;34m\u001b[0m\u001b[0m\n\u001b[0;32m---> 75\u001b[0;31m   \u001b[0mprocess_order\u001b[0m\u001b[0;34m(\u001b[0m\u001b[0;34m)\u001b[0m\u001b[0;34m\u001b[0m\u001b[0;34m\u001b[0m\u001b[0m\n\u001b[0m\u001b[1;32m     76\u001b[0m \u001b[0;34m\u001b[0m\u001b[0m\n\u001b[1;32m     77\u001b[0m \u001b[0;34m\u001b[0m\u001b[0m\n",
            "\u001b[0;32m<ipython-input-7-3887f0b0c0c4>\u001b[0m in \u001b[0;36mprocess_order\u001b[0;34m()\u001b[0m\n\u001b[1;32m     43\u001b[0m \u001b[0;32mdef\u001b[0m \u001b[0mprocess_order\u001b[0m\u001b[0;34m(\u001b[0m\u001b[0;34m)\u001b[0m\u001b[0;34m:\u001b[0m\u001b[0;34m\u001b[0m\u001b[0;34m\u001b[0m\u001b[0m\n\u001b[1;32m     44\u001b[0m   \u001b[0;32mwhile\u001b[0m \u001b[0;32mTrue\u001b[0m\u001b[0;34m:\u001b[0m\u001b[0;34m\u001b[0m\u001b[0;34m\u001b[0m\u001b[0m\n\u001b[0;32m---> 45\u001b[0;31m     \u001b[0mmsg\u001b[0m\u001b[0;34m=\u001b[0m\u001b[0minput\u001b[0m\u001b[0;34m(\u001b[0m\u001b[0;34m\"●주문을 하시겠습니까?(y또는n)>>\"\u001b[0m\u001b[0;34m)\u001b[0m\u001b[0;34m.\u001b[0m\u001b[0mstrip\u001b[0m\u001b[0;34m(\u001b[0m\u001b[0;34m)\u001b[0m\u001b[0;34m.\u001b[0m\u001b[0mlower\u001b[0m\u001b[0;34m(\u001b[0m\u001b[0;34m)\u001b[0m\u001b[0;34m\u001b[0m\u001b[0;34m\u001b[0m\u001b[0m\n\u001b[0m\u001b[1;32m     46\u001b[0m     \u001b[0;32mif\u001b[0m \u001b[0mmsg\u001b[0m\u001b[0;34m==\u001b[0m\u001b[0;34m'y'\u001b[0m\u001b[0;34m:\u001b[0m\u001b[0;34m\u001b[0m\u001b[0;34m\u001b[0m\u001b[0m\n\u001b[1;32m     47\u001b[0m       \u001b[0;32mwhile\u001b[0m \u001b[0;32mTrue\u001b[0m\u001b[0;34m:\u001b[0m\u001b[0;34m\u001b[0m\u001b[0;34m\u001b[0m\u001b[0m\n",
            "\u001b[0;32m/usr/local/lib/python3.10/dist-packages/ipykernel/kernelbase.py\u001b[0m in \u001b[0;36mraw_input\u001b[0;34m(self, prompt)\u001b[0m\n\u001b[1;32m    849\u001b[0m                 \u001b[0;34m\"raw_input was called, but this frontend does not support input requests.\"\u001b[0m\u001b[0;34m\u001b[0m\u001b[0;34m\u001b[0m\u001b[0m\n\u001b[1;32m    850\u001b[0m             )\n\u001b[0;32m--> 851\u001b[0;31m         return self._input_request(str(prompt),\n\u001b[0m\u001b[1;32m    852\u001b[0m             \u001b[0mself\u001b[0m\u001b[0;34m.\u001b[0m\u001b[0m_parent_ident\u001b[0m\u001b[0;34m,\u001b[0m\u001b[0;34m\u001b[0m\u001b[0;34m\u001b[0m\u001b[0m\n\u001b[1;32m    853\u001b[0m             \u001b[0mself\u001b[0m\u001b[0;34m.\u001b[0m\u001b[0m_parent_header\u001b[0m\u001b[0;34m,\u001b[0m\u001b[0;34m\u001b[0m\u001b[0;34m\u001b[0m\u001b[0m\n",
            "\u001b[0;32m/usr/local/lib/python3.10/dist-packages/ipykernel/kernelbase.py\u001b[0m in \u001b[0;36m_input_request\u001b[0;34m(self, prompt, ident, parent, password)\u001b[0m\n\u001b[1;32m    893\u001b[0m             \u001b[0;32mexcept\u001b[0m \u001b[0mKeyboardInterrupt\u001b[0m\u001b[0;34m:\u001b[0m\u001b[0;34m\u001b[0m\u001b[0;34m\u001b[0m\u001b[0m\n\u001b[1;32m    894\u001b[0m                 \u001b[0;31m# re-raise KeyboardInterrupt, to truncate traceback\u001b[0m\u001b[0;34m\u001b[0m\u001b[0;34m\u001b[0m\u001b[0m\n\u001b[0;32m--> 895\u001b[0;31m                 \u001b[0;32mraise\u001b[0m \u001b[0mKeyboardInterrupt\u001b[0m\u001b[0;34m(\u001b[0m\u001b[0;34m\"Interrupted by user\"\u001b[0m\u001b[0;34m)\u001b[0m \u001b[0;32mfrom\u001b[0m \u001b[0;32mNone\u001b[0m\u001b[0;34m\u001b[0m\u001b[0;34m\u001b[0m\u001b[0m\n\u001b[0m\u001b[1;32m    896\u001b[0m             \u001b[0;32mexcept\u001b[0m \u001b[0mException\u001b[0m \u001b[0;32mas\u001b[0m \u001b[0me\u001b[0m\u001b[0;34m:\u001b[0m\u001b[0;34m\u001b[0m\u001b[0;34m\u001b[0m\u001b[0m\n\u001b[1;32m    897\u001b[0m                 \u001b[0mself\u001b[0m\u001b[0;34m.\u001b[0m\u001b[0mlog\u001b[0m\u001b[0;34m.\u001b[0m\u001b[0mwarning\u001b[0m\u001b[0;34m(\u001b[0m\u001b[0;34m\"Invalid Message:\"\u001b[0m\u001b[0;34m,\u001b[0m \u001b[0mexc_info\u001b[0m\u001b[0;34m=\u001b[0m\u001b[0;32mTrue\u001b[0m\u001b[0;34m)\u001b[0m\u001b[0;34m\u001b[0m\u001b[0;34m\u001b[0m\u001b[0m\n",
            "\u001b[0;31mKeyboardInterrupt\u001b[0m: Interrupted by user"
          ]
        }
      ]
    },
    {
      "cell_type": "markdown",
      "source": [
        "Task2_0503. 내장함수 5개를 활용해서 사용자 함수로 간단한 프로그램을 만드세요.\n",
        "\n",
        "[예시] 문서관리 프로그램\n",
        "\n",
        "len() - 문자열의 길이를 계산합니다.\\\n",
        "input() - 사용자로부터 입력을 받습니다.\\\n",
        "print() - 결과를 출력합니다.\\\n",
        "sum() - 주어진 조건에 따라 특정 개수를 계산합니다.\\\n",
        "Counter (from collections) - 문자의 빈도수를 계산합니다.\\"
      ],
      "metadata": {
        "id": "XOBSJlTeU52p"
      }
    },
    {
      "cell_type": "code",
      "source": [
        "# 내장함수\n",
        "print(dir(__builtins__))\n",
        "print(len(dir(__builtins__)))"
      ],
      "metadata": {
        "id": "hFqLJd-piYBl",
        "colab": {
          "base_uri": "https://localhost:8080/"
        },
        "outputId": "45036619-2871-425f-c20a-439052c7c7d5"
      },
      "execution_count": 9,
      "outputs": [
        {
          "output_type": "stream",
          "name": "stdout",
          "text": [
            "['ArithmeticError', 'AssertionError', 'AttributeError', 'BaseException', 'BlockingIOError', 'BrokenPipeError', 'BufferError', 'BytesWarning', 'ChildProcessError', 'ConnectionAbortedError', 'ConnectionError', 'ConnectionRefusedError', 'ConnectionResetError', 'DeprecationWarning', 'EOFError', 'Ellipsis', 'EncodingWarning', 'EnvironmentError', 'Exception', 'False', 'FileExistsError', 'FileNotFoundError', 'FloatingPointError', 'FutureWarning', 'GeneratorExit', 'IOError', 'ImportError', 'ImportWarning', 'IndentationError', 'IndexError', 'InterruptedError', 'IsADirectoryError', 'KeyError', 'KeyboardInterrupt', 'LookupError', 'MemoryError', 'ModuleNotFoundError', 'NameError', 'None', 'NotADirectoryError', 'NotImplemented', 'NotImplementedError', 'OSError', 'OverflowError', 'PendingDeprecationWarning', 'PermissionError', 'ProcessLookupError', 'RecursionError', 'ReferenceError', 'ResourceWarning', 'RuntimeError', 'RuntimeWarning', 'StopAsyncIteration', 'StopIteration', 'SyntaxError', 'SyntaxWarning', 'SystemError', 'SystemExit', 'TabError', 'TimeoutError', 'True', 'TypeError', 'UnboundLocalError', 'UnicodeDecodeError', 'UnicodeEncodeError', 'UnicodeError', 'UnicodeTranslateError', 'UnicodeWarning', 'UserWarning', 'ValueError', 'Warning', 'ZeroDivisionError', '__IPYTHON__', '__build_class__', '__debug__', '__doc__', '__import__', '__loader__', '__name__', '__package__', '__spec__', 'abs', 'aiter', 'all', 'anext', 'any', 'ascii', 'bin', 'bool', 'breakpoint', 'bytearray', 'bytes', 'callable', 'chr', 'classmethod', 'compile', 'complex', 'copyright', 'credits', 'delattr', 'dict', 'dir', 'display', 'divmod', 'enumerate', 'eval', 'exec', 'execfile', 'filter', 'float', 'format', 'frozenset', 'get_ipython', 'getattr', 'globals', 'hasattr', 'hash', 'help', 'hex', 'id', 'input', 'int', 'isinstance', 'issubclass', 'iter', 'len', 'license', 'list', 'locals', 'map', 'max', 'memoryview', 'min', 'next', 'object', 'oct', 'open', 'ord', 'pow', 'print', 'property', 'range', 'repr', 'reversed', 'round', 'runfile', 'set', 'setattr', 'slice', 'sorted', 'staticmethod', 'str', 'sum', 'super', 'tuple', 'type', 'vars', 'zip']\n",
            "158\n"
          ]
        }
      ]
    },
    {
      "cell_type": "code",
      "source": [
        "def string_statistics(user_input):\n",
        "  #문자열 길이 반환\n",
        "  length=len(user_input)\n",
        "\n",
        "  #가장 자주 등장하는 문자 찾기\n",
        "  from collections import Counter\n",
        "  frequency = Counter(user_input)\n",
        "  most_comon=frequency.most_common(1)[0][0]\n",
        "  #숫자 개수 세기\n",
        "  num_count = sum(o.isdigit() for o in user_input)\n",
        "  #대문자 개수 세기\n",
        "  uppercase_count = sum(o.isupper()for o in user_input)\n",
        "  #소문자 개수 세기\n",
        "  lowercase_count = sum(o.islower()for o in user_input)\n",
        "  #결과 출력\n",
        "  print(f'입력된 문자열의 길이:{length}')\n",
        "  print(f'가장 자주 등장하는 문자:{most_comon}')\n",
        "  print(f'숫자의개수:{num_count}')\n",
        "  print(f'대문자의 개수:{uppercase_count}')\n",
        "  print(f'소문자의 개수:{lowercase_count}')\n",
        "#사용자 입력받기\n",
        "user_input=input('문자열을 입력하세요')\n",
        "string_statistics(user_input)\n"
      ],
      "metadata": {
        "colab": {
          "base_uri": "https://localhost:8080/"
        },
        "id": "RwDo39y9AgUZ",
        "outputId": "d475e689-9084-4b85-9399-0774f2a75d2c"
      },
      "execution_count": 12,
      "outputs": [
        {
          "output_type": "stream",
          "name": "stdout",
          "text": [
            "문자열을 입력하세요외장함수 3개 이상 활용해서 간단한 프로그램을 만드세요\n",
            "입력된 문자열의 길이:30\n",
            "가장 자주 등장하는 문자: \n",
            "숫자의개수:1\n",
            "대문자의 개수:0\n",
            "소문자의 개수:0\n"
          ]
        }
      ]
    },
    {
      "cell_type": "markdown",
      "source": [
        "Task3_0503. 외장함수 3개 이상 활용해서 간단한 프로그램을 만드세요"
      ],
      "metadata": {
        "id": "w-kJn8PZXCEh"
      }
    },
    {
      "cell_type": "code",
      "source": [
        "import os\n",
        "import datetime\n",
        "import shutil\n",
        "\n",
        "def daily_scheduler():\n",
        "  #현재 날짜와 시간을 가져옵니다\n",
        "  today=datetime.datetime.now()\n",
        "  date_string=today.strftime(\"%y-%m-%d %H:%M:%S\")\n",
        "  print(f\"오늘의 날짜와 시간:(date_string)\")\n",
        "\n",
        "  #작업 파일의 이름을 정합니다\n",
        "  filename=f\"tasks_{today.strftime('%y%m%d')}.txt\"\n",
        "  #파일이 이미 존재하는지 확인합니다\n",
        "  if os.path.exists(filename):\n",
        "    print(f\"'{filename}'파일이 이미 존재합니다. 백업을 생성합니다\")\n",
        "    #백업 파일 생성\n",
        "    shutil.copy(filename, filename+\",bak\")\n",
        "  else:\n",
        "    print(f\"'{filename}'파일이 존재하지 않습니다. 새로운 파일을 생성합니다\")\n",
        "  # 사용자로부터 오늘의 주요 작업을 입력받습니다\n",
        "  task = input(\"오늘의 주요 작업을 입력하세요:\")\n",
        "  #작업 내용을 파일에 저장합니다\n",
        "  with open(filename,'a') as file:\n",
        "    file.write(f\"{date_string}:{task}\\n\")\n",
        "  print(f\"'{filename}'파일에 작업이 저장되었습니다\")\n",
        "if __name__== \"__main__\":\n",
        "  daily_scheduler()\n"
      ],
      "metadata": {
        "id": "fqzDybkXijsO",
        "colab": {
          "base_uri": "https://localhost:8080/",
          "height": 390
        },
        "outputId": "f982cbbc-575b-4a7b-c7cc-969d407657a1"
      },
      "execution_count": 16,
      "outputs": [
        {
          "output_type": "stream",
          "name": "stdout",
          "text": [
            "오늘의 날짜와 시간:(date_string)\n",
            "'tasks_240507.txt'파일이 존재하지 않습니다. 새로운 파일을 생성합니다\n"
          ]
        },
        {
          "output_type": "error",
          "ename": "KeyboardInterrupt",
          "evalue": "Interrupted by user",
          "traceback": [
            "\u001b[0;31m---------------------------------------------------------------------------\u001b[0m",
            "\u001b[0;31mKeyboardInterrupt\u001b[0m                         Traceback (most recent call last)",
            "\u001b[0;32m<ipython-input-16-0d4598b6f515>\u001b[0m in \u001b[0;36m<cell line: 26>\u001b[0;34m()\u001b[0m\n\u001b[1;32m     25\u001b[0m   \u001b[0mprint\u001b[0m\u001b[0;34m(\u001b[0m\u001b[0;34mf\"'{filename}'파일에 작업이 저장되었습니다\"\u001b[0m\u001b[0;34m)\u001b[0m\u001b[0;34m\u001b[0m\u001b[0;34m\u001b[0m\u001b[0m\n\u001b[1;32m     26\u001b[0m \u001b[0;32mif\u001b[0m \u001b[0m__name__\u001b[0m\u001b[0;34m==\u001b[0m \u001b[0;34m\"__main__\"\u001b[0m\u001b[0;34m:\u001b[0m\u001b[0;34m\u001b[0m\u001b[0;34m\u001b[0m\u001b[0m\n\u001b[0;32m---> 27\u001b[0;31m   \u001b[0mdaily_scheduler\u001b[0m\u001b[0;34m(\u001b[0m\u001b[0;34m)\u001b[0m\u001b[0;34m\u001b[0m\u001b[0;34m\u001b[0m\u001b[0m\n\u001b[0m",
            "\u001b[0;32m<ipython-input-16-0d4598b6f515>\u001b[0m in \u001b[0;36mdaily_scheduler\u001b[0;34m()\u001b[0m\n\u001b[1;32m     19\u001b[0m     \u001b[0mprint\u001b[0m\u001b[0;34m(\u001b[0m\u001b[0;34mf\"'{filename}'파일이 존재하지 않습니다. 새로운 파일을 생성합니다\"\u001b[0m\u001b[0;34m)\u001b[0m\u001b[0;34m\u001b[0m\u001b[0;34m\u001b[0m\u001b[0m\n\u001b[1;32m     20\u001b[0m   \u001b[0;31m# 사용자로부터 오늘의 주요 작업을 입력받습니다\u001b[0m\u001b[0;34m\u001b[0m\u001b[0;34m\u001b[0m\u001b[0m\n\u001b[0;32m---> 21\u001b[0;31m   \u001b[0mtask\u001b[0m \u001b[0;34m=\u001b[0m \u001b[0minput\u001b[0m\u001b[0;34m(\u001b[0m\u001b[0;34m\"오늘의 주요 작업을 입력하세요:\"\u001b[0m\u001b[0;34m)\u001b[0m\u001b[0;34m\u001b[0m\u001b[0;34m\u001b[0m\u001b[0m\n\u001b[0m\u001b[1;32m     22\u001b[0m   \u001b[0;31m#작업 내용을 파일에 저장합니다\u001b[0m\u001b[0;34m\u001b[0m\u001b[0;34m\u001b[0m\u001b[0m\n\u001b[1;32m     23\u001b[0m   \u001b[0;32mwith\u001b[0m \u001b[0mopen\u001b[0m\u001b[0;34m(\u001b[0m\u001b[0mfilename\u001b[0m\u001b[0;34m,\u001b[0m\u001b[0;34m'a'\u001b[0m\u001b[0;34m)\u001b[0m \u001b[0;32mas\u001b[0m \u001b[0mfile\u001b[0m\u001b[0;34m:\u001b[0m\u001b[0;34m\u001b[0m\u001b[0;34m\u001b[0m\u001b[0m\n",
            "\u001b[0;32m/usr/local/lib/python3.10/dist-packages/ipykernel/kernelbase.py\u001b[0m in \u001b[0;36mraw_input\u001b[0;34m(self, prompt)\u001b[0m\n\u001b[1;32m    849\u001b[0m                 \u001b[0;34m\"raw_input was called, but this frontend does not support input requests.\"\u001b[0m\u001b[0;34m\u001b[0m\u001b[0;34m\u001b[0m\u001b[0m\n\u001b[1;32m    850\u001b[0m             )\n\u001b[0;32m--> 851\u001b[0;31m         return self._input_request(str(prompt),\n\u001b[0m\u001b[1;32m    852\u001b[0m             \u001b[0mself\u001b[0m\u001b[0;34m.\u001b[0m\u001b[0m_parent_ident\u001b[0m\u001b[0;34m,\u001b[0m\u001b[0;34m\u001b[0m\u001b[0;34m\u001b[0m\u001b[0m\n\u001b[1;32m    853\u001b[0m             \u001b[0mself\u001b[0m\u001b[0;34m.\u001b[0m\u001b[0m_parent_header\u001b[0m\u001b[0;34m,\u001b[0m\u001b[0;34m\u001b[0m\u001b[0;34m\u001b[0m\u001b[0m\n",
            "\u001b[0;32m/usr/local/lib/python3.10/dist-packages/ipykernel/kernelbase.py\u001b[0m in \u001b[0;36m_input_request\u001b[0;34m(self, prompt, ident, parent, password)\u001b[0m\n\u001b[1;32m    893\u001b[0m             \u001b[0;32mexcept\u001b[0m \u001b[0mKeyboardInterrupt\u001b[0m\u001b[0;34m:\u001b[0m\u001b[0;34m\u001b[0m\u001b[0;34m\u001b[0m\u001b[0m\n\u001b[1;32m    894\u001b[0m                 \u001b[0;31m# re-raise KeyboardInterrupt, to truncate traceback\u001b[0m\u001b[0;34m\u001b[0m\u001b[0;34m\u001b[0m\u001b[0m\n\u001b[0;32m--> 895\u001b[0;31m                 \u001b[0;32mraise\u001b[0m \u001b[0mKeyboardInterrupt\u001b[0m\u001b[0;34m(\u001b[0m\u001b[0;34m\"Interrupted by user\"\u001b[0m\u001b[0;34m)\u001b[0m \u001b[0;32mfrom\u001b[0m \u001b[0;32mNone\u001b[0m\u001b[0;34m\u001b[0m\u001b[0;34m\u001b[0m\u001b[0m\n\u001b[0m\u001b[1;32m    896\u001b[0m             \u001b[0;32mexcept\u001b[0m \u001b[0mException\u001b[0m \u001b[0;32mas\u001b[0m \u001b[0me\u001b[0m\u001b[0;34m:\u001b[0m\u001b[0;34m\u001b[0m\u001b[0;34m\u001b[0m\u001b[0m\n\u001b[1;32m    897\u001b[0m                 \u001b[0mself\u001b[0m\u001b[0;34m.\u001b[0m\u001b[0mlog\u001b[0m\u001b[0;34m.\u001b[0m\u001b[0mwarning\u001b[0m\u001b[0;34m(\u001b[0m\u001b[0;34m\"Invalid Message:\"\u001b[0m\u001b[0;34m,\u001b[0m \u001b[0mexc_info\u001b[0m\u001b[0;34m=\u001b[0m\u001b[0;32mTrue\u001b[0m\u001b[0;34m)\u001b[0m\u001b[0;34m\u001b[0m\u001b[0;34m\u001b[0m\u001b[0m\n",
            "\u001b[0;31mKeyboardInterrupt\u001b[0m: Interrupted by user"
          ]
        }
      ]
    },
    {
      "cell_type": "code",
      "source": [
        "!ls"
      ],
      "metadata": {
        "colab": {
          "base_uri": "https://localhost:8080/"
        },
        "id": "qwVBElEaIqsH",
        "outputId": "394c50f1-f4c3-43d1-e5bd-b516910ef699"
      },
      "execution_count": 17,
      "outputs": [
        {
          "output_type": "stream",
          "name": "stdout",
          "text": [
            "sample_data\n"
          ]
        }
      ]
    },
    {
      "cell_type": "code",
      "source": [
        "!cat"
      ],
      "metadata": {
        "colab": {
          "base_uri": "https://localhost:8080/"
        },
        "id": "4AMW5U-iIsf8",
        "outputId": "ac2b8a84-2b48-4275-df2b-bf78fd8e8f5b"
      },
      "execution_count": 18,
      "outputs": [
        {
          "output_type": "stream",
          "name": "stdout",
          "text": [
            "^C\n"
          ]
        }
      ]
    },
    {
      "cell_type": "markdown",
      "source": [
        "Task4_0503. 리스트를 작성하고 람다 함수를 이용해서 한번에 함수를 적용하여 결과값을 출력하세요."
      ],
      "metadata": {
        "id": "QhVdQFH5XCkw"
      }
    },
    {
      "cell_type": "code",
      "source": [
        "# 예시\n",
        "numbers=[1,2,3,4,5]\n",
        "squared_numbers=map(lambda x : x*x,numbers)\n",
        "print(list(squared_numbers))"
      ],
      "metadata": {
        "colab": {
          "base_uri": "https://localhost:8080/"
        },
        "id": "7FahACFXXV9T",
        "outputId": "026ec6d4-9a6e-4b30-e960-890f4e0c523e"
      },
      "execution_count": null,
      "outputs": [
        {
          "output_type": "stream",
          "name": "stdout",
          "text": [
            "[1, 4, 9, 16, 25]\n"
          ]
        }
      ]
    },
    {
      "cell_type": "code",
      "source": [
        "numbers = [1, 2, 3, 4, 5]\n",
        "filtered_number = filter(lambda x: x % 2 == 0, numbers)\n",
        "print(list(filtered_number))"
      ],
      "metadata": {
        "colab": {
          "base_uri": "https://localhost:8080/"
        },
        "id": "7QRtgZKQaTE2",
        "outputId": "442cee3f-0f41-4592-b426-414b144d0db8"
      },
      "execution_count": 24,
      "outputs": [
        {
          "output_type": "stream",
          "name": "stdout",
          "text": [
            "[2, 4]\n"
          ]
        }
      ]
    },
    {
      "cell_type": "markdown",
      "source": [
        "Task5_0503. 외부 라리브러리를 임포트해서 간단한 프로그램을 만드세요.\\\n",
        "from bs4 import BeautifulSoup\\\n",
        "html_doc = \"<html><head><title>Hello World</title></head></html>\"\\\n",
        "soup = BeautifulSoup(html_doc, 'html.parser')\n",
        "print(soup.title.text)"
      ],
      "metadata": {
        "id": "fB1zBoCeXD89"
      }
    },
    {
      "cell_type": "code",
      "source": [
        "!pip install requests -q"
      ],
      "metadata": {
        "id": "quzdFxmPVB8V"
      },
      "execution_count": 25,
      "outputs": []
    },
    {
      "cell_type": "code",
      "source": [
        "import requests\n",
        "from bs4 import BeautifulSoup\n",
        "def fetch_website_content(url):\n",
        "  #URL에서 데이터를 가져옵니다\n",
        "  response=requestss.get(url)\n",
        "  if response.status_code == 200:\n",
        "    #HTML 내용을 BeautifulSoup 객체로 피싱합니다\n",
        "    soup=BeautifulSoup(response.text,'html.parser')\n",
        "\n",
        "    #예제:페이지 타이틀을 출력합니다\n",
        "    print('Page Title:', soup,title.string if soup.title else \"No title found\")\n",
        "  else:\n",
        "    print(\"Faled to retrieve webpage\")\n",
        "    print(\"Status code:\", response.status_code)\n",
        "if __name__ == \"__main__\":\n",
        "  url=input(\"저장하고 싶은 웹사이트의 URL을 입력하세요:\")\n",
        "  fetch_website_content(url)"
      ],
      "metadata": {
        "colab": {
          "base_uri": "https://localhost:8080/",
          "height": 372
        },
        "id": "tnRf9OJtK5Ex",
        "outputId": "62f7d771-61db-4148-e53c-f617a73bfd30"
      },
      "execution_count": 27,
      "outputs": [
        {
          "output_type": "error",
          "ename": "KeyboardInterrupt",
          "evalue": "Interrupted by user",
          "traceback": [
            "\u001b[0;31m---------------------------------------------------------------------------\u001b[0m",
            "\u001b[0;31mKeyboardInterrupt\u001b[0m                         Traceback (most recent call last)",
            "\u001b[0;32m<ipython-input-27-c35d9f0c8941>\u001b[0m in \u001b[0;36m<cell line: 15>\u001b[0;34m()\u001b[0m\n\u001b[1;32m     14\u001b[0m     \u001b[0mprint\u001b[0m\u001b[0;34m(\u001b[0m\u001b[0;34m\"Status code:\"\u001b[0m\u001b[0;34m,\u001b[0m \u001b[0mresponse\u001b[0m\u001b[0;34m.\u001b[0m\u001b[0mstatus_code\u001b[0m\u001b[0;34m)\u001b[0m\u001b[0;34m\u001b[0m\u001b[0;34m\u001b[0m\u001b[0m\n\u001b[1;32m     15\u001b[0m \u001b[0;32mif\u001b[0m \u001b[0m__name__\u001b[0m \u001b[0;34m==\u001b[0m \u001b[0;34m\"__main__\"\u001b[0m\u001b[0;34m:\u001b[0m\u001b[0;34m\u001b[0m\u001b[0;34m\u001b[0m\u001b[0m\n\u001b[0;32m---> 16\u001b[0;31m   \u001b[0murl\u001b[0m\u001b[0;34m=\u001b[0m\u001b[0minput\u001b[0m\u001b[0;34m(\u001b[0m\u001b[0;34m\"저장하고 싶은 웹사이트의 URL을 입력하세요:\"\u001b[0m\u001b[0;34m)\u001b[0m\u001b[0;34m\u001b[0m\u001b[0;34m\u001b[0m\u001b[0m\n\u001b[0m\u001b[1;32m     17\u001b[0m   \u001b[0mfetch_website_content\u001b[0m\u001b[0;34m(\u001b[0m\u001b[0murl\u001b[0m\u001b[0;34m)\u001b[0m\u001b[0;34m\u001b[0m\u001b[0;34m\u001b[0m\u001b[0m\n",
            "\u001b[0;32m/usr/local/lib/python3.10/dist-packages/ipykernel/kernelbase.py\u001b[0m in \u001b[0;36mraw_input\u001b[0;34m(self, prompt)\u001b[0m\n\u001b[1;32m    849\u001b[0m                 \u001b[0;34m\"raw_input was called, but this frontend does not support input requests.\"\u001b[0m\u001b[0;34m\u001b[0m\u001b[0;34m\u001b[0m\u001b[0m\n\u001b[1;32m    850\u001b[0m             )\n\u001b[0;32m--> 851\u001b[0;31m         return self._input_request(str(prompt),\n\u001b[0m\u001b[1;32m    852\u001b[0m             \u001b[0mself\u001b[0m\u001b[0;34m.\u001b[0m\u001b[0m_parent_ident\u001b[0m\u001b[0;34m,\u001b[0m\u001b[0;34m\u001b[0m\u001b[0;34m\u001b[0m\u001b[0m\n\u001b[1;32m    853\u001b[0m             \u001b[0mself\u001b[0m\u001b[0;34m.\u001b[0m\u001b[0m_parent_header\u001b[0m\u001b[0;34m,\u001b[0m\u001b[0;34m\u001b[0m\u001b[0;34m\u001b[0m\u001b[0m\n",
            "\u001b[0;32m/usr/local/lib/python3.10/dist-packages/ipykernel/kernelbase.py\u001b[0m in \u001b[0;36m_input_request\u001b[0;34m(self, prompt, ident, parent, password)\u001b[0m\n\u001b[1;32m    893\u001b[0m             \u001b[0;32mexcept\u001b[0m \u001b[0mKeyboardInterrupt\u001b[0m\u001b[0;34m:\u001b[0m\u001b[0;34m\u001b[0m\u001b[0;34m\u001b[0m\u001b[0m\n\u001b[1;32m    894\u001b[0m                 \u001b[0;31m# re-raise KeyboardInterrupt, to truncate traceback\u001b[0m\u001b[0;34m\u001b[0m\u001b[0;34m\u001b[0m\u001b[0m\n\u001b[0;32m--> 895\u001b[0;31m                 \u001b[0;32mraise\u001b[0m \u001b[0mKeyboardInterrupt\u001b[0m\u001b[0;34m(\u001b[0m\u001b[0;34m\"Interrupted by user\"\u001b[0m\u001b[0;34m)\u001b[0m \u001b[0;32mfrom\u001b[0m \u001b[0;32mNone\u001b[0m\u001b[0;34m\u001b[0m\u001b[0;34m\u001b[0m\u001b[0m\n\u001b[0m\u001b[1;32m    896\u001b[0m             \u001b[0;32mexcept\u001b[0m \u001b[0mException\u001b[0m \u001b[0;32mas\u001b[0m \u001b[0me\u001b[0m\u001b[0;34m:\u001b[0m\u001b[0;34m\u001b[0m\u001b[0;34m\u001b[0m\u001b[0m\n\u001b[1;32m    897\u001b[0m                 \u001b[0mself\u001b[0m\u001b[0;34m.\u001b[0m\u001b[0mlog\u001b[0m\u001b[0;34m.\u001b[0m\u001b[0mwarning\u001b[0m\u001b[0;34m(\u001b[0m\u001b[0;34m\"Invalid Message:\"\u001b[0m\u001b[0;34m,\u001b[0m \u001b[0mexc_info\u001b[0m\u001b[0;34m=\u001b[0m\u001b[0;32mTrue\u001b[0m\u001b[0;34m)\u001b[0m\u001b[0;34m\u001b[0m\u001b[0;34m\u001b[0m\u001b[0m\n",
            "\u001b[0;31mKeyboardInterrupt\u001b[0m: Interrupted by user"
          ]
        }
      ]
    },
    {
      "cell_type": "code",
      "source": [],
      "metadata": {
        "id": "EdUN2kM_dmgV"
      },
      "execution_count": null,
      "outputs": []
    }
  ]
}