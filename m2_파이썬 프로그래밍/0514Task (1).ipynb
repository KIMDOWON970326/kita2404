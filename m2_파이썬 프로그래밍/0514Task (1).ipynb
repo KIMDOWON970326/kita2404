{
  "nbformat": 4,
  "nbformat_minor": 0,
  "metadata": {
    "colab": {
      "provenance": []
    },
    "kernelspec": {
      "name": "python3",
      "display_name": "Python 3"
    },
    "language_info": {
      "name": "python"
    }
  },
  "cells": [
    {
      "cell_type": "markdown",
      "source": [
        "Task1_0514. BC, CC, ABC 모두 C가 출력되는 정규 표현식을 ( )에 작성하세요\n",
        "pattern = re.compile( )\n",
        "text1 = 'BC'\n",
        "text2 = 'CC'\n",
        "text3 = 'ABC'\n",
        "p1 = pattern.search(text1)\n",
        "p2 = pattern.search(text2)\n",
        "p3 = pattern.search(text3)\n",
        "print(p1)\n",
        "print(p2)\n",
        "print(p3)"
      ],
      "metadata": {
        "id": "Zoi9fp6CDTb4"
      }
    },
    {
      "cell_type": "code",
      "execution_count": 11,
      "metadata": {
        "id": "jj5BetknDJUp",
        "colab": {
          "base_uri": "https://localhost:8080/"
        },
        "outputId": "89eee242-358c-4b73-9479-804df7a5090f"
      },
      "outputs": [
        {
          "output_type": "stream",
          "name": "stdout",
          "text": [
            "<re.Match object; span=(1, 2), match='C'>\n",
            "<re.Match object; span=(0, 1), match='C'>\n",
            "<re.Match object; span=(2, 3), match='C'>\n",
            "<re.Match object; span=(1, 3), match='AC'>\n"
          ]
        }
      ],
      "source": [
        "import re\n",
        "pattern = re.compile('A?C')  #A가 없거나 한번\n",
        "text1 = 'BC'\n",
        "text2 = 'CC'\n",
        "text3 = 'ABC'\n",
        "text4 = 'AAC'\n",
        "p1 = pattern.search(text1)\n",
        "p2 = pattern.search(text2)\n",
        "p3 = pattern.search(text3)\n",
        "p4 = pattern.search(text4)\n",
        "print(p1)\n",
        "print(p2)\n",
        "print(p3)\n",
        "print(p4)"
      ]
    },
    {
      "cell_type": "code",
      "source": [
        "pattern = re.compile('A?C')\n",
        "test_strings=['AC','C','ABC','AAC','BBC']\n",
        "for s in test_strings:\n",
        "  match=pattern.match(s)\n",
        "  if match:\n",
        "    print(f'\"{s}\"Found a match!')\n",
        "  else:\n",
        "    print(f'\"{s}\" No match!')"
      ],
      "metadata": {
        "colab": {
          "base_uri": "https://localhost:8080/"
        },
        "id": "-qlVT9Y71VlP",
        "outputId": "5867f3bb-0617-4694-ad31-2d8677bc905f"
      },
      "execution_count": 13,
      "outputs": [
        {
          "output_type": "stream",
          "name": "stdout",
          "text": [
            "\"AC\"Found a match!\n",
            "\"C\"Found a match!\n",
            "\"ABC\" No match!\n",
            "\"AAC\" No match!\n",
            "\"BBC\" No match!\n"
          ]
        }
      ]
    },
    {
      "cell_type": "markdown",
      "source": [
        "Task2_0514. ' Python3 is very good programming language!'에서  ['Python', 'is', 'very', 'good', 'programming', 'language']를 모두 출력하세요."
      ],
      "metadata": {
        "id": "lmyM3F4xDV8G"
      }
    },
    {
      "cell_type": "code",
      "source": [
        "pattern = re.compile('[a-zA-Z]+')\n",
        "pattern.findall(' Python3 is very good programming language!')"
      ],
      "metadata": {
        "id": "EHX_4CMmDYCR",
        "colab": {
          "base_uri": "https://localhost:8080/"
        },
        "outputId": "149d0fe6-b9b8-4be4-993d-7901693280df"
      },
      "execution_count": 16,
      "outputs": [
        {
          "output_type": "execute_result",
          "data": {
            "text/plain": [
              "['Python', 'is', 'very', 'good', 'programming', 'language']"
            ]
          },
          "metadata": {},
          "execution_count": 16
        }
      ]
    },
    {
      "cell_type": "code",
      "source": [],
      "metadata": {
        "id": "MDfExlLU2eSP"
      },
      "execution_count": null,
      "outputs": []
    }
  ]
}