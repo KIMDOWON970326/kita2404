{
  "nbformat": 4,
  "nbformat_minor": 0,
  "metadata": {
    "colab": {
      "provenance": []
    },
    "kernelspec": {
      "name": "python3",
      "display_name": "Python 3"
    },
    "language_info": {
      "name": "python"
    }
  },
  "cells": [
    {
      "cell_type": "markdown",
      "source": [
        "파이썬에서 정규 표현식(Regular Expressions)은 문자열을 처리할 때 매우 강력하고 유연한 도구\n",
        "\n",
        "기본 개념:\n",
        "- 패턴 매칭 (Pattern Matching): 특정 패턴이 문자열에 존재하는지 확인. 예를 들어, 이메일 주소나 전화번호와 같은 특정 형식을 갖는 문자열을 찾을 때 사용\n",
        "\n",
        "- 메타 문자 (Meta Characters): 정규 표현식의 핵심 요소로, 특별한 의미를 가진 문자들. 예를 들어, ^, $, *, +, ?, {}, [], \\, |, () 등이 있습니다.\n",
        "\n",
        "- 리터럴 (Literal): 일반 텍스트 문자. 특별한 의미 없이 문자 그대로를 의미\n",
        "\n",
        "re 모듈 : 파이썬은 정규표현식을 지원하기 위해 기본으로 제공\n",
        "- re.compile의 결과로 리턴되는 객체를 이용하여 그 이후 작업 수행\n",
        "\n",
        "주요 기능:\n",
        "- re.match(pattern, string): 문자열 내에서 시작 부분부터 정규표현식과 일치하는지 확인\n",
        "- re.search(pattern, string): 문자열 전체를 검색하여 주어진 정규표현식과 일치하는 첫번째 위치를 확인\n",
        "- re.findall(pattern, string): 문자열 내에서 주어진 패턴과 일치하는 모든 부분을 찾아 리스트로 반환\n",
        "- re.finditer(): 정규식과 매치되는 모든 문자열을 반복 가능한 객체로 리턴\n",
        "- re.sub(pattern, repl, string): 문자열 내에서 주어진 패턴과 일치하는 부분을 다른 문자열로 대체\n",
        "- re.compile(pattern): 주어진 패턴을 컴파일하여 재사용 가능한 정규 표현식 객체를 생성"
      ],
      "metadata": {
        "id": "1rAUIWqwwT92"
      }
    },
    {
      "cell_type": "markdown",
      "source": [
        "re.match에서 반환되는 match 객체는 클래스의 인스턴스\n",
        "- Python의 re 모듈에서 match 객체는 re.Match 클래스의 인스턴스로, 정규 표현식과의 일치에 대한 정보를 담고 있다.\n",
        "\n",
        "- re.Match 클래스의 인스턴스는 다음과 같은 중요한 메소드와 속성을 가지고 있다:\n",
        "  - group(): 일치하는 문자열을 반환. group(0) 또는 group()은 전체 일치를 반환\n",
        "  - start() 및 end(): 일치하는 부분의 시작과 끝 인덱스를 반환.\n",
        "  - span(): 일치하는 부분의 시작과 끝 인덱스를 포함하는 튜플을 반환.\n",
        "  \n",
        "re.match() 함수의 작동원리\n",
        "- 입력: re.match() 함수는 두 가지 주요 인자를 받는다:\n",
        "    - pattern: 검사할 정규 표현식 패턴. 이 패턴은 문자열에서 찾고자 하는 문자의 시퀀스를 정의.\n",
        "    - string: 검사할 전체 문자열입니다.\n",
        "- 패턴 일치 검사: 함수는 주어진 string의 시작 부분부터 pattern에 정의된 정규 표현식과 일치하는지 확인. 여기서 \"시작 부분\"이 중요한데, 이는 함수가 문자열의 처음부터 패턴과 일치하는 부분을 찾는다는 것을 의미.\n",
        "\n",
        "- 결과 반환:\n",
        "    - 일치하는 경우: 패턴이 문자열의 시작 부분과 일치하는 경우, 함수는 re.Match 객체를 반환. 이 객체는 일치에 대한 상세한 정보(예: 일치하는 문자열, 시작 및 끝 인덱스, 캡처된 그룹 등)를 포함.\n",
        "    - 일치하지 않는 경우: 패턴이 문자열의 시작 부분과 일치하지 않으면, 함수는 None을 반환."
      ],
      "metadata": {
        "id": "sCpZTaEpylu_"
      }
    },
    {
      "cell_type": "code",
      "source": [
        "import re\n",
        "\n",
        "pattern = r'\\d+'\n",
        "string = '123 apple'\n",
        "match = re.match(pattern,string)\n",
        "if match:\n",
        "  print(match.group())\n",
        "  print(match.start())\n",
        "  print(match.end())\n",
        "  print(match.span())\n",
        "else:\n",
        "  print()"
      ],
      "metadata": {
        "colab": {
          "base_uri": "https://localhost:8080/"
        },
        "id": "3Pm10S-GtDFB",
        "outputId": "81092b47-5ba1-4c3f-8c8f-2bb48448afc9"
      },
      "execution_count": 3,
      "outputs": [
        {
          "output_type": "stream",
          "name": "stdout",
          "text": [
            "123\n",
            "0\n",
            "3\n",
            "(0, 3)\n"
          ]
        }
      ]
    },
    {
      "cell_type": "code",
      "execution_count": null,
      "metadata": {
        "colab": {
          "base_uri": "https://localhost:8080/"
        },
        "id": "MjqB3eR6v825",
        "outputId": "985acc07-4372-4dba-fdaf-da135f29d8cc"
      },
      "outputs": [
        {
          "output_type": "stream",
          "name": "stdout",
          "text": [
            "apple\n",
            "apple\n",
            "0\n",
            "5\n",
            "(0, 5)\n"
          ]
        }
      ],
      "source": [
        "import re\n",
        "\n",
        "match=re.match('apple','apple pie')\n",
        "print(match.group())\n",
        "print(match.group(0))\n",
        "print(match.start())\n",
        "print(match.end())\n",
        "print(match.span())"
      ]
    },
    {
      "cell_type": "code",
      "source": [
        "p='(apple) pie'\n",
        "t='apple pie'\n",
        "\n",
        "match=re.match(p,t)\n",
        "print(match.group())\n",
        "print(match.group(1))"
      ],
      "metadata": {
        "colab": {
          "base_uri": "https://localhost:8080/"
        },
        "id": "_4Di0ru6zIJE",
        "outputId": "9594de23-28e0-4cc2-82d8-8efd843d57de"
      },
      "execution_count": null,
      "outputs": [
        {
          "output_type": "stream",
          "name": "stdout",
          "text": [
            "apple pie\n",
            "apple\n"
          ]
        }
      ]
    },
    {
      "cell_type": "code",
      "source": [
        "#  ()가 단순한 문자열로 매치되길 원할때는 이스케이프 처리\n",
        "p='\\\\(apple\\\\) pie'\n",
        "t='(apple) pie'\n",
        "\n",
        "match=re.match(p,t)\n",
        "print(match.group())"
      ],
      "metadata": {
        "colab": {
          "base_uri": "https://localhost:8080/"
        },
        "id": "-qqsLQu70Qil",
        "outputId": "e5c8b192-f5fe-4c1e-fe17-328305155476"
      },
      "execution_count": null,
      "outputs": [
        {
          "output_type": "stream",
          "name": "stdout",
          "text": [
            "(apple) pie\n"
          ]
        }
      ]
    },
    {
      "cell_type": "code",
      "source": [
        "# 로우스트링 r\"...\"을 사용하면 백슬래시를 두번 연속해서 쓰는 것을 피할 수 있어 코드가 더 깔끔해지고 오류발생 가능성이 줄어든다\n",
        "p=r'\\(apple\\) pie'\n",
        "t='(apple) pie'\n",
        "match=re.match(p,t)\n",
        "print(match.group())"
      ],
      "metadata": {
        "colab": {
          "base_uri": "https://localhost:8080/"
        },
        "id": "jnkNg1sP0p4A",
        "outputId": "b7c21c04-7d62-4067-979f-f9c6571cdfcc"
      },
      "execution_count": null,
      "outputs": [
        {
          "output_type": "stream",
          "name": "stdout",
          "text": [
            "(apple) pie\n"
          ]
        }
      ]
    },
    {
      "cell_type": "code",
      "source": [
        "# 그룹\n",
        "p='(apple)(pie)'\n",
        "t='apple pie'\n",
        "\n",
        "match = re.match(p,t)\n",
        "print(match.group())\n",
        "print(match.group(0))\n",
        "print(match.group(1))\n",
        "print(match.group(2))"
      ],
      "metadata": {
        "colab": {
          "base_uri": "https://localhost:8080/",
          "height": 220
        },
        "id": "pRCElEkL1R3Q",
        "outputId": "6bc1c02f-4541-4407-fb66-2ac5a4a77494"
      },
      "execution_count": null,
      "outputs": [
        {
          "output_type": "error",
          "ename": "AttributeError",
          "evalue": "'NoneType' object has no attribute 'group'",
          "traceback": [
            "\u001b[0;31m---------------------------------------------------------------------------\u001b[0m",
            "\u001b[0;31mAttributeError\u001b[0m                            Traceback (most recent call last)",
            "\u001b[0;32m<ipython-input-28-fa7365c02895>\u001b[0m in \u001b[0;36m<cell line: 6>\u001b[0;34m()\u001b[0m\n\u001b[1;32m      4\u001b[0m \u001b[0;34m\u001b[0m\u001b[0m\n\u001b[1;32m      5\u001b[0m \u001b[0mmatch\u001b[0m \u001b[0;34m=\u001b[0m \u001b[0mre\u001b[0m\u001b[0;34m.\u001b[0m\u001b[0mmatch\u001b[0m\u001b[0;34m(\u001b[0m\u001b[0mp\u001b[0m\u001b[0;34m,\u001b[0m\u001b[0mt\u001b[0m\u001b[0;34m)\u001b[0m\u001b[0;34m\u001b[0m\u001b[0;34m\u001b[0m\u001b[0m\n\u001b[0;32m----> 6\u001b[0;31m \u001b[0mprint\u001b[0m\u001b[0;34m(\u001b[0m\u001b[0mmatch\u001b[0m\u001b[0;34m.\u001b[0m\u001b[0mgroup\u001b[0m\u001b[0;34m(\u001b[0m\u001b[0;34m)\u001b[0m\u001b[0;34m)\u001b[0m\u001b[0;34m\u001b[0m\u001b[0;34m\u001b[0m\u001b[0m\n\u001b[0m\u001b[1;32m      7\u001b[0m \u001b[0mprint\u001b[0m\u001b[0;34m(\u001b[0m\u001b[0mmatch\u001b[0m\u001b[0;34m.\u001b[0m\u001b[0mgroup\u001b[0m\u001b[0;34m(\u001b[0m\u001b[0;36m0\u001b[0m\u001b[0;34m)\u001b[0m\u001b[0;34m)\u001b[0m\u001b[0;34m\u001b[0m\u001b[0;34m\u001b[0m\u001b[0m\n\u001b[1;32m      8\u001b[0m \u001b[0mprint\u001b[0m\u001b[0;34m(\u001b[0m\u001b[0mmatch\u001b[0m\u001b[0;34m.\u001b[0m\u001b[0mgroup\u001b[0m\u001b[0;34m(\u001b[0m\u001b[0;36m1\u001b[0m\u001b[0;34m)\u001b[0m\u001b[0;34m)\u001b[0m\u001b[0;34m\u001b[0m\u001b[0;34m\u001b[0m\u001b[0m\n",
            "\u001b[0;31mAttributeError\u001b[0m: 'NoneType' object has no attribute 'group'"
          ]
        }
      ]
    },
    {
      "cell_type": "code",
      "source": [
        "search=re.search('apple','sweet apple pie')\n",
        "print(search.group())\n",
        "print(search.group(0))\n",
        "print(search.start())\n",
        "print(search.end())\n",
        "print(search.span())"
      ],
      "metadata": {
        "colab": {
          "base_uri": "https://localhost:8080/"
        },
        "id": "Am2kIM4R2FrZ",
        "outputId": "3f8d0a23-fed5-4be5-972b-c29378595540"
      },
      "execution_count": null,
      "outputs": [
        {
          "output_type": "stream",
          "name": "stdout",
          "text": [
            "apple\n",
            "apple\n",
            "6\n",
            "11\n",
            "(6, 11)\n"
          ]
        }
      ]
    },
    {
      "cell_type": "code",
      "source": [
        "import re\n",
        "# 검색하기\n",
        "if re.search('apple','apple pie'):\n",
        "  print(\"Found an apple!\")\n",
        "# 모든 일치 항목 찾기\n",
        "print(re.findall('a','ab ac ad')) #어떤 한 문자오 ㅏ일치\n",
        "# 문자열 대체하기\n",
        "print(re.sub('blue','red','blue sky and blue ocean'))\n",
        "# 패턴 컴파일하기\n",
        "pattern=re.compile('[a-e]')\n",
        "print(pattern.findall('hello world'))"
      ],
      "metadata": {
        "colab": {
          "base_uri": "https://localhost:8080/"
        },
        "id": "QPDGYQGGqVn0",
        "outputId": "f8e0f6c5-4e80-43cc-c800-fb22639b9c5d"
      },
      "execution_count": 2,
      "outputs": [
        {
          "output_type": "stream",
          "name": "stdout",
          "text": [
            "Found an apple!\n",
            "['a', 'a', 'a']\n",
            "red sky and red ocean\n",
            "['e', 'd']\n"
          ]
        }
      ]
    },
    {
      "cell_type": "markdown",
      "source": [
        "#### 정규 표현식의 기본 구성 요소\n",
        "1. 리터럴(Literals): 일반 텍스트 문자(예: a, b, 1, 2)\n",
        "\n",
        "2. 메타 문자(Meta Characters): 특별한 의미를 지닌 문자들\n",
        "- `.`: 어떤 한 문자와 일치 (\\n 제외)\n",
        "- ^: 문자열의 시작과 일치\n",
        "- $: 문자열의 끝과 일치\n",
        "- *: 0번 이상 반복되는 경우와 일치\n",
        "- +: 1번 이상 반복되는 경우와 일치\n",
        "- ?: 0번 또는 1번 등장하는 경우와 일치\n",
        "- {m,n}: 최소 m번, 최대 n번 반복\n",
        "- []: 문자 집합 중 하나와 일치 (예: [abc]는 a, b, c 중 하나와 일치)\n",
        "- |: OR 조건 (예: a|b는 a 또는 b)\n",
        "- (...): 그룹화\n",
        "\n",
        "3. 특수 시퀀스(Special Sequences):\n",
        "- \\d: 숫자와 일치\n",
        "- \\D: 숫자가 아닌 공백, 문자, 구두점 등 모든 문자와 일치\n",
        "- \\s: 스페이스(' '), 탭('\\t'), 캐리지 리턴('\\r'), 뉴라인('\\n'), 폼 피드('\\f') 등 공백 문자와 일치\n",
        "- \\S: 공백이 아닌 문자, 숫자, 특수 문자 등 모든 것과 일치\n",
        "- \\w: 단어 문자(문자, 숫자, 밑줄)와 일치\n",
        "- \\W: 단어 문자가 아닌 특수 문자, 공백 문자, 구두점 등과 일치"
      ],
      "metadata": {
        "id": "dQQ5LE6otoGp"
      }
    },
    {
      "cell_type": "markdown",
      "source": [
        "1. `.` (마침표)\n",
        "- 의미: 어떤 한 문자와 일치(줄바꿈 문자 제외)\n",
        "- 예시:\n",
        "  - 패턴: a.b\n",
        "  - 매칭 예시: \"acb\", \"a*b\", \"a3b\"\n",
        "  - 불일치 예시: \"ab\", \"a\\nb\"\n",
        "2. ^ (캐럿)\n",
        "- 의미: 문자열의 시작과 일치\n",
        "- 예시:\n",
        "  - 패턴: ^Hello\n",
        "  - 매칭 예시: \"Hello world\"\n",
        "  - 불일치 예시: \"world, Hello\"\n",
        "3. \\$ (달러 기호)\n",
        "- 의미: 문자열의 끝과 일치\n",
        "- 예시:\n",
        "  - 패턴: end$\n",
        "  - 매칭 예시: \"It's the end\"\n",
        "  - 불일치 예시: \"end of the story\"\n",
        "4. \\* (별표)\n",
        "- 의미: 앞의 문자가 0번 이상 반복\n",
        "- 예시:\n",
        "  - 패턴: a*b\n",
        "  - 매칭 예시: \"b\", \"ab\", \"aaab\"\n",
        "  - 불일치 예시: \"a\"\n",
        "5. \\+ (플러스)\n",
        "- 의미: 앞의 문자가 1번 이상 반복\n",
        "- 예시:\n",
        "  - 패턴: a+b\n",
        "  - 매칭 예시: \"ab\", \"aaab\"\n",
        "  - 불일치 예시: \"b\", \"a\"\n",
        "6. ? (물음표)\n",
        "- 의미: 앞의 문자가 0번 또는 1번 등장\n",
        "- 예시:\n",
        "  - 패턴: a?b\n",
        "  - 매칭 예시: \"ab\", \"b\"\n",
        "  - 불일치 예시: \"aab\"\n",
        "7. {m,n} (중괄호)\n",
        "- 의미: 앞의 문자가 최소 m번, 최대 n번 반복\n",
        "- 예시:\n",
        "  - 패턴: a{2,3}\n",
        "  - 매칭 예시: \"aa\", \"aaa\"\n",
        "  - 불일치 예시: \"a\", \"aaaa\"\n",
        "8. `[]` (대괄호)\n",
        "- 의미: 대괄호 안의 문자 중 하나와 일치\n",
        "- 예시:\n",
        "  - 패턴: [abc]\n",
        "  - 매칭 예시: \"a\", \"b\", \"c\"\n",
        "  - 불일치 예시: \"d\"\n",
        "9. | (파이프)\n",
        "- 의미: OR 조건\n",
        "- 예시:\n",
        "  - 패턴: a|b\n",
        "  - 매칭 예시: \"a\", \"b\"\n",
        "  - 불일치 예시: \"c\"\n",
        "10. (...) (괄호)\n",
        "- 의미: 그룹화, 캡처 그룹\n",
        "- 예시:\n",
        "  - 패턴: (a|b)c\n",
        "  - 매칭 예시: \"ac\", \"bc\""
      ],
      "metadata": {
        "id": "U5lBDNUEtpKs"
      }
    },
    {
      "cell_type": "markdown",
      "source": [
        "이스케이프 문자(escape character) vs 이스케이프 시퀀스(escape sequence)\n",
        "\n",
        "이스케이프 문자\n",
        "- 이스케이프 문자는 문자열 내에서 특수한 목적을 가지고 사용되는 문자. 대표적인 예로는 백슬래시(\\\\)가 있다.\n",
        "- 이 문자는 문자열 내에서 다른 문자와 결합하여 다양한 이스케이프 시퀀스를 형성하거나 특정 문자를 리터럴 값으로 표현하는 데 사용.\n",
        "\n",
        "이스케이프 시퀀스\n",
        "- 이스케이프 시퀀스는 이스케이프 문자에 이어지는 하나 또는 그 이상의 문자로 구성된 문자열.\n",
        "- 이스케이프 시퀀스는 일반적으로 출력할 수 없는 특수한 명령이나 문자를 표현하는 데 사용. 예를 들어, \\n은 새 줄(new line)을, \\t는 탭(tab)을 의미. 이스케이프 시퀀스는 이스케이프 문자를 통해 특별한 처리를 필요로 하는 여러 문자를 문자열 안에 포함시킬 수 있게 한다."
      ],
      "metadata": {
        "id": "eV6Vuwfww2bM"
      }
    },
    {
      "cell_type": "code",
      "source": [
        "# 이스케이프 문자 사용 예\n",
        "text = 'He said, \\\"Hello.\\\"'\n",
        "print(text)\n",
        "# 이스케이프 시퀀스 사용 예\n",
        "text = \"First Line\\nSecind Line\"\n",
        "print(text)"
      ],
      "metadata": {
        "colab": {
          "base_uri": "https://localhost:8080/"
        },
        "id": "uZmWJc_ErJdK",
        "outputId": "5eef9665-c555-49b3-f7e2-ff9f53351b28"
      },
      "execution_count": 7,
      "outputs": [
        {
          "output_type": "stream",
          "name": "stdout",
          "text": [
            "He said, \"Hello.\"\n",
            "First Line\n",
            "Secind Line\n"
          ]
        }
      ]
    },
    {
      "cell_type": "markdown",
      "source": [
        "Python에서 로우 스트링\n",
        "- 문자열 앞에 r이나 R을 붙여 정의\n",
        "- 주요 목적은 문자열 내에서 백슬래시(\\\\)와 같은 이스케이프 문자를 문자 그대로 처리하여, 특수 문자열을 이스케이프하는 복잡성을 줄인다.\n",
        "- 로우스트링 사용이 필수적인 경우\n",
        "  - 백슬래시 다음에 특정 문자가 오는 경우: 만약 문자열 내에 백슬래시(\\) 다음에 특별한 의미를 가지는 문자(n, t, b, r, u, x 등)가 오면, 이들은 각각 줄바꿈(\\n), 탭(\\t), 백스페이스(\\b), 캐리지 리턴(\\r), 유니코드 문자(\\uXXXX), 16진수 문자(\\xXX) 등으로 해석. 이런 경우 로우스트링을 사용하지 않으면 문자열이 의도치 않게 변경될 수 있다.\n",
        "\n",
        "  - 정규 표현식의 메타문자를 이스케이프 해야 할 때: 정규 표현식에서 메타문자(예: *, +, [, ], (, ), {, }, ^, $, ., |, ?, \\\\ 등)를 리터럴 문자로 사용하고 싶다면, 이스케이프 처리(\\)를 해야 합니다. 이때 로우스트링을 사용하지 않으면, \\ 자체를 이스케이프해야 하므로 코드가 복잡해질 수 있다."
      ],
      "metadata": {
        "id": "s5cfuCJyyU9w"
      }
    },
    {
      "cell_type": "code",
      "source": [
        "# 일반 문자열에서의 이스케이프 시퀀스 사용\n",
        "path=\"C:\\\\Users\\\\Username\\\\Documents\"\n",
        "print(path)\n",
        "# 로우스트링 사용\n",
        "rew_path=r\"C:\\\\Users\\\\Username\\\\Documents\"\n",
        "print(rew_path)"
      ],
      "metadata": {
        "colab": {
          "base_uri": "https://localhost:8080/"
        },
        "id": "EzAg9YJRx6M2",
        "outputId": "2faff8f3-aa23-4413-b2f0-ac5cae612247"
      },
      "execution_count": 9,
      "outputs": [
        {
          "output_type": "stream",
          "name": "stdout",
          "text": [
            "C:\\Users\\Username\\Documents\n",
            "C:\\\\Users\\\\Username\\\\Documents\n"
          ]
        }
      ]
    },
    {
      "cell_type": "code",
      "source": [
        "pattern = r\"(\\d{4})-(\\d{2})-(\\d{2})\"\n",
        "text = \"오늘의 날짜는 2023-04-30입니다\"\n",
        "match = re.search(pattern, text)\n",
        "print(\"전체 날짜:\", match.group())"
      ],
      "metadata": {
        "colab": {
          "base_uri": "https://localhost:8080/"
        },
        "id": "uWZV_I422K_F",
        "outputId": "8c51497e-965b-4ced-ce98-6a665e7f19c2"
      },
      "execution_count": 15,
      "outputs": [
        {
          "output_type": "stream",
          "name": "stdout",
          "text": [
            "전체 날짜: 2023-04-30\n"
          ]
        }
      ]
    },
    {
      "cell_type": "code",
      "source": [
        "import re\n",
        "\n",
        "# 정규표현식 패털 : YYYY-MM-DD 형식의 날짜 (예:2023-04-30)\n",
        "pattern = r\"(\\d{4})-(\\d{2})-(\\d{2})\"\n",
        "# 검색형 문자열\n",
        "text = \"오늘의 날짜는 2023-04-30입니다\"\n",
        "# 패턴 검색\n",
        "match = re.search(pattern, text)\n",
        "# 매치결과확인\n",
        "if match:\n",
        "  print(\"전체 날짜:\", match.group())\n",
        "  print(\"연도:\", match.group(1))\n",
        "  print(\"일:\", match.group(2))\n",
        "  print(\"일:\", match.group(3))\n",
        "else:\n",
        "  print(\"매치되는 날짜가 없습니다\")"
      ],
      "metadata": {
        "colab": {
          "base_uri": "https://localhost:8080/"
        },
        "id": "TQP90mAt4USa",
        "outputId": "61657074-ddc5-4513-e8ca-99d51a17799d"
      },
      "execution_count": 17,
      "outputs": [
        {
          "output_type": "stream",
          "name": "stdout",
          "text": [
            "전체 날짜: 2023-04-30\n",
            "연도: 2023\n",
            "일: 04\n",
            "일: 30\n"
          ]
        }
      ]
    },
    {
      "cell_type": "markdown",
      "source": [
        "Q.문자열 \"The cat in the hat\"에서 \"cat\"과 \"hat\"을 찾으세요"
      ],
      "metadata": {
        "id": "lahVVsdO5dhv"
      }
    },
    {
      "cell_type": "code",
      "source": [
        "import re\n",
        "\n",
        "print(re.findall(\"[ch]*at\" , \"The cat in the hat\"))"
      ],
      "metadata": {
        "colab": {
          "base_uri": "https://localhost:8080/"
        },
        "id": "mYVq50KX5NaO",
        "outputId": "3cf8047e-0a68-4d11-c469-5ef4b9c41eed"
      },
      "execution_count": 21,
      "outputs": [
        {
          "output_type": "stream",
          "name": "stdout",
          "text": [
            "['cat', 'hat']\n"
          ]
        }
      ]
    },
    {
      "cell_type": "code",
      "source": [
        "import re\n",
        "\n",
        "text=\"bat,cat,ret,fat\"\n",
        "pattern=r\"[bor]at\"\n",
        "matches=re.findall(pattern,text)\n",
        "print(matches)"
      ],
      "metadata": {
        "colab": {
          "base_uri": "https://localhost:8080/"
        },
        "id": "SnoZPqIr5uQf",
        "outputId": "6784f29f-111c-433a-c333-6481833c44fc"
      },
      "execution_count": 28,
      "outputs": [
        {
          "output_type": "stream",
          "name": "stdout",
          "text": [
            "['bat']\n"
          ]
        }
      ]
    },
    {
      "cell_type": "markdown",
      "source": [
        "Q.문자열 \"123 abc 456\"에서 모든 숫자를 찾으세요"
      ],
      "metadata": {
        "id": "6DSIY-u17zLq"
      }
    },
    {
      "cell_type": "code",
      "source": [
        "import re\n",
        "text=\"123 abc 456\"\n",
        "pattern=r\"\\d+\"\n",
        "matches=re.findall(pattern,text)\n",
        "print(matches)"
      ],
      "metadata": {
        "colab": {
          "base_uri": "https://localhost:8080/"
        },
        "id": "3mVFt5Xm7gj8",
        "outputId": "bc7e28af-d562-44e5-9143-da9d7a227939"
      },
      "execution_count": 32,
      "outputs": [
        {
          "output_type": "stream",
          "name": "stdout",
          "text": [
            "['123', '456']\n"
          ]
        }
      ]
    },
    {
      "cell_type": "markdown",
      "source": [
        "Q. 문자열 \"Hello my name is John\"에서 첫단어 \"Hello\"를 찾으세요"
      ],
      "metadata": {
        "id": "_eDfgthE8rbO"
      }
    },
    {
      "cell_type": "code",
      "source": [
        "import re\n",
        "text=\"Hello my name is John\"\n",
        "pattern=r\"\\b\\w+\\b\"\n",
        "matches=re.findall(pattern,text)\n",
        "print(matches[0])"
      ],
      "metadata": {
        "colab": {
          "base_uri": "https://localhost:8080/"
        },
        "id": "794jIrXg8Ea7",
        "outputId": "1dcd7231-e6a3-443a-e195-80f2cc0aee23"
      },
      "execution_count": 35,
      "outputs": [
        {
          "output_type": "stream",
          "name": "stdout",
          "text": [
            "Hello\n"
          ]
        }
      ]
    },
    {
      "cell_type": "code",
      "source": [
        "import re\n",
        "text=\"Hello my name is John\"\n",
        "pattern=r\"Helli\"\n",
        "match=re.match(pattern,text)\n",
        "if match:\n",
        "  print(match.group())"
      ],
      "metadata": {
        "id": "iXNLEc5W9EKV"
      },
      "execution_count": 40,
      "outputs": []
    },
    {
      "cell_type": "code",
      "source": [
        "print(re.search('garage', 'The car parked in the garage #42').group())"
      ],
      "metadata": {
        "colab": {
          "base_uri": "https://localhost:8080/"
        },
        "id": "4rY30xIZ-2EE",
        "outputId": "ef8d6eb7-6132-43ff-f114-3ceb7e77f546"
      },
      "execution_count": 43,
      "outputs": [
        {
          "output_type": "stream",
          "name": "stdout",
          "text": [
            "garage\n"
          ]
        }
      ]
    },
    {
      "cell_type": "code",
      "source": [
        "# 문자 클래스 : []\n",
        "pattern = re.compile('[a-z]+')\n",
        "p1=pattern.search('Banker')\n",
        "p2=pattern.search('banker')\n",
        "print(p1)\n",
        "print(p2)"
      ],
      "metadata": {
        "colab": {
          "base_uri": "https://localhost:8080/"
        },
        "id": "vEP3qxfo-7iu",
        "outputId": "89065e21-b87b-4040-9996-1b0d5b85935a"
      },
      "execution_count": 45,
      "outputs": [
        {
          "output_type": "stream",
          "name": "stdout",
          "text": [
            "<re.Match object; span=(1, 6), match='anker'>\n",
            "<re.Match object; span=(0, 6), match='banker'>\n"
          ]
        }
      ]
    },
    {
      "cell_type": "code",
      "source": [
        "# Q 'abc12345Abc'에서 A 만 출력하세요\n",
        "import re\n",
        "regex=re.compile('[A-Z]')\n",
        "text='abc12345Abc'\n",
        "m=regex.search(text)\n",
        "m.group()"
      ],
      "metadata": {
        "colab": {
          "base_uri": "https://localhost:8080/",
          "height": 35
        },
        "id": "7YPWNP4Y_Vr-",
        "outputId": "d2537025-04ca-4a7e-b3ba-ac8822682fa3"
      },
      "execution_count": 46,
      "outputs": [
        {
          "output_type": "execute_result",
          "data": {
            "text/plain": [
              "'A'"
            ],
            "application/vnd.google.colaboratory.intrinsic+json": {
              "type": "string"
            }
          },
          "metadata": {},
          "execution_count": 46
        }
      ]
    },
    {
      "cell_type": "code",
      "source": [
        "import re\n",
        "regex=re.compile('[가-힣]')\n",
        "text='KOREA 아대한민국'\n",
        "m=regex.search(text)\n",
        "m.group()"
      ],
      "metadata": {
        "colab": {
          "base_uri": "https://localhost:8080/",
          "height": 35
        },
        "id": "7ormPAB1AUDX",
        "outputId": "759ab2d4-dd9f-46ba-e849-04110514195c"
      },
      "execution_count": 48,
      "outputs": [
        {
          "output_type": "execute_result",
          "data": {
            "text/plain": [
              "'아'"
            ],
            "application/vnd.google.colaboratory.intrinsic+json": {
              "type": "string"
            }
          },
          "metadata": {},
          "execution_count": 48
        }
      ]
    },
    {
      "cell_type": "code",
      "source": [
        "# Q '1234a1234'에서 '1','2','3','4'를 모두 출력하세요\n",
        "import re\n",
        "regex=re.compile('[1234]')\n",
        "text='1234a1234'\n",
        "regex.findall(text)"
      ],
      "metadata": {
        "colab": {
          "base_uri": "https://localhost:8080/"
        },
        "id": "hudX263wHrWF",
        "outputId": "c43ce8fa-6f77-4cb0-fce1-7298434ce0c3"
      },
      "execution_count": 50,
      "outputs": [
        {
          "output_type": "execute_result",
          "data": {
            "text/plain": [
              "['1', '2', '3', '4', '1', '2', '3', '4']"
            ]
          },
          "metadata": {},
          "execution_count": 50
        }
      ]
    },
    {
      "cell_type": "markdown",
      "source": [
        "Task1_0514. BC, CC, ABC 모두 C가 출력되는 정규 표현식을 ( )에 작성하세요\n",
        "pattern = re.compile( )\n",
        "text1 = 'BC'\n",
        "text2 = 'CC'\n",
        "text3 = 'ABC'\n",
        "p1 = pattern.search(text1)\n",
        "p2 = pattern.search(text2)\n",
        "p3 = pattern.search(text3)\n",
        "print(p1)\n",
        "print(p2)\n",
        "print(p3)"
      ],
      "metadata": {
        "id": "BlftdgTJGTlF"
      }
    },
    {
      "cell_type": "code",
      "source": [],
      "metadata": {
        "id": "gyAGEZ76GVt-"
      },
      "execution_count": null,
      "outputs": []
    },
    {
      "cell_type": "markdown",
      "source": [
        "Task2_0514. ' Python3 is very good programming language!'에서  ['Python', 'is', 'very', 'good', 'programming', 'language']를 모두 출력하세요."
      ],
      "metadata": {
        "id": "GYC_sum6HOhh"
      }
    },
    {
      "cell_type": "code",
      "source": [],
      "metadata": {
        "id": "R4GEdBxqHPS6"
      },
      "execution_count": null,
      "outputs": []
    }
  ]
}