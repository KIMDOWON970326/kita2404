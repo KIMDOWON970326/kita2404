{
  "nbformat": 4,
  "nbformat_minor": 0,
  "metadata": {
    "colab": {
      "provenance": []
    },
    "kernelspec": {
      "name": "python3",
      "display_name": "Python 3"
    },
    "language_info": {
      "name": "python"
    }
  },
  "cells": [
    {
      "cell_type": "markdown",
      "source": [
        "Task1_0509. 주어진 텍스트에서 문자 빈도를 아래와 같이 출력하세요.(사용자 함수 사용)\n",
        "\n",
        "가장 많이 나온 문자 5개를 뽑아 봤습니다.\\\n",
        "[e] -> [97]회 나타남\\\n",
        "[t] -> [85]회 나타남\\\n",
        "[a] -> [78]회 나타남\\\n",
        "[o] -> [73]회 나타남\\\n",
        "[s] -> [60]회 나타남"
      ],
      "metadata": {
        "id": "1TrFwD5uajoj"
      }
    },
    {
      "cell_type": "code",
      "execution_count": 2,
      "metadata": {
        "colab": {
          "base_uri": "https://localhost:8080/"
        },
        "id": "lceZppFBaecZ",
        "outputId": "718a31e3-87c6-4c7d-b9e3-4789c0a8ec7c"
      },
      "outputs": [
        {
          "output_type": "stream",
          "name": "stdout",
          "text": [
            "\n",
            "a lot of things occur each day\n",
            "we've got to live with on our way\n",
            "there's so much misery on the screen\n",
            "with commercials in between\n",
            "\n",
            "and the russians won't be so late\n",
            "uncle sam don't want to wait\n",
            "no matter if you're black or white\n",
            "you never ever had a right\n",
            "\n",
            "and look up to the eternal skies\n",
            "see warfare even there\n",
            "what once has been a paradise\n",
            "now destruction and despair\n",
            "\n",
            "in other worlds the children die\n",
            "lacking food ill from a fly\n",
            "oppressed by troops to tame their land\n",
            "it's all the same again\n",
            "\n",
            "\n",
            "if any man is free on earth\n",
            "then tormentors steal his birth\n",
            "they slam gun butts in his face\n",
            "and leave his woman choked in mace\n",
            "\n",
            "so stand up for our human rights\n",
            "push back this pest of hate\n",
            "raise you voice pass on the light\n",
            "unite! it's not too late\n",
            "\n",
            "how many tears flow away\n",
            "to become a sea of fears\n",
            "how many hearts are torn apart\n",
            "till another torment starts\n",
            "\n",
            "but before the world\n",
            "turns into a sun\n",
            "all cruelty and violence\n",
            "on earth will be dead and gone\n",
            "\n",
            "so stand up for our human rights\n",
            "push back this pest of hate\n",
            "raise you voice pass on the light\n",
            "unite! it's not too late\n",
            "\n"
          ]
        }
      ],
      "source": [
        "with open('mydata.txt','w') as f:\n",
        "    f.write(\n",
        "'''\n",
        "a lot of things occur each day\n",
        "we've got to live with on our way\n",
        "there's so much misery on the screen\n",
        "with commercials in between\n",
        "\n",
        "and the russians won't be so late\n",
        "uncle sam don't want to wait\n",
        "no matter if you're black or white\n",
        "you never ever had a right\n",
        "\n",
        "and look up to the eternal skies\n",
        "see warfare even there\n",
        "what once has been a paradise\n",
        "now destruction and despair\n",
        "\n",
        "in other worlds the children die\n",
        "lacking food ill from a fly\n",
        "oppressed by troops to tame their land\n",
        "it's all the same again\n",
        "\n",
        "\n",
        "if any man is free on earth\n",
        "then tormentors steal his birth\n",
        "they slam gun butts in his face\n",
        "and leave his woman choked in mace\n",
        "\n",
        "so stand up for our human rights\n",
        "push back this pest of hate\n",
        "raise you voice pass on the light\n",
        "unite! it's not too late\n",
        "\n",
        "how many tears flow away\n",
        "to become a sea of fears\n",
        "how many hearts are torn apart\n",
        "till another torment starts\n",
        "\n",
        "but before the world\n",
        "turns into a sun\n",
        "all cruelty and violence\n",
        "on earth will be dead and gone\n",
        "\n",
        "so stand up for our human rights\n",
        "push back this pest of hate\n",
        "raise you voice pass on the light\n",
        "unite! it's not too late\n",
        "''')\n",
        "with open('mydata.txt', 'r') as f:\n",
        "    data = f.read()\n",
        "    print(data)"
      ]
    },
    {
      "cell_type": "code",
      "source": [
        "words_list=data #데이터 받음\n",
        "words_list=data.replace('.','').replace('.','').replace('\\n','').replace(\"'\",\"\").replace('!','').lower()\n",
        "\n",
        "word_frequency={}\n",
        "for word in words_list:\n",
        "    if word.isalpha():\n",
        "        if word in word_frequency:\n",
        "            word_frequency[word] += 1\n",
        "        else:\n",
        "            word_frequency[word] = 1\n",
        "\n",
        "alphabet = sorted(word_frequency.items(), key=lambda x: x[1], reverse=True)[:5]\n",
        "\n",
        "print('=' * 50)\n",
        "print('알파벳 빈도수 상위 5개를 출력합니다')\n",
        "for word, count in alphabet:\n",
        "    print(f\"[{word}] -> [{count}]회 나타남\")"
      ],
      "metadata": {
        "colab": {
          "base_uri": "https://localhost:8080/"
        },
        "id": "3ufMlDzJOnNV",
        "outputId": "5878e3b5-04c7-4ed8-ca8b-2044b77ebed7"
      },
      "execution_count": 23,
      "outputs": [
        {
          "output_type": "stream",
          "name": "stdout",
          "text": [
            "==================================================\n",
            "알파벳 빈도수 상위 5개를 출력합니다\n",
            "[e] -> [97]회 나타남\n",
            "[t] -> [85]회 나타남\n",
            "[a] -> [78]회 나타남\n",
            "[o] -> [73]회 나타남\n",
            "[n] -> [60]회 나타남\n"
          ]
        }
      ]
    },
    {
      "cell_type": "markdown",
      "source": [
        "Task2_0509.  람다함수와 적합한 내장함수를 사용하여 아래와 같이 출력하세요.\n",
        "\n",
        "[1,2,3,4,5] -> [1,4,9,16,25]\\\n",
        "[1,2,3,4,5] -> [1,2]"
      ],
      "metadata": {
        "id": "G69s6NetzRzT"
      }
    },
    {
      "cell_type": "code",
      "source": [
        "list1=[1,2,3,4,5]\n",
        "f = list(map(lambda x: x**2, list1))\n",
        "print(f)\n",
        "c = list(filter(lambda x: x<=2 , list1))\n",
        "print(c)"
      ],
      "metadata": {
        "colab": {
          "base_uri": "https://localhost:8080/"
        },
        "id": "3NapU0vNzSQk",
        "outputId": "07cf9d0f-8071-42b6-d7de-a2f567d5ab10"
      },
      "execution_count": 40,
      "outputs": [
        {
          "output_type": "stream",
          "name": "stdout",
          "text": [
            "[1, 4, 9, 16, 25]\n",
            "[1, 2]\n"
          ]
        }
      ]
    },
    {
      "cell_type": "markdown",
      "source": [
        "Task3_0509. [1,-3,2,0,-5,6] 에서 양수만 필터링해서 출력하세요(내장함수, 사용자함수 각각 이용)"
      ],
      "metadata": {
        "id": "wSWZDgFTzSg3"
      }
    },
    {
      "cell_type": "code",
      "source": [
        "list1=[1,-3,2,0,-5,6]\n",
        "f=list(filter(lambda x: x>0, list1))\n",
        "print(f)        #내장함수"
      ],
      "metadata": {
        "colab": {
          "base_uri": "https://localhost:8080/"
        },
        "id": "dzfTeUn0zTj2",
        "outputId": "c1348cc8-00b7-4135-a68f-e380cc1ab641"
      },
      "execution_count": 44,
      "outputs": [
        {
          "output_type": "stream",
          "name": "stdout",
          "text": [
            "[1, 2, 6]\n"
          ]
        }
      ]
    },
    {
      "cell_type": "code",
      "source": [
        "def func1(num):\n",
        "  return num > 0\n",
        "list1=[1,-3,2,0,-5,6]\n",
        "f=list(filter(func1,list1))\n",
        "print(f)    #사용자함수"
      ],
      "metadata": {
        "colab": {
          "base_uri": "https://localhost:8080/"
        },
        "id": "h0C3AT05VldY",
        "outputId": "67fb193b-7205-4aeb-dc78-f7103257c68b"
      },
      "execution_count": 45,
      "outputs": [
        {
          "output_type": "stream",
          "name": "stdout",
          "text": [
            "[1, 2, 6]\n"
          ]
        }
      ]
    },
    {
      "cell_type": "markdown",
      "source": [
        "Task4_0509. **args를 이용하여 아래와 같이 출력할 수 있는 사용자 함수 func2를 작성하세요.\n",
        "\n",
        "Width: 100\\\n",
        "Height: 200\\\n",
        "Other arguments: {'color': 'red', 'thickness': 5}\n",
        "\n",
        "Width: 100\\\n",
        "Height: 200\\\n",
        "Other arguments: {'color': 'red', 'thickness': 5, 'type': 'large'}"
      ],
      "metadata": {
        "id": "96Z4sXU_8kdU"
      }
    },
    {
      "cell_type": "code",
      "source": [
        "def func2(width, height, **args):\n",
        "  print(f\"Width: {width}\")\n",
        "  print(f\"Height: {height}\")\n",
        "  print(f\"Other arguments\", args)\n",
        "func2(100, 200, color=\"red\", thickness=5)\n",
        "func2(100,200,color='red',thickness=5,type='large')"
      ],
      "metadata": {
        "colab": {
          "base_uri": "https://localhost:8080/"
        },
        "id": "JjfjXvjW8sPb",
        "outputId": "478924d5-0bc1-4ccb-f090-8789e7877960"
      },
      "execution_count": 62,
      "outputs": [
        {
          "output_type": "stream",
          "name": "stdout",
          "text": [
            "Width: 100\n",
            "Height: 200\n",
            "Other arguments {'color': 'red', 'thickness': 5}\n",
            "Width: 100\n",
            "Height: 200\n",
            "Other arguments {'color': 'red', 'thickness': 5, 'type': 'large'}\n"
          ]
        }
      ]
    },
    {
      "cell_type": "code",
      "source": [
        "def func2(width,height, **args):\n",
        "  return width,height,args\n",
        "func2(100,200,color='red',thickness=5,type='large')"
      ],
      "metadata": {
        "colab": {
          "base_uri": "https://localhost:8080/"
        },
        "id": "xBoZan5HaNwE",
        "outputId": "f3760b23-c361-499c-c26e-811abee78f6e"
      },
      "execution_count": 64,
      "outputs": [
        {
          "output_type": "execute_result",
          "data": {
            "text/plain": [
              "(100, 200, {'color': 'red', 'thickness': 5, 'type': 'large'})"
            ]
          },
          "metadata": {},
          "execution_count": 64
        }
      ]
    },
    {
      "cell_type": "markdown",
      "source": [
        "Task5_0509. 아래와 같은 결과를 얻을 수 있도록 사용자 함수 func3를 작성하세요.\n",
        "\n",
        "Width: 100, Height: 200, Color: blue, Thickness: 1\\\n",
        "Width: 100, Height: 200, Color: red, Thickness: 15"
      ],
      "metadata": {
        "id": "soavyLHO8kv2"
      }
    },
    {
      "cell_type": "code",
      "source": [
        "def func3(width, height, **args):\n",
        "  print(f\"Width: {width},Height: {height}, Color: {args['color']}, Thickness: {args['thickness']}\")\n",
        "func3(100, 200, color=\"Blue\", thickness=1)\n",
        "func3(100, 200, color=\"red\", thickness=15)"
      ],
      "metadata": {
        "colab": {
          "base_uri": "https://localhost:8080/"
        },
        "id": "jS571yzP8soZ",
        "outputId": "56fae0b4-f4de-4f31-9020-a3996b97e7e1"
      },
      "execution_count": 71,
      "outputs": [
        {
          "output_type": "stream",
          "name": "stdout",
          "text": [
            "Width: 100,Height: 200, Color: Blue, Thickness: 1\n",
            "Width: 100,Height: 200, Color: red, Thickness: 15\n"
          ]
        }
      ]
    },
    {
      "cell_type": "markdown",
      "source": [
        "Task6_0509. 입력으로 들어오는 모든 수의 평균 값을 계산해 주는 함수를 작성한 후 1,2,3을 입력한 결과를 출력하세요."
      ],
      "metadata": {
        "id": "ZHIyGW0k8k_i"
      }
    },
    {
      "cell_type": "code",
      "source": [
        "def math(*args):\n",
        "  return sum(args) / len(args)\n",
        "print(math(int(input('숫자1:')),int(input('숫자2:')),int(input('숫자3:'))))"
      ],
      "metadata": {
        "colab": {
          "base_uri": "https://localhost:8080/"
        },
        "id": "FSHC4prG8tHq",
        "outputId": "965fa3da-70bb-4b8e-bf98-33ff00f4b23c"
      },
      "execution_count": 74,
      "outputs": [
        {
          "output_type": "stream",
          "name": "stdout",
          "text": [
            "숫자1:1\n",
            "숫자2:2\n",
            "숫자3:3\n",
            "2.0\n"
          ]
        }
      ]
    },
    {
      "cell_type": "markdown",
      "source": [
        "Task7_0509. 원의 면적과 둘레의 길이를 구하는 사용자 함수를 작성하여 반지름이 5와 10일때 면적과 둘레를 구하세요(반올림:round())"
      ],
      "metadata": {
        "id": "yBp0O6nx8lQ0"
      }
    },
    {
      "cell_type": "code",
      "source": [],
      "metadata": {
        "id": "Qo8LHee38tgO"
      },
      "execution_count": null,
      "outputs": []
    },
    {
      "cell_type": "markdown",
      "source": [
        "Task8_0509. 게시물의 총 건수와 한 페이지에 보여 줄 게시물 수를 입력시 총 페이지 수를 출력하는 프로그램을 작성하세요."
      ],
      "metadata": {
        "id": "58nmDnfq_a2T"
      }
    },
    {
      "cell_type": "code",
      "source": [],
      "metadata": {
        "id": "n5Su4QgD_eGS"
      },
      "execution_count": null,
      "outputs": []
    },
    {
      "cell_type": "markdown",
      "source": [
        "Task9_0509. 위의 문제를 *args를 사용한 사용자 함수 bignum을 작성하여 bignum(20,1,30)과 bignum(20,10,50,70, 100)의 결과를 출력하세요."
      ],
      "metadata": {
        "id": "nDTIDLPU_eUv"
      }
    },
    {
      "cell_type": "code",
      "source": [],
      "metadata": {
        "id": "EaWfNsRl_fJY"
      },
      "execution_count": null,
      "outputs": []
    },
    {
      "cell_type": "markdown",
      "source": [
        "Task10_0509. 위의 계산을 연산자를 choice로 가변적인 숫자들을 *args로 사용한 사용자 함수 cal을 이용하여 다음을 수행하세요.\n",
        "\n",
        "cal('*',1,2,3,4,5)\n",
        "cal('+',1,2,3,4,5,6,7)\n",
        "cal('-',1,2,3,4,5,6,7)\n",
        "cal('/',10,3)"
      ],
      "metadata": {
        "id": "ERf9Ed8rBo2h"
      }
    },
    {
      "cell_type": "code",
      "source": [],
      "metadata": {
        "id": "8p6lixLsBpR-"
      },
      "execution_count": null,
      "outputs": []
    }
  ]
}