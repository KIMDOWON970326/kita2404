{
  "nbformat": 4,
  "nbformat_minor": 0,
  "metadata": {
    "colab": {
      "provenance": []
    },
    "kernelspec": {
      "name": "python3",
      "display_name": "Python 3"
    },
    "language_info": {
      "name": "python"
    }
  },
  "cells": [
    {
      "cell_type": "markdown",
      "source": [
        "Task1_0507. 튜플 형태인 strings를 다양한 문자가 포함된 순서로 정렬하세요.\n",
        "\n",
        "strings = ('a', 'ca', 'bar', 'aaaa', 'ababa')"
      ],
      "metadata": {
        "id": "nTb0IR4utSXf"
      }
    },
    {
      "cell_type": "code",
      "execution_count": 24,
      "metadata": {
        "colab": {
          "base_uri": "https://localhost:8080/"
        },
        "id": "-XpgyaxVtKTD",
        "outputId": "35f761b3-13a2-4505-c61e-780caaa44078"
      },
      "outputs": [
        {
          "output_type": "stream",
          "name": "stdout",
          "text": [
            "['ca', 'bar', 'ababa', 'aaaa', 'a']\n",
            "['a', 'aaaa', 'ababa', 'bar', 'ca']\n"
          ]
        }
      ],
      "source": [
        "strings = ('a', 'ca', 'bar', 'aaaa', 'ababa')\n",
        "sorted_strings = sorted(strings,reverse=True)\n",
        "print(sorted_strings)\n",
        "sorted_strings = sorted(strings)\n",
        "print(sorted_strings)"
      ]
    },
    {
      "cell_type": "markdown",
      "source": [
        "Task2_0507. a,b 변수와 연산자를 입력하면 사칙연산을 수행하는 코드를 작성하세요.(eval 사용하는 경우와 안하는 경우)"
      ],
      "metadata": {
        "id": "B6FlHmLwwuGa"
      }
    },
    {
      "cell_type": "code",
      "source": [],
      "metadata": {
        "id": "TwPLwmznwuv6"
      },
      "execution_count": null,
      "outputs": []
    },
    {
      "cell_type": "markdown",
      "source": [
        "Task3_0507. list1에 대해서 아래와 같이 출력하는 코드를 작성하세요.\n",
        "\n",
        "인사평가 1번째 해당자는 김부장입니다. 회의실A로 오시기 바랍니다.\\\n",
        "인사평가 2번째 해당자는 이차장입니다. 회의실A로 오시기 바랍니다.\\\n",
        "인사평가 3번째 해당자는 김과장입니다. 회의실A로 오시기 바랍니다.\\\n",
        "인사평가 4번째 해당자는 이대리입니다. 회의실A로 오시기 바랍니다.\\\n",
        "인사평가 5번째 해당자는 오사원입니다. 회의실A로 오시기 바랍니다.\\\n",
        "인사평가 6번째 해당자는 김인턴입니다. 회의실A로 오시기 바랍니다.\\\n",
        "list1 = ['김부장', '이차장', '김과장', '이대리', '오사원', '김인턴']"
      ],
      "metadata": {
        "id": "gVLuK6S_zxyw"
      }
    },
    {
      "cell_type": "code",
      "source": [
        "list1 = ['김부장', '이차장', '김과장', '이대리', '오사원', '김인턴']\n",
        "for i,j in enumerate(list1):\n",
        "    print(f\"인사평가{i+1}번째 해당자는 {j}입니다 회의실A로 오시기 바랍니다\")"
      ],
      "metadata": {
        "colab": {
          "base_uri": "https://localhost:8080/"
        },
        "id": "5q_Lmj5Mzygy",
        "outputId": "e8b32537-bc30-4d93-9467-f48b0eb8be15"
      },
      "execution_count": 21,
      "outputs": [
        {
          "output_type": "stream",
          "name": "stdout",
          "text": [
            "인사평가1번째 해당자는 김부장입니다 회의실A로 오시기 바랍니다\n",
            "인사평가2번째 해당자는 이차장입니다 회의실A로 오시기 바랍니다\n",
            "인사평가3번째 해당자는 김과장입니다 회의실A로 오시기 바랍니다\n",
            "인사평가4번째 해당자는 이대리입니다 회의실A로 오시기 바랍니다\n",
            "인사평가5번째 해당자는 오사원입니다 회의실A로 오시기 바랍니다\n",
            "인사평가6번째 해당자는 김인턴입니다 회의실A로 오시기 바랍니다\n"
          ]
        }
      ]
    },
    {
      "cell_type": "markdown",
      "source": [
        "Task4_0507. 주어진 문자열 리스트의 요소들을 대문자로 변환하세요.\n",
        "words = [\"hello\", \"world\", \"python\", \"map\"]"
      ],
      "metadata": {
        "id": "VdW69CmZ0Skg"
      }
    },
    {
      "cell_type": "code",
      "source": [
        "words = [\"hello\", \"world\", \"python\", \"map\"]\n",
        "result=[word.upper() for word in words]\n",
        "print(result)"
      ],
      "metadata": {
        "colab": {
          "base_uri": "https://localhost:8080/"
        },
        "id": "2ZaXAKrL0TE1",
        "outputId": "762ba576-c1f9-42cc-ab27-d38589c6d213"
      },
      "execution_count": 19,
      "outputs": [
        {
          "output_type": "stream",
          "name": "stdout",
          "text": [
            "['HELLO', 'WORLD', 'PYTHON', 'MAP']\n"
          ]
        }
      ]
    },
    {
      "cell_type": "markdown",
      "source": [
        "Task5_0507. 주어진 리스트에서 'p'로 시작하는 단어만 필터링하세요.\n",
        "\n",
        "words = [\"python\", \"is\", \"powerful\", \"programming\", \"language\", \"pandas\"]"
      ],
      "metadata": {
        "id": "mE9HoALS0TVd"
      }
    },
    {
      "cell_type": "code",
      "source": [
        "words = [\"python\", \"is\", \"powerful\", \"programming\", \"language\", \"pandas\"]\n",
        "result=[]\n",
        "for word in words:\n",
        "  if word[0] == 'p':\n",
        "    result.append(word)\n",
        "print(result)"
      ],
      "metadata": {
        "colab": {
          "base_uri": "https://localhost:8080/"
        },
        "id": "Qo-nH9mI0UtN",
        "outputId": "0ec05293-5a54-459a-cfb1-69011fc11998"
      },
      "execution_count": 15,
      "outputs": [
        {
          "output_type": "stream",
          "name": "stdout",
          "text": [
            "['python', 'powerful', 'programming', 'pandas']\n"
          ]
        }
      ]
    },
    {
      "cell_type": "markdown",
      "source": [
        "Task6_0507. 내장함수를 이용해서 list = [0,1,2,3,4,5,6]에서 2를 삭제 후 출력하세요.(2가지 방법)"
      ],
      "metadata": {
        "id": "wvF9gTQj0atI"
      }
    },
    {
      "cell_type": "code",
      "source": [
        "list = [0, 1, 2, 3, 4, 5, 6]\n",
        "# del list[list.index(2)]\n",
        "# print(list)\n",
        "list.remove(2)\n",
        "print(list)"
      ],
      "metadata": {
        "colab": {
          "base_uri": "https://localhost:8080/"
        },
        "id": "1Aze1Ug70bCO",
        "outputId": "d955aecf-2197-4a88-d4f2-fb603cefb6a6"
      },
      "execution_count": 7,
      "outputs": [
        {
          "output_type": "stream",
          "name": "stdout",
          "text": [
            "[0, 1, 3, 4, 5, 6]\n"
          ]
        }
      ]
    },
    {
      "cell_type": "markdown",
      "source": [
        "Task7_0507. 내장함수를 이용하여 동일한 개수로 이루어진 자료형을 화살표 좌측에서 우측으로 변환하세요.\n",
        "\n",
        "[1,2,3],[4,5,6] -> [(1,4),(2,5),(3,6)]\\\n",
        "[1,2,3],[4,5,6] [7,8,9] -> [(1,4,7),(2,5,8),(3,6,9)]\\\n",
        "('abc','def') -> [('a','d'),('b','e'),('c','f')]"
      ],
      "metadata": {
        "id": "QORSMfZs0zaC"
      }
    },
    {
      "cell_type": "code",
      "source": [],
      "metadata": {
        "id": "i-o6ZaTR00JX"
      },
      "execution_count": null,
      "outputs": []
    },
    {
      "cell_type": "markdown",
      "source": [
        "Task8_0507. url에서 호스트 도메인(news.naver.com)을 추출하여 출력하세요.\n",
        "\n",
        "url = 'http://news.naver.com/main/read.nhn?mode=LSD&mid=shm&sid1=105&oid=028&aid=0002334601'"
      ],
      "metadata": {
        "id": "gtSAN_wg34oW"
      }
    },
    {
      "cell_type": "code",
      "source": [],
      "metadata": {
        "id": "RvGUgsVr35cG"
      },
      "execution_count": null,
      "outputs": []
    }
  ]
}