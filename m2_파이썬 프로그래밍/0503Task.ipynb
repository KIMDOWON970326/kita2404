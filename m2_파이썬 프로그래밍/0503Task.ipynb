{
  "nbformat": 4,
  "nbformat_minor": 0,
  "metadata": {
    "colab": {
      "provenance": []
    },
    "kernelspec": {
      "name": "python3",
      "display_name": "Python 3"
    },
    "language_info": {
      "name": "python"
    }
  },
  "cells": [
    {
      "cell_type": "markdown",
      "source": [
        "Task1_0503. 여러개의 음식을 동시에 주문할 수 있는 주문 시스템을 작성하세요.(구조 지향)"
      ],
      "metadata": {
        "id": "8ekzA3RvD2Kz"
      }
    },
    {
      "cell_type": "code",
      "source": [
        "def display_menu():\n",
        "    print(\"\\nKITA 식당에 오신 것을 환영합니다\")\n",
        "    print(\"\\n\" + \"=\" * 40)\n",
        "    print(\"\\n          - 메  뉴 -\")\n",
        "    print(\"    1. 불고기 비빔밥 : 12,000원\")\n",
        "    print(\"    2. 야채 비빔밥 : 8,000원\")\n",
        "    print(\"    3. 전주 비빔밥 : 10,000원\")\n",
        "    print(\"\\n    세트 주문시 : 3,000원 추가\")\n",
        "    print(\"    (세트는 밥과 반찬이 추가됩니다.)\")\n",
        "    print(\"\\n\" + \"=\" * 40)\n",
        "\n",
        "\n",
        "def order():\n",
        "    # 메뉴별 가격을 설정한다.\n",
        "    prices = {1: 12000, 2: 8000, 3: 10000}\n",
        "\n",
        "    total_price = 0  # 주문 총 금액을 초기화한다.\n",
        "\n",
        "    while True:\n",
        "        # 사용자로부터 메뉴 선택을 받는다.\n",
        "        menu_choice = int(input(\"\\n주문할 음식 번호를 입력하세요 (종료: 0) >>> \"))\n",
        "        if menu_choice == 0:\n",
        "            break  # 사용자가 종료를 선택하면 주문 종료\n",
        "\n",
        "        # # 사용자로부터 수량을 입력받는다.\n",
        "        quantity = int(input(\"주문할 개수를 입력하세요 >>> \"))\n",
        "\n",
        "        # 사용자가 선택한 메뉴의 가격을 가져온다.\n",
        "        menu_price = prices.get(menu_choice, 0)\n",
        "\n",
        "        # 세트 주문 여부를 확인한다.\n",
        "        set_order = input(\"세트 주문을 하시겠습니까? 3,000원 추가. y, n >>> \").lower()\n",
        "        if set_order == 'y':\n",
        "            menu_price += 3000\n",
        "\n",
        "        total_price += menu_price * quantity  # 총 주문 금액에 선택한 메뉴의 가격을 추가한다.\n",
        "\n",
        "    return total_price\n",
        "\n",
        "\n",
        "def main():\n",
        "    while True:\n",
        "        display_menu()\n",
        "        total_order_price = order()\n",
        "\n",
        "        print(f\"총 주문 금액은 {total_order_price}원 입니다.\")\n",
        "\n",
        "        # 계속 주문하거나 종료 여부를 확인한다.\n",
        "        continue_ordering = input(\"\\n다시 주문하시겠습니까? (주문: enter, 종료: '종료' 입력) >>> \")\n",
        "        if continue_ordering == '종료':\n",
        "            break\n",
        "\n",
        "    print(\"\\n감사합니다! 다음에 또 방문해 주세요.\")\n",
        "\n",
        "\n",
        "if __name__ == \"__main__\":\n",
        "    main()"
      ],
      "metadata": {
        "colab": {
          "base_uri": "https://localhost:8080/"
        },
        "id": "YtEGr_09hAqc",
        "outputId": "d26e64d9-dfb3-4195-b67e-dbf34f05f0d2"
      },
      "execution_count": 20,
      "outputs": [
        {
          "output_type": "stream",
          "name": "stdout",
          "text": [
            "\n",
            "KITA 식당에 오신 것을 환영합니다\n",
            "\n",
            "========================================\n",
            "\n",
            "          - 메  뉴 -\n",
            "    1. 불고기 비빔밥 : 12,000원\n",
            "    2. 야채 비빔밥 : 8,000원\n",
            "    3. 전주 비빔밥 : 10,000원\n",
            "\n",
            "    세트 주문시 : 3,000원 추가\n",
            "    (세트는 밥과 반찬이 추가됩니다.)\n",
            "\n",
            "========================================\n",
            "\n",
            "주문할 음식 번호를 입력하세요 (종료: 0) >>> 3\n",
            "주문할 개수를 입력하세요 >>> 1\n",
            "세트 주문을 하시겠습니까? 3,000원 추가. y, n >>> y\n",
            "\n",
            "주문할 음식 번호를 입력하세요 (종료: 0) >>> 3\n",
            "주문할 개수를 입력하세요 >>> 2\n",
            "세트 주문을 하시겠습니까? 3,000원 추가. y, n >>> n\n",
            "\n",
            "주문할 음식 번호를 입력하세요 (종료: 0) >>> 0\n",
            "총 주문 금액은 33000원 입니다.\n",
            "\n",
            "다시 주문하시겠습니까? (주문: enter, 종료: '종료' 입력) >>> 종료\n",
            "\n",
            "감사합니다! 다음에 또 방문해 주세요.\n"
          ]
        }
      ]
    },
    {
      "cell_type": "markdown",
      "source": [
        "Task2_0503. 내장함수 5개를 활용해서 사용자 함수로 간단한 프로그램을 만드세요.\n",
        "\n",
        "[예시] 문서관리 프로그램\n",
        "\n",
        "len() - 문자열의 길이를 계산합니다.\\\n",
        "input() - 사용자로부터 입력을 받습니다.\\\n",
        "print() - 결과를 출력합니다.\\\n",
        "sum() - 주어진 조건에 따라 특정 개수를 계산합니다.\\\n",
        "Counter (from collections) - 문자의 빈도수를 계산합니다.\\"
      ],
      "metadata": {
        "id": "XOBSJlTeU52p"
      }
    },
    {
      "cell_type": "code",
      "source": [],
      "metadata": {
        "id": "hFqLJd-piYBl"
      },
      "execution_count": null,
      "outputs": []
    },
    {
      "cell_type": "markdown",
      "source": [
        "Task3_0503. 외장함수 3개 이상 활용해서 간단한 프로그램을 만드세요"
      ],
      "metadata": {
        "id": "w-kJn8PZXCEh"
      }
    },
    {
      "cell_type": "code",
      "source": [],
      "metadata": {
        "id": "fqzDybkXijsO"
      },
      "execution_count": null,
      "outputs": []
    },
    {
      "cell_type": "markdown",
      "source": [
        "Task4_0503. 리스트를 작성하고 람다 함수를 이용해서 한번에 함수를 적용하여 결과값을 출력하세요."
      ],
      "metadata": {
        "id": "QhVdQFH5XCkw"
      }
    },
    {
      "cell_type": "code",
      "source": [
        "# 예시\n",
        "numbers=[1,2,3,4,5]\n",
        "squared_numbers=map(lambda x : x*x,numbers)\n",
        "print(list(squared_numbers))"
      ],
      "metadata": {
        "colab": {
          "base_uri": "https://localhost:8080/"
        },
        "id": "7FahACFXXV9T",
        "outputId": "026ec6d4-9a6e-4b30-e960-890f4e0c523e"
      },
      "execution_count": 2,
      "outputs": [
        {
          "output_type": "stream",
          "name": "stdout",
          "text": [
            "[1, 4, 9, 16, 25]\n"
          ]
        }
      ]
    },
    {
      "cell_type": "code",
      "source": [
        "numbers = [1, 2, 3, 4, 5]\n",
        "multiply_numbers = map(lambda x: x % 2 == 0, numbers)\n",
        "print(list(multiply_numbers))"
      ],
      "metadata": {
        "colab": {
          "base_uri": "https://localhost:8080/"
        },
        "id": "7QRtgZKQaTE2",
        "outputId": "f3c8758c-60ae-4af5-b4ae-4ef6fafcf13c"
      },
      "execution_count": 12,
      "outputs": [
        {
          "output_type": "stream",
          "name": "stdout",
          "text": [
            "[False, True, False, True, False]\n"
          ]
        }
      ]
    },
    {
      "cell_type": "markdown",
      "source": [
        "Task5_0503. 외부 라리브러리를 임포트해서 간단한 프로그램을 만드세요.\\\n",
        "from bs4 import BeautifulSoup\\\n",
        "html_doc = \"<html><head><title>Hello World</title></head></html>\"\\\n",
        "soup = BeautifulSoup(html_doc, 'html.parser')\n",
        "print(soup.title.text)"
      ],
      "metadata": {
        "id": "fB1zBoCeXD89"
      }
    },
    {
      "cell_type": "code",
      "source": [],
      "metadata": {
        "id": "quzdFxmPVB8V"
      },
      "execution_count": null,
      "outputs": []
    }
  ]
}