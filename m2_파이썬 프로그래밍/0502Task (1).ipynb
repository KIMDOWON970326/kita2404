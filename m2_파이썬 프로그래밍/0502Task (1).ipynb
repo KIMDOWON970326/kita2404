{
  "nbformat": 4,
  "nbformat_minor": 0,
  "metadata": {
    "colab": {
      "provenance": []
    },
    "kernelspec": {
      "name": "python3",
      "display_name": "Python 3"
    },
    "language_info": {
      "name": "python"
    }
  },
  "cells": [
    {
      "cell_type": "markdown",
      "source": [
        "Task1_0502. 짝수와 짝수를 입력하면 곱한 값을 출력하고 홀수와 홀수를 입력하면 덧셈 값을 출력하고 그외는 다시 입력하라는 메시지를 출력하세요."
      ],
      "metadata": {
        "id": "LNc2N1Th7JsF"
      }
    },
    {
      "cell_type": "code",
      "execution_count": null,
      "metadata": {
        "colab": {
          "base_uri": "https://localhost:8080/"
        },
        "id": "lL3HyBcX7CJn",
        "outputId": "e9011cd4-c871-44b6-d1cd-b0596f4c2029"
      },
      "outputs": [
        {
          "output_type": "stream",
          "name": "stdout",
          "text": [
            "첫 번째 숫자를 입력하세요: 5\n",
            "두 번째 숫자를 입력하세요: 4\n",
            "입력 값이 올바르지 않습니다\n"
          ]
        }
      ],
      "source": [
        "x = int(input(\"첫 번째 숫자를 입력하세요: \"))\n",
        "y = int(input(\"두 번째 숫자를 입력하세요: \"))\n",
        "\n",
        "if x % 2==0 and y %2==0:\n",
        "  result=x*y\n",
        "  print(f\"{x}와 {y}의 곱은 {result}입니다\")\n",
        "elif x % 2==1 and y % 2 ==1:\n",
        "  result=x+y\n",
        "  print(f\"{x}와 {y}의 합은 {result}입니다\")\n",
        "else:\n",
        "  print(\"입력 값이 올바르지 않습니다\")"
      ]
    },
    {
      "cell_type": "markdown",
      "source": [
        "Task2_0502. 현재 계절 구분 프로그램\n",
        "- 시나리오 : 3 ~ 5월은 봄, 6 ~ 8월은 여름, 9 ~ 11월은 가을, 12 ~ 2월은 겨울로 구분. 지금 계절을 알려주는 프로그램\n",
        "- 각 계절별 출력 멘트는 계절에 맞게 창작\n",
        "- if 조건문으로 datetime 모듈을 import해서 datetime.now 함수를 사용해서 작성"
      ],
      "metadata": {
        "id": "NyjgRJQe7LjX"
      }
    },
    {
      "cell_type": "code",
      "source": [
        "from datetime import datetime\n",
        "spring=[3,4,5]\n",
        "summer=[6,7,8]\n",
        "autumn=[9,10,11]\n",
        "winter=[12,1,2]\n",
        "\n",
        "today = datetime.now()\n",
        "month = today.month\n",
        "if month in spring:\n",
        "  print(\"새싹이 돋아나는 봄이 왔습니다\")\n",
        "elif month in summer:\n",
        "  print(\"바캉스의 계절 여름이 왔습니다\")\n",
        "elif month in autumn:\n",
        "  print(\"독서의 계절 가을이 왔습니다\")\n",
        "else:\n",
        "  print(\"연말 연초의 겨울이 왔습니다\")"
      ],
      "metadata": {
        "id": "F_7WL-vH7Nc0",
        "colab": {
          "base_uri": "https://localhost:8080/"
        },
        "outputId": "44f628cb-cd06-4af9-8e6f-d2c4ae4dc9d6"
      },
      "execution_count": 3,
      "outputs": [
        {
          "output_type": "stream",
          "name": "stdout",
          "text": [
            "새싹이 돋아나는 봄이 왔습니다\n"
          ]
        }
      ]
    },
    {
      "cell_type": "code",
      "source": [
        "# import datetime\n",
        "# t=datetime.datetime.now()\n",
        "# if t.month <3 and t.month >= 5:\n",
        "#     print('봄')\n",
        "# elif t.month <6 and t.month >= 8:\n",
        "#     print('여름')\n",
        "# elif t.month <9 and t.month >= 11:\n",
        "#     print('가을')\n",
        "# else:\n",
        "#     print('겨울')"
      ],
      "metadata": {
        "colab": {
          "base_uri": "https://localhost:8080/"
        },
        "id": "mwvGthJG1Cyv",
        "outputId": "0df37a87-f188-4b6c-9824-c867b90c8c50"
      },
      "execution_count": 5,
      "outputs": [
        {
          "output_type": "stream",
          "name": "stdout",
          "text": [
            "겨울\n"
          ]
        }
      ]
    },
    {
      "cell_type": "code",
      "source": [
        "# month = int(input(\"현재 월을 입력하세요:\"))\n",
        "# # import datetime\n",
        "# # t=datetime.datetime.now()\n",
        "\n",
        "# if 3 <= month <= 5:\n",
        "#     print('봄')\n",
        "# elif 6 <= month <= 8:\n",
        "#     print('여름')\n",
        "# elif 9 <= month <= 11:\n",
        "#     print('가을')\n",
        "# else:\n",
        "#     print('겨울')"
      ],
      "metadata": {
        "colab": {
          "base_uri": "https://localhost:8080/"
        },
        "id": "g3PfMAvSMhZo",
        "outputId": "af53f433-658f-4905-fa23-736c32b85b8e"
      },
      "execution_count": 4,
      "outputs": [
        {
          "output_type": "stream",
          "name": "stdout",
          "text": [
            "현재 월을 입력하세요:5\n",
            "봄\n"
          ]
        }
      ]
    },
    {
      "cell_type": "markdown",
      "source": [
        "Task3_0502. 1부터 99까지 아래와 같이 2개의 수를 곱해서 가장 큰 수를 구하세요.\n",
        "\n",
        "1*99, 2*98 ...99*1"
      ],
      "metadata": {
        "id": "7zpxm-bn7Nsc"
      }
    },
    {
      "cell_type": "code",
      "source": [
        "max_value=0\n",
        "for i in range(1,100):\n",
        "  if max_value >= (i*(100-i)):\n",
        "    continue\n",
        "  else:\n",
        "    max_value=i*(100-i)\n",
        "print(max_value)"
      ],
      "metadata": {
        "id": "7SY8D-sy7PM7",
        "colab": {
          "base_uri": "https://localhost:8080/"
        },
        "outputId": "d7842c1e-b453-48c6-9eef-192ba7d2c68b"
      },
      "execution_count": 9,
      "outputs": [
        {
          "output_type": "stream",
          "name": "stdout",
          "text": [
            "2500\n"
          ]
        }
      ]
    },
    {
      "cell_type": "code",
      "source": [
        "n=1\n",
        "result=0\n",
        "while n <= 100:\n",
        "  a=n*(100-n)\n",
        "  if a > result:\n",
        "    result = a\n",
        "    n+=1\n",
        "  else:\n",
        "    n+=1\n",
        "    continue\n",
        "print(result)"
      ],
      "metadata": {
        "colab": {
          "base_uri": "https://localhost:8080/"
        },
        "id": "bN_m5hVK29HH",
        "outputId": "c917e8df-352c-4067-dc8d-4ec82fc14815"
      },
      "execution_count": 10,
      "outputs": [
        {
          "output_type": "stream",
          "name": "stdout",
          "text": [
            "2500\n"
          ]
        }
      ]
    },
    {
      "cell_type": "code",
      "source": [
        "# 입력값 없고 출력값만 있는 형태의 사용자 함수\n",
        "def findBiggestOne():\n",
        "  biggestNum=0\n",
        "  for i,j in zip(range(1,100),range(99,0,-1)):\n",
        "    if i*j > biggestNum:\n",
        "      biggestNum=i*j\n",
        "  return biggestNum\n",
        "print(findBiggestOne())"
      ],
      "metadata": {
        "colab": {
          "base_uri": "https://localhost:8080/"
        },
        "id": "ptvmMGFG30YX",
        "outputId": "01afe66d-2c82-4121-ddee-e749fb1a4008"
      },
      "execution_count": 14,
      "outputs": [
        {
          "output_type": "stream",
          "name": "stdout",
          "text": [
            "2500\n"
          ]
        }
      ]
    },
    {
      "cell_type": "code",
      "source": [
        "for i in range(99,0,-1):\n",
        "  print(i,end=' ')"
      ],
      "metadata": {
        "colab": {
          "base_uri": "https://localhost:8080/"
        },
        "id": "6I9Tp4vo_YP0",
        "outputId": "ebb1a515-3beb-43a1-c9f8-7584fe58c258"
      },
      "execution_count": 24,
      "outputs": [
        {
          "output_type": "stream",
          "name": "stdout",
          "text": [
            "99 98 97 96 95 94 93 92 91 90 89 88 87 86 85 84 83 82 81 80 79 78 77 76 75 74 73 72 71 70 69 68 67 66 65 64 63 62 61 60 59 58 57 56 55 54 53 52 51 50 49 48 47 46 45 44 43 42 41 40 39 38 37 36 35 34 33 32 31 30 29 28 27 26 25 24 23 22 21 20 19 18 17 16 15 14 13 12 11 10 9 8 7 6 5 4 3 2 1 "
          ]
        }
      ]
    },
    {
      "cell_type": "code",
      "source": [
        "numbers=[i for i in range(99,0,-1)]\n",
        "print(type(numbers))\n",
        "print(type(numbers[0]))\n",
        "print(numbers)"
      ],
      "metadata": {
        "colab": {
          "base_uri": "https://localhost:8080/"
        },
        "id": "PlxJT_c6_fn9",
        "outputId": "3e7d5705-efb9-41a1-eac1-3efd3657880e"
      },
      "execution_count": 30,
      "outputs": [
        {
          "output_type": "stream",
          "name": "stdout",
          "text": [
            "<class 'list'>\n",
            "<class 'int'>\n",
            "[99, 98, 97, 96, 95, 94, 93, 92, 91, 90, 89, 88, 87, 86, 85, 84, 83, 82, 81, 80, 79, 78, 77, 76, 75, 74, 73, 72, 71, 70, 69, 68, 67, 66, 65, 64, 63, 62, 61, 60, 59, 58, 57, 56, 55, 54, 53, 52, 51, 50, 49, 48, 47, 46, 45, 44, 43, 42, 41, 40, 39, 38, 37, 36, 35, 34, 33, 32, 31, 30, 29, 28, 27, 26, 25, 24, 23, 22, 21, 20, 19, 18, 17, 16, 15, 14, 13, 12, 11, 10, 9, 8, 7, 6, 5, 4, 3, 2, 1]\n"
          ]
        }
      ]
    },
    {
      "cell_type": "code",
      "source": [
        "# 문자로 된 리스트\n",
        "numbers=[str(i) for i in range(99,0,-1)]\n",
        "print(type(numbers))\n",
        "print(type(numbers[0]))"
      ],
      "metadata": {
        "colab": {
          "base_uri": "https://localhost:8080/"
        },
        "id": "1mrRq5pu_45a",
        "outputId": "5ec7b5fc-dfcc-4106-f74e-e0a59e284e45"
      },
      "execution_count": 36,
      "outputs": [
        {
          "output_type": "stream",
          "name": "stdout",
          "text": [
            "<class 'list'>\n",
            "<class 'str'>\n"
          ]
        }
      ]
    },
    {
      "cell_type": "markdown",
      "source": [
        "Task4_0502. [    ]을 채워서 아래의 출력과 같이 출력하세요.\\\n",
        "numbers = [1,2,3,4,5,6,7,8,9]\n",
        "output = [[], [], []]\n",
        "\n",
        "\n",
        "###[[1,4,7],[2,5,8],[3,6,9]]"
      ],
      "metadata": {
        "id": "NqWHZJdu7Pb9"
      }
    },
    {
      "cell_type": "code",
      "source": [
        "numbers = [1,2,3,4,5,6,7,8,9]\n",
        "output = [[], [], []]\n",
        "for num in numbers:\n",
        "  if num % 3==1:\n",
        "    output[0].append(num)\n",
        "  elif num % 3==2:\n",
        "    output[1].append(num)\n",
        "  else:\n",
        "    output[2].append(num)\n",
        "print(output)\n",
        "    # [[1,4,7],[2,5,8],[3,6,9]]"
      ],
      "metadata": {
        "id": "b8ki1qaS7TR_",
        "colab": {
          "base_uri": "https://localhost:8080/"
        },
        "outputId": "c8a6c247-eac0-4ba3-8655-2d0b055d6d3e"
      },
      "execution_count": 19,
      "outputs": [
        {
          "output_type": "stream",
          "name": "stdout",
          "text": [
            "[[1, 4, 7], [2, 5, 8], [3, 6, 9]]\n"
          ]
        }
      ]
    },
    {
      "cell_type": "code",
      "source": [
        "numbers = [1, 2, 3, 4, 5, 6, 7, 8, 9]\n",
        "output = [[], [], []]\n",
        "for number in numbers:\n",
        "  output[(number-1)%3].append(number)\n",
        "print(output)"
      ],
      "metadata": {
        "colab": {
          "base_uri": "https://localhost:8080/"
        },
        "id": "a8PiX57b79tj",
        "outputId": "60d8db00-5a0b-4e87-b02e-ede5ee2dd092"
      },
      "execution_count": 23,
      "outputs": [
        {
          "output_type": "stream",
          "name": "stdout",
          "text": [
            "[[1, 4, 7], [2, 5, 8], [3, 6, 9]]\n"
          ]
        }
      ]
    },
    {
      "cell_type": "code",
      "source": [
        "numbers = [1, 2, 3, 4, 5, 6, 7, 8, 9]\n",
        "output = [[], [], []]\n",
        "\n",
        "for i, num in enumerate(numbers):\n",
        "    index = i % 3\n",
        "    output[index].append(num)\n",
        "\n",
        "print(output)"
      ],
      "metadata": {
        "colab": {
          "base_uri": "https://localhost:8080/"
        },
        "id": "Ntpz3D2o7M8g",
        "outputId": "23accbe7-c7c3-4d51-ab99-f0757be1a295"
      },
      "execution_count": 21,
      "outputs": [
        {
          "output_type": "stream",
          "name": "stdout",
          "text": [
            "[[1, 4, 7], [2, 5, 8], [3, 6, 9]]\n"
          ]
        }
      ]
    },
    {
      "cell_type": "markdown",
      "source": [
        "Task5_0502. 주어진 리스트에서 중복된 요소를 제거하고, 남은 요소만을 포함하는 새 리스트를 반환합니다. 순서는 유지해야 합니다.\\\n",
        "input_list = [1, 2, 2, 3, 4, 4, 4, 5, 6, 7, 7]"
      ],
      "metadata": {
        "id": "lqPqWAkw7TlR"
      }
    },
    {
      "cell_type": "code",
      "source": [
        "input_list = [1, 2, 6, 2, 3, 7, 4, 4, 5, 6, 7, 7]\n",
        "# input_list = set([1, 2, 2, 3, 4, 4, 4, 5, 6, 7, 7])\n",
        "# a=list(input_list)\n",
        "# print(a)\n",
        "# new_list=[input_list[0]]\n",
        "# for i in input_list[1:]:\n",
        "#   if i != new_list[-1]:\n",
        "#     new_list.append(i)\n",
        "# print(new_list)\n",
        "def remove_duplicates(input_list):\n",
        "  num=set()\n",
        "  result=[]\n",
        "  for i in input_list:\n",
        "    if i not in num:\n",
        "      num.add(i)\n",
        "      result.append(i)\n",
        "  return result\n",
        "\n",
        "print(remove_duplicates(input_list))\n",
        "set(input_list)"
      ],
      "metadata": {
        "colab": {
          "base_uri": "https://localhost:8080/"
        },
        "id": "yrdeyolE7YRL",
        "outputId": "cc33da98-aea1-4ddd-8101-2e9ee21f246b"
      },
      "execution_count": 45,
      "outputs": [
        {
          "output_type": "stream",
          "name": "stdout",
          "text": [
            "[1, 2, 6, 3, 7, 4, 5]\n"
          ]
        },
        {
          "output_type": "execute_result",
          "data": {
            "text/plain": [
              "{1, 2, 3, 4, 5, 6, 7}"
            ]
          },
          "metadata": {},
          "execution_count": 45
        }
      ]
    },
    {
      "cell_type": "code",
      "source": [
        "input_list = [1, 2, 2, 3, 4, 4, 4, 5, 6, 7, 7]\n",
        "for i in input_list:\n",
        "  if input_list.count(i)>1:\n",
        "    input_list.remove(i)\n",
        "print(input_list)"
      ],
      "metadata": {
        "colab": {
          "base_uri": "https://localhost:8080/"
        },
        "id": "iDCChkhbAl1O",
        "outputId": "70168d63-3678-47e0-8f5f-2c44e1be99b0"
      },
      "execution_count": 37,
      "outputs": [
        {
          "output_type": "stream",
          "name": "stdout",
          "text": [
            "[1, 2, 3, 4, 5, 6, 7]\n"
          ]
        }
      ]
    },
    {
      "cell_type": "markdown",
      "source": [
        "Task6_0502. 주어진 문자열을 모스 코드로 변환하는 함수를 작성하세요 공백은 무시하고 알파벳만 변환하세요.\\\n",
        "input_text=\"Hello World\""
      ],
      "metadata": {
        "id": "ryTolItH7lnp"
      }
    },
    {
      "cell_type": "code",
      "source": [
        "morse_code = {\n",
        "        'A': '.-', 'B': '-...', 'C': '-.-.', 'D': '-..', 'E': '.', 'F': '..-.',\n",
        "        'G': '--.', 'H': '....', 'I': '..', 'J': '.---', 'K': '-.-', 'L': '.-..',\n",
        "        'M': '--', 'N': '-.', 'O': '---', 'P': '.--.', 'Q': '--.-', 'R': '.-.',\n",
        "        'S': '...', 'T': '-', 'U': '..-', 'V': '...-', 'W': '.--', 'X': '-..-',\n",
        "        'Y': '-.--', 'Z': '--..'\n",
        "    }\n",
        "input_text=\"Hello World\"\n",
        "result=\"\"\n",
        "for char in input_text:\n",
        "  if char.upper() in morse_code:\n",
        "    result += morse_code[char.upper()]\n",
        "print(result)"
      ],
      "metadata": {
        "id": "V1U6PLE17kyV",
        "colab": {
          "base_uri": "https://localhost:8080/"
        },
        "outputId": "bba4e2ea-31fd-47c7-da4d-3e0b77ad2af9"
      },
      "execution_count": 40,
      "outputs": [
        {
          "output_type": "stream",
          "name": "stdout",
          "text": [
            "......-...-..---.-----.-..-..-..\n"
          ]
        }
      ]
    },
    {
      "cell_type": "markdown",
      "source": [
        "Task7_0502. 주어진 비대칭 m×n 매트릭스(2차원 리스트)에서, 모든 대각선 상의 합을 계산하는 함수를 작성하세요. 결과는 각 대각선의 합을 리스트로 반환해야 합니다."
      ],
      "metadata": {
        "id": "oR0mskcr72Re"
      }
    },
    {
      "cell_type": "markdown",
      "source": [
        "###[ 대각선 수 구하기 ]\n",
        "\n",
        "4행 3열에서\n",
        "첫 번째 행은 3개의 대각선에 각각 기여합니다.\n",
        "첫 번째 열은 4개의 대각선에 각각 기여합니다.\n",
        "하지만 가장 왼쪽 상단의 원소가 두 방향에서 모두 카운트되므로, 총 대각선 수는 3 + 4 − 1 = 6개가 됩니다.\n",
        "\n",
        "###[ 대각선 합 구하기 ]\n",
        "\n",
        "a b c\\\n",
        "d e f\\\n",
        "g h i\\\n",
        "j k l\n",
        "\n",
        "대각선 0: a\\\n",
        "대각선 1: b + d\\\n",
        "대각선 2: c + e + g\\\n",
        "대각선 3: f + h + j\\\n",
        "대각선 4: i + k\\\n",
        "대각선 5: l"
      ],
      "metadata": {
        "id": "FtVVJlvldvbW"
      }
    },
    {
      "cell_type": "code",
      "source": [
        "input_matrix = [\n",
        "    [1, 2, 3],\n",
        "    [4, 5, 6],\n",
        "    [7, 8, 9],\n",
        "    [10, 11, 12]\n",
        "]\n",
        "print(len(input_matrix))\n",
        "print(len(input_matrix[0]))\n",
        "\n",
        "for i in range(len(input_matrix)):\n",
        "  for j in range(len(input_matrix)):\n",
        "    print('*',end=' ')\n",
        "  print()\n",
        "\n",
        "# # 대각선 합 구하기\n",
        "# a b c\n",
        "# d e f\n",
        "# g h i\n",
        "# j k l\n",
        "\n",
        "# 대각선 0: a\n",
        "# 대각선 1: b + d\n",
        "# 대각선 2: c + e + g\n",
        "# 대각선 3: f + h + j\n",
        "# 대각선 4: i + k\n",
        "# 대각선 5: l"
      ],
      "metadata": {
        "id": "S7PQE9E476wv",
        "colab": {
          "base_uri": "https://localhost:8080/"
        },
        "outputId": "0ab81a91-07fe-4c1b-b237-f2b239738254"
      },
      "execution_count": 60,
      "outputs": [
        {
          "output_type": "stream",
          "name": "stdout",
          "text": [
            "4\n",
            "3\n",
            "* * * * \n",
            "* * * * \n",
            "* * * * \n",
            "* * * * \n"
          ]
        }
      ]
    },
    {
      "cell_type": "code",
      "source": [
        "def diagonal_sums(matrix):\n",
        "    if not matrix:\n",
        "        return []\n",
        "    m, n = len(matrix), len(matrix[0])\n",
        "    # 최대 가능한 대각선 수는 m + n - 1\n",
        "    print(m,n)\n",
        "    max_diagonals = m + n - 1\n",
        "    result = [0] * max_diagonals\n",
        "\n",
        "    # 모든 원소를 순회하면서 해당 대각선 인덱스에 값을 더함\n",
        "    for i in range(m):\n",
        "        for j in range(n):\n",
        "            # 대각선 인덱스는 행 인덱스와 열 인덱스의 차의 절댓값\n",
        "            diagonal_index = i + j\n",
        "            result[diagonal_index] += matrix[i][j]\n",
        "\n",
        "    return result\n",
        "\n",
        "# 매트릭스 입력\n",
        "input_matrix = [\n",
        "    [1, 2, 3],\n",
        "    [4, 5, 6],\n",
        "    [7, 8, 9],\n",
        "    [10, 11, 12]\n",
        "]\n",
        "\n",
        "# 대각선 합 결과 출력\n",
        "print(diagonal_sums(input_matrix))\n",
        "\n"
      ],
      "metadata": {
        "id": "8G_DkutK79dk",
        "colab": {
          "base_uri": "https://localhost:8080/"
        },
        "outputId": "9591b869-8179-4f4f-cb65-edb194432964"
      },
      "execution_count": 61,
      "outputs": [
        {
          "output_type": "stream",
          "name": "stdout",
          "text": [
            "4 3\n",
            "[1, 6, 15, 24, 20, 12]\n"
          ]
        }
      ]
    },
    {
      "cell_type": "code",
      "source": [
        "# 예시\n",
        "'''\n",
        "KITA 식당에 오신 것을 환영합니다\n",
        "\n",
        "========================================\n",
        "\n",
        "          - 메  뉴 -\n",
        "    1. 불고기 비빔밥 : 12,000원\n",
        "    2. 야채 비빔밥 : 8,000원\n",
        "    3. 전주 비빔밥 : 10,000원\n",
        "\n",
        "    세트 주문시 : 3000원 추가\n",
        "    (세트는 밥과 반찬이 추가됩니다.)\n",
        "\n",
        "========================================\n",
        "\n",
        "비빔밥 메뉴를 선택해 주세요. 1, 2, 3 >>> 2\n",
        "세트 주문을 하시겠습니까? 3,000원 추가. y, n >>> y\n",
        "총 금액은 11000원 입니다.\n",
        "'''\n",
        "\n",
        "while True:\n",
        "  menu=int(input('메뉴를 선택해주세요1/2/3>>>>'))\n",
        "  setmenu=input('세트를 선택해주세요 y/n>>>>')\n",
        "\n",
        "\n",
        "  if menu == 1:\n",
        "    mprice=12000\n",
        "  elif menu == 2:\n",
        "    mprice=8000\n",
        "  elif menu == 3:\n",
        "    mprice=10000\n",
        "  else:\n",
        "    print(\"다시 주문해주세요\")\n",
        "\n",
        "  sprice=0\n",
        "  if setmenu == 'y':\n",
        "    sprice=3000\n",
        "  else:\n",
        "    print(\"다시 주문해주세요\")\n",
        "\n",
        "  price=mprice+sprice\n",
        "\n",
        "  print(f\"총금액은 {price}입니다\")\n",
        "\n",
        "\n"
      ],
      "metadata": {
        "colab": {
          "base_uri": "https://localhost:8080/",
          "height": 445
        },
        "id": "4JwQOEvtP7fA",
        "outputId": "953a69b0-ba2f-477f-db8c-a288f5eda13f"
      },
      "execution_count": 14,
      "outputs": [
        {
          "output_type": "stream",
          "name": "stdout",
          "text": [
            "메뉴를 선택해주세요1/2/3>>>>3\n",
            "세트를 선택해주세요 y/n>>>>y\n",
            "총금액은 13000입니다\n"
          ]
        },
        {
          "output_type": "error",
          "ename": "KeyboardInterrupt",
          "evalue": "Interrupted by user",
          "traceback": [
            "\u001b[0;31m---------------------------------------------------------------------------\u001b[0m",
            "\u001b[0;31mKeyboardInterrupt\u001b[0m                         Traceback (most recent call last)",
            "\u001b[0;32m<ipython-input-14-e56287cac0d7>\u001b[0m in \u001b[0;36m<cell line: 22>\u001b[0;34m()\u001b[0m\n\u001b[1;32m     21\u001b[0m \u001b[0;34m\u001b[0m\u001b[0m\n\u001b[1;32m     22\u001b[0m \u001b[0;32mwhile\u001b[0m \u001b[0;32mTrue\u001b[0m\u001b[0;34m:\u001b[0m\u001b[0;34m\u001b[0m\u001b[0;34m\u001b[0m\u001b[0m\n\u001b[0;32m---> 23\u001b[0;31m   \u001b[0mmenu\u001b[0m\u001b[0;34m=\u001b[0m\u001b[0mint\u001b[0m\u001b[0;34m(\u001b[0m\u001b[0minput\u001b[0m\u001b[0;34m(\u001b[0m\u001b[0;34m'메뉴를 선택해주세요1/2/3>>>>'\u001b[0m\u001b[0;34m)\u001b[0m\u001b[0;34m)\u001b[0m\u001b[0;34m\u001b[0m\u001b[0;34m\u001b[0m\u001b[0m\n\u001b[0m\u001b[1;32m     24\u001b[0m   \u001b[0msetmenu\u001b[0m\u001b[0;34m=\u001b[0m\u001b[0minput\u001b[0m\u001b[0;34m(\u001b[0m\u001b[0;34m'세트를 선택해주세요 y/n>>>>'\u001b[0m\u001b[0;34m)\u001b[0m\u001b[0;34m\u001b[0m\u001b[0;34m\u001b[0m\u001b[0m\n\u001b[1;32m     25\u001b[0m \u001b[0;34m\u001b[0m\u001b[0m\n",
            "\u001b[0;32m/usr/local/lib/python3.10/dist-packages/ipykernel/kernelbase.py\u001b[0m in \u001b[0;36mraw_input\u001b[0;34m(self, prompt)\u001b[0m\n\u001b[1;32m    849\u001b[0m                 \u001b[0;34m\"raw_input was called, but this frontend does not support input requests.\"\u001b[0m\u001b[0;34m\u001b[0m\u001b[0;34m\u001b[0m\u001b[0m\n\u001b[1;32m    850\u001b[0m             )\n\u001b[0;32m--> 851\u001b[0;31m         return self._input_request(str(prompt),\n\u001b[0m\u001b[1;32m    852\u001b[0m             \u001b[0mself\u001b[0m\u001b[0;34m.\u001b[0m\u001b[0m_parent_ident\u001b[0m\u001b[0;34m,\u001b[0m\u001b[0;34m\u001b[0m\u001b[0;34m\u001b[0m\u001b[0m\n\u001b[1;32m    853\u001b[0m             \u001b[0mself\u001b[0m\u001b[0;34m.\u001b[0m\u001b[0m_parent_header\u001b[0m\u001b[0;34m,\u001b[0m\u001b[0;34m\u001b[0m\u001b[0;34m\u001b[0m\u001b[0m\n",
            "\u001b[0;32m/usr/local/lib/python3.10/dist-packages/ipykernel/kernelbase.py\u001b[0m in \u001b[0;36m_input_request\u001b[0;34m(self, prompt, ident, parent, password)\u001b[0m\n\u001b[1;32m    893\u001b[0m             \u001b[0;32mexcept\u001b[0m \u001b[0mKeyboardInterrupt\u001b[0m\u001b[0;34m:\u001b[0m\u001b[0;34m\u001b[0m\u001b[0;34m\u001b[0m\u001b[0m\n\u001b[1;32m    894\u001b[0m                 \u001b[0;31m# re-raise KeyboardInterrupt, to truncate traceback\u001b[0m\u001b[0;34m\u001b[0m\u001b[0;34m\u001b[0m\u001b[0m\n\u001b[0;32m--> 895\u001b[0;31m                 \u001b[0;32mraise\u001b[0m \u001b[0mKeyboardInterrupt\u001b[0m\u001b[0;34m(\u001b[0m\u001b[0;34m\"Interrupted by user\"\u001b[0m\u001b[0;34m)\u001b[0m \u001b[0;32mfrom\u001b[0m \u001b[0;32mNone\u001b[0m\u001b[0;34m\u001b[0m\u001b[0;34m\u001b[0m\u001b[0m\n\u001b[0m\u001b[1;32m    896\u001b[0m             \u001b[0;32mexcept\u001b[0m \u001b[0mException\u001b[0m \u001b[0;32mas\u001b[0m \u001b[0me\u001b[0m\u001b[0;34m:\u001b[0m\u001b[0;34m\u001b[0m\u001b[0;34m\u001b[0m\u001b[0m\n\u001b[1;32m    897\u001b[0m                 \u001b[0mself\u001b[0m\u001b[0;34m.\u001b[0m\u001b[0mlog\u001b[0m\u001b[0;34m.\u001b[0m\u001b[0mwarning\u001b[0m\u001b[0;34m(\u001b[0m\u001b[0;34m\"Invalid Message:\"\u001b[0m\u001b[0;34m,\u001b[0m \u001b[0mexc_info\u001b[0m\u001b[0;34m=\u001b[0m\u001b[0;32mTrue\u001b[0m\u001b[0;34m)\u001b[0m\u001b[0;34m\u001b[0m\u001b[0;34m\u001b[0m\u001b[0m\n",
            "\u001b[0;31mKeyboardInterrupt\u001b[0m: Interrupted by user"
          ]
        }
      ]
    },
    {
      "cell_type": "code",
      "source": [
        "def main():\n",
        "    print(\"KITA 식당에 오신 것을 환영합니다\")\n",
        "    print(\"\\n\" + \"=\" * 40)\n",
        "    print(\"\\n          - 메  뉴 -\")\n",
        "    print(\"    1. 불고기 비빔밥 : 12,000원\")\n",
        "    print(\"    2. 야채 비빔밥 : 8,000원\")\n",
        "    print(\"    3. 전주 비빔밥 : 10,000원\")\n",
        "    print(\"\\n    세트 주문시 : 3,000원 추가\")\n",
        "    print(\"    (세트는 밥과 반찬이 추가됩니다.)\")\n",
        "    print(\"\\n\" + \"=\" * 40)\n",
        "\n",
        "    # 사용자로부터 메뉴 선택을 받는다.\n",
        "    menu_choice = int(input(\"\\n비빔밥 메뉴를 선택해 주세요. 1, 2, 3 >>> \"))\n",
        "\n",
        "    # 메뉴별 가격을 설정한다.\n",
        "    prices = {1: 12000, 2: 8000, 3: 10000}\n",
        "\n",
        "    # 사용자가 선택한 메뉴의 가격을 가져온다.\n",
        "    total_price = prices.get(menu_choice, 0)\n",
        "\n",
        "    # 세트 주문 여부를 확인한다.\n",
        "    set_order = input(\"세트 주문을 하시겠습니까? 3,000원 추가. y, n >>> \").lower()\n",
        "    if set_order == 'y':\n",
        "        total_price += 3000\n",
        "\n",
        "    print(f\"총 금액은 {total_price}원 입니다.\")\n",
        "\n",
        "if __name__ == \"__main__\":\n",
        "    main()"
      ],
      "metadata": {
        "colab": {
          "base_uri": "https://localhost:8080/"
        },
        "id": "QHye1oTjQbq0",
        "outputId": "959aaa83-22b7-4ab0-8496-641944b5fcda"
      },
      "execution_count": 21,
      "outputs": [
        {
          "output_type": "stream",
          "name": "stdout",
          "text": [
            "KITA 식당에 오신 것을 환영합니다\n",
            "\n",
            "========================================\n",
            "\n",
            "          - 메  뉴 -\n",
            "    1. 불고기 비빔밥 : 12,000원\n",
            "    2. 야채 비빔밥 : 8,000원\n",
            "    3. 전주 비빔밥 : 10,000원\n",
            "\n",
            "    세트 주문시 : 3,000원 추가\n",
            "    (세트는 밥과 반찬이 추가됩니다.)\n",
            "\n",
            "========================================\n",
            "\n",
            "비빔밥 메뉴를 선택해 주세요. 1, 2, 3 >>> 3\n",
            "세트 주문을 하시겠습니까? 3,000원 추가. y, n >>> n\n",
            "총 금액은 10000원 입니다.\n"
          ]
        }
      ]
    },
    {
      "cell_type": "code",
      "source": [
        "def display_menu():\n",
        "    print(\"\\nKITA 식당에 오신 것을 환영합니다\")\n",
        "    print(\"\\n\" + \"=\" * 40)\n",
        "    print(\"\\n          - 메  뉴 -\")\n",
        "    print(\"    1. 불고기 비빔밥 : 12,000원\")\n",
        "    print(\"    2. 야채 비빔밥 : 8,000원\")\n",
        "    print(\"    3. 전주 비빔밥 : 10,000원\")\n",
        "    print(\"\\n    세트 주문시 : 3,000원 추가\")\n",
        "    print(\"    (세트는 밥과 반찬이 추가됩니다.)\")\n",
        "    print(\"\\n\" + \"=\" * 40)\n",
        "\n",
        "\n",
        "def order():\n",
        "    # 메뉴별 가격을 설정한다.\n",
        "    prices = {1: 12000, 2: 8000, 3: 10000}\n",
        "\n",
        "    # 사용자로부터 메뉴 선택을 받는다.\n",
        "    menu_choice = int(input(\"\\n비빔밥 메뉴를 선택해 주세요. 1, 2, 3 >>> \"))\n",
        "\n",
        "    # 사용자가 선택한 메뉴의 가격을 가져온다.\n",
        "    total_price = prices.get(menu_choice, 0)\n",
        "\n",
        "    # 세트 주문 여부를 확인한다.\n",
        "    set_order = input(\"세트 주문을 하시겠습니까? 3,000원 추가. y, n >>> \").lower()\n",
        "    if set_order == 'y':\n",
        "        total_price += 3000\n",
        "\n",
        "    print(f\"총 금액은 {total_price}원 입니다.\")\n",
        "\n",
        "\n",
        "def main():\n",
        "    while True:\n",
        "        display_menu()\n",
        "        order()\n",
        "\n",
        "        # 계속 주문하거나 종료 여부를 확인한다.\n",
        "        continue_ordering = input(\"\\n다시 주문하시겠습니까? (주문: enter, 종료: '종료' 입력) >>> \")\n",
        "        if continue_ordering == '종료':\n",
        "            break\n",
        "\n",
        "    print(\"\\n감사합니다! 다음에 또 방문해 주세요.\")\n",
        "\n",
        "\n",
        "if __name__ == \"__main__\":\n",
        "    main()"
      ],
      "metadata": {
        "colab": {
          "base_uri": "https://localhost:8080/"
        },
        "id": "8ZGxBbE9gouU",
        "outputId": "3198545b-e90c-4896-eb15-693721dd82c7"
      },
      "execution_count": 27,
      "outputs": [
        {
          "output_type": "stream",
          "name": "stdout",
          "text": [
            "\n",
            "KITA 식당에 오신 것을 환영합니다\n",
            "\n",
            "========================================\n",
            "\n",
            "          - 메  뉴 -\n",
            "    1. 불고기 비빔밥 : 12,000원\n",
            "    2. 야채 비빔밥 : 8,000원\n",
            "    3. 전주 비빔밥 : 10,000원\n",
            "\n",
            "    세트 주문시 : 3,000원 추가\n",
            "    (세트는 밥과 반찬이 추가됩니다.)\n",
            "\n",
            "========================================\n",
            "\n",
            "비빔밥 메뉴를 선택해 주세요. 1, 2, 3 >>> 3\n",
            "세트 주문을 하시겠습니까? 3,000원 추가. y, n >>> y\n",
            "총 금액은 13000원 입니다.\n",
            "\n",
            "다시 주문하시겠습니까? (주문: enter, 종료: '종료' 입력) >>> 종료\n",
            "\n",
            "감사합니다! 다음에 또 방문해 주세요.\n"
          ]
        }
      ]
    },
    {
      "cell_type": "markdown",
      "source": [
        "### Q.여러개의 음식을 동시에 주문할 수 있는 주문 시스템을 작성하세요.(구조 지향)"
      ],
      "metadata": {
        "id": "0LQ0DVZx6qUI"
      }
    },
    {
      "cell_type": "code",
      "source": [
        "def display_menu():\n",
        "    print(\"\\nKITA 식당에 오신 것을 환영합니다\")\n",
        "    print(\"\\n\" + \"=\" * 40)\n",
        "    print(\"\\n          - 메  뉴 -\")\n",
        "    print(\"    1. 불고기 비빔밥 : 12,000원\")\n",
        "    print(\"    2. 야채 비빔밥 : 8,000원\")\n",
        "    print(\"    3. 전주 비빔밥 : 10,000원\")\n",
        "    print(\"\\n    세트 주문시 : 3,000원 추가\")\n",
        "    print(\"    (세트는 밥과 반찬이 추가됩니다.)\")\n",
        "    print(\"\\n\" + \"=\" * 40)\n",
        "\n",
        "\n",
        "def order():\n",
        "    # 메뉴별 가격을 설정한다.\n",
        "    prices = {1: 12000, 2: 8000, 3: 10000}\n",
        "\n",
        "    total_price = 0  # 주문 총 금액을 초기화한다.\n",
        "\n",
        "    while True:\n",
        "        # 사용자로부터 메뉴 선택을 받는다.\n",
        "        menu_choice = int(input(\"\\n비빔밥 메뉴를 선택해 주세요. 1, 2, 3 (종료: 0) >>> \"))\n",
        "\n",
        "        if menu_choice == 0:\n",
        "            break  # 사용자가 종료를 선택하면 주문 종료\n",
        "\n",
        "        # 사용자가 선택한 메뉴의 가격을 가져온다.\n",
        "        menu_price = prices.get(menu_choice, 0)\n",
        "\n",
        "        # 세트 주문 여부를 확인한다.\n",
        "        set_order = input(\"세트 주문을 하시겠습니까? 3,000원 추가. y, n >>> \").lower()\n",
        "        if set_order == 'y':\n",
        "            menu_price += 3000\n",
        "\n",
        "        total_price += menu_price  # 총 주문 금액에 선택한 메뉴의 가격을 추가한다.\n",
        "\n",
        "    return total_price\n",
        "\n",
        "\n",
        "def main():\n",
        "    while True:\n",
        "        display_menu()\n",
        "        total_order_price = order()\n",
        "\n",
        "        print(f\"총 주문 금액은 {total_order_price}원 입니다.\")\n",
        "\n",
        "        # 계속 주문하거나 종료 여부를 확인한다.\n",
        "        continue_ordering = input(\"\\n다시 주문하시겠습니까? (주문: enter, 종료: '종료' 입력) >>> \")\n",
        "        if continue_ordering == '종료':\n",
        "            break\n",
        "\n",
        "    print(\"\\n감사합니다! 다음에 또 방문해 주세요.\")\n",
        "\n",
        "\n",
        "if __name__ == \"__main__\":\n",
        "    main()"
      ],
      "metadata": {
        "colab": {
          "base_uri": "https://localhost:8080/",
          "height": 1000
        },
        "id": "JhaqAmdZ7bxW",
        "outputId": "9ebe3df1-eac5-4bb1-d3ea-07cbcac0529d"
      },
      "execution_count": 34,
      "outputs": [
        {
          "output_type": "stream",
          "name": "stdout",
          "text": [
            "\n",
            "KITA 식당에 오신 것을 환영합니다\n",
            "\n",
            "========================================\n",
            "\n",
            "          - 메  뉴 -\n",
            "    1. 불고기 비빔밥 : 12,000원\n",
            "    2. 야채 비빔밥 : 8,000원\n",
            "    3. 전주 비빔밥 : 10,000원\n",
            "\n",
            "    세트 주문시 : 3,000원 추가\n",
            "    (세트는 밥과 반찬이 추가됩니다.)\n",
            "\n",
            "========================================\n",
            "\n",
            "비빔밥 메뉴를 선택해 주세요. 1, 2, 3 (종료: 0) >>> 3\n",
            "세트 주문을 하시겠습니까? 3,000원 추가. y, n >>> 0\n",
            "\n",
            "비빔밥 메뉴를 선택해 주세요. 1, 2, 3 (종료: 0) >>> 0\n",
            "총 주문 금액은 10000원 입니다.\n",
            "\n",
            "다시 주문하시겠습니까? (주문: enter, 종료: '종료' 입력) >>> 3\n",
            "\n",
            "KITA 식당에 오신 것을 환영합니다\n",
            "\n",
            "========================================\n",
            "\n",
            "          - 메  뉴 -\n",
            "    1. 불고기 비빔밥 : 12,000원\n",
            "    2. 야채 비빔밥 : 8,000원\n",
            "    3. 전주 비빔밥 : 10,000원\n",
            "\n",
            "    세트 주문시 : 3,000원 추가\n",
            "    (세트는 밥과 반찬이 추가됩니다.)\n",
            "\n",
            "========================================\n",
            "\n",
            "비빔밥 메뉴를 선택해 주세요. 1, 2, 3 (종료: 0) >>> 3\n",
            "세트 주문을 하시겠습니까? 3,000원 추가. y, n >>> ㅛ\n",
            "\n",
            "비빔밥 메뉴를 선택해 주세요. 1, 2, 3 (종료: 0) >>> 3\n",
            "세트 주문을 하시겠습니까? 3,000원 추가. y, n >>> y\n",
            "\n",
            "비빔밥 메뉴를 선택해 주세요. 1, 2, 3 (종료: 0) >>> 2\n",
            "세트 주문을 하시겠습니까? 3,000원 추가. y, n >>> y\n",
            "\n",
            "비빔밥 메뉴를 선택해 주세요. 1, 2, 3 (종료: 0) >>> 0\n",
            "총 주문 금액은 34000원 입니다.\n"
          ]
        },
        {
          "output_type": "error",
          "ename": "KeyboardInterrupt",
          "evalue": "Interrupted by user",
          "traceback": [
            "\u001b[0;31m---------------------------------------------------------------------------\u001b[0m",
            "\u001b[0;31mKeyboardInterrupt\u001b[0m                         Traceback (most recent call last)",
            "\u001b[0;32m<ipython-input-34-9d526a2bb4c9>\u001b[0m in \u001b[0;36m<cell line: 54>\u001b[0;34m()\u001b[0m\n\u001b[1;32m     53\u001b[0m \u001b[0;34m\u001b[0m\u001b[0m\n\u001b[1;32m     54\u001b[0m \u001b[0;32mif\u001b[0m \u001b[0m__name__\u001b[0m \u001b[0;34m==\u001b[0m \u001b[0;34m\"__main__\"\u001b[0m\u001b[0;34m:\u001b[0m\u001b[0;34m\u001b[0m\u001b[0;34m\u001b[0m\u001b[0m\n\u001b[0;32m---> 55\u001b[0;31m     \u001b[0mmain\u001b[0m\u001b[0;34m(\u001b[0m\u001b[0;34m)\u001b[0m\u001b[0;34m\u001b[0m\u001b[0;34m\u001b[0m\u001b[0m\n\u001b[0m",
            "\u001b[0;32m<ipython-input-34-9d526a2bb4c9>\u001b[0m in \u001b[0;36mmain\u001b[0;34m()\u001b[0m\n\u001b[1;32m     45\u001b[0m \u001b[0;34m\u001b[0m\u001b[0m\n\u001b[1;32m     46\u001b[0m         \u001b[0;31m# 계속 주문하거나 종료 여부를 확인한다.\u001b[0m\u001b[0;34m\u001b[0m\u001b[0;34m\u001b[0m\u001b[0m\n\u001b[0;32m---> 47\u001b[0;31m         \u001b[0mcontinue_ordering\u001b[0m \u001b[0;34m=\u001b[0m \u001b[0minput\u001b[0m\u001b[0;34m(\u001b[0m\u001b[0;34m\"\\n다시 주문하시겠습니까? (주문: enter, 종료: '종료' 입력) >>> \"\u001b[0m\u001b[0;34m)\u001b[0m\u001b[0;34m\u001b[0m\u001b[0;34m\u001b[0m\u001b[0m\n\u001b[0m\u001b[1;32m     48\u001b[0m         \u001b[0;32mif\u001b[0m \u001b[0mcontinue_ordering\u001b[0m \u001b[0;34m==\u001b[0m \u001b[0;34m'종료'\u001b[0m\u001b[0;34m:\u001b[0m\u001b[0;34m\u001b[0m\u001b[0;34m\u001b[0m\u001b[0m\n\u001b[1;32m     49\u001b[0m             \u001b[0;32mbreak\u001b[0m\u001b[0;34m\u001b[0m\u001b[0;34m\u001b[0m\u001b[0m\n",
            "\u001b[0;32m/usr/local/lib/python3.10/dist-packages/ipykernel/kernelbase.py\u001b[0m in \u001b[0;36mraw_input\u001b[0;34m(self, prompt)\u001b[0m\n\u001b[1;32m    849\u001b[0m                 \u001b[0;34m\"raw_input was called, but this frontend does not support input requests.\"\u001b[0m\u001b[0;34m\u001b[0m\u001b[0;34m\u001b[0m\u001b[0m\n\u001b[1;32m    850\u001b[0m             )\n\u001b[0;32m--> 851\u001b[0;31m         return self._input_request(str(prompt),\n\u001b[0m\u001b[1;32m    852\u001b[0m             \u001b[0mself\u001b[0m\u001b[0;34m.\u001b[0m\u001b[0m_parent_ident\u001b[0m\u001b[0;34m,\u001b[0m\u001b[0;34m\u001b[0m\u001b[0;34m\u001b[0m\u001b[0m\n\u001b[1;32m    853\u001b[0m             \u001b[0mself\u001b[0m\u001b[0;34m.\u001b[0m\u001b[0m_parent_header\u001b[0m\u001b[0;34m,\u001b[0m\u001b[0;34m\u001b[0m\u001b[0;34m\u001b[0m\u001b[0m\n",
            "\u001b[0;32m/usr/local/lib/python3.10/dist-packages/ipykernel/kernelbase.py\u001b[0m in \u001b[0;36m_input_request\u001b[0;34m(self, prompt, ident, parent, password)\u001b[0m\n\u001b[1;32m    893\u001b[0m             \u001b[0;32mexcept\u001b[0m \u001b[0mKeyboardInterrupt\u001b[0m\u001b[0;34m:\u001b[0m\u001b[0;34m\u001b[0m\u001b[0;34m\u001b[0m\u001b[0m\n\u001b[1;32m    894\u001b[0m                 \u001b[0;31m# re-raise KeyboardInterrupt, to truncate traceback\u001b[0m\u001b[0;34m\u001b[0m\u001b[0;34m\u001b[0m\u001b[0m\n\u001b[0;32m--> 895\u001b[0;31m                 \u001b[0;32mraise\u001b[0m \u001b[0mKeyboardInterrupt\u001b[0m\u001b[0;34m(\u001b[0m\u001b[0;34m\"Interrupted by user\"\u001b[0m\u001b[0;34m)\u001b[0m \u001b[0;32mfrom\u001b[0m \u001b[0;32mNone\u001b[0m\u001b[0;34m\u001b[0m\u001b[0;34m\u001b[0m\u001b[0m\n\u001b[0m\u001b[1;32m    896\u001b[0m             \u001b[0;32mexcept\u001b[0m \u001b[0mException\u001b[0m \u001b[0;32mas\u001b[0m \u001b[0me\u001b[0m\u001b[0;34m:\u001b[0m\u001b[0;34m\u001b[0m\u001b[0;34m\u001b[0m\u001b[0m\n\u001b[1;32m    897\u001b[0m                 \u001b[0mself\u001b[0m\u001b[0;34m.\u001b[0m\u001b[0mlog\u001b[0m\u001b[0;34m.\u001b[0m\u001b[0mwarning\u001b[0m\u001b[0;34m(\u001b[0m\u001b[0;34m\"Invalid Message:\"\u001b[0m\u001b[0;34m,\u001b[0m \u001b[0mexc_info\u001b[0m\u001b[0;34m=\u001b[0m\u001b[0;32mTrue\u001b[0m\u001b[0;34m)\u001b[0m\u001b[0;34m\u001b[0m\u001b[0;34m\u001b[0m\u001b[0m\n",
            "\u001b[0;31mKeyboardInterrupt\u001b[0m: Interrupted by user"
          ]
        }
      ]
    },
    {
      "cell_type": "markdown",
      "source": [
        "# mymodule.py 파일의 내용을 문자열로 정의합니다.\n",
        "module_content = \"\"\"\n",
        "def print_hello():\n",
        "    print(\"Hello from mymodule!\")\n",
        "\n",
        "def print_goodbye():\n",
        "    print(\"Goodbye from mymodule!\")\n",
        "\n",
        "print_hello()\n",
        "print_goodbye()\n",
        "\"\"\"\n",
        "\n",
        "# 파일을 쓰기 모드로 열고, 내용을 작성한 뒤 파일을 닫습니다.\n",
        "with open(\"mymodule.py\", \"w\") as file:\n",
        "    file.write(module_content)\n",
        "\n",
        "# 파일이 저장된 위치 확인 (일반적으로 Colab의 현재 작업 디렉토리)\n",
        "!ls"
      ],
      "metadata": {
        "id": "wSI-RHfl3LwO"
      }
    },
    {
      "cell_type": "markdown",
      "source": [
        "if __name__ == \"__main__\":\n",
        "\n",
        "- 현재 모듈이 직접 실행되는지 또는 다른 파일에 의해 임포트되어 사용되는지를 판단할 때 사용.\n",
        "- 만약 모듈이 직접 실행되면 __name__ 변수의 값은 \"__main__\"이 되고, 모듈이 다른 파일에서 임포트되어 사용될 경우 __name__은 모듈의 이름이 된다."
      ],
      "metadata": {
        "id": "hX2SP7ve5Z8U"
      }
    },
    {
      "cell_type": "code",
      "source": [
        "# mymodule.py 파일의 내용을 문자열로 정의합니다.\n",
        "# if name == \"main\": 는 직접 실행할 경우인 True 모듈 임포트 경우는 False\n",
        "module_content = \"\"\"\n",
        "def print_hello():\n",
        "  print(\"Hello from mymodule!\")\n",
        "\n",
        "def print_goodbye():\n",
        "  print(\"Goodbye from mymodule!\")\n",
        "\n",
        "if __name__ == \"__main__\":\n",
        "  print(\"This code runs only when mymodule.py is executed directly.\")\n",
        "  print_hello()\n",
        "  print_goodbye()\n",
        "\"\"\"\n",
        "\n",
        "with open(\"mymodule.py\", \"w\") as file:\n",
        "  file.write(module_content)"
      ],
      "metadata": {
        "id": "4c_t5CzclvCF"
      },
      "execution_count": 1,
      "outputs": []
    },
    {
      "cell_type": "code",
      "source": [],
      "metadata": {
        "id": "vOn-gG1b7hYm"
      },
      "execution_count": null,
      "outputs": []
    }
  ]
}